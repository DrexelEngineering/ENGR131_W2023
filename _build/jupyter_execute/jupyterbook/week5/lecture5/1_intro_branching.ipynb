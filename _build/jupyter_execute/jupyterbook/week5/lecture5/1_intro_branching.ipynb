{
 "cells": [
  {
   "attachments": {},
   "cell_type": "markdown",
   "metadata": {
    "slideshow": {
     "slide_type": "slide"
    }
   },
   "source": [
    "# Introduction to Branching"
   ]
  },
  {
   "attachments": {},
   "cell_type": "markdown",
   "metadata": {
    "slideshow": {
     "slide_type": "subslide"
    }
   },
   "source": [
    "## Utility of branching\n",
    "\n",
    "Branching causes specific blocks of code to be executed only under certain conditions. The conditions are articulated as logical expressions. "
   ]
  },
  {
   "attachments": {},
   "cell_type": "markdown",
   "metadata": {
    "slideshow": {
     "slide_type": "subslide"
    }
   },
   "source": [
    "## How do you write branching statements?\n",
    "\n",
    "The simplest version of branching statement is an \"if statement\". "
   ]
  },
  {
   "attachments": {},
   "cell_type": "markdown",
   "metadata": {
    "slideshow": {
     "slide_type": "fragment"
    }
   },
   "source": [
    "```python\n",
    "if logical_expression:\n",
    "    code_block\n",
    "```\n"
   ]
  },
  {
   "attachments": {},
   "cell_type": "markdown",
   "metadata": {
    "slideshow": {
     "slide_type": "subslide"
    }
   },
   "source": [
    "More complex structures are possible with \"if-else statements\". "
   ]
  },
  {
   "attachments": {},
   "cell_type": "markdown",
   "metadata": {
    "slideshow": {
     "slide_type": "fragment"
    }
   },
   "source": [
    "```python\n",
    "if logical_expression_A:\n",
    "    code_block_1\n",
    "elif logical_expression_B:\n",
    "    code_block_2\n",
    "elif logical_expression_C:\n",
    "    code_block_3\n",
    "else: \n",
    "    code_block_4\n",
    "```\n"
   ]
  },
  {
   "attachments": {},
   "cell_type": "markdown",
   "metadata": {
    "slideshow": {
     "slide_type": "slide"
    }
   },
   "source": [
    "## Using branching in basic control theory\n",
    "\n",
    "Many engineering interventions aim to maintain an optimal setting in a system. Control theory is the basis for achieving these optimal conditions as smoothly and consistently as possible.\n",
    "\n",
    "![](https://erc-bpgc.github.io/handbook/automation/ControlTheory/images/controller_2.png)\n"
   ]
  },
  {
   "attachments": {},
   "cell_type": "markdown",
   "metadata": {},
   "source": [
    "One very common example is *temperature control in buildings*. \n",
    "\n",
    "* Architectural engineers learn how to design heating, ventilation, and air conditioning systems throughout buildings that allow temperature in a room to be controlled. \n",
    "\n",
    "* Electrical engineers help with innovating the sensors and controls that allow for the temperature to be optimized. \n",
    "\n",
    "* Material scientists improve designs of windows and doors to enhance the controllability of the temperature and sustainability of the optimal conditions."
   ]
  },
  {
   "attachments": {},
   "cell_type": "markdown",
   "metadata": {
    "slideshow": {
     "slide_type": "fragment"
    }
   },
   "source": [
    "The thermostat typically acts as both the sensor collecting feedback and the controller determining whether the process should be heating, cooling, or no intervention. \n",
    "\n",
    "The very simplest process control requires only the process variable, or the room temperature in this case, and the set point, or the desired temperature in this case."
   ]
  },
  {
   "cell_type": "code",
   "execution_count": 1,
   "metadata": {
    "slideshow": {
     "slide_type": "subslide"
    }
   },
   "outputs": [],
   "source": [
    "def thermostat(roomTemp, desiredTemp):\n",
    "    \"\"\"\n",
    "    Changes the status of the thermal control devices based\n",
    "    on the room temperature and desired temperature\n",
    "    (Python Numerical Methods, MIT license)\n",
    "    :type temp: Int\n",
    "    :type desiredTemp: Int\n",
    "    :rtype: String\n",
    "    \"\"\"\n",
    "    if roomTemp < desiredTemp - 5:\n",
    "        device = \"heat\"\n",
    "    elif roomTemp > desiredTemp + 5:\n",
    "        device = \"AC\"\n",
    "    else:\n",
    "        device = \"nothing\"\n",
    "    return device\n"
   ]
  },
  {
   "cell_type": "code",
   "execution_count": 2,
   "metadata": {
    "slideshow": {
     "slide_type": "subslide"
    }
   },
   "outputs": [
    {
     "name": "stdout",
     "output_type": "stream",
     "text": [
      "When the temperature is 58 degrees Fahrenheit, activate heat to achieve 64 degrees Fahrenheit.\n"
     ]
    }
   ],
   "source": [
    "currentT = 58\n",
    "desiredT = 64\n",
    "device = thermostat(currentT, desiredT)\n",
    "print(\n",
    "    f\"When the temperature is {currentT} degrees Fahrenheit, activate {device} to achieve {desiredT} degrees Fahrenheit.\"\n",
    ")\n"
   ]
  },
  {
   "cell_type": "code",
   "execution_count": 3,
   "metadata": {
    "slideshow": {
     "slide_type": "subslide"
    }
   },
   "outputs": [
    {
     "name": "stdout",
     "output_type": "stream",
     "text": [
      "When the temperature is 85 degrees Fahrenheit, activate AC to achieve 78 degrees Fahrenheit.\n"
     ]
    }
   ],
   "source": [
    "currentT = 85\n",
    "desiredT = 78\n",
    "device = thermostat(currentT, desiredT)\n",
    "print(\n",
    "    f\"When the temperature is {currentT} degrees Fahrenheit, activate {device} to achieve {desiredT} degrees Fahrenheit.\"\n",
    ")\n"
   ]
  },
  {
   "cell_type": "code",
   "execution_count": 4,
   "metadata": {
    "slideshow": {
     "slide_type": "subslide"
    }
   },
   "outputs": [
    {
     "name": "stdout",
     "output_type": "stream",
     "text": [
      "When the temperature is 80 degrees Fahrenheit, activate nothing to achieve 75 degrees Fahrenheit.\n"
     ]
    }
   ],
   "source": [
    "currentT = 80\n",
    "desiredT = 75\n",
    "device = thermostat(currentT, desiredT)\n",
    "print(\n",
    "    f\"When the temperature is {currentT} degrees Fahrenheit, activate {device} to achieve {desiredT} degrees Fahrenheit.\"\n",
    ")\n"
   ]
  },
  {
   "attachments": {},
   "cell_type": "markdown",
   "metadata": {
    "slideshow": {
     "slide_type": "slide"
    }
   },
   "source": [
    "Perhaps you have a roommate who is very sensitive to temperature changes. How could you change the `thermostat` function to keep the room temperature closer to the set point? "
   ]
  },
  {
   "cell_type": "code",
   "execution_count": 5,
   "metadata": {
    "slideshow": {
     "slide_type": "fragment"
    }
   },
   "outputs": [],
   "source": [
    "def thermostat(roomTemp, desiredTemp):\n",
    "    \"\"\"\n",
    "    Changes the status of the thermal control devices based\n",
    "    on the room temperature and desired temperature\n",
    "    (Python Numerical Methods, MIT license)\n",
    "    :type temp: Int\n",
    "    :type desiredTemp: Int\n",
    "    :rtype: String\n",
    "    \"\"\"\n",
    "    if roomTemp < desiredTemp - 5:\n",
    "        device = \"heat\"\n",
    "    elif roomTemp > desiredTemp + 5:\n",
    "        device = \"AC\"\n",
    "    else:\n",
    "        device = \"nothing\"\n",
    "    return device\n"
   ]
  },
  {
   "attachments": {},
   "cell_type": "markdown",
   "metadata": {
    "slideshow": {
     "slide_type": "slide"
    }
   },
   "source": [
    "What are at least three other processes you can think of that would similarly rely on branching, especially in your field of study?\n",
    "\n",
    "1. \n",
    "2. \n",
    "3. "
   ]
  },
  {
   "attachments": {},
   "cell_type": "markdown",
   "metadata": {
    "slideshow": {
     "slide_type": "fragment"
    }
   },
   "source": [
    "In these systems, which ones have redundancy (e.g., a second method of accomplishing the same thing) either in the sensor that detects the process variable or the processes that can be used to control the process variable?"
   ]
  },
  {
   "attachments": {},
   "cell_type": "markdown",
   "metadata": {},
   "source": [
    "The notes for Session 5 benefitted from the availability of [Python Programming and Numerical Methods: A Guide for Engineers and Scientists](https://pythonnumericalmethods.berkeley.edu/notebooks/Index.html) through the MIT License."
   ]
  }
 ],
 "metadata": {
  "celltoolbar": "Slideshow",
  "kernelspec": {
   "display_name": "base",
   "language": "python",
   "name": "python3"
  },
  "language_info": {
   "codemirror_mode": {
    "name": "ipython",
    "version": 3
   },
   "file_extension": ".py",
   "mimetype": "text/x-python",
   "name": "python",
   "nbconvert_exporter": "python",
   "pygments_lexer": "ipython3",
   "version": "3.9.15"
  },
  "vscode": {
   "interpreter": {
    "hash": "d7d046052154998ca7dd3d9af52f7220fee50748c9a05b256540159ca8eb430c"
   }
  }
 },
 "nbformat": 4,
 "nbformat_minor": 2
}