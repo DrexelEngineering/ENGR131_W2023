{
 "cells": [
  {
   "cell_type": "markdown",
   "metadata": {
    "slideshow": {
     "slide_type": "slide"
    }
   },
   "source": [
    "# Course Syllabus ENGR 131, _Introductory Programming for Engineers_, Winter 2023"
   ]
  },
  {
   "cell_type": "markdown",
   "metadata": {
    "slideshow": {
     "slide_type": "subslide"
    }
   },
   "source": [
    "## 0. Instructor Information ##"
   ]
  },
  {
   "attachments": {},
   "cell_type": "markdown",
   "metadata": {
    "slideshow": {
     "slide_type": "fragment"
    }
   },
   "source": [
    "**Instructor Names:** _[Prof. Capps](mailto:sc3623@drexel.edu?subject=ENGR131) and [Prof. Agar](mailto:jca92@drexel.edu?subject=ENGR131)_\n",
    "\n",
    "**Office Hours:** \n",
    "TAs: 1:00 pm - 6:00 pm on Thursdays and 9:00 am -12:00 pm on Fridays in Main 005 or [Zoom](https://drexel.zoom.us/j/82583365473?pwd=RGdKVWVxVk9PS25pYjJYaEZsLys1Zz09)\n",
    "\n",
    "Prof. Capps: 11:00 am - 12:00 pm on Wednesdays in Room 209 of 3101 Market Street\n",
    "\n",
    "Prof. Agar: 11:00 am - 12 pm on Thursdays Location Curtis 261C"
   ]
  },
  {
   "attachments": {},
   "cell_type": "markdown",
   "metadata": {
    "slideshow": {
     "slide_type": "subslide"
    }
   },
   "source": [
    "**Contact Process:** \n",
    "\n",
    "**Class Forum**\n",
    "\n",
    "This term we will be using Piazza for class discussion. The system is highly catered to getting you help fast and efficiently from classmates, the TA, and Professors. Rather than emailing questions to the teaching staff, I encourage you to post your questions on Piazza.\n",
    "\n",
    "Find our class page at: <https://piazza.com/drexel/winter2023/engr131/info>\n",
    "\n",
    "_Homework_: \n",
    "* Week 1: [Amr Mostafa](mailto:am4239@drexel.edu)\n",
    "* Week 2: [David Kahn](mailto:dak329@drexel.edu)\n",
    "* Week 3: [Bryan Berman](mailto:bb826@drexel.edu)\n",
    "* Week 4: [Ozgun Acar](mailto:oa387@drexel.edu)\n",
    "* Week 5: [Xinqiao Zhang](mailto:xz498@drexel.edu)\n",
    "* Week 6: [Amr Mostafa](mailto:am4239@drexel.edu)\n",
    "* Week 7: [David Kahn](mailto:dak329@drexel.edu)\n",
    "* Week 8: [Bryan Berman](mailto:bb826@drexel.edu)\n",
    "* Week 9: [Ozgun Acar](mailto:oa387@drexel.edu)\n",
    "\n",
    "_Lab_: Learning Assistant or Teaching Assistant for your lab section\n",
    "\n",
    "_Exams, Regrades_: [engr131.w23@drexel.edu](mailto:engr131.w23@drexel.edu) (monitored by the Instructors)"
   ]
  },
  {
   "cell_type": "markdown",
   "metadata": {
    "slideshow": {
     "slide_type": "slide"
    }
   },
   "source": [
    "## 1. Student Learning Information ##\n",
    "\n",
    "**a. Brief description of the content of the course (_Course Catalog Description_)**: An introduction to the fundamentals of programming and algorithmic problem solving with applications in engineering. Emphases include (a) producing clear, robust, and efficient code, and (b) conceptualizing and designing computational algorithms to solve engineering problems. Upon completion, students will possess the programming skills necessary to perform computational analysis in any engineering discipline. This course is designed for students without any prior programming experience.\n",
    "  \n",
    "**b. Pre-requisites or Co-requisites**: None."
   ]
  },
  {
   "cell_type": "markdown",
   "metadata": {
    "slideshow": {
     "slide_type": "subslide"
    }
   },
   "source": [
    "**c. Course Purpose within a Program of Study**: This course teaches students the skills necessary to take a computational problem in their engineering discipline, break it down into sub-problems, write an algorithm that solves a specific problem, and finally translate that algorithm into a clear and efficient program in a specific programming language. Therefore, the course addresses necessary skills for all engineering disciplines.\n",
    "\n",
    "\n",
    "**d. Statement of Expected In-Person Engagement**: This course consists of one 2-hour class session and one 2-hour lab session per week."
   ]
  },
  {
   "cell_type": "markdown",
   "metadata": {
    "slideshow": {
     "slide_type": "subslide"
    }
   },
   "source": [
    "### Course Outcomes ###\n",
    "Upon completion of this course, students will be able to\n",
    "\n",
    "a. Develop algorithmic computational skills for problem-solving in a variety of engineering disciplines.\n",
    "\n",
    "b. Design code, including syntax, modular design, conditionals, branching, data structures, and object-oriented programming.\n",
    "\n",
    "c. Implement computer programs to solve engineering problems and visualize results."
   ]
  },
  {
   "cell_type": "markdown",
   "metadata": {
    "slideshow": {
     "slide_type": "subslide"
    }
   },
   "source": [
    "### Drexel Student Learning Priorities ###\n",
    "\n",
    "**a. Creative and Critical Thinking**: Uses divergent (e.g., generation of novel ideas, thinking out of the box, brainstorming) and convergent thinking (e.g., critical thinking, evaluation of ideas, quantitative and qualitative analysis, scientific reasoning) to generate novel and relevant ideas, strategies, approaches or products.\n",
    "\n",
    "**b. Technology Use**:Make appropriate use of technologies to communicate, collaborate, solve problems, make decisions, and conduct research, as well as foster creativity and life-long learning."
   ]
  },
  {
   "cell_type": "markdown",
   "metadata": {
    "slideshow": {
     "slide_type": "slide"
    }
   },
   "source": [
    "## 2. Course Materials ##\n",
    "\n",
    "**Required Textbook:** The required textbook for this course is _ENGR 131: Introductory Programming for Engineers_ by zyBooks, which is an interactive, online resource. \n",
    "\n",
    "1. Sign in or create an account at learn.zybooks.com.\n",
    "2. Enter zyBook code: DREXELENGR131CappsWinter2023\n",
    "3. Subscribe for $58.\n",
    "\n",
    "You may begin subscribing immediately and must complete the first reading by _noon on Monday, January 9_. Subscriptions will last until Apr 07, 2023.\n",
    "\n",
    "If subscribing to zyBooks is a financial burden, please explain briefly to the Instructors at [engr131.w23@drexel.edu](mailto:engr131.w23@drexel.edu?subject=Zybooks) by *Monday, January 9*."
   ]
  },
  {
   "cell_type": "markdown",
   "metadata": {
    "slideshow": {
     "slide_type": "fragment"
    }
   },
   "source": [
    "**Optional References:**.\n",
    "\n",
    "- Free interactive python practice [hackinscience](https://www.hackinscience.org)\n",
    "- Mark Lutz, [_Learning Python_](https://learning-python.com/about-lp5e.html), 5th Edition, O'Reilly, Sebastopol, CA, 2013.\n",
    "- Jesse Kinder and Philip Nelson, [_A Student's Guide to Python for Physical Modeling_](https://press.princeton.edu/books/hardcover/9780691219288/a-students-guide-to-python-for-physical-modeling), 2nd Edition, Princeton University Press, 2021."
   ]
  },
  {
   "cell_type": "markdown",
   "metadata": {
    "slideshow": {
     "slide_type": "slide"
    }
   },
   "source": [
    "## 3. Course Schedule ##\n",
    "\n",
    "The following outlines the course coverage by term week:\n",
    "\n",
    "|Week| Concepts | Reading Exercises (due 12:00 pm Monday) | Class Session | Homework (due 12:00 pm Friday) | Lab (due 12:00 pm Monday) | \n",
    "|--|--|--|--|--|--|\n",
    "| 1-1/9 | Beginning & Variables | Ch. 1  | *application* | HW1 (Workflow) | Lab1 (Screencast Training, Commenting Randomization Code: Variables) | \n",
    "| 2-1/16 | Expressions & Modules | Ch. 2,3 | No Class | HW2 (Mathematical Calculations) | Lab2 (Commenting Randomization Code: Modules) |\n",
    "| 3-1/23 | Types & Strings |  Ch. 4,5  | *application* | HW3 (Types) | Lab3 (Scrabble) | \n",
    "| 4-1/30 | Functions & Recursion | Ch. 6,7 | *application* | HW4 (Functions) | Lab4 (Image Processing) | \n",
    "| 5-2/6 | Branching & Loops | Ch. 8,9 | *application* | HW5 (Branching)| Peer Review Video | \n",
    "| 6-2/13 | No Class | No Reading | **Midterm** | No HW | Lab5 (Rock, Paper, Scissors) | \n",
    "| 7-2/20 | Flow Control & File Handling | Ch. 10 | *application* | HW6 (Loops) | Lab6 (DNA Analysis)|\n",
    "| 8-2/27 | Lists & Dictionaries | Ch. 11 | *application* | HW7 (Strings) | Lab7 (Audio Signal Processing) | \n",
    "| 9-3/6 | Classes | Ch. 12,13 | *application* | HW8 (Triangulation) | Lab8 (Pollutant Tracking) | \n",
    "| 10-3/13 | Visualization & Exceptions | Ch. 14,15 | *application* | No HW | Peer Review Video | \n",
    "| 11-3/20 | **Final Exam** during prescribed time  | |  |  |  | \n",
    "\n",
    "<br>"
   ]
  },
  {
   "cell_type": "markdown",
   "metadata": {
    "slideshow": {
     "slide_type": "subslide"
    }
   },
   "source": [
    "|Week| Concepts | detailed topics | \n",
    "|--|--|--|\n",
    "| 1-1/9 | Beginning, Variables, & Modules | Course introduction, general review of computer organization, program execution, importing packages, working in JupyterHub, objects and variables | \n",
    "| 2-1/16 | Expressions & Modules | Assignments, name binding, numeric types, string introduction, module basics, finding modules, importing specific names from a module, execution modules as scripts, reloading modules, packages: bundles of modules, the standard library, high performance arrays using Numpy |\n",
    "| 3-1/23 | Types | String basics, String formatting, List basics, Dictionary basics.  Container types, string slicing, advanced string formatting, strings as anonymous/nameless objects, string methods, splitting and joining strings, the string formatting method | \n",
    "| 4-1/30 | Functions | User-defined functions, function parameters, returning values from functions, dynamic typing, functions as objects, scope, namespaces, function arguments, keyword arguments, defining default function parameter values, arbitrary argument lists, multiple function outputs | \n",
    "| 5-2/6 | Branching & Loops & Exceptions | Code blocks, if-else statements, relational and equality operators, boolean operators and expressions, conditional expressions; while-loops, iterators, for-loops; handling exceptions using try-except, multiple exception handlers, raising exceptions, exceptions with functions. | \n",
    "| 6-2/13 | No Class | Review prior concepts |\n",
    "| 7-2/20 | Flow Control & File Handling | Multiple if-else statements, membership operators,  iteration using the built-in range() function, while-loops vs for-loops, nested loops, modifying iteration using break and continue, iteration using by both index and value using enumerate()reading files; writing files, interfacing with the operating system and file systems, handling human-readable data, handling binary data, passing files via command-line arguments, using the with statement to create safe file handling contexts, parsing Comma Separated Value (CSV) files  |\n",
    "| 8-2/27 | Lists and Dictionaries | Lists, list methods, iterating over a list, nested lists, list slicing, loops that mutate lists, list comprehensions, sorting lists, command line arguments. dictionaries: dictionary methods, iterating over dictionaries, nested dictionaries | \n",
    "| 9-3/6 |  Classes | Intro to Object Oriented Programming (OOP), grouping data with classes, class methods, class and instance object types, class constructors, class interfaces, operator overloading and using classes to build complex custom numeric types | \n",
    "| 10-3/13 | Visualization | Introduction to Matplotlib, plotting and visualizing data, styling plots, text and annotations| "
   ]
  },
  {
   "cell_type": "markdown",
   "metadata": {
    "slideshow": {
     "slide_type": "slide"
    }
   },
   "source": [
    "## 4. Earning Credit ##\n",
    "\n",
    "| Activity | Hours Weekly | Credit | Due Date | Goal |\n",
    "|--|--|--|--|--|\n",
    "| Pre-class Reading | 1.5 | 15%  | 12:00 pm Mondays | Familiarize yourself with concepts |\n",
    "| Class Session | 2 | 0% | Mondays | Identify and address misconceptions; appreciate applications | \n",
    "| Homework | 2.5 |  25%  | 12:00 pm Fridays | Develop individual mastery of skills |\n",
    "| Lab Participation | 2 |  10% | lab time slot | Collaborate to apply skills to creative problems |\n",
    "| Lab Completion | 1 |  15%  | 12:00 pm Mondays | Collaborate to apply skills to creative problems |\n",
    "| Midterm | n/a |  15%  | 8:00 am on Monday, Feb 13 | Demonstrate mastery; connect diverse skills\n",
    "| Final | n/a |  20%  | finals week |"
   ]
  },
  {
   "cell_type": "markdown",
   "metadata": {
    "slideshow": {
     "slide_type": "subslide"
    }
   },
   "source": [
    "The mapping between the percent grade (rounded to the integer) and the final letter grade will be assigned as follows:\n",
    "\n",
    "| Letter Grade | Points|\n",
    "|--|--|\n",
    "|A+|97-100|\n",
    "|A|93-96|\n",
    "|A-|90-92|\n",
    "|B+|87-89|\n",
    "|B|83-96|\n",
    "|B-|80-82|\n",
    "|C+|77-79|\n",
    "|C|73-76|\n",
    "|C-|70-72|\n",
    "|D+|65-69|\n",
    "|D|60-64|\n",
    "|F|0-59|"
   ]
  },
  {
   "cell_type": "markdown",
   "metadata": {
    "slideshow": {
     "slide_type": "subslide"
    }
   },
   "source": [
    "### Expectations of Students ###\n",
    "\n",
    "We expect all students to fully participate in all aspects of the course. Each activity and assignment are designed to encourage learning and success in the course. \n",
    "\n",
    "**a. Pre-Class Session Readings** \n",
    "\n",
    "Prior to class all students are expected to complete the reading and learning activities within ZyBooks. This content is selected to familiarize you with the core concepts that will be built upon in class sessions. Completing these assignments prior to class sessions will ensure you are able to use class sessions to begin applying the concepts and identifying misconceptions."
   ]
  },
  {
   "cell_type": "markdown",
   "metadata": {
    "slideshow": {
     "slide_type": "fragment"
    }
   },
   "source": [
    "**b. Class Sessions** \n",
    "\n",
    "We will have 2-hour class sessions once a week. Class sessions will be used to expand upon the material learned in Zybooks. In class sessions, you will work with your peers to apply the concepts learned in Zybooks."
   ]
  },
  {
   "cell_type": "markdown",
   "metadata": {
    "slideshow": {
     "slide_type": "fragment"
    }
   },
   "source": [
    "**c. Homework** \n",
    "\n",
    "Every week you will be expected to complete an individual homework assignment. These assignments will be designed for you to demonstrate independent mastery of the material covered in pre-class session readings and class sessions. These assignments are designed so you can wrestle with the concepts to build a strong understanding. While it is allowed, and expected that you talk with your colleagues about the homework, your submitted work should be completed independently. When completing homework, it is acceptable to talk about code, or even look at each others' code; however, it is not acceptable to share or copy sections of code from one another or any other source. "
   ]
  },
  {
   "cell_type": "markdown",
   "metadata": {
    "slideshow": {
     "slide_type": "fragment"
    }
   },
   "source": [
    "**d. Lab Participation** \n",
    "\n",
    "Every week we will have a lab. The lab provides an opportunity for you to challenge yourself on more complex problems. Through teamwork with your peers, you will build confidence by tackling these challenging problems. Additionally, you will build communication and teamwork skills while at the same time reinforcing concepts. “learning by teaching,” also known as the Protégé Effect, is the most powerful way to build knowledge of a topic. Attendance is an essential part of lab participation. If you miss lab your score will be 40 points lower than your team's score. "
   ]
  },
  {
   "cell_type": "markdown",
   "metadata": {
    "slideshow": {
     "slide_type": "fragment"
    }
   },
   "source": [
    "**d. Midterm and Final** \n",
    "\n",
    "The midterm will be designed to demonstrate individual mastery and connections between concepts taught. This will be a common exam at 08:00 am on Monday, February 13, which will be completed on paper with pen or pencil only.\n",
    "\n",
    "The final exam will be a practical exam during the assigned time period. The exam will demonstrate your ability to write efficient, well-commented, and error-free code."
   ]
  },
  {
   "cell_type": "markdown",
   "metadata": {
    "slideshow": {
     "slide_type": "slide"
    }
   },
   "source": [
    "## 5. Academic Policies ##\n",
    "\n",
    "### Course-Specific Policies ###\n",
    "\n",
    "**a. Homework and Lab Assignment Policy**: \n",
    "\n",
    "Homework is always to be submitted on or before the date on which it is due. **Homework and labs submitted after the due date will not be accepted.** Homework must be submitted using Black Board Learn unless otherwise instructed. Assignments submitted using another mechanism will not be graded."
   ]
  },
  {
   "cell_type": "markdown",
   "metadata": {
    "slideshow": {
     "slide_type": "fragment"
    }
   },
   "source": [
    "**b. Examination Policy** \n",
    "\n",
    "All written exams in the course are closed-textbook and closed-\"reading assignment material.\" Use of other books or any other material (such as solutions to homework assignments), however, is not permitted. Use of cell phones, laptops, tablets, PDAs, or any other device capable of wireless communication is prohibited, unless instructions otherwise are provided. Exams will cover material discussed in the class sessions, homework assignments, or textbook sections given as reading assignments. For example, the exams may include questions on material covered in class sessions or homework but not specifically covered in the textbook. Similarly, the exams may include any material covered in a section of the textbook given as a reading assignment but not specifically covered in the class sessions or homework."
   ]
  },
  {
   "cell_type": "markdown",
   "metadata": {
    "slideshow": {
     "slide_type": "fragment"
    }
   },
   "source": [
    "**c. Absentee Policy** \n",
    "\n",
    "Absence from labs and examinations will be excused only under extraordinary circumstances such as medical or family emergencies. A missed lab or examination without prior approval and without legitimate reason will be graded at zero points (participation portion of lab grade). An absence will be excused only if the student is able to provide legitimate documentation. Special examinations will not be held earlier or on later dates to accommodate, for example, flight schedules for overseas vacations."
   ]
  },
  {
   "cell_type": "markdown",
   "metadata": {
    "slideshow": {
     "slide_type": "slide"
    }
   },
   "source": [
    "### University Academic Policies ###\n",
    "\n",
    "**a. Missed Classes**: \n",
    "\n",
    "It is essential to your success in this course that you attend each class and laboratory session and participate in the activities and discussions. Therefore, you are expected to attend each class session and to show up on time. If you miss a class session for a University-approved reason, the professors will make reasonable efforts to provide missed material. \n",
    "\n",
    "For futher details refer to the University's absence policy. Please review the link below.\n",
    "  - [https://drexel.edu/provost/policies-calendars/policies/absence/](https://drexel.edu/provost/policies-calendars/policies/absence/)"
   ]
  },
  {
   "cell_type": "markdown",
   "metadata": {
    "slideshow": {
     "slide_type": "subslide"
    }
   },
   "source": [
    "**b. Academic Integrity, Plagiarism and Cheating Policy**: \n",
    "\n",
    "Each student is expected to complete all assignments independently unless otherwise explicitly instructed. It is unacceptable to copy another student's work or solutions from any other source. Submitted assignments will be checked for plagiarism using Stanford's MOSS plagiarism detection system (https://theory.stanford.edu/~aiken/moss/). Violators of this policy will be reported to the Office of Student Conduct and Community Standards (SCCS). Academic integrity violations could result in failure for the course or the assignment among other sanctions determined by the instructor. A second violation of the academic integrity policy will likely result in suspension. Please review the University's policy regarding academic integrity at:\n",
    "\n",
    "[http://drexel.edu/provost/policies/academic-integrity/](http://drexel.edu/provost/policies/academic-integrity/)\n",
    "\n",
    "[http://drexel.edu/studentlife/community\\_standards/studentHandbook/](http://drexel.edu/studentlife/community_standards/studentHandbook/)"
   ]
  },
  {
   "cell_type": "markdown",
   "metadata": {
    "slideshow": {
     "slide_type": "subslide"
    }
   },
   "source": [
    "**c. Regrade Policy**: \n",
    "\n",
    "If you are of the opinion you deserve more credit than provided to you for an assignment, email to [engr131.w23@drexel.edu](mailto:engr131.w23@drexel.edu) an explanation of why you are of the opinion you desire additional credit within _one week_ of receiving the graded assignment. You are welcome to discuss homework questions or concerns with the Professors or TAs prior to submitting request for regrading. Grade modifications will only happen after a formal request is submitted. "
   ]
  },
  {
   "cell_type": "markdown",
   "metadata": {
    "slideshow": {
     "slide_type": "subslide"
    }
   },
   "source": [
    "**d. Students with Learning Differences**: \n",
    "\n",
    "Profs. Capps and Agar welcomes individuals with learning differences and is committed to ensuring equal access so that all students can live, learn, and lead at Drexel.\n",
    "To [request accommodations](https://drexel.edu/disability-resources/support-accommodations/student-family-resources/), a current Accommodations Verification Letter (AVL) in the [ClockWork database](http://accommodate.drexel.edu/ClockWork/) is required before accommodations can be made. These requests are received by [Disability Resources (DR)](https://drexel.edu/disability-resources/), who then issues the AVL to the appropriate contacts. For additional information, visit the Disability Resources website, or contact DR for more information by phone at 215.895.1401, or by email at disability@drexel.edu.\n",
    "\n",
    "Students who are approved for accommodations at Drexel should share this letter and discuss their accommodations and learning needs with instructors as early in the semester as possible.\n",
    "Profs. Capps and Agar will do everything possible to accommodate students needs.\n",
    "If you feel that your accommodations are not being met, please make sure to contact [engr131.w23@drexel.edu](mailto:engr131.w23@drexel.edu).\n",
    "\n",
    "The instructors understand that there are inequities in access to testing required to get approved for accommodations. If you feel that you have learning difference that influence equity in your classroom performance please reach out to Profs. Capps and Agar at [engr131.w23@drexel.edu](mailto:engr131.w23@drexel.edu). They will work with you to try and accommodate your learning differences. "
   ]
  },
  {
   "cell_type": "markdown",
   "metadata": {
    "slideshow": {
     "slide_type": "subslide"
    }
   },
   "source": [
    "**e. Course Drop Policy:**:\n",
    "\n",
    "[http://drexel.edu/provost/policies/course-add-drop/](http://drexel.edu/provost/policies/course-add-drop/)\n",
    "\n",
    "\n",
    "**f. Course Withdrawal Policy**:\n",
    "\n",
    "[http://drexel.edu/provost/policies/course-withdrawal/](http://drexel.edu/provost/policies/course-withdrawal/)\n",
    "\n",
    "**g. Course Change Policy**:\n",
    "\n",
    "The instructors reserves the right to modify the course, as necessary, during the term: including policies, evaluations, due dates, course content, schedule, assignments or requirements. All changes will be communicated in class sessions and/or _via_ the course _DrexelLearn_ page.\n",
    "\n",
    "**h. Weather, Emergencies and University Closing**: \n",
    "\n",
    "University closing or delayed opening information will be posted on [www.drexel.edu.](http://www.drexel.edu/) In the event of the need to close or delay the daily opening of a campus, the University will provide notice _via_ Web, telephone, and the DrexelALERT system. Closing or delayed opening information will be announced at 215-895-MELT (6358). The University determines whether to close or delay opening due to inclement weather, not the instructor. Therefore, please do not contact the instructor for this information."
   ]
  },
  {
   "cell_type": "markdown",
   "metadata": {
    "slideshow": {
     "slide_type": "subslide"
    }
   },
   "source": [
    "**i. Religious Observances**:\n",
    "\n",
    "Profs. Capps and Agar extends hospitality to all persons regardless of race, religion, ethnicity, sexual orientation, economic or social background.\n",
    "\n",
    "Profs. Capps and Agar honors the free exercise of religion. People from a wide variety of religious traditions live and work at Drexel, and the demands of religious observance in some traditions may cause conflicts with classroom and work schedules. \n",
    "\n",
    "Profs. Capps and Agar will exempt any person who requests an absence due to the demands of religious holiday observance. Of course, nothing exempts a student from meeting course requirements or completing assignments, so the student will have to work with the instructor any make-up work.\n",
    "\n",
    "Accommodations are to be dealt with on the basis of individual requests from students. Recall that religious holidays are numerous, and no holiday is privileged above another.\n",
    "\n",
    "If you encounter a schedule conflict with your course work due to the demands of religious observance, here is what you should do:\n",
    "\n",
    "* Email [engr131.w23@drexel.edu](mailto:engr131.w23@drexel.edu), and indicate that you will be absent from class due to observance of religious holidays.\n",
    "* Arrange with the instructor to complete assignments.\n",
    "\n",
    "For any further questions please refer to Drexel’s [Religious Accommodation Policy](https://drexel.edu/oed/diversity/religious-accommodations/)"
   ]
  },
  {
   "cell_type": "markdown",
   "metadata": {
    "slideshow": {
     "slide_type": "subslide"
    }
   },
   "source": [
    "**j. Extended Absences**:\n",
    "\n",
    "In the event of extended absence where several classes have been missed, students should explore options other than those described above, such as requesting an Incomplete grade (please reference the [Incomplete Grades Policy](https://drexel.edu/provost/policies-calendars/policies/incomplete_grades/)) or withdrawal (please reference the [Course Withdrawal Policy](https://drexel.edu/provost/policies-calendars/policies/course-withdrawal/)). It is strongly recommended that students consult with their academic advisor to determine the best course of action given the circumstances, academic progression, and goals.\n",
    "\n",
    "In the event of an extended absence due to a chronic medical condition or disability, students are strongly advised to contact (1) the [Office of Disability Resources](https://drexel.edu/disability-resources/about/overview/) to explore potential accommodations that may be available and (2) their academic advisor to explore possible academic options. A student's academic advisor can review policies governing such options as withdrawal or incomplete grade and discuss the potential impact of electing these options."
   ]
  },
  {
   "cell_type": "markdown",
   "metadata": {
    "slideshow": {
     "slide_type": "fragment"
    }
   },
   "source": [
    "**k. COVID-19**:\n",
    "\n",
    "We are in the midst of an unprecedented pandemic. We want to ensure the safety of our community. As a result, if you feel as if you are exhibiting COVID-19 symptoms, please follow the [appropriate procedures for Drexel students](https://drexel.edu/coronavirus/health-safety/COVID-19-testing/). Instructors will be alerted of excused absences through the corresponding Drexel channels."
   ]
  },
  {
   "cell_type": "markdown",
   "metadata": {
    "slideshow": {
     "slide_type": "subslide"
    }
   },
   "source": [
    "**l. Equity and Inclusion**:\n",
    "\n",
    "#### Gender and Sexual Identity\n",
    "\n",
    "People commonly use gender and sexual orientation as part of their identity. Since English uses gendered pronouns, one way we will cultivate respect in the class and lab sessions will be to opt for using a person's name or gender-agnostic pronouns to indicate that person unless that person has directly shared particular pronouns of preference.  Profs. Capps and Agar will not tolerate any bias or discrimination based on a person's likeness or identity."
   ]
  },
  {
   "cell_type": "markdown",
   "metadata": {
    "slideshow": {
     "slide_type": "subslide"
    }
   },
   "source": [
    "#### Student Code of Conduct\n",
    "\n",
    "Student Conduct & Care seeks to create and maintain a process that is transparent and equitable for Students and Student Organizations. The policies and process described on this website have, in some cases, been paraphrased to provide a general understanding. The [full Code of Conduct (the Code)](https://drexel.edu/studentlife/~/media/Drexel/Sites/StudentLife/Documents/community-standards/Drexel-University-Code-of-Conduct.ashx) can be downloaded for review."
   ]
  },
  {
   "cell_type": "markdown",
   "metadata": {
    "slideshow": {
     "slide_type": "skip"
    }
   },
   "source": [
    "Conduct Creed\n",
    "Student Conduct & Care has established, in accordance with its mission, vision, and values, a code of high standards of behavior to include the following expectations for Students and Student Organizations to:\n",
    "\n",
    "* Accept responsibility when their choices or actions have negatively impacted themselves, others, or the community at large.\n",
    "* Engage in constant learning, practice self-reflection, and develop resilience to maintain academic, personal, and professional integrity.\n",
    "* Foster positive relationships with others.\n",
    "* Ensure the health, wellness, and safety of themselves and their communities.\n",
    "* Demonstrate mutual respect and equity within the bounds of the Code of Conduct.\n",
    "\n",
    "##### Defining Drexel's Culture of Inclusion\n",
    "\n",
    "At Drexel University, we are committed to fostering an inclusive and welcoming environment based on integrity, trust, and respect. We view the diversity of our students, faculty, professional staff, and partners as our strength. As such, we strive to create a culture where everyone can leverage their uniqueness to foster innovation because they feel a sense of belonging.\n",
    "\n",
    "We define diversity as the differences that make us uniquely who we are. This includes both individual (personality, values, attitudes, etc.) and other dimensions of difference including ideological, intellectual, economic, gender, gender identity, ability, sexual orientation, religious, age, racial, cultural, ethnic, visible and invisible disabilities, veteran status, nationality, and all the diversity of our students, faculty, professional staff, alumni, and other partners.\n",
    "\n",
    "To maximize the strength that our diversity brings, we center equity, inclusion and belonging, and incorporate an anti-racism approach to our strategic plan, organizational systems, policies, and structures.\n",
    "\n",
    "###### Anti-racism\n",
    "\n",
    "The active process of identifying and ending racism by changing our organizational systems, policies and structures to redistribute power and resources more equitably among all individuals, both at the personal and systemic levels.\n",
    "\n",
    "###### Belonging\n",
    "\n",
    "A sense of psychological safety that affords the ability for each member of the Drexel University community to be their authentic self without fear of judgement, where everyone can perform at their best because they feel accepted, respected, valued, and heard.\n",
    "\n",
    "###### Equity\n",
    "\n",
    "The process by which we aim to achieve fairness through reallocation of University resources and opportunities such that policies, structures, and their implementation work to eliminate historical, systemic disadvantage for the benefit of everyone. This requires providing varying levels of support both at the individual and systemic levels.\n",
    "\n",
    "###### Inclusion\n",
    "\n",
    "We adopt [Association of American Colleges and Universities'](https://www.aacu.org/making-excellence-inclusive) definition of inclusion as: The active, intentional, and ongoing engagement with diversity—in the curriculum, in the cocurriculum, and in communities (intellectual, social, cultural, geographical) with which individuals might connect—in ways that increase awareness, content knowledge, cognitive sophistication, and empathic understanding of the complex ways individuals interact within systems and institutions.\n",
    "\n",
    "###### Institutional Racism\n",
    "\n",
    "Institutional polices, processes and biased practices that favor white people over Black, Indigenous, and People of Color.\n",
    "\n",
    "###### Racism\n",
    "\n",
    "Racial prejudice based on unfounded beliefs and irrational fear combined with institutional power. This can be at the individual level (conscious and subconscious beliefs and actions that promote racism), the interpersonal level (racist slurs or actions), and systemic level (in institutions)."
   ]
  },
  {
   "cell_type": "markdown",
   "metadata": {
    "slideshow": {
     "slide_type": "slide"
    }
   },
   "source": [
    "## 6. Counseling Services\n",
    "\n",
    "College can be a time of uncertainty, inquiry, expansion, and adaptation for many students. Know that my office and conversations with the instructors are a safe place. Personal information told to the instructors in private will remain confidential. \n",
    "\n",
    "The only exceptions are sexual misconduct or if I feel that you are at risk of harming yourself or others. If these issues are disclosed to the instructors, we have an obligation to report.\n",
    "\n",
    "If an issues arises, the instructors will do our best to facilitate you getting the help you need to resolve your issues. We encourage you to make use of the access you have to the [Office of Counseling and Health Services](https://drexel.edu/counselingandhealth/counseling-center/overview/)."
   ]
  },
  {
   "cell_type": "markdown",
   "metadata": {
    "slideshow": {
     "slide_type": "skip"
    }
   },
   "source": [
    "**GROUP COUNSELING**\n",
    "\n",
    "The Counseling Center offers a variety of groups each quarter. Some groups are time-limited with a specific focus, while others are broader and open-ended. Please see the group descriptions here for more information about groups currently offered at the Center. If you are interested in joining a group that is not currently being offered, please email counsel@drexel.edu.\n",
    "\n",
    "**INDIVIDUAL COUNSELING**\n",
    "\n",
    "The personal concerns of Drexel students vary greatly, and our Counseling Center offers goal-focused individual counseling for support. Students initially meet with a therapist for an assessment to discuss their presenting concerns and to determine the type of services which will best meet their needs.\n",
    "\n",
    "**WELLNESS WORKSHOPS**\n",
    "\n",
    "The Counseling Center offers several Emotional Wellbeing Workshops throughout the term that offer information, coping strategies, and tools to address common concerns faced by college students. We know that Drexel students are incredibly busy and can benefit from quick and useful tools for common presenting concerns. Workshops meet once a week for a series of 3-4 weeks for 50 minutes. Our Wellness Workshops are formatted so that you can expect a classroom-style learning environment, and you can share as much or as little as you want. Each workshop comes with a student workbook that allows you to practice new skills between sessions. Click here to see which Workshops are currently being offered.\n",
    "\n",
    "If you are interested in attending any (or all!) of the workshops, schedule an Initial Consultation and tell your counselor. If you are already seeing a therapist at the Counseling Center, tell them you are interested in a workshop. You are free to do more than one workshop and to repeat them as often as you like! Check with the front desk for current scheduling and availability. When scheduled for an Emotional Wellbeing Workshop, you must come to each session on time, as the sessions build upon each other.\n",
    "\n",
    "**COUPLES COUNSELING**\n",
    "\n",
    "Couples counseling is available for students and their partners if both are currently enrolled as full-time students at Drexel University. If your partner is not enrolled at Drexel, you may contact us for information on community referral resources. \n",
    "\n",
    "**OUTREACH PROGRAMS**\n",
    "\n",
    "The Counseling Center offers a variety of outreach to campus partners - including faculty and staff, student groups, and campus organizations - to promote wellness and resiliency, destigmatize mental health, and offer preventative interventions using a social justice lens. To schedule an outreach or for more information, please visit here.\n",
    "\n",
    "**CONSULTATION**\n",
    "\n",
    "If you are concerned about a friend, student or family member; want advice about how to encourage someone you care about to get help; or you have general questions about our services; contact the Counseling Center at 215.895.1415 to request a consultation. We will have a counselor contact you to discuss further.\n",
    "\n",
    "For faculty and staff who may wish to consult with a counselor, or who want to learn more about how and when to make a referral, please see our Faculty and Staff Resource section.\n",
    "\n",
    "**REFERRAL SERVICES**\n",
    "\n",
    "Our Case Manager is available for students who would like assistance connecting with an off-campus mental health provider. The Counseling Center may make a recommendation for a student to be referred off-campus when a student may be better suited for specialized care and/or when the student’s needs fall outside the scope of the Center’s brief, goal-focused model. Our Case Manager also assists in navigating insurance and helping think through the type of care and provider you might be interested in working with in the community. The Case Manager will also be sure to follow up with you to see if you need any further assistance.\n",
    "\n",
    "**If you are currently in crisis, please contact our on-call counselor at 215.416.3337. If this is a psychological emergency and you need immediate attention, please dial 911, call Drexel Public Safety at 215.895.2222, or visit your nearest emergency room.**"
   ]
  },
  {
   "cell_type": "markdown",
   "metadata": {
    "slideshow": {
     "slide_type": "slide"
    }
   },
   "source": [
    "## 7. Tips for Success\n",
    "\n",
    " Be proactive about your success in the course!  If you need help, there are many resources available to help you. Your first primary contact for help is the learning assistants, the teaching assistants, and then the instructors. If you are struggling, attend office hours or send an email. Do not wait to bring issues, course related or otherwise, to the attention of the instructors. If you cannot attend office hours, send an email to [engr131.w23@drexel.edu](mailto:engr131.w23@drexel.edu) to try to make other arrangements.\n",
    "\n",
    "* Be proactive about your success in the course.\n",
    "* Do not procrastinate! Begin your assignments and studying early!\n",
    "* Attend every class.\n",
    "* Ask questions whether it is during class, lab, office hours, or via email to your instructor.\n",
    "* Form a study group! Working together will help you and others better understand the course material as you can work through different difficulties and offer each other clarifications on concepts. \n",
    "* Do problems! Reading through Zybooks and your notes is not enough. Seek out new problems and work through them carefully. When you are done, check your answer. If you are wrong, examine carefully what misunderstanding occurred and how to avoid it in the future. If you were correct, examine if there was a faster way, check to see if your solution _flowed and was easy to read_, and think over what concepts/computations were used and what _type_ of problem the exercise was. "
   ]
  }
 ],
 "metadata": {
  "celltoolbar": "Slideshow",
  "kernelspec": {
   "display_name": "Python 3",
   "language": "python",
   "name": "python3"
  },
  "language_info": {
   "codemirror_mode": {
    "name": "ipython",
    "version": 3
   },
   "file_extension": ".py",
   "mimetype": "text/x-python",
   "name": "python",
   "nbconvert_exporter": "python",
   "pygments_lexer": "ipython3",
   "version": "3.9.15"
  },
  "vscode": {
   "interpreter": {
    "hash": "916dbcbb3f70747c44a77c7bcd40155683ae19c65e1c03b4aa3499c5328201f1"
   }
  }
 },
 "nbformat": 4,
 "nbformat_minor": 2
}