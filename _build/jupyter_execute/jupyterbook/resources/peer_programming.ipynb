{
 "cells": [
  {
   "attachments": {},
   "cell_type": "markdown",
   "metadata": {},
   "source": [
    "# Peer Programing\n",
    "\n",
    "We find it very valuable to work collaboratively on code. Our JupyterHub provides an interface for peer programing. Here we provide instructions"
   ]
  },
  {
   "attachments": {},
   "cell_type": "markdown",
   "metadata": {},
   "source": [
    "1. Make sure you are connected to the Drexel network or logged into the VPN\n",
    "2. Login using the shared credential provided to you. They will look like `Lab_X_Y`, or `Lecture_X_Y`\n",
    "![](./figs/1.png)\n",
    "3. Access the file that you would like to work on either through the website, creating a new file, or uploading it within the interface. \n",
    "4. Click the share menu and select `share Jupyter server link`\n",
    "![](./figs/2.png)\n",
    "5. Copy the link by clicking `copy link` - Share this link with your team (note, if you use the link provided in your email you will have to navigate to the same file)\n",
    "![](./figs/3.png)\n",
    "\n",
    "**If you have been provided with a token skip to step**\n",
    "\n",
    "6. Go to file and select `hub control panel`.\n",
    "![](./figs/4.png)\n",
    "\n",
    "7. Click on `token`\n",
    "\n",
    "![](./figs/5.png)\n",
    "\n",
    "8. Set a time when the token should expire and click create token\n",
    "\n",
    "![](./figs/6.png)\n",
    "\n",
    "9. Copy the token provided. You will only be able to see this once. \n",
    "\n",
    "![](./figs/7.png)\n",
    "\n",
    "10. Share the token with your team\n",
    "\n",
    "11. Construct the URL by taking the part that was copied and adding the token to then end.\n",
    "\n",
    "It should look something like `https://jupyterhub.coe.drexel.edu/user/XXXXX/lab/?token=YOURTOKENHERE`"
   ]
  }
 ],
 "metadata": {
  "kernelspec": {
   "display_name": "base",
   "language": "python",
   "name": "python3"
  },
  "language_info": {
   "codemirror_mode": {
    "name": "ipython",
    "version": 3
   },
   "file_extension": ".py",
   "mimetype": "text/x-python",
   "name": "python",
   "nbconvert_exporter": "python",
   "pygments_lexer": "ipython3",
   "version": "3.9.15"
  },
  "vscode": {
   "interpreter": {
    "hash": "d7d046052154998ca7dd3d9af52f7220fee50748c9a05b256540159ca8eb430c"
   }
  }
 },
 "nbformat": 4,
 "nbformat_minor": 2
}