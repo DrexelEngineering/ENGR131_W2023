{
 "cells": [
  {
   "attachments": {},
   "cell_type": "markdown",
   "metadata": {},
   "source": [
    "# 💻 Activity 9.2: Building a Group Assignment Tool\n",
    "\n",
    "Professor Agar built a group assignment tool to assign students randomly to groups. Now it is your job to try to blend all the concepts you learned in this class to create this program. We will start with the classes we discussed in lecture.\n",
    "\n",
    "Again, add code where there are `...`"
   ]
  },
  {
   "cell_type": "code",
   "execution_count": null,
   "metadata": {
    "tags": [
     "skip-execution"
    ]
   },
   "outputs": [],
   "source": [
    "# import the scientific computing library numpy and give it the nickname np\n",
    "import numpy as np\n",
    "import random\n",
    "import csv\n"
   ]
  },
  {
   "cell_type": "code",
   "execution_count": null,
   "metadata": {
    "tags": [
     "skip-execution"
    ]
   },
   "outputs": [],
   "source": [
    "# create a python class called Student\n",
    "class Student:\n",
    "\n",
    "    # create a constructor for the Student class that has arguments: leader, partners, and name\n",
    "    def __init__(self, name, number, leader=0, partners=None):\n",
    "        # stores the name in a data member called self.name\n",
    "        self.name = name\n",
    "        self.leader = leader\n",
    "        self.partners = partners\n",
    "        self.number = number\n",
    "\n",
    "    # create a method called _leader\n",
    "    def _leader(self):\n",
    "        # increment the value of self.leader by 1\n",
    "        self.leader += 1"
   ]
  },
  {
   "cell_type": "code",
   "execution_count": null,
   "metadata": {
    "tags": [
     "skip-execution"
    ]
   },
   "outputs": [],
   "source": [
    "class Groups:\n",
    "    def __init__(self, group_number, group_size, group_members, group_leader):\n",
    "        self.group_number = group_number\n",
    "        self.group_size = group_size\n",
    "        self.group_member = group_members\n",
    "        self.group_leader = group_leader\n"
   ]
  },
  {
   "cell_type": "code",
   "execution_count": null,
   "metadata": {
    "tags": [
     "skip-execution"
    ]
   },
   "outputs": [],
   "source": [
    "path = \"./baby-names-by-state.csv\"\n",
    "\n",
    "# open the file at the specified path for reading and give it the name f\n",
    "with open(path, \"r\") as f:\n",
    "    # create a csv reader object to read the comma-separated file\n",
    "    reader = csv.reader(f, delimiter=\",\")\n",
    "    headers = next(reader)\n",
    "    data = np.array(list(reader))\n",
    "\n",
    "# grabs all of the unique names from the file\n",
    "names_ = np.unique(data[:, 2])"
   ]
  },
  {
   "cell_type": "code",
   "execution_count": null,
   "metadata": {
    "tags": [
     "skip-execution"
    ]
   },
   "outputs": [],
   "source": [
    "# Determine the number of students that you have\n",
    "num_students = ...\n",
    "\n",
    "# Assign a parameter for the group size\n",
    "# for this case make it 3\n",
    "group_size = ...\n",
    "\n",
    "# Use the random.choice method to select some number of students\n",
    "names = ...\n",
    "\n",
    "# Define an empty list for student\n",
    "...\n",
    "\n",
    "# Populate the list of students with a student object\n",
    "# The student object should take the student name and number\n",
    "for ...:\n",
    "    ...\n",
    "\n",
    "# determine the number of full groups that could exist given the number of students\n",
    "num_groups = ...\n",
    "\n",
    "# Make a list that will be used to store the size of each group\n",
    "groups_sizes = ...\n",
    "\n",
    "# Write a branching statement that builds a list containing the size of each group\n",
    "# We need to think about the different cases\n",
    "# If the number of students is evenly divisible by the size of the groups then the list is just the size of groups replicated by the number of groups\n",
    "# If the number of students is not evenly divisible by the size of the groups distribute the remainders\n",
    "if ...:\n",
    "\n",
    "    group_sizes = ...\n",
    "\n",
    "else:\n",
    "    group_sizes = ...\n",
    "\n",
    "# write a function `select_leader` that selects a leader from a list of available options\n",
    "...\n",
    "\n",
    "\n",
    "# make an empty list to store students already added to a group\n",
    "grouped_students = ...\n",
    "\n",
    "# make an empty list that stores the groups of students\n",
    "group_list = ...\n",
    "\n",
    "\n",
    "# Now you want to populate each group\n",
    "# 1. You want to iterate through all of the group sizes\n",
    "# 2. You want to select a leader from the list of students\n",
    "# 3. You want to check if the selected leader is already in a group. If they are, you want to try again.\n",
    "# 4. You want to use the object method to add a count to the leader object\n",
    "# 5. You want to add the leader to the list of grouped students\n",
    "# This will assign all of the group leaders.\n",
    "for ...:\n",
    "\n",
    "    leader_ = ...\n",
    "\n",
    "    ...\n",
    "\n",
    "    ...\n",
    "\n",
    "    ...\n",
    "\n",
    "    ...\n",
    "\n",
    "# Now we want to populate the groups\n",
    "# We again want to iterate through the group_list\n",
    "# We then want to add that many number of students to the group member list of the group.group_member object\n",
    "# a very useful hint is that if you subtract two set datastructures you get all of the objects that are only in the first list\n",
    "# before you end the cycle of the loop you want to make sure you add the student you added to the group to the list of grouped students.\n",
    "# This way you ensure that you do not add them again.\n",
    "for ...:\n",
    "    for ...:\n",
    "        remaining_students = ...\n",
    "\n",
    "        student_num_ = ...\n",
    "\n",
    "        ...\n",
    "\n",
    "        ..."
   ]
  },
  {
   "cell_type": "code",
   "execution_count": null,
   "metadata": {
    "tags": [
     "skip-execution"
    ]
   },
   "outputs": [],
   "source": [
    "# This is a script that prints the students in group 10\n",
    "# You can use this to check your results\n",
    "\n",
    "print(f\"The group leader is {group_list[10].group_leader[0].name}\")\n",
    "\n",
    "for i, student in enumerate(group_list[10].group_member):\n",
    "    if i != 0:\n",
    "        print(f\"The group members {i} is: {student.name}\")"
   ]
  }
 ],
 "metadata": {
  "kernelspec": {
   "display_name": "otter",
   "language": "python",
   "name": "python3"
  },
  "language_info": {
   "codemirror_mode": {
    "name": "ipython",
    "version": 3
   },
   "file_extension": ".py",
   "mimetype": "text/x-python",
   "name": "python",
   "nbconvert_exporter": "python",
   "pygments_lexer": "ipython3",
   "version": "3.10.0"
  }
 },
 "nbformat": 4,
 "nbformat_minor": 2
}