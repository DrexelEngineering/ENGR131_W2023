{
 "cells": [
  {
   "cell_type": "code",
   "execution_count": null,
   "metadata": {
    "deletable": false,
    "editable": false,
    "tags": [
     "skip-execution"
    ]
   },
   "outputs": [],
   "source": [
    "# Initialize Otter\n",
    "import otter\n",
    "grader = otter.Notebook(\"hw9-classes.ipynb\")"
   ]
  },
  {
   "attachments": {},
   "cell_type": "markdown",
   "metadata": {
    "deletable": false,
    "editable": false
   },
   "source": [
    "# Homework 9\n",
    "\n",
    "This assignment includes three problems on the topic of classes.\n",
    "\n"
   ]
  },
  {
   "attachments": {},
   "cell_type": "markdown",
   "metadata": {
    "deletable": false,
    "editable": false
   },
   "source": [
    "**Question 1: Nutritional Information** \n",
    "\n",
    "Your task is to write a class called `FoodItem`. The class constructor should initialize a new food item given a name and amounts of fat, carbs, and protein (in grams). The class should also have a method called `get_calories` which returns the estimated amount of calories in a serving of the food item.\n",
    "\n",
    "To estimate calories $x$ given the grams of fat $f$, carbs $c$, and protein $p$, you should use the following approximation:\n",
    "\n",
    "$$x = 9f + 4c + 4p$$\n",
    "\n",
    "\n",
    "Write python code to do the following:\n",
    "\n",
    "* Define a class called `FoodItem`.\n",
    "* Define the class constructor to accept as arguments a string `name` and floats `fat`, `carbs`, and `protein`. The values from these argument should be stored as data members, so that they can be used in other methods. \n",
    "* Define a method within `FoodItem` called `get_calories`, which accepts no arguments (other than `self`) and returns the estimated calories, as a float.\n",
    "\n",
    "Your code replaces the prompt:  `...`"
   ]
  },
  {
   "cell_type": "code",
   "execution_count": null,
   "metadata": {
    "tags": [
     "skip-execution"
    ]
   },
   "outputs": [],
   "source": [
    "...\n",
    "\n",
    "\n",
    "# This creates a FoodItem object so you can test your class\n",
    "snack = FoodItem(\"M&Ms\", 10.0, 34.0, 2.0)\n",
    "# This calls the get_calories method on the newly created FoodItem object\n",
    "print(snack.get_calories())"
   ]
  },
  {
   "cell_type": "code",
   "execution_count": null,
   "metadata": {
    "deletable": false,
    "editable": false,
    "tags": [
     "skip-execution"
    ]
   },
   "outputs": [],
   "source": [
    "grader.check(\"q1-nutrition\")"
   ]
  },
  {
   "attachments": {},
   "cell_type": "markdown",
   "metadata": {
    "deletable": false,
    "editable": false
   },
   "source": [
    "**Question 2: Area and Perimeter of a Circle** \n",
    "\n",
    "Your task is to write a class called `Circle`. The class constructor should take as input a radius that defaults to a value of `1.0`. The class should have methods called `area` and `perimeter` which return as floats the area and perimeter of the circle, respectively.\n",
    "\n",
    "Be sure to reference `math.pi` in your calculations.\n",
    "\n",
    "\n",
    "Write python code to do the following:\n",
    "\n",
    "* Define a class called `Circle`.\n",
    "* Define the class constructor to accept as argument a float `radius` with a default value of `1.0`. This value should be stored as a data member, so that it can be used in other methods. \n",
    "* Define a method within `Circle` called `area`, which accepts no arguments (other than `self`) and returns the area, as a float.\n",
    "* Define a method within `Circle` called `perimeter`, which accepts no arguments (other than `self`) and returns the perimeter, as a float.\n",
    "\n",
    "Your code replaces the prompt:  `...`\n"
   ]
  },
  {
   "cell_type": "code",
   "execution_count": null,
   "metadata": {
    "tags": [
     "skip-execution"
    ]
   },
   "outputs": [],
   "source": [
    "...\n",
    "\n",
    "\n",
    "# This creates a Circle object so you can test your class\n",
    "c = Circle(8.0)\n",
    "# These call the area and perimeter methods on the newly created Circle object\n",
    "print(c.area())\n",
    "print(c.perimeter())"
   ]
  },
  {
   "cell_type": "code",
   "execution_count": null,
   "metadata": {
    "deletable": false,
    "editable": false,
    "tags": [
     "skip-execution"
    ]
   },
   "outputs": [],
   "source": [
    "grader.check(\"q2-area-perimeter-circle\")"
   ]
  },
  {
   "attachments": {},
   "cell_type": "markdown",
   "metadata": {
    "deletable": false,
    "editable": false
   },
   "source": [
    "**Question 3: 3D Point Class** \n",
    "\n",
    "Your task is to create a class called Point3D that implements a point in 3-D space. Objects of this class are constructed with three arguments `x`,`y`,and `z`, which all default to zero.\n",
    "\n",
    "Inside the class you will implement a number of \"magic\" methods in python, the methods with names surrounded by double underscores. Specifically, you will implement the proper methods to allow addition, subtraction and equality checking between two Point3D instances. You will also implement the proper method to control how a Point3D object is printed.\n",
    "\n",
    "Specifics regarding how these should be implemented follow.\n",
    "\n",
    "Write python code to do the following:\n",
    "\n",
    "* Define a class called `Point3D`.\n",
    "* Define the class constructor to accept as arguments 3 numbers `x`, `y`, and `z` which all default to `0`. These values should be stored as data members (called `x`, `y`, and `z`), so that they can be used in the other methods. \n",
    "* Addition: define a method such that, given Point3D objects `a` and `b`, `a + b` returns a new Point3D object whose `x`, `y`, and `z` values are the sums of the `x`, `y` and `z` values of points `a` and `b`. (Hint: the built in function for addition is `__add__()`)\n",
    "* Subtraction: define a method such that, given Point3D objects `a` and `b`, `a - b` returns a float representing the Euclidean distance between points `a` and `b`.\n",
    "* Equality: define a method such that, given Point3D objects `a` and `b`, `a == b` returns True if and only if the `x`, `y` and `z` values of point `a` and `b` are equal.\n",
    "* Printing: define a method such that, given a Point3D object `a`, `print(a)` prints in the format `<a.x, b.y, c.z>`. (Hint: the built in `print` function will call the `__str__()` method on the input to convert the input into a string before printing.)"
   ]
  },
  {
   "attachments": {},
   "cell_type": "markdown",
   "metadata": {},
   "source": [
    "After your class has been implemented, it should be able to be used as follows:"
   ]
  },
  {
   "cell_type": "raw",
   "metadata": {
    "tags": [
     "skip-execution"
    ]
   },
   "source": [
    "p1=Point3D(1,1,1)\n",
    "p2=Point3D(2,2,2)\n",
    "print(p1 + p2)\n",
    "[output]: <3, 3, 3>\n",
    "\n",
    "print(p1-p2)\n",
    "[output]: 1.7320508075688772\n",
    "\n",
    "p1==p2\n",
    "[output]: False\n",
    "\n",
    "p1+p1==p2\n",
    "[output]: True\n",
    "\n",
    "p1==p2+Point3D(-1,-1,-1)\n",
    "[output]: True"
   ]
  },
  {
   "attachments": {},
   "cell_type": "markdown",
   "metadata": {
    "deletable": false,
    "editable": false
   },
   "source": [
    "Your code replaces the prompt:  `...`"
   ]
  },
  {
   "cell_type": "code",
   "execution_count": null,
   "metadata": {
    "tags": [
     "skip-execution"
    ]
   },
   "outputs": [],
   "source": [
    "...\n",
    "\n",
    "\n",
    "# You can manipulate these points (and make others!) to test your class \n",
    "p1 = Point3D(1,1,1)\n",
    "p2 = Point3D(2,2,2)"
   ]
  },
  {
   "cell_type": "code",
   "execution_count": null,
   "metadata": {
    "deletable": false,
    "editable": false,
    "tags": [
     "skip-execution"
    ]
   },
   "outputs": [],
   "source": [
    "grader.check(\"q3-point3d\")"
   ]
  }
 ],
 "metadata": {
  "kernelspec": {
   "display_name": "Python 3",
   "language": "python",
   "name": "python3"
  },
  "language_info": {
   "codemirror_mode": {
    "name": "ipython",
    "version": 3
   },
   "file_extension": ".py",
   "mimetype": "text/x-python",
   "name": "python",
   "nbconvert_exporter": "python",
   "pygments_lexer": "ipython3",
   "version": "3.10.0"
  },
  "otter": {
   "OK_FORMAT": true,
   "tests": {
    "q1-nutrition": {
     "name": "q1-nutrition",
     "points": null,
     "suites": [
      {
       "cases": [
        {
         "code": ">>> \n>>> assert \"__init__\" in dir(FoodItem)\n",
         "failure_message": "constructor not correctly defined.",
         "hidden": false,
         "locked": false,
         "points": 1,
         "success_message": "constructor is defined."
        },
        {
         "code": ">>> \n>>> assert \"get_calories\" in dir(FoodItem)\n",
         "failure_message": "you have no method called get_calories.",
         "hidden": false,
         "locked": false,
         "points": 1,
         "success_message": "you have a method called get_calories."
        },
        {
         "code": ">>> \n>>> test_cals = FoodItem(\"apple\", 1, 20, 1).get_calories()\n>>> \n>>> assert type(test_cals) == type(1.0)\n",
         "failure_message": "your method get_calories does not return a float.",
         "hidden": false,
         "locked": false,
         "points": 1,
         "success_message": "your method get_calories returns a float."
        },
        {
         "code": ">>> \n>>> test_cals = FoodItem(\"apple\", 1, 20, 1).get_calories()\n>>> \n>>> assert test_cals == 93.0\n",
         "failure_message": "an incorrect amount of calories are given for FoodItem(\"apple\", 1, 20, 1).",
         "hidden": false,
         "locked": false,
         "points": 1,
         "success_message": "the correct amount of calories are given for FoodItem(\"apple\", 1, 20, 1)."
        },
        {
         "code": ">>> \n>>> test_cals = FoodItem(\"cookie\", 19.0, 52.0, 4.5).get_calories()\n>>> \n>>> assert test_cals == 397.0\n>>> \n>>> \n",
         "failure_message": "an incorrect amount of calories are given for FoodItem(\"cookie\", 19.0, 52.0, 4.5).",
         "hidden": false,
         "locked": false,
         "points": 1,
         "success_message": "the correct amount of calories are given for FoodItem(\"cookie\", 19.0, 52.0, 4.5)."
        }
       ],
       "scored": true,
       "setup": "",
       "teardown": "",
       "type": "doctest"
      }
     ]
    },
    "q2-area-perimeter-circle": {
     "name": "q2-area-perimeter-circle",
     "points": null,
     "suites": [
      {
       "cases": [
        {
         "code": ">>> \n>>> assert \"__init__\" in dir(Circle)\n",
         "failure_message": "constructor not correctly defined.",
         "hidden": false,
         "locked": false,
         "points": 1,
         "success_message": "constructor is defined."
        },
        {
         "code": ">>> \n>>> assert (\"area\" in dir(Circle)) and (\"perimeter\" in dir(Circle))\n",
         "failure_message": "you are missing at least one of these methods - area, perimeter.",
         "hidden": false,
         "locked": false,
         "points": 1,
         "success_message": "you have methods called area and perimeter."
        },
        {
         "code": ">>> \n>>> test_circle = Circle(8.0)\n>>> test_a = test_circle.area()\n>>> test_p = test_circle.perimeter()\n>>> \n>>> assert (type(test_a) == type(1.0)) and (type(test_p) == type(1.0))\n",
         "failure_message": "at least one of the following methods does not return a float - area, perimeter",
         "hidden": false,
         "locked": false,
         "points": 1,
         "success_message": "your methods area and perimeter both return a float."
        },
        {
         "code": ">>> \n>>> import numpy as np\n>>> \n>>> test_circle = Circle(8.0)\n>>> test_a = test_circle.area()\n>>> test_p = test_circle.perimeter()\n>>> \n>>> assert np.isclose([test_a, test_p], [201.06192982974676, 50.26548245743669]).all()\n",
         "failure_message": "incorrect area and/or perimeter for Circle(8.0).",
         "hidden": false,
         "locked": false,
         "points": 1,
         "success_message": "correct area and perimeter for Circle(8.0)."
        },
        {
         "code": ">>> \n>>> import numpy as np\n>>> \n>>> test_circle = Circle()\n>>> test_a = test_circle.area()\n>>> test_p = test_circle.perimeter()\n>>> \n>>> assert np.isclose([test_a, test_p], [3.141592653589793, 6.283185307179586]).all()\n",
         "failure_message": "incorrect area and/or perimeter for Circle with default radius.",
         "hidden": false,
         "locked": false,
         "points": 1,
         "success_message": "correct area and perimeter for Circle with default radius."
        }
       ],
       "scored": true,
       "setup": "",
       "teardown": "",
       "type": "doctest"
      }
     ]
    },
    "q3-point3d": {
     "name": "q3-point3d",
     "points": null,
     "suites": [
      {
       "cases": [
        {
         "code": ">>> \n>>> assert \"__init__\" in dir(Point3D)\n",
         "failure_message": "constructor not correctly defined.",
         "hidden": false,
         "locked": false,
         "points": 1,
         "success_message": "constructor is defined."
        },
        {
         "code": ">>> \n>>> assert \"__add__\" in dir(Point3D)\n",
         "failure_message": "addition is not defined.",
         "hidden": false,
         "locked": false,
         "points": 1,
         "success_message": "addition is defined."
        },
        {
         "code": ">>> \n>>> assert \"__sub__\" in dir(Point3D)\n",
         "failure_message": "subtraction is not defined.",
         "hidden": false,
         "locked": false,
         "points": 1,
         "success_message": "subtraction is defined."
        },
        {
         "code": ">>> \n>>> assert \"__eq__\" in dir(Point3D)\n",
         "failure_message": "equality checking is not defined.",
         "hidden": false,
         "locked": false,
         "points": 1,
         "success_message": "equality checking is defined."
        },
        {
         "code": ">>> \n>>> assert \"__str__\" in dir(Point3D) or \"__repr__\" in dir(Point3D)\n",
         "failure_message": "print controlling is not defined.",
         "hidden": false,
         "locked": false,
         "points": 1,
         "success_message": "print controlling is defined."
        },
        {
         "code": ">>> \n>>> default_point = Point3D()\n>>> \n>>> assert default_point.x == 0 and default_point.y == 0 and default_point.z == 0\n",
         "failure_message": "default values incorrectly assigned.",
         "hidden": false,
         "locked": false,
         "points": 1,
         "success_message": "default values correctly assigned."
        },
        {
         "code": ">>> \n>>> p1 = Point3D(3.58,2,-7)\n>>> p2 = Point3D(0.1,-2,4)\n>>> p3 = p1 + p2\n>>> \n>>> assert p3.x == 3.68 and p3.y == 0 and p3.z == -3 and type(p3) == type(Point3D())\n",
         "failure_message": "addition test failed.",
         "hidden": false,
         "locked": false,
         "points": 1,
         "success_message": "addition test passed."
        },
        {
         "code": ">>> import numpy as np\n>>> \n>>> p1 = Point3D(3.58,2,-7)\n>>> p2 = Point3D(0.1,-2,4)\n>>> dist = p1 - p2\n>>> \n>>> assert np.isclose([dist], 12.211076938583263).all()\n",
         "failure_message": "subtraction test failed.",
         "hidden": false,
         "locked": false,
         "points": 1,
         "success_message": "subtraction test passed."
        },
        {
         "code": ">>> import numpy as np\n>>> \n>>> p0 = Point3D(0,0,0)\n>>> p1 = Point3D(1,1,1)\n>>> pd = Point3D()\n>>> \n>>> assert p0 != p1 and p0 == pd\n",
         "failure_message": "equality test failed.",
         "hidden": false,
         "locked": false,
         "points": 1,
         "success_message": "equality test passed."
        },
        {
         "code": ">>> import numpy as np\n>>> \n>>> p0 = Point3D(1,2,3)\n>>> \n>>> assert str(p0) == \"<1, 2, 3>\" or repr(p0) == \"<1, 2, 3>\"\n",
         "failure_message": "printing test failed.",
         "hidden": false,
         "locked": false,
         "points": 1,
         "success_message": "printing test passed."
        }
       ],
       "scored": true,
       "setup": "",
       "teardown": "",
       "type": "doctest"
      }
     ]
    }
   }
  },
  "varInspector": {
   "cols": {
    "lenName": 16,
    "lenType": 16,
    "lenVar": 40
   },
   "kernels_config": {
    "python": {
     "delete_cmd_postfix": "",
     "delete_cmd_prefix": "del ",
     "library": "var_list.py",
     "varRefreshCmd": "print(var_dic_list())"
    },
    "r": {
     "delete_cmd_postfix": ") ",
     "delete_cmd_prefix": "rm(",
     "library": "var_list.r",
     "varRefreshCmd": "cat(var_dic_list()) "
    }
   },
   "types_to_exclude": [
    "module",
    "function",
    "builtin_function_or_method",
    "instance",
    "_Feature"
   ],
   "window_display": false
  },
  "vscode": {
   "interpreter": {
    "hash": "31f2aee4e71d21fbe5cf8b01ff0e069b9275f58929596ceb00d14d90e3e16cd6"
   }
  }
 },
 "nbformat": 4,
 "nbformat_minor": 4
}