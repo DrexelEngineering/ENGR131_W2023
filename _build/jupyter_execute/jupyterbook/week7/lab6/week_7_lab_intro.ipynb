{
 "cells": [
  {
   "attachments": {},
   "cell_type": "markdown",
   "metadata": {},
   "source": [
    "# 📝Week 7 - Lab Intro\n",
    "\n",
    "In this lab introduction we will briefly review and discuss dictionaries, a data structure used in this week's lab."
   ]
  },
  {
   "attachments": {},
   "cell_type": "markdown",
   "metadata": {
    "slideshow": {
     "slide_type": "subslide"
    }
   },
   "source": [
    "## Dictionaries"
   ]
  },
  {
   "attachments": {},
   "cell_type": "markdown",
   "metadata": {},
   "source": [
    "### Creating an empty dicitonary\n",
    "\n",
    "You can use curly braces or `dict()` to create an empty dicitonary"
   ]
  },
  {
   "cell_type": "code",
   "execution_count": null,
   "metadata": {
    "tags": [
     "skip-execution"
    ]
   },
   "outputs": [],
   "source": [
    "# one way to make an empty dicitonary\n",
    "d1 = {}\n",
    "\n",
    "# another way to make an empty dicitonary\n",
    "d2 = dict()"
   ]
  },
  {
   "attachments": {},
   "cell_type": "markdown",
   "metadata": {},
   "source": [
    "### Filling the dictionary\n",
    "\n",
    "You can fill a dictionary with the following syntax:\n",
    "\n",
    "`dict_name[key] = value`"
   ]
  },
  {
   "cell_type": "code",
   "execution_count": null,
   "metadata": {
    "tags": [
     "skip-execution"
    ]
   },
   "outputs": [],
   "source": [
    "d = {}\n",
    "\n",
    "d[\"A\"] = 3\n",
    "d[\"B\"] = 4\n",
    "d[\"C\"] = 5\n",
    "\n",
    "print(d)"
   ]
  },
  {
   "attachments": {},
   "cell_type": "markdown",
   "metadata": {},
   "source": [
    "### Creating a dictionary with starting items\n",
    "Dictionary items are given as `key:value` pairs separated by commas."
   ]
  },
  {
   "cell_type": "code",
   "execution_count": null,
   "metadata": {
    "tags": [
     "skip-execution"
    ]
   },
   "outputs": [],
   "source": [
    "my_pets = {\n",
    "    \"dogs\" : 1,\n",
    "    \"cats\" : 2,\n",
    "    \"fish\" : 5\n",
    "}\n",
    "\n",
    "print(my_pets)"
   ]
  },
  {
   "attachments": {},
   "cell_type": "markdown",
   "metadata": {},
   "source": [
    "### Overwriting values\n",
    "\n",
    "Each key can only have one value, so if you asssign a value to a key that's already been used, it is overwritten."
   ]
  },
  {
   "cell_type": "code",
   "execution_count": null,
   "metadata": {
    "tags": [
     "skip-execution"
    ]
   },
   "outputs": [],
   "source": [
    "my_pets = {\n",
    "    \"dogs\" : 1,\n",
    "    \"cats\" : 2,\n",
    "    \"fish\" : 5\n",
    "}\n",
    "\n",
    "# if we got one more fish, what's another way we can write the following line?\n",
    "my_pets[\"fish\"] = 6\n",
    "\n",
    "print(my_pets)"
   ]
  },
  {
   "attachments": {},
   "cell_type": "markdown",
   "metadata": {},
   "source": [
    "While each key can only appear once, the same value can be used multiple times. For instance:"
   ]
  },
  {
   "cell_type": "code",
   "execution_count": null,
   "metadata": {
    "tags": [
     "skip-execution"
    ]
   },
   "outputs": [],
   "source": [
    "my_pets = {\n",
    "    \"dogs\" : 2,\n",
    "    \"cats\" : 2,\n",
    "}\n",
    "\n",
    "print(my_pets)"
   ]
  },
  {
   "attachments": {},
   "cell_type": "markdown",
   "metadata": {},
   "source": [
    "#### What can be a dictionary key?\n",
    "\n",
    "Let's see which types can be a dictionary key. We'll use the error messages to find which statements are valid."
   ]
  },
  {
   "cell_type": "code",
   "execution_count": null,
   "metadata": {
    "tags": [
     "skip-execution"
    ]
   },
   "outputs": [],
   "source": [
    "import numpy as np\n",
    "\n",
    "test_dict = {}\n",
    "\n",
    "# string\n",
    "test_dict[\"A\"] = 3\n",
    "\n",
    "# int\n",
    "test_dict[5] = 3\n",
    "\n",
    "# float\n",
    "test_dict[3.7] = 3\n",
    "\n",
    "# list\n",
    "test_dict[[3,4,5]] = 3\n",
    "\n",
    "# tuple\n",
    "test_dict[(3,4,5)] = 3\n",
    "\n",
    "# numpy array\n",
    "test_dict[np.array([1,1,1])] = 3\n",
    "\n",
    "# function\n",
    "test_dict[len] = 3\n",
    "\n",
    "# dictionary\n",
    "test_dict[{\"A\":5}] = 3\n",
    "\n",
    "print(test_dict)"
   ]
  },
  {
   "attachments": {},
   "cell_type": "markdown",
   "metadata": {},
   "source": [
    "A dictionary key must be \"hashable,\" meaning it is a type of object that cannot be changed after its creation. \n",
    "\n",
    "Thus it can be fed into a 'hash\" function, which generates an index (an integer) specific to that object."
   ]
  },
  {
   "attachments": {},
   "cell_type": "markdown",
   "metadata": {},
   "source": [
    "#### What can be a dictionary value?"
   ]
  },
  {
   "attachments": {},
   "cell_type": "markdown",
   "metadata": {},
   "source": [
    "Let's do the same to determine what objects can be values in a dictionary."
   ]
  },
  {
   "cell_type": "code",
   "execution_count": null,
   "metadata": {
    "tags": [
     "skip-execution"
    ]
   },
   "outputs": [],
   "source": [
    "import numpy as np\n",
    "\n",
    "test_dict = {}\n",
    "\n",
    "# string\n",
    "test_dict[\"A\"] = \"A\"\n",
    "\n",
    "# int\n",
    "test_dict[\"B\"] = 5\n",
    "\n",
    "# float\n",
    "test_dict[\"C\"] = 3.7\n",
    "\n",
    "# list\n",
    "test_dict[\"D\"] = [3,4,5]\n",
    "\n",
    "# tuple\n",
    "test_dict[\"E\"] = (3,4,5)\n",
    "\n",
    "# numpy array\n",
    "test_dict[\"F\"] = np.array([1,1,1])\n",
    "\n",
    "# function\n",
    "test_dict[\"G\"] = len\n",
    "\n",
    "print(test_dict)"
   ]
  },
  {
   "attachments": {},
   "cell_type": "markdown",
   "metadata": {},
   "source": [
    "### Counting with a dictionary"
   ]
  },
  {
   "attachments": {},
   "cell_type": "markdown",
   "metadata": {},
   "source": [
    "Dictionaries are a natural choice of data structure when you when to count different things.\n",
    "\n",
    "Consider the following example with counting suits in a hand of playing cards:"
   ]
  },
  {
   "cell_type": "code",
   "execution_count": null,
   "metadata": {
    "tags": [
     "skip-execution"
    ]
   },
   "outputs": [],
   "source": [
    "# cards are represented by a tuple: `(value, suit)`\n",
    "hand_of_cards = [(\"ace\", \"spades\"),(\"jack\", \"diamonds\"),(\"queen\", \"spades\"),(\"four\", \"spades\"), (\"jack\", \"hearts\")]\n",
    "\n",
    "\n",
    "# initialize a dictionary for counting the suits, all starting at 0\n",
    "suit_counts = {\"clubs\" : 0,\n",
    "                \"diamonds\" : 0,\n",
    "                \"hearts\" : 0,\n",
    "                \"spades\" : 0}\n",
    "\n",
    "# loop through the hand of cards, unpacking the tuple into value and suit variables\n",
    "for value, suit in hand_of_cards:\n",
    "    # increment the value located at key=suit\n",
    "    suit_counts[suit] += 1\n",
    "\n",
    "\n",
    "# print the final dictionary of counts\n",
    "print(suit_counts)"
   ]
  }
 ],
 "metadata": {
  "celltoolbar": "Slideshow",
  "kernelspec": {
   "display_name": "Python 3",
   "language": "python",
   "name": "python3"
  },
  "language_info": {
   "codemirror_mode": {
    "name": "ipython",
    "version": 3
   },
   "file_extension": ".py",
   "mimetype": "text/x-python",
   "name": "python",
   "nbconvert_exporter": "python",
   "pygments_lexer": "ipython3",
<<<<<<< Updated upstream
   "version": "3.10.0"
=======
   "version": "3.10.8"
>>>>>>> Stashed changes
  },
  "varInspector": {
   "cols": {
    "lenName": 16,
    "lenType": 16,
    "lenVar": 40
   },
   "kernels_config": {
    "python": {
     "delete_cmd_postfix": "",
     "delete_cmd_prefix": "del ",
     "library": "var_list.py",
     "varRefreshCmd": "print(var_dic_list())"
    },
    "r": {
     "delete_cmd_postfix": ") ",
     "delete_cmd_prefix": "rm(",
     "library": "var_list.r",
     "varRefreshCmd": "cat(var_dic_list()) "
    }
   },
   "types_to_exclude": [
    "module",
    "function",
    "builtin_function_or_method",
    "instance",
    "_Feature"
   ],
   "window_display": false
  },
  "vscode": {
   "interpreter": {
    "hash": "31f2aee4e71d21fbe5cf8b01ff0e069b9275f58929596ceb00d14d90e3e16cd6"
   }
  }
 },
 "nbformat": 4,
 "nbformat_minor": 2
}