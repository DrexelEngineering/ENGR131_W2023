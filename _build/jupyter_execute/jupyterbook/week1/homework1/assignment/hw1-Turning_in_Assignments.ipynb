{
 "cells": [
  {
   "cell_type": "code",
   "execution_count": 1,
   "metadata": {
    "deletable": false,
    "editable": false
   },
   "outputs": [],
   "source": [
    "# Initialize Otter\n",
    "import otter\n",
    "grader = otter.Notebook(\"hw1-Turning_in_Assignments.ipynb\")"
   ]
  },
  {
   "attachments": {},
   "cell_type": "markdown",
   "metadata": {},
   "source": [
    "# Homework 1 - Using Jupyter and Turning in Assignments\n",
    "\n",
    "In this class we will be using Jupyter Notebooks for completing homeworks. This homework assignment will make sure you are comfortable using these tools. \n",
    "\n",
    "Jupyter notebooks are Java-Script Object Notation files that allow you to create documents to move and transport code and documentation that can be run interactively. The postfix for the file is `.ipynb`, you can think of this like a word document for python. \n",
    "\n",
    "In this homework assignment we want you to demonstrate your proficiency using this system. We will provide you some code that allows you to create your own personalized T-shirt logo. \n",
    "\n",
    "Instructions: \n",
    "1. Open the notebook from the course website using the Jupyterhub. You can do this by clicking on the rocket ship and selecting jupyterhub.\n",
    "2. Copy and paste the provided code. \n",
    "\n",
    "```python\n",
    "import numpy as np\n",
    "from PIL import Image, ImageDraw, ImageFont\n",
    "import skimage\n",
    "from skimage.transform import rescale, resize, downscale_local_mean\n",
    "#import matplotlib.pyplot as plt\n",
    "\n",
    "class your_branded_shirt(): \n",
    "    \n",
    "    def __init__(self, validation = False):\n",
    "        \n",
    "        # identifies the location of the drexel dragon file\n",
    "        image_filename = \"https://raw.githubusercontent.com/DrexelEngineering/ENGR131_W2023/main/jupyterbook/assets/drexel-dragon-all_blue.png\"\n",
    "\n",
    "        # loads the drexel dragon file into a numpy array\n",
    "        self.image = skimage.io.imread(image_filename)\n",
    "                \n",
    "        self.font = (\"./arial.TTF\")\n",
    "        \n",
    "        self.validation = validation\n",
    "        \n",
    "\n",
    "    def color_random(self):\n",
    "        \n",
    "        # selects a random int between 0,255 with size of 3 for RGB.\n",
    "    color = np.random.choice(range(255), size=3).astype(\"uint8\")\n",
    "        \n",
    "        # makes sure the color is not too blue to conceal the drexel logo\n",
    "        if color[2] > 150:\n",
    "            color[2] = 150\n",
    "\n",
    "        # returns the color    \n",
    "        return color\n",
    "\n",
    "\n",
    "    def rgb_to_hex(self, rgb):\n",
    "        # function to convert RGB to hex\n",
    "        return \"%02x%02x%02x\" % rgb\n",
    "\n",
    "\n",
    "    def image_canvas(self, text, size):\n",
    "\n",
    "        # Create font\n",
    "        pil_font = ImageFont.truetype(self.font, size=size, encoding=\"unic\")\n",
    "\n",
    "        # gets size of the text\n",
    "        _, _, text_width, text_height = pil_font.getbbox(text)\n",
    "\n",
    "        # creates a canvas based on the size of the text\n",
    "        return np.zeros((text_height, text_width + len(text) // 2, 3), dtype=\"uint8\")\n",
    "\n",
    "\n",
    "    def text_phantom(self, text, size):\n",
    "\n",
    "        # Create font\n",
    "        pil_font = ImageFont.truetype(self.font, size=size, encoding=\"unic\")\n",
    "        _, _, text_width, text_height = pil_font.getbbox(text)\n",
    "\n",
    "        # create a blank canvas with extra space between lines\n",
    "        canvas = Image.new(\"RGB\", [text_width, text_height], (255, 255, 255))\n",
    "\n",
    "        # draw the text onto the canvas\n",
    "        draw = ImageDraw.Draw(canvas)\n",
    "\n",
    "        offset = (0, 0)\n",
    "\n",
    "        # Calls the function to choose a random color\n",
    "        color_ = self.color_random()\n",
    "\n",
    "        # converts the color from RGB to hex\n",
    "        color = \"#\" + self.rgb_to_hex((color_[0], color_[1], color_[2]))\n",
    "        \n",
    "        # draws the text\n",
    "        draw.text(offset, text, font=pil_font, fill=color)\n",
    "\n",
    "        # Convert the canvas into an array with values in [0, 1]\n",
    "        return 255 - np.asarray(canvas)\n",
    "\n",
    "\n",
    "    def multicolor_image(self, text, height):\n",
    "        \n",
    "        # creates the canvas\n",
    "        out = self.image_canvas(text, height)\n",
    "        \n",
    "        # sets an initial position\n",
    "        pos = 0\n",
    "\n",
    "        # for loop that goes around each letter in the text\n",
    "        for i in text:\n",
    "            letter = self.text_phantom(i, height)\n",
    "\n",
    "            #Add the letter to the image\n",
    "            out[0 : letter.shape[0], pos : pos + letter.shape[1], :] = letter\n",
    "            \n",
    "            # adjusts the position so the letters do not overlap\n",
    "            pos += letter.shape[1]\n",
    "\n",
    "        return out\n",
    "\n",
    "\n",
    "    def build_image(self, name):\n",
    "    \n",
    "        # creates a 256,256,3 image where 3 represents RGB\n",
    "        bkgr = np.zeros((256, 265, 3), dtype=\"uint8\")\n",
    "\n",
    "        # Sets the background to be a random color\n",
    "        bkgr[:, :, :] = self.color_random()\n",
    "\n",
    "        # Resizes the image to fit within the frame\n",
    "        image_resized = resize(self.image, (106, 150), anti_aliasing=True)\n",
    "\n",
    "        # places the drexel dragon image in the correct location\n",
    "        bkgr[3:109, (256 - 150) // 2 : (256 - 150) // 2 + 150][\n",
    "            image_resized[:, :, :-1].sum(axis=2) < 2\n",
    "        ] = (image_resized[:, :, :-1] * 255).astype(\"uint8\")[\n",
    "            image_resized[:, :, :-1].sum(axis=2) < 2\n",
    "        ]\n",
    "\n",
    "        # writes the word congratulations as multicolored text\n",
    "        out = self.multicolor_image(\"Congratulations!\", 33)\n",
    "\n",
    "        # adds the word congratulations to the image under the dragon\n",
    "        bkgr[\n",
    "            126 : 126 + out.shape[0],\n",
    "            (256 - out.shape[1]) // 2 : (256 - out.shape[1]) // 2 + out.shape[1],\n",
    "        ][out.sum(axis=2) > 0.1] = out.astype(\"uint8\")[out.sum(axis=2) > 0.1]\n",
    "\n",
    "        # moves the starting y position down a line\n",
    "        y = 126 + out.shape[0]\n",
    "\n",
    "        # You type your comment here for what this line of code does. \n",
    "        out = self.multicolor_image(name, 33)\n",
    "\n",
    "        # Adds your name to the image\n",
    "        bkgr[\n",
    "            y + 10 : y + 10 + out.shape[0],\n",
    "            (256 - out.shape[1]) // 2 : (256 - out.shape[1]) // 2 + out.shape[1],\n",
    "        ][out.sum(axis=2) > 0.1] = out.astype(\"uint8\")[out.sum(axis=2) > 0.1]\n",
    "        \n",
    "        if self.validation:\n",
    "            image = bkgr\n",
    "        else:\n",
    "            # makes the image\n",
    "            image = plt.imshow(bkgr)\n",
    "            \n",
    "            # saves the image\n",
    "            plt.savefig(f'{name}_image.png')\n",
    "        \n",
    "        # returns the plot \n",
    "        return image\n",
    "\n",
    "```\n",
    "\n",
    "3. As you can see we have used `#` to add comments to the code. This is an important part of your assignments and grade. Comments show us that you not only completed the assignments but understand the code. \n",
    "4. The following code has 3 problems which need to be fixed so that it can run. We would like you to get comfortable reading error messages and using the `friendly.jupyter` to help you discover your errors. There are small errors or corrections that need to be made on lines 6, 11, and 124. \n",
    "\n",
    "Hint: you can simply view the line numbers by pressing `shift + l` when in a cell. \n",
    "\n",
    "5. We would like you to call the `build_image` function to produce your image. You do this by typing `build_image(\"Your Name\")` into a new cell after running the copied code. You replace \\<Your Name\\> with your actual name. Make sure your name is in `\"` as this defines a string of characters in python. \n",
    "\n",
    "Hint: cells can be run by pressing `shift` + `enter`\n",
    "\n",
    "1. We would like you to download the `.ipynb` file and your image from the jupyter hub. Please upload these files to bblearn for grading. \n",
    "\n",
    "Because of the size of the class we are using autograding technologies to assist with grading. Thus ensuring that your files match the naming convention is critical to receiving credit. \n"
   ]
  },
  {
   "cell_type": "markdown",
   "metadata": {},
   "source": [
    "Run the following code by pressing `shift + enter`, this is a module that helps explain errors to you."
   ]
  },
  {
   "cell_type": "code",
   "execution_count": null,
   "metadata": {
    "tags": [
     "otter_ignore",
     "skip-execution"
    ]
   },
   "outputs": [],
   "source": [
    "from friendly.jupyter import *"
   ]
  },
  {
   "cell_type": "markdown",
   "metadata": {},
   "source": [
    "**Question 1: Make Your Branded Shirt**\n",
    "\n"
   ]
  },
  {
   "cell_type": "code",
   "execution_count": 2,
   "metadata": {
    "tags": []
   },
   "outputs": [
    {
     "data": {
      "text/plain": [
       "Ellipsis"
      ]
     },
     "execution_count": 2,
     "metadata": {},
     "output_type": "execute_result"
    }
   ],
   "source": [
    "# Paste your code here\n",
    "\n",
    "...\n",
    "\n"
   ]
  },
  {
   "cell_type": "code",
   "execution_count": 3,
   "metadata": {
    "tags": []
   },
   "outputs": [
    {
     "data": {
      "text/plain": [
       "Ellipsis"
      ]
     },
     "execution_count": 3,
     "metadata": {},
     "output_type": "execute_result"
    }
   ],
   "source": [
    "# Your command to run build image goes here\n",
    "\n",
    "..."
   ]
  },
  {
   "cell_type": "code",
   "execution_count": null,
   "metadata": {
    "deletable": false,
    "editable": false,
    "tags": [
     "skip-execution"
    ]
   },
   "outputs": [],
   "source": [
    "grader.check(\"q1-Make Your Branded Shirt\")"
   ]
  }
 ],
 "metadata": {
  "kernelspec": {
   "display_name": "base",
   "language": "python",
   "name": "python3"
  },
  "language_info": {
   "codemirror_mode": {
    "name": "ipython",
    "version": 3
   },
   "file_extension": ".py",
   "mimetype": "text/x-python",
   "name": "python",
   "nbconvert_exporter": "python",
   "pygments_lexer": "ipython3",
   "version": "3.10.8"
  },
  "otter": {
   "OK_FORMAT": true,
   "tests": {
    "q1-Make Your Branded Shirt": {
     "name": "q1-Make Your Branded Shirt",
     "points": null,
     "suites": [
      {
       "cases": [
        {
         "code": ">>> \n>>> np.random.seed(42)\n>>> shirt =  your_branded_shirt(42)\n>>> assert all([102, 179,  92] == shirt.color_random())\n",
         "failure_message": "Color random incorrectly implemented.",
         "hidden": false,
         "locked": false,
         "points": 1,
         "success_message": "Color random correctly implemented."
        },
        {
         "code": ">>> \n>>> np.random.seed(50)\n>>> shirt =  your_branded_shirt(validation=True)\n>>> color = shirt.color_random()\n>>> \n>>> assert \"b0e08b\" == shirt.rgb_to_hex((color[0],color[1],color[2]))\n",
         "failure_message": "rgb_to_hex random incorrectly implemented.",
         "hidden": false,
         "locked": false,
         "points": 1,
         "success_message": "rgb_to_hex random correctly implemented."
        },
        {
         "code": ">>> \n>>> np.random.seed(39)\n>>> shirt =  your_branded_shirt(39)\n>>> \n>>> assert shirt.multicolor_image(\"Drexel\", 40).flatten().sum() == 430370\n",
         "failure_message": "multicolor_image random incorrectly implemented.",
         "hidden": false,
         "locked": false,
         "points": 1,
         "success_message": "multicolor_image random correctly implemented."
        },
        {
         "code": ">>> \n>>> np.random.seed(63)\n>>> shirt =  your_branded_shirt()\n>>> \n>>> assert 211 == np.max(shirt.text_phantom(\"Engr_131\",40))\n",
         "failure_message": "text_phantom random incorrectly implemented.",
         "hidden": false,
         "locked": false,
         "points": 3,
         "success_message": "text_phantom random correctly implemented."
        }
       ],
       "scored": true,
       "setup": "",
       "teardown": "",
       "type": "doctest"
      }
     ]
    }
   }
  },
  "vscode": {
   "interpreter": {
    "hash": "28d6d9e31a694f2aba28d42b1019d9365f56410d563150feaee59905aa4508a9"
   }
  }
 },
 "nbformat": 4,
 "nbformat_minor": 2
}