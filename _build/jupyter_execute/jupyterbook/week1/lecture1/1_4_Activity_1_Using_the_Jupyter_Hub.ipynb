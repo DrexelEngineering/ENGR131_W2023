{
 "cells": [
  {
   "attachments": {},
   "cell_type": "markdown",
   "metadata": {},
   "source": [
    "# 💻 Activity: Hello World JupyterHub\n",
    "\n",
    "Please share with the instructors something about yourself and your neighbor in [this brief form](https://forms.office.com/r/3PCDmYRyAm) before proceeding.\n",
    "\n",
    "Here are the steps to create a \"Hello, World!\" assignment in JupyterHub:\n",
    "\n",
    "1. Check your email, we have sent you an email with your group, user name, seating assignments, token, and password\n",
    "\n",
    "2. Move to your seat location and introduce yourself to your group members (share one interesting fact). \n",
    "\n",
    "3. Have the group leader open [JupyterHub](https://jupyterhub.coe.drexel.edu/).\n",
    "\n",
    "4. Click on the \"New\" button in the top right corner of the JupyterHub home page, and select \"Python 3\" from the drop-down menu. This will create a new Jupyter notebook with a Python kernel.\n",
    "\n",
    "5. Look at the file menu and click share $\\rightarrow$ copy link \n",
    "\n",
    "6. Send these links to your fellow group members. They can connect and collaborate on the same notebook\n",
    "\n",
    "7. In the first cell of the notebook have each group member type `print(\"Hello, World! My name is <type your name>\")`\n",
    "\n",
    "8. Press \"Shift + Enter\" to execute the code in the cell. You should see the output.\n",
    "\n",
    "That's it! You have now created a simple \"Hello, World!\" assignment in JupyterHub."
   ]
  },
  {
   "cell_type": "markdown",
   "metadata": {},
   "source": []
  }
 ],
 "metadata": {
  "kernelspec": {
   "display_name": "engr131",
   "language": "python",
   "name": "python3"
  },
  "language_info": {
   "codemirror_mode": {
    "name": "ipython",
    "version": 3
   },
   "file_extension": ".py",
   "mimetype": "text/x-python",
   "name": "python",
   "nbconvert_exporter": "python",
   "pygments_lexer": "ipython3",
   "version": "3.10.0"
  },
  "vscode": {
   "interpreter": {
    "hash": "db982e328663a2db3b6f47ccd278f30154ccd8de8e195897b14b89b93466dc3c"
   }
  }
 },
 "nbformat": 4,
 "nbformat_minor": 2
}