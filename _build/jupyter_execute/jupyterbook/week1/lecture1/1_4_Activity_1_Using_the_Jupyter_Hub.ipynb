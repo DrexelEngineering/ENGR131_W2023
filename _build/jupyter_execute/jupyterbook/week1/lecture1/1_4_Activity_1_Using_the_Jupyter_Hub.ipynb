{
 "cells": [
  {
   "attachments": {},
   "cell_type": "markdown",
   "metadata": {},
   "source": [
    "# 💻 Activity: Hello World JupyterHub\n",
    "\n",
    "Please share with the instructors something about yourself and your neighbor in [this brief form](https://forms.office.com/r/3PCDmYRyAm) before proceeding.\n",
    "\n",
    "Here are the steps to create a \"Hello, World!\" assignment in JupyterHub:\n",
    "\n",
    "1. Check your email, we have sent you an email with your group, user name, seating assignments, token, and password\n",
    "\n",
    "2. Move to your seat location and introduce yourself to your group members (share one interesting fact). \n",
    "\n",
    "3. Have the group leader open [JupyterHub](https://jupyterhub.coe.drexel.edu/).\n",
    "\n",
    "4. Click on the \"New\" button in the top right corner of the JupyterHub home page, and select \"Python 3\" from the drop-down menu. This will create a new Jupyter notebook with a Python kernel.\n",
    "\n",
    "5. Look at the file menu and click share $\\rightarrow$ copy link \n",
    "\n",
    "6. Send these links to your fellow group members. They can connect and collaborate on the same notebook\n",
    "\n",
    "7. In the first cell of the notebook have each group member type `print(\"Hello, World! My name is <type your name>\")`\n",
    "\n",
    "8. Press \"Shift + Enter\" to execute the code in the cell. You should see the output.\n",
    "\n",
    "That's it! You have now created a simple \"Hello, World!\" assignment in JupyterHub."
   ]
  },
  {
   "cell_type": "markdown",
   "metadata": {},
   "source": []
  }
 ],
 "metadata": {
  "kernelspec": {
   "display_name": "base",
   "language": "python",
   "name": "python3"
  },
  "language_info": {
   "name": "python",
   "version": "3.10.8 (main, Nov 24 2022, 14:13:03) [GCC 11.2.0]"
  },
  "vscode": {
   "interpreter": {
    "hash": "d7d046052154998ca7dd3d9af52f7220fee50748c9a05b256540159ca8eb430c"
   }
  }
 },
 "nbformat": 4,
 "nbformat_minor": 2
}