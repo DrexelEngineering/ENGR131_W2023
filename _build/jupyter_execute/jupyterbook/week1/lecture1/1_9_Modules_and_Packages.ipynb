{
 "cells": [
  {
   "attachments": {},
   "cell_type": "markdown",
   "metadata": {
    "slideshow": {
     "slide_type": "slide"
    }
   },
   "source": [
    "# 📝Modules and Packages"
   ]
  },
  {
   "cell_type": "markdown",
   "metadata": {
    "slideshow": {
     "slide_type": "fragment"
    }
   },
   "source": [
    "In Python tools are built around modules that perform operations"
   ]
  },
  {
   "cell_type": "markdown",
   "metadata": {
    "slideshow": {
     "slide_type": "fragment"
    }
   },
   "source": [
    "Modularity allows the isolation of code to simplify programming"
   ]
  },
  {
   "cell_type": "markdown",
   "metadata": {
    "slideshow": {
     "slide_type": "subslide"
    }
   },
   "source": [
    "## Built-in Functions"
   ]
  },
  {
   "cell_type": "markdown",
   "metadata": {
    "slideshow": {
     "slide_type": "fragment"
    }
   },
   "source": [
    "Python contains many built in functions"
   ]
  },
  {
   "cell_type": "markdown",
   "metadata": {
    "slideshow": {
     "slide_type": "subslide"
    }
   },
   "source": [
    "### Print Function"
   ]
  },
  {
   "cell_type": "code",
   "execution_count": 1,
   "metadata": {
    "slideshow": {
     "slide_type": "fragment"
    }
   },
   "outputs": [
    {
     "name": "stdout",
     "output_type": "stream",
     "text": [
      "Drexel Engineering\n"
     ]
    }
   ],
   "source": [
    "print(\"Drexel Engineering\")"
   ]
  },
  {
   "cell_type": "markdown",
   "metadata": {
    "slideshow": {
     "slide_type": "subslide"
    }
   },
   "source": [
    "### Finding a DataType"
   ]
  },
  {
   "cell_type": "code",
   "execution_count": 2,
   "metadata": {
    "slideshow": {
     "slide_type": "fragment"
    }
   },
   "outputs": [
    {
     "data": {
      "text/plain": [
       "str"
      ]
     },
     "execution_count": 2,
     "metadata": {},
     "output_type": "execute_result"
    }
   ],
   "source": [
    "type(\"Drexel Engineering\")"
   ]
  },
  {
   "cell_type": "markdown",
   "metadata": {
    "slideshow": {
     "slide_type": "fragment"
    }
   },
   "source": [
    "You can find more [built-in functions](https://docs.python.org/3/library/functions.html)"
   ]
  },
  {
   "cell_type": "markdown",
   "metadata": {
    "slideshow": {
     "slide_type": "subslide"
    }
   },
   "source": [
    "## Built-in Modules"
   ]
  },
  {
   "cell_type": "markdown",
   "metadata": {
    "slideshow": {
     "slide_type": "fragment"
    }
   },
   "source": [
    "The base package of python contains built-in modules. These have to be imported before they can be used. "
   ]
  },
  {
   "cell_type": "markdown",
   "metadata": {
    "slideshow": {
     "slide_type": "fragment"
    }
   },
   "source": [
    "You import modules using \n",
    "```python\n",
    "import <Module Name>\n",
    "```"
   ]
  },
  {
   "cell_type": "markdown",
   "metadata": {
    "slideshow": {
     "slide_type": "subslide"
    }
   },
   "source": [
    "### Random\n",
    "\n",
    "We can use random to sample a random integer. This would make a 6-sided die. "
   ]
  },
  {
   "cell_type": "code",
   "execution_count": 3,
   "metadata": {
    "slideshow": {
     "slide_type": "fragment"
    }
   },
   "outputs": [],
   "source": [
    "import random"
   ]
  },
  {
   "cell_type": "code",
   "execution_count": 4,
   "metadata": {
    "slideshow": {
     "slide_type": "fragment"
    }
   },
   "outputs": [
    {
     "name": "stdout",
     "output_type": "stream",
     "text": [
      "1\n"
     ]
    }
   ],
   "source": [
    "dice = random.randint(1,6)\n",
    "print(dice)"
   ]
  },
  {
   "cell_type": "markdown",
   "metadata": {
    "slideshow": {
     "slide_type": "fragment"
    }
   },
   "source": [
    "You can view everything included in the [standard library here](https://docs.python.org/3/library/)"
   ]
  },
  {
   "cell_type": "markdown",
   "metadata": {
    "slideshow": {
     "slide_type": "subslide"
    }
   },
   "source": [
    "## External Packages"
   ]
  },
  {
   "cell_type": "markdown",
   "metadata": {
    "slideshow": {
     "slide_type": "fragment"
    }
   },
   "source": [
    "There are many additional packages. Anyone in the world can make a package. Most packages are distributed using the [Python Package Index (PyPI)](https://pypi.org/)."
   ]
  },
  {
   "cell_type": "markdown",
   "metadata": {
    "slideshow": {
     "slide_type": "fragment"
    }
   },
   "source": [
    "You can install packages using package managers:\n",
    "\n",
    "`pip install <package name>`\n",
    "\n",
    "or \n",
    "\n",
    "`conda install <package name>`"
   ]
  },
  {
   "cell_type": "markdown",
   "metadata": {
    "slideshow": {
     "slide_type": "subslide"
    }
   },
   "source": [
    "### Importing Matplotlib"
   ]
  },
  {
   "cell_type": "markdown",
   "metadata": {
    "slideshow": {
     "slide_type": "fragment"
    }
   },
   "source": [
    "A common plotting package in Python is matplotlib, we can import and use matplotlib."
   ]
  },
  {
   "cell_type": "markdown",
   "metadata": {
    "slideshow": {
     "slide_type": "fragment"
    }
   },
   "source": [
    "<div class=\"admonition note alert alert-info\">\n",
    "<p class=\"first admonition-title\" style=\"font-weight: bold;\">Note</p>\n",
    "Usually when you download python distributions they will contain many of the common packages. We have installed all the packages you need for the course on the JupyterHub.\n",
    "</div>"
   ]
  },
  {
   "cell_type": "markdown",
   "metadata": {
    "slideshow": {
     "slide_type": "fragment"
    }
   },
   "source": [
    "<div class=\"admonition tip alert alert-success\">\n",
    "<p class=\"first admonition-title\" style=\"font-weight: bold;\">Syntax</p>\n",
    "There are many ways to import packages\n",
    "\n",
    "<body>\n",
    "    <pre><code id=\"python_code\">import {package name}\n",
    "\n",
    "from {package name} import {module}\n",
    "\n",
    "from {package name} import {module} as {name}</code></pre>\n",
    "    <script type=\"text/javascript\">\n",
    "        window.onload = function(){\n",
    "            var codeElement = document.getElementById('python_code');\n",
    "            // Add code mirror class for coloring (default is the theme)\n",
    "            codeElement.classList.add( 'cm-s-default' );\n",
    "            var code = codeElement.innerText;\n",
    "\n",
    "            codeElement.innerHTML = \"\";\n",
    "\n",
    "            CodeMirror.runMode(\n",
    "              code,\n",
    "              'python',\n",
    "              codeElement\n",
    "            );\n",
    "        };\n",
    "    </script>\n",
    "</body>    \n",
    "    \n",
    "</div>"
   ]
  },
  {
   "cell_type": "code",
   "execution_count": 5,
   "metadata": {
    "slideshow": {
     "slide_type": "fragment"
    }
   },
   "outputs": [],
   "source": [
    "import matplotlib.pyplot as plt"
   ]
  },
  {
   "cell_type": "code",
   "execution_count": 6,
   "metadata": {
    "slideshow": {
     "slide_type": "subslide"
    }
   },
   "outputs": [
    {
     "data": {
      "text/plain": [
<<<<<<< Updated upstream
       "[<matplotlib.lines.Line2D at 0x7f3d28b8dc60>]"
=======
       "[<matplotlib.lines.Line2D at 0x10f3f5300>]"
>>>>>>> Stashed changes
      ]
     },
     "execution_count": 6,
     "metadata": {},
     "output_type": "execute_result"
    },
    {
     "data": {
      "image/png": "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\n",
      "text/plain": [
       "<Figure size 640x480 with 1 Axes>"
      ]
     },
     "metadata": {
      "filenames": {
       "image/png": "/Users/sc3623/Repos/ENGR131_W2023/_build/jupyter_execute/jupyterbook/week1/lecture1/1_9_Modules_and_Packages_25_1.png"
      }
     },
     "output_type": "display_data"
    }
   ],
   "source": [
    "plt.plot([0,1,2,3,4,5],'-sk')"
   ]
  },
  {
   "cell_type": "markdown",
   "metadata": {
    "slideshow": {
     "slide_type": "subslide"
    }
   },
   "source": [
    "## Submodules"
   ]
  },
  {
   "cell_type": "markdown",
   "metadata": {
    "slideshow": {
     "slide_type": "fragment"
    }
   },
   "source": [
    "Many modules contain submodules. These can be accessed by calling `<module>.<submodule>`"
   ]
  },
  {
   "cell_type": "markdown",
   "metadata": {
    "slideshow": {
     "slide_type": "fragment"
    }
   },
   "source": [
    "<div class=\"admonition tip alert alert-warning\">\n",
    "<p class=\"first admonition-title\" style=\"font-weight: bold;\">Tip</p>\n",
    "If you type a module name. you can use `tab` to discover the available submodules\n",
    "</div>"
   ]
  },
  {
   "cell_type": "code",
   "execution_count": null,
   "metadata": {
    "slideshow": {
     "slide_type": "fragment"
    },
    "tags": [
     "skip-execution"
    ]
   },
   "outputs": [],
   "source": [
    "plt."
   ]
  },
  {
   "cell_type": "markdown",
   "metadata": {
    "slideshow": {
     "slide_type": "subslide"
    }
   },
   "source": [
    "## Making Your Own Modules"
   ]
  },
  {
   "cell_type": "markdown",
   "metadata": {
    "slideshow": {
     "slide_type": "fragment"
    }
   },
   "source": [
    "You can make your own modules by building a function"
   ]
  },
  {
   "cell_type": "markdown",
   "metadata": {
    "slideshow": {
     "slide_type": "fragment"
    }
   },
   "source": [
    "<div class=\"admonition tip alert alert-success\">\n",
    "<p class=\"first admonition-title\" style=\"font-weight: bold;\">Syntax</p>\n",
    "\n",
    "<body>\n",
    "    <pre><code id=\"python_code\">\n",
    "    def module_name(input):\n",
    "        a = 'line 1'\n",
    "        b = input\n",
    "        return a, b\n",
    "    </code></pre>\n",
    "    <script type=\"text/javascript\">\n",
    "        window.onload = function(){\n",
    "            var codeElement = document.getElementById('python_code');\n",
    "            // Add code mirror class for coloring (default is the theme)\n",
    "            codeElement.classList.add( 'cm-s-default' );\n",
    "            var code = codeElement.innerText;\n",
    "\n",
    "            codeElement.innerHTML = \"\";\n",
    "\n",
    "            CodeMirror.runMode(\n",
    "              code,\n",
    "              'python',\n",
    "              codeElement\n",
    "            );\n",
    "        };\n",
    "    </script>\n",
    "</body>     \n",
    "    \n",
    "</div>"
   ]
  },
  {
   "cell_type": "code",
   "execution_count": 7,
   "metadata": {
    "slideshow": {
     "slide_type": "subslide"
    }
   },
   "outputs": [],
   "source": [
    "def Drexel(college):\n",
    "    return \"Drexel \" + college"
   ]
  },
  {
   "cell_type": "code",
   "execution_count": 8,
   "metadata": {
    "slideshow": {
     "slide_type": "fragment"
    }
   },
   "outputs": [
    {
     "name": "stdout",
     "output_type": "stream",
     "text": [
      "Drexel engineering\n"
     ]
    }
   ],
   "source": [
    "print(Drexel(\"engineering\"))"
   ]
  },
  {
   "cell_type": "code",
   "execution_count": 9,
   "metadata": {
    "slideshow": {
     "slide_type": "fragment"
    }
   },
   "outputs": [
    {
     "name": "stdout",
     "output_type": "stream",
     "text": [
      "Drexel Arts and Sciences\n"
     ]
    }
   ],
   "source": [
    "print(Drexel(\"Arts and Sciences\"))"
   ]
  },
  {
   "cell_type": "markdown",
   "metadata": {
    "slideshow": {
     "slide_type": "slide"
    }
   },
   "source": [
    "## Loading Modules from Files\n",
    "\n",
    "You can load modules from files"
   ]
  },
  {
   "cell_type": "markdown",
   "metadata": {
    "slideshow": {
     "slide_type": "fragment"
    }
   },
   "source": [
    "This is a script that writes a file"
   ]
  },
  {
   "cell_type": "code",
   "execution_count": 10,
   "metadata": {
    "slideshow": {
     "slide_type": "fragment"
    },
    "tags": []
   },
   "outputs": [
    {
     "name": "stdout",
     "output_type": "stream",
     "text": [
      "Overwriting drexel.py\n"
     ]
    }
   ],
   "source": [
    "%%writefile drexel.py\n",
    "\n",
    "def Drexel(name):\n",
    "    return \"I, \" + name + \" am a Drexel Dragon\""
   ]
  },
  {
   "cell_type": "code",
   "execution_count": 11,
   "metadata": {
    "slideshow": {
     "slide_type": "fragment"
    }
   },
   "outputs": [],
   "source": [
    "import drexel as Drexel"
   ]
  },
  {
   "cell_type": "code",
   "execution_count": 12,
   "metadata": {
    "slideshow": {
     "slide_type": "fragment"
    }
   },
   "outputs": [
    {
     "data": {
      "text/plain": [
       "'I, Jay am a Drexel Dragon'"
      ]
     },
     "execution_count": 12,
     "metadata": {},
     "output_type": "execute_result"
    }
   ],
   "source": [
    "Drexel.Drexel(\"Jay\")"
   ]
  },
  {
   "cell_type": "markdown",
   "metadata": {
    "slideshow": {
     "slide_type": "slide"
    }
   },
   "source": [
    "### Reloading Modules\n",
    "\n",
    "Once you load a module if it changes you need to reload it."
   ]
  },
  {
   "cell_type": "markdown",
   "metadata": {
    "slideshow": {
     "slide_type": "fragment"
    }
   },
   "source": [
    "Changing the module"
   ]
  },
  {
   "cell_type": "code",
   "execution_count": 13,
   "metadata": {
    "slideshow": {
     "slide_type": "fragment"
    }
   },
   "outputs": [
    {
     "name": "stdout",
     "output_type": "stream",
     "text": [
      "Overwriting drexel.py\n"
     ]
    }
   ],
   "source": [
    "%%writefile drexel.py\n",
    "\n",
    "def Drexel(name):\n",
    "    return \"I, \" + name + \" am a Drexel Dragon Engineer!!\""
   ]
  },
  {
   "cell_type": "markdown",
   "metadata": {
    "slideshow": {
     "slide_type": "subslide"
    }
   },
   "source": [
    "Using `importlib.reload` to reload the module. "
   ]
  },
  {
   "cell_type": "code",
   "execution_count": 14,
   "metadata": {
    "slideshow": {
     "slide_type": "fragment"
    }
   },
   "outputs": [
    {
     "data": {
      "text/plain": [
       "<module 'drexel' from '/Users/sc3623/Repos/ENGR131_W2023/jupyterbook/week1/lecture1/drexel.py'>"
      ]
     },
     "execution_count": 14,
     "metadata": {},
     "output_type": "execute_result"
    }
   ],
   "source": [
    "import importlib\n",
    "importlib.reload(Drexel)"
   ]
  },
  {
   "cell_type": "code",
   "execution_count": 15,
   "metadata": {
    "slideshow": {
     "slide_type": "fragment"
    }
   },
   "outputs": [
    {
     "data": {
      "text/plain": [
       "'I, Jay am a Drexel Dragon Engineer!!'"
      ]
     },
     "execution_count": 15,
     "metadata": {},
     "output_type": "execute_result"
    }
   ],
   "source": [
    "Drexel.Drexel(\"Jay\")"
   ]
  },
  {
   "cell_type": "markdown",
   "metadata": {
    "slideshow": {
     "slide_type": "slide"
    }
   },
   "source": [
    "## Existing Python Packages"
   ]
  },
  {
   "cell_type": "code",
   "execution_count": 16,
   "metadata": {
    "slideshow": {
     "slide_type": "fragment"
    }
   },
   "outputs": [
    {
     "data": {
      "text/html": [
       "\n",
       "<iframe\n",
       "    width=\"800\"\n",
       "    height=\"1200\"\n",
       "    src=\"https://wiki.python.org/moin/UsefulModules\"\n",
       "    frameborder=\"0\"\n",
       "    allowfullscreen\n",
       "\n",
       "></iframe>\n"
      ],
      "text/plain": [
<<<<<<< Updated upstream
       "<IPython.lib.display.IFrame at 0x7f3d28b0e8f0>"
=======
       "<IPython.lib.display.IFrame at 0x10c98a950>"
>>>>>>> Stashed changes
      ]
     },
     "execution_count": 16,
     "metadata": {},
     "output_type": "execute_result"
    }
   ],
   "source": [
    "from IPython.display import IFrame\n",
    "IFrame('https://wiki.python.org/moin/UsefulModules', width=800, height=1200)"
   ]
  }
 ],
 "metadata": {
  "celltoolbar": "Slideshow",
  "kernelspec": {
   "display_name": "Python 3 (ipykernel)",
   "language": "python",
   "name": "python3"
  },
  "language_info": {
   "codemirror_mode": {
    "name": "ipython",
    "version": 3
   },
   "file_extension": ".py",
   "mimetype": "text/x-python",
   "name": "python",
   "nbconvert_exporter": "python",
   "pygments_lexer": "ipython3",
   "version": "3.10.8"
  },
  "varInspector": {
   "cols": {
    "lenName": 16,
    "lenType": 16,
    "lenVar": 40
   },
   "kernels_config": {
    "python": {
     "delete_cmd_postfix": "",
     "delete_cmd_prefix": "del ",
     "library": "var_list.py",
     "varRefreshCmd": "print(var_dic_list())"
    },
    "r": {
     "delete_cmd_postfix": ") ",
     "delete_cmd_prefix": "rm(",
     "library": "var_list.r",
     "varRefreshCmd": "cat(var_dic_list()) "
    }
   },
   "types_to_exclude": [
    "module",
    "function",
    "builtin_function_or_method",
    "instance",
    "_Feature"
   ],
   "window_display": false
  },
  "vscode": {
   "interpreter": {
    "hash": "6c85558113b53c129e108b4bd8e5af9b1125141b2f5c4ff4283ce45d32702647"
   }
  }
 },
 "nbformat": 4,
 "nbformat_minor": 2
}