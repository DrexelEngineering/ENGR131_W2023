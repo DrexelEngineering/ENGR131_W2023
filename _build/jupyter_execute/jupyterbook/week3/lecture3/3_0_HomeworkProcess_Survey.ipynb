{
 "cells": [
  {
   "attachments": {},
   "cell_type": "markdown",
   "id": "2d89f079",
   "metadata": {
    "slideshow": {
     "slide_type": "slide"
    }
   },
   "source": [
    "# 📝 Homework Process"
   ]
  },
  {
   "cell_type": "markdown",
   "id": "b306ef12",
   "metadata": {
    "slideshow": {
     "slide_type": "fragment"
    }
   },
   "source": [
    "0. Use Dragonfly3 or use the Cisco AnyConnect Virtual Private Network to log into Drexel's network remotely."
   ]
  },
  {
   "cell_type": "markdown",
   "id": "327841b2",
   "metadata": {
    "slideshow": {
     "slide_type": "fragment"
    }
   },
   "source": [
    "1. Open the Jupyter notebook of an assignment from the course website using the JupyterHub. "
   ]
  },
  {
   "cell_type": "markdown",
   "id": "5de06d18",
   "metadata": {
    "slideshow": {
     "slide_type": "fragment"
    }
   },
   "source": [
    "2. Read the instructions carefully."
   ]
  },
  {
   "cell_type": "markdown",
   "id": "2e22973c",
   "metadata": {
    "slideshow": {
     "slide_type": "fragment"
    }
   },
   "source": [
    "3. When ready to add code, replace the `...` exactly where it is."
   ]
  },
  {
   "cell_type": "markdown",
   "id": "b39ab5e9",
   "metadata": {
    "slideshow": {
     "slide_type": "fragment"
    }
   },
   "source": [
    "4. When finished, choose File > Save Notebook and then File > Download."
   ]
  },
  {
   "cell_type": "markdown",
   "id": "37a175e1",
   "metadata": {
    "slideshow": {
     "slide_type": "fragment"
    }
   },
   "source": [
    "5. Navigate to the folder where the .ipynb file was downloaded."
   ]
  },
  {
   "cell_type": "markdown",
   "id": "ed14eec4",
   "metadata": {
    "slideshow": {
     "slide_type": "fragment"
    }
   },
   "source": [
    "6. Open Drexel Learn in your browser."
   ]
  },
  {
   "cell_type": "markdown",
   "id": "0c057d46",
   "metadata": {
    "slideshow": {
     "slide_type": "fragment"
    }
   },
   "source": [
    "7. Go to ENGR 131, and choose the assignment you will submit."
   ]
  },
  {
   "cell_type": "markdown",
   "id": "b7a74b8a",
   "metadata": {
    "slideshow": {
     "slide_type": "fragment"
    }
   },
   "source": [
    "8. Upload the .ipynb file."
   ]
  },
  {
   "cell_type": "markdown",
   "id": "2ec70250",
   "metadata": {
    "slideshow": {
     "slide_type": "fragment"
    }
   },
   "source": [
    "Please do not copy code from the file into a new .ipynb file as we will not be able to grade it accurately and efficiently."
   ]
  },
  {
   "cell_type": "markdown",
   "id": "38261284",
   "metadata": {
    "slideshow": {
     "slide_type": "slide"
    }
   },
   "source": [
    "# Survey"
   ]
  },
  {
   "cell_type": "markdown",
   "id": "7abbe8d6",
   "metadata": {
    "slideshow": {
     "slide_type": "fragment"
    }
   },
   "source": [
    "Please complete [this survey](https://forms.office.com/r/fr8ZgFu5SF) regarding your interactions with technology and your investment of time in this course in the first two weeks."
   ]
  }
 ],
 "metadata": {
  "celltoolbar": "Slideshow",
  "kernelspec": {
   "display_name": "base",
   "language": "python",
   "name": "python3"
  },
  "language_info": {
   "codemirror_mode": {
    "name": "ipython",
    "version": 3
   },
   "file_extension": ".py",
   "mimetype": "text/x-python",
   "name": "python",
   "nbconvert_exporter": "python",
   "pygments_lexer": "ipython3",
   "version": "3.10.8 (main, Nov 24 2022, 14:13:03) [GCC 11.2.0]"
  },
  "varInspector": {
   "cols": {
    "lenName": 16,
    "lenType": 16,
    "lenVar": 40
   },
   "kernels_config": {
    "python": {
     "delete_cmd_postfix": "",
     "delete_cmd_prefix": "del ",
     "library": "var_list.py",
     "varRefreshCmd": "print(var_dic_list())"
    },
    "r": {
     "delete_cmd_postfix": ") ",
     "delete_cmd_prefix": "rm(",
     "library": "var_list.r",
     "varRefreshCmd": "cat(var_dic_list()) "
    }
   },
   "types_to_exclude": [
    "module",
    "function",
    "builtin_function_or_method",
    "instance",
    "_Feature"
   ],
   "window_display": false
  },
  "vscode": {
   "interpreter": {
    "hash": "d7d046052154998ca7dd3d9af52f7220fee50748c9a05b256540159ca8eb430c"
   }
  }
 },
 "nbformat": 4,
 "nbformat_minor": 5
}