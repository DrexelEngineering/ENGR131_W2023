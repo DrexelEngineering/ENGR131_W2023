{
 "cells": [
  {
   "attachments": {},
   "cell_type": "markdown",
   "metadata": {
    "slideshow": {
     "slide_type": "slide"
    }
   },
   "source": [
    "# 📝 File Handling\n",
    "\n",
    "* File handling is a good way to persist data after a program terminates. "
   ]
  },
  {
   "cell_type": "markdown",
   "metadata": {
    "slideshow": {
     "slide_type": "fragment"
    }
   },
   "source": [
    "* Data from a computer program is saved to a file and can be accessed later. "
   ]
  },
  {
   "cell_type": "markdown",
   "metadata": {
    "slideshow": {
     "slide_type": "fragment"
    }
   },
   "source": [
    "* Python, like many other programming languages, provides handy methods for creating, opening, reading and writing data to a file."
   ]
  },
  {
   "cell_type": "markdown",
   "metadata": {
    "slideshow": {
     "slide_type": "fragment"
    }
   },
   "source": [
    "* In Python you can open nearly any type of file."
   ]
  },
  {
   "cell_type": "markdown",
   "metadata": {
    "slideshow": {
     "slide_type": "slide"
    }
   },
   "source": [
    "## Where are files located?"
   ]
  },
  {
   "cell_type": "markdown",
   "metadata": {
    "slideshow": {
     "slide_type": "fragment"
    }
   },
   "source": [
    "* Files are located on physical non-volatile memory (e.g., spinning disk, solid-state flash, NVMe)"
   ]
  },
  {
   "cell_type": "markdown",
   "metadata": {
    "slideshow": {
     "slide_type": "fragment"
    }
   },
   "source": [
    "* Files are mounted via a filesystem and are organized hierarchically"
   ]
  },
  {
   "cell_type": "markdown",
   "metadata": {
    "slideshow": {
     "slide_type": "fragment"
    }
   },
   "source": [
    "![](images/FileSystems.png)"
   ]
  },
  {
   "cell_type": "markdown",
   "metadata": {
    "slideshow": {
     "slide_type": "subslide"
    }
   },
   "source": [
    "## Browsing the filesystem from Python"
   ]
  },
  {
   "cell_type": "markdown",
   "metadata": {
    "slideshow": {
     "slide_type": "fragment"
    }
   },
   "source": [
    "* Python has tools to browse the filesystem and modify and write files"
   ]
  },
  {
   "cell_type": "markdown",
   "metadata": {
    "slideshow": {
     "slide_type": "fragment"
    }
   },
   "source": [
    "* Python provides the `pathlib` module for  navigating through directories and files, creating folders, identifying file paths, and so on."
   ]
  },
  {
   "cell_type": "code",
   "execution_count": 1,
   "metadata": {
    "slideshow": {
     "slide_type": "fragment"
    }
   },
   "outputs": [],
   "source": [
    "from pathlib import Path"
   ]
  },
  {
   "cell_type": "markdown",
   "metadata": {
    "slideshow": {
     "slide_type": "subslide"
    }
   },
   "source": [
    "### Getting the current working directory\n",
    "\n",
    "* This is the path where you are currently operating in"
   ]
  },
  {
   "cell_type": "code",
   "execution_count": 2,
   "metadata": {
    "slideshow": {
     "slide_type": "fragment"
    }
   },
   "outputs": [
    {
     "name": "stdout",
     "output_type": "stream",
     "text": [
      "/Users/sc3623/Repos/ENGR131_W2023/jupyterbook/week6/lecture6\n"
     ]
    }
   ],
   "source": [
    "p = Path.cwd()\n",
    "print(p)"
   ]
  },
  {
   "cell_type": "markdown",
   "metadata": {
    "slideshow": {
     "slide_type": "subslide"
    }
   },
   "source": [
    "### Specifying Paths\n",
    "\n",
    "There are two ways to specify paths:"
   ]
  },
  {
   "cell_type": "markdown",
   "metadata": {
    "slideshow": {
     "slide_type": "fragment"
    }
   },
   "source": [
    "1. The **absolute** path of a file declares its path, beginning with the root folder"
   ]
  },
  {
   "cell_type": "code",
   "execution_count": 3,
   "metadata": {
    "slideshow": {
     "slide_type": "fragment"
    }
   },
   "outputs": [
    {
     "name": "stdout",
     "output_type": "stream",
     "text": [
<<<<<<< Updated upstream
      "/mnt/c/Users/jca92/Documents/codes/2023_ENGR_131/ENGR131_W2023/jupyterbook/week6/lecture6/MyTestFile.txt\n",
=======
      "/Users/sc3623/Repos/ENGR131_W2023/jupyterbook/week6/lecture6/MyTestFile.txt\n",
>>>>>>> Stashed changes
      "If True the file exists : True\n"
     ]
    }
   ],
   "source": [
    "# This will join the current working directory and the test file\n",
    "print(Path.joinpath(Path.cwd(),\"MyTestFile.txt\"))\n",
    "\n",
    "# Checks if the file exists\n",
    "print(f\"If True the file exists : {Path.exists(Path.joinpath(Path.cwd(),'MyTestFile.txt'))}\")"
   ]
  },
  {
   "cell_type": "markdown",
   "metadata": {
    "slideshow": {
     "slide_type": "fragment"
    }
   },
   "source": [
    "2. The **relative** path of a file declares its path in relation to the current working directory"
   ]
  },
  {
   "cell_type": "code",
   "execution_count": 4,
   "metadata": {
    "slideshow": {
     "slide_type": "fragment"
    }
   },
   "outputs": [
    {
     "name": "stdout",
     "output_type": "stream",
     "text": [
      "MyTestFile.txt\n",
      "If True the file exists : True\n"
     ]
    }
   ],
   "source": [
    "# This will join the current working directory and the test file\n",
    "print(Path(\"./MyTestFile.txt\"))\n",
    "\n",
    "# Checks if the file exists\n",
    "# Note you have to convert the string to a path\n",
    "print(f\"If True the file exists : {Path.exists(Path('./MyTestFile.txt'))}\")"
   ]
  },
  {
   "cell_type": "markdown",
   "metadata": {
    "slideshow": {
     "slide_type": "subslide"
    }
   },
   "source": [
    "### Making folders\n",
    "\n",
    "You can make folders or directories with Python"
   ]
  },
  {
   "cell_type": "code",
   "execution_count": 5,
   "metadata": {
    "slideshow": {
     "slide_type": "fragment"
    }
   },
   "outputs": [],
   "source": [
    "# creates a path object\n",
    "p = Path('./new_made_folder')\n",
    "\n",
    "# makes the folder\n",
    "p.mkdir()"
   ]
  },
  {
   "cell_type": "markdown",
   "metadata": {
    "slideshow": {
     "slide_type": "subslide"
    }
   },
   "source": [
    "### How to change your current working directory\n",
    "\n",
    "You can use the `os.chdir` method"
   ]
  },
  {
   "cell_type": "markdown",
   "metadata": {
    "slideshow": {
     "slide_type": "fragment"
    }
   },
   "source": [
    "Let's move to the new folder we created"
   ]
  },
  {
   "cell_type": "code",
   "execution_count": 6,
   "metadata": {
    "slideshow": {
     "slide_type": "fragment"
    }
   },
   "outputs": [],
   "source": [
    "import os\n",
    "\n",
    "os.chdir(\"./new_made_folder/\")"
   ]
  },
  {
   "cell_type": "code",
   "execution_count": 7,
   "metadata": {
    "slideshow": {
     "slide_type": "fragment"
    }
   },
   "outputs": [
    {
     "name": "stdout",
     "output_type": "stream",
     "text": [
      "/Users/sc3623/Repos/ENGR131_W2023/jupyterbook/week6/lecture6/new_made_folder\n"
     ]
    }
   ],
   "source": [
    "print(Path.cwd())"
   ]
  },
  {
   "cell_type": "markdown",
   "metadata": {
    "slideshow": {
     "slide_type": "fragment"
    }
   },
   "source": [
    "You can move back one folder using the \"..\" path"
   ]
  },
  {
   "cell_type": "code",
   "execution_count": 8,
   "metadata": {
    "slideshow": {
     "slide_type": "fragment"
    }
   },
   "outputs": [],
   "source": [
    "os.chdir(\"..\")"
   ]
  },
  {
   "cell_type": "code",
   "execution_count": 9,
   "metadata": {
    "slideshow": {
     "slide_type": "fragment"
    }
   },
   "outputs": [
    {
     "name": "stdout",
     "output_type": "stream",
     "text": [
      "/Users/sc3623/Repos/ENGR131_W2023/jupyterbook/week6/lecture6\n"
     ]
    }
   ],
   "source": [
    "print(Path.cwd())"
   ]
  },
  {
   "cell_type": "markdown",
   "metadata": {
    "slideshow": {
     "slide_type": "fragment"
    }
   },
   "source": [
    "<div class=\"admonition note alert alert-info\">\n",
    "<p class=\"first admonition-title\" style=\"font-weight: bold;\">Note</p>\n",
    "Very similar commands will work from the command line. You can change directories using `cd`, and list contents of the current directory using `ls`.\n",
    "</div>"
   ]
  },
  {
   "cell_type": "markdown",
   "metadata": {
    "slideshow": {
     "slide_type": "subslide"
    }
   },
   "source": [
    "### Removing a directory\n",
    "\n",
    "It is possible to remove a directory using the `.rmdir()` method on a path object. "
   ]
  },
  {
   "cell_type": "code",
   "execution_count": 10,
   "metadata": {
    "slideshow": {
     "slide_type": "fragment"
    }
   },
   "outputs": [],
   "source": [
    "p.rmdir()"
   ]
  },
  {
   "cell_type": "markdown",
   "metadata": {
    "slideshow": {
     "slide_type": "subslide"
    }
   },
   "source": [
    "### Listing files in a directory\n",
    "\n",
    "You can list files in a directory using the `.listdir()` method"
   ]
  },
  {
   "cell_type": "code",
   "execution_count": 11,
   "metadata": {
    "slideshow": {
     "slide_type": "fragment"
    }
   },
   "outputs": [
    {
     "data": {
      "text/plain": [
<<<<<<< Updated upstream
       "<generator object Path.iterdir at 0x7fc7ba021ee0>"
=======
       "<generator object Path.iterdir at 0x10d763140>"
>>>>>>> Stashed changes
      ]
     },
     "execution_count": 11,
     "metadata": {},
     "output_type": "execute_result"
    }
   ],
   "source": [
    "path = '.'\n",
    "p = Path(path)\n",
    "p.iterdir()"
   ]
  },
  {
   "cell_type": "markdown",
   "metadata": {
    "slideshow": {
     "slide_type": "fragment"
    }
   },
   "source": [
    "This created an object called a generator. Generators can be iterated through using loops"
   ]
  },
  {
   "cell_type": "code",
   "execution_count": 12,
   "metadata": {
    "slideshow": {
     "slide_type": "fragment"
    }
   },
   "outputs": [
    {
     "name": "stdout",
     "output_type": "stream",
     "text": [
<<<<<<< Updated upstream
      ".ipynb_checkpoints\n",
=======
      "6_7_file_handling.ipynb\n",
      "6_4_activity_6_1.ipynb\n",
      "Super Bowl Propositions copy.xlsx\n",
      "Super Bowl Propositions.xlsx\n",
      "images\n",
>>>>>>> Stashed changes
      "6_0_Logistics_Inspiration.ipynb\n",
      "Metro_Interstate_Traffic_Volume.xls\n",
      "6_1_enumerate.ipynb\n",
      "6_2_review_for.ipynb\n",
      "MyTestFile copy.txt\n",
      "6_6_activity_6_2.ipynb\n",
      "lecture6.md\n",
      "6_3_intro_while.ipynb\n",
      "MyTestFile.txt\n",
      "Metro_Interstate_Traffic_Volume.csv\n",
      "6_8_activity_6_3_Determining_the_superbowl_winner.ipynb\n",
<<<<<<< Updated upstream
      "images\n",
      "lecture6.md\n",
      "Metro_Interstate_Traffic_Volume.csv\n",
      "Metro_Interstate_Traffic_Volume.xls\n",
      "MyTestFile copy.txt\n",
      "MyTestFile.txt\n",
      "Super Bowl Propositions copy.xlsx\n",
      "Super Bowl Propositions.xlsx\n"
=======
      "6_5_break_continue.ipynb\n"
>>>>>>> Stashed changes
     ]
    }
   ],
   "source": [
    "for file in p.iterdir():\n",
    "    print(file)"
   ]
  },
  {
   "cell_type": "markdown",
   "metadata": {
    "slideshow": {
     "slide_type": "subslide"
    }
   },
   "source": [
    "## Reading and Writing Data"
   ]
  },
  {
   "cell_type": "markdown",
   "metadata": {
    "slideshow": {
     "slide_type": "fragment"
    }
   },
   "source": [
    "There are different access modes for reading and writing files in python"
   ]
  },
  {
   "cell_type": "markdown",
   "metadata": {
    "slideshow": {
     "slide_type": "fragment"
    }
   },
   "source": [
    "* `r`: opens a file for reading. The read mode throws an error when the file doesn’t exist.\n",
    "\n",
    "* `r+`: opens the file to read and write data into a file object. An error is thrown if the file doesn’t exist."
   ]
  },
  {
   "cell_type": "markdown",
   "metadata": {
    "slideshow": {
     "slide_type": "fragment"
    }
   },
   "source": [
    "* `w`: a file is opened in this mode for writing data. The write mode overrides existing data and creates a new file object if it doesn’t exist.\n",
    "\n",
    "* `w+`: opens a file to read and write data. Existing data on file is overridden when opened in this mode."
   ]
  },
  {
   "cell_type": "markdown",
   "metadata": {
    "slideshow": {
     "slide_type": "fragment"
    }
   },
   "source": [
    "* `a`: the append mode appends to a file if the file exists. It also creates a new file if there’s no existing file. It doesn’t override existing data.\n",
    "\n",
    "* `a+`: this mode opens a file for appending and reading data.\n",
    "\n",
    "* `x`: the create mode is used to create files in Python. An error is thrown if the file exists."
   ]
  },
  {
   "cell_type": "markdown",
   "metadata": {
    "slideshow": {
     "slide_type": "subslide"
    }
   },
   "source": [
    "### Opening files in Python"
   ]
  },
  {
   "cell_type": "markdown",
   "metadata": {
    "slideshow": {
     "slide_type": "fragment"
    }
   },
   "source": [
    "To open a file in Python, we can use the `open()` function. \n",
    "\n",
    "* It takes at least two arguments — the filename, and the mode description — and returns a file object"
   ]
  },
  {
   "cell_type": "code",
   "execution_count": 13,
   "metadata": {
    "slideshow": {
     "slide_type": "fragment"
    }
   },
   "outputs": [],
   "source": [
    "f = open(\"./MyTestFile.txt\", 'r')"
   ]
  },
  {
   "cell_type": "markdown",
   "metadata": {
    "slideshow": {
     "slide_type": "subslide"
    }
   },
   "source": [
    "### Reading files"
   ]
  },
  {
   "cell_type": "markdown",
   "metadata": {
    "slideshow": {
     "slide_type": "fragment"
    }
   },
   "source": [
    "You can read the file object using the `.read()` method. This returns all characters."
   ]
  },
  {
   "cell_type": "code",
   "execution_count": 14,
   "metadata": {
    "slideshow": {
     "slide_type": "fragment"
    }
   },
   "outputs": [
    {
     "data": {
      "text/plain": [
       "'This is my test file\\nThis is the second line of my test file\\nThis is the last line of my test file'"
      ]
     },
     "execution_count": 14,
     "metadata": {},
     "output_type": "execute_result"
    }
   ],
   "source": [
    "f.read()"
   ]
  },
  {
   "cell_type": "markdown",
   "metadata": {
    "slideshow": {
     "slide_type": "fragment"
    }
   },
   "source": [
    "Note:\n",
    "\n",
    "* The read automatically adds line breaks \\n but since we did not interpret the string it displays the text\n",
    "* We cannot read a file twice, once it read to the end you need to open the file to start over"
   ]
  },
  {
   "cell_type": "code",
   "execution_count": 15,
   "metadata": {
    "slideshow": {
     "slide_type": "fragment"
    }
   },
   "outputs": [
    {
     "data": {
      "text/plain": [
       "''"
      ]
     },
     "execution_count": 15,
     "metadata": {},
     "output_type": "execute_result"
    }
   ],
   "source": [
    "f.read()"
   ]
  },
  {
   "cell_type": "code",
   "execution_count": 16,
   "metadata": {
    "slideshow": {
     "slide_type": "fragment"
    }
   },
   "outputs": [
    {
     "name": "stdout",
     "output_type": "stream",
     "text": [
      "This is my test file\n",
      "This is the second line of my test file\n",
      "This is the last line of my test file\n"
     ]
    }
   ],
   "source": [
    "f = open(\"./MyTestFile.txt\", 'r')\n",
    "print(f.read())"
   ]
  },
  {
   "cell_type": "markdown",
   "metadata": {
    "slideshow": {
     "slide_type": "subslide"
    }
   },
   "source": [
    "### Reading a line\n",
    "\n",
    "The `.readline()` method allows you to read one line of a file a time. "
   ]
  },
  {
   "cell_type": "code",
   "execution_count": 17,
   "metadata": {
    "slideshow": {
     "slide_type": "fragment"
    }
   },
   "outputs": [
    {
     "name": "stdout",
     "output_type": "stream",
     "text": [
      "This is my test file\n",
      "\n",
      "This is the second line of my test file\n",
      "\n",
      "This is the last line of my test file\n"
     ]
    }
   ],
   "source": [
    "f = open(\"./MyTestFile.txt\", 'r')\n",
    "for i in range(3):\n",
    "    print(f.readline())"
   ]
  },
  {
   "cell_type": "markdown",
   "metadata": {
    "slideshow": {
     "slide_type": "subslide"
    }
   },
   "source": [
    "### Reading all lines\n",
    "\n",
    "The `.readlines()` method returns all lines in a file as a list"
   ]
  },
  {
   "cell_type": "code",
   "execution_count": 18,
   "metadata": {
    "slideshow": {
     "slide_type": "fragment"
    }
   },
   "outputs": [
    {
     "name": "stdout",
     "output_type": "stream",
     "text": [
      "line 0 is: This is my test file\n",
      "\n",
      "line 1 is: This is the second line of my test file\n",
      "\n",
      "line 2 is: This is the last line of my test file\n"
     ]
    }
   ],
   "source": [
    "f = open(\"./MyTestFile.txt\", 'r')\n",
    "\n",
    "for i, line in enumerate(f.readlines()):\n",
    "    print(f\"line {i} is: {line}\")"
   ]
  },
  {
   "cell_type": "markdown",
   "metadata": {
    "slideshow": {
     "slide_type": "subslide"
    }
   },
   "source": [
    "### Closing Files\n",
    "\n",
    "Files like kitchen cabinets do not close themselves. If you don't close a file it runs the risk of it being corrupted. \n",
    "\n",
    "To close a file use the `.close()` method"
   ]
  },
  {
   "cell_type": "code",
   "execution_count": 19,
   "metadata": {
    "slideshow": {
     "slide_type": "fragment"
    }
   },
   "outputs": [],
   "source": [
    "f.close()"
   ]
  },
  {
   "cell_type": "markdown",
   "metadata": {
    "slideshow": {
     "slide_type": "slide"
    }
   },
   "source": [
    "## The `with` Statement\n",
    "\n",
    "Since it is so easy to forget to close a file it is best practice to use the `with`. `with` automatically closes a file after the last operation in a scope (i.e., what is indented) is complete."
   ]
  },
  {
   "cell_type": "markdown",
   "metadata": {
    "slideshow": {
     "slide_type": "fragment"
    }
   },
   "source": [
    "### Syntax\n",
    "\n",
    "```python\n",
    "with open(\"filename\", \"mode\") as local_object:\n",
    "    local_object.do_something()\n",
    "```"
   ]
  },
  {
   "cell_type": "code",
   "execution_count": 20,
   "metadata": {
    "slideshow": {
     "slide_type": "fragment"
    }
   },
   "outputs": [
    {
     "name": "stdout",
     "output_type": "stream",
     "text": [
      "line 0 is: This is my test file\n",
      "\n",
      "line 1 is: This is the second line of my test file\n",
      "\n",
      "line 2 is: This is the last line of my test file\n"
     ]
    }
   ],
   "source": [
    "with open(\"./MyTestFile.txt\", 'r') as f:\n",
    "    for i, line in enumerate(f.readlines()):\n",
    "        print(f\"line {i} is: {line}\")"
   ]
  },
  {
   "cell_type": "markdown",
   "metadata": {
    "slideshow": {
     "slide_type": "subslide"
    }
   },
   "source": [
    "## Writing to a file\n",
    "\n",
    "When writing to a file it is best practice to use the `with` statement."
   ]
  },
  {
   "cell_type": "markdown",
   "metadata": {
    "slideshow": {
     "slide_type": "fragment"
    }
   },
   "source": [
    "### Appending to a file"
   ]
  },
  {
   "cell_type": "code",
   "execution_count": 21,
   "metadata": {
    "slideshow": {
     "slide_type": "fragment"
    }
   },
   "outputs": [],
   "source": [
    "with open(\"./MyTestFile.txt\", 'a+') as f:\n",
    "    # we need to add the new line character\n",
    "    f.write('\\n manual added line')"
   ]
  },
  {
   "cell_type": "markdown",
   "metadata": {
    "slideshow": {
     "slide_type": "subslide"
    }
   },
   "source": [
    "Since we are going to read and print the file many times let's make a function"
   ]
  },
  {
   "cell_type": "code",
   "execution_count": 22,
   "metadata": {
    "slideshow": {
     "slide_type": "fragment"
    }
   },
   "outputs": [],
   "source": [
    "def read(file):\n",
    "    f = open(file, 'r')\n",
    "\n",
    "    for i, line in enumerate(f.readlines()):\n",
    "        print(f\"line {i} is: {line}\")"
   ]
  },
  {
   "cell_type": "code",
   "execution_count": 23,
   "metadata": {
    "slideshow": {
     "slide_type": "fragment"
    }
   },
   "outputs": [
    {
     "name": "stdout",
     "output_type": "stream",
     "text": [
      "line 0 is: This is my test file\n",
      "\n",
      "line 1 is: This is the second line of my test file\n",
      "\n",
      "line 2 is: This is the last line of my test file\n",
      "\n",
      "line 3 is:  manual added line\n"
     ]
    }
   ],
   "source": [
    "read(\"./MyTestFile.txt\")"
   ]
  },
  {
   "cell_type": "markdown",
   "metadata": {
    "slideshow": {
     "slide_type": "subslide"
    }
   },
   "source": [
    "### Writing multiple lines at once with `.writelines()` method"
   ]
  },
  {
   "cell_type": "markdown",
   "metadata": {
    "slideshow": {
     "slide_type": "fragment"
    }
   },
   "source": [
    "`.writelines()` adds a list to a file"
   ]
  },
  {
   "cell_type": "code",
   "execution_count": 24,
   "metadata": {
    "slideshow": {
     "slide_type": "fragment"
    }
   },
   "outputs": [],
   "source": [
    "list_ = ['\\n added line as list 1', '\\n added line as list 2']\n",
    "\n",
    "with open(\"./MyTestFile.txt\", 'a+') as f:\n",
    "    # we need to add the new line character\n",
    "    f.writelines(list_)"
   ]
  },
  {
   "cell_type": "code",
   "execution_count": 25,
   "metadata": {
    "slideshow": {
     "slide_type": "fragment"
    }
   },
   "outputs": [
    {
     "name": "stdout",
     "output_type": "stream",
     "text": [
      "line 0 is: This is my test file\n",
      "\n",
      "line 1 is: This is the second line of my test file\n",
      "\n",
      "line 2 is: This is the last line of my test file\n",
      "\n",
      "line 3 is:  manual added line\n",
      "\n",
      "line 4 is:  added line as list 1\n",
      "\n",
      "line 5 is:  added line as list 2\n"
     ]
    }
   ],
   "source": [
    "read(\"./MyTestFile.txt\")"
   ]
  },
  {
   "cell_type": "markdown",
   "metadata": {
    "slideshow": {
     "slide_type": "subslide"
    }
   },
   "source": [
    "**What happens when we change `a+` to `w`**"
   ]
  },
  {
   "cell_type": "code",
   "execution_count": 26,
   "metadata": {
    "slideshow": {
     "slide_type": "fragment"
    }
   },
   "outputs": [],
   "source": [
    "list_ = ['added line as list 1', '\\n added line as list 2']\n",
    "\n",
    "with open(\"./MyTestFile.txt\", 'w') as f:\n",
    "    # we need to add the new line character\n",
    "    f.writelines(list_)"
   ]
  },
  {
   "cell_type": "code",
   "execution_count": 27,
   "metadata": {
    "slideshow": {
     "slide_type": "fragment"
    }
   },
   "outputs": [
    {
     "name": "stdout",
     "output_type": "stream",
     "text": [
      "line 0 is: added line as list 1\n",
      "\n",
      "line 1 is:  added line as list 2\n"
     ]
    }
   ],
   "source": [
    "read(\"./MyTestFile.txt\")"
   ]
  },
  {
   "cell_type": "markdown",
   "metadata": {
    "slideshow": {
     "slide_type": "fragment"
    }
   },
   "source": [
    "We overwrote the file. Good thing we have a copy. Let's delete the modified file and replace it with our backup copy."
   ]
  },
  {
   "cell_type": "markdown",
   "metadata": {
    "slideshow": {
     "slide_type": "subslide"
    }
   },
   "source": [
    "### Deleting the file"
   ]
  },
  {
   "cell_type": "code",
   "execution_count": 28,
   "metadata": {
    "slideshow": {
     "slide_type": "fragment"
    }
   },
   "outputs": [],
   "source": [
    "p = Path('./MyTestFile.txt')\n",
    "\n",
    "p.unlink()"
   ]
  },
  {
   "cell_type": "markdown",
   "metadata": {
    "slideshow": {
     "slide_type": "subslide"
    }
   },
   "source": [
    "### Copying the file using `shutil.copyfile()`"
   ]
  },
  {
   "cell_type": "code",
   "execution_count": 29,
   "metadata": {
    "slideshow": {
     "slide_type": "fragment"
    }
   },
   "outputs": [
    {
     "data": {
      "text/plain": [
       "'./MyTestFile.txt'"
      ]
     },
     "execution_count": 29,
     "metadata": {},
     "output_type": "execute_result"
    }
   ],
   "source": [
    "import shutil\n",
    "\n",
    "shutil.copyfile('./MyTestFile copy.txt', './MyTestFile.txt')"
   ]
  },
  {
   "cell_type": "markdown",
   "metadata": {
    "slideshow": {
     "slide_type": "slide"
    }
   },
   "source": [
    "## Opening Common File Formats\n",
    "\n",
    "`.txt` files are great because of their simplicity and interoperability sometimes data is stored in more complex structures. Python provides tools to open nearly any file format ever created. We will introduce opening some common file formats."
   ]
  },
  {
   "cell_type": "markdown",
   "metadata": {
    "slideshow": {
     "slide_type": "subslide"
    }
   },
   "source": [
    "### Comma Separated Variables\n",
    "\n",
    "* Many system monitoring and manufacturing sensors record several variables at a single time. These are commonly stored as comma separated variable "
   ]
  },
  {
   "cell_type": "markdown",
   "metadata": {
    "slideshow": {
     "slide_type": "fragment"
    }
   },
   "source": [
    "If you were a city planner you might be interested in understanding traffic patterns depending on several factors. "
   ]
  },
  {
   "cell_type": "code",
   "execution_count": 30,
   "metadata": {
    "slideshow": {
     "slide_type": "fragment"
    }
   },
   "outputs": [
    {
     "name": "stdout",
     "output_type": "stream",
     "text": [
      "Processed 48205 lines.\n"
     ]
    }
   ],
   "source": [
    "import csv\n",
    "\n",
    "# opens the file\n",
    "with open('Metro_Interstate_Traffic_Volume.csv', 'r') as f:\n",
    "    \n",
    "    # csv reader\n",
    "    csv_reader = csv.reader(f, delimiter=',')\n",
    "    \n",
    "    # number of lines counted\n",
    "    line_count = 0\n",
    "    \n",
    "    # makes a list\n",
    "    values_ = []\n",
    "    \n",
    "    # loops around the number of rows\n",
    "    for row in csv_reader:\n",
    "        \n",
    "        # if on the first row saves the data as a header\n",
    "        if line_count == 0:\n",
    "            headers = row\n",
    "            line_count += 1\n",
    "        else:\n",
    "            # else will append the values\n",
    "            values_.append(row)\n",
    "            line_count += 1\n",
    "    print(f'Processed {line_count} lines.')"
   ]
  },
  {
   "cell_type": "code",
   "execution_count": 31,
   "metadata": {
    "slideshow": {
     "slide_type": "fragment"
    }
   },
   "outputs": [
    {
     "name": "stdout",
     "output_type": "stream",
     "text": [
      "['holiday', 'temp', 'rain_1h', 'snow_1h', 'clouds_all', 'weather_main', 'weather_description', 'date_time', 'traffic_volume']\n",
      "['None', '288.28', '0.0', '0.0', '40', 'Clouds', 'scattered clouds', '2012-10-02 09:00:00', '5545']\n"
     ]
    }
   ],
   "source": [
    "print(headers)\n",
    "print(values_[0])"
   ]
  },
  {
   "cell_type": "markdown",
   "metadata": {
    "slideshow": {
     "slide_type": "subslide"
    }
   },
   "source": [
    "### Loading an Excel File\n",
    "\n",
    "There are more developed tools that can deal with more complex data structures, and have more elaborate built it methods."
   ]
  },
  {
   "cell_type": "markdown",
   "metadata": {
    "slideshow": {
     "slide_type": "fragment"
    }
   },
   "source": [
    "One package is called Pandas"
   ]
  },
  {
   "cell_type": "code",
   "execution_count": 32,
   "metadata": {
    "slideshow": {
     "slide_type": "fragment"
    },
    "tags": [
     "skip-execution"
    ]
   },
   "outputs": [
    {
     "name": "stdout",
     "output_type": "stream",
     "text": [
      "Requirement already satisfied: xlrd in /home/jagar2/miniconda3/envs/ENGR_131/lib/python3.10/site-packages (2.0.1)\r\n"
     ]
    }
   ],
   "source": [
    "!pip install xlrd"
   ]
  },
  {
   "cell_type": "code",
   "execution_count": 32,
   "metadata": {
    "slideshow": {
     "slide_type": "fragment"
    }
   },
   "outputs": [],
   "source": [
    "import pandas as pd\n",
    "\n",
    "df = pd.read_excel(\"Metro_Interstate_Traffic_Volume.xls\")"
   ]
  },
  {
   "cell_type": "markdown",
   "metadata": {
    "slideshow": {
     "slide_type": "subslide"
    }
   },
   "source": [
    "Pandas DataFrames have many functions:"
   ]
  },
  {
   "cell_type": "code",
   "execution_count": 33,
   "metadata": {
    "slideshow": {
     "slide_type": "fragment"
    }
   },
   "outputs": [
    {
     "data": {
      "text/html": [
       "<div>\n",
       "<style scoped>\n",
       "    .dataframe tbody tr th:only-of-type {\n",
       "        vertical-align: middle;\n",
       "    }\n",
       "\n",
       "    .dataframe tbody tr th {\n",
       "        vertical-align: top;\n",
       "    }\n",
       "\n",
       "    .dataframe thead th {\n",
       "        text-align: right;\n",
       "    }\n",
       "</style>\n",
       "<table border=\"1\" class=\"dataframe\">\n",
       "  <thead>\n",
       "    <tr style=\"text-align: right;\">\n",
       "      <th></th>\n",
       "      <th>holiday</th>\n",
       "      <th>temp</th>\n",
       "      <th>rain_1h</th>\n",
       "      <th>snow_1h</th>\n",
       "      <th>clouds_all</th>\n",
       "      <th>weather_main</th>\n",
       "      <th>weather_description</th>\n",
       "      <th>date_time</th>\n",
       "      <th>traffic_volume</th>\n",
       "    </tr>\n",
       "  </thead>\n",
       "  <tbody>\n",
       "    <tr>\n",
       "      <th>0</th>\n",
       "      <td>None</td>\n",
       "      <td>288.28</td>\n",
       "      <td>0.0</td>\n",
       "      <td>0.0</td>\n",
       "      <td>40</td>\n",
       "      <td>Clouds</td>\n",
       "      <td>scattered clouds</td>\n",
       "      <td>2012-10-02 09:00:00</td>\n",
       "      <td>5545</td>\n",
       "    </tr>\n",
       "    <tr>\n",
       "      <th>1</th>\n",
       "      <td>None</td>\n",
       "      <td>289.36</td>\n",
       "      <td>0.0</td>\n",
       "      <td>0.0</td>\n",
       "      <td>75</td>\n",
       "      <td>Clouds</td>\n",
       "      <td>broken clouds</td>\n",
       "      <td>2012-10-02 10:00:00</td>\n",
       "      <td>4516</td>\n",
       "    </tr>\n",
       "    <tr>\n",
       "      <th>2</th>\n",
       "      <td>None</td>\n",
       "      <td>289.58</td>\n",
       "      <td>0.0</td>\n",
       "      <td>0.0</td>\n",
       "      <td>90</td>\n",
       "      <td>Clouds</td>\n",
       "      <td>overcast clouds</td>\n",
       "      <td>2012-10-02 11:00:00</td>\n",
       "      <td>4767</td>\n",
       "    </tr>\n",
       "    <tr>\n",
       "      <th>3</th>\n",
       "      <td>None</td>\n",
       "      <td>290.13</td>\n",
       "      <td>0.0</td>\n",
       "      <td>0.0</td>\n",
       "      <td>90</td>\n",
       "      <td>Clouds</td>\n",
       "      <td>overcast clouds</td>\n",
       "      <td>2012-10-02 12:00:00</td>\n",
       "      <td>5026</td>\n",
       "    </tr>\n",
       "    <tr>\n",
       "      <th>4</th>\n",
       "      <td>None</td>\n",
       "      <td>291.14</td>\n",
       "      <td>0.0</td>\n",
       "      <td>0.0</td>\n",
       "      <td>75</td>\n",
       "      <td>Clouds</td>\n",
       "      <td>broken clouds</td>\n",
       "      <td>2012-10-02 13:00:00</td>\n",
       "      <td>4918</td>\n",
       "    </tr>\n",
       "  </tbody>\n",
       "</table>\n",
       "</div>"
      ],
      "text/plain": [
       "  holiday    temp  rain_1h  snow_1h  clouds_all weather_main  \\\n",
       "0    None  288.28      0.0      0.0          40       Clouds   \n",
       "1    None  289.36      0.0      0.0          75       Clouds   \n",
       "2    None  289.58      0.0      0.0          90       Clouds   \n",
       "3    None  290.13      0.0      0.0          90       Clouds   \n",
       "4    None  291.14      0.0      0.0          75       Clouds   \n",
       "\n",
       "  weather_description           date_time  traffic_volume  \n",
       "0    scattered clouds 2012-10-02 09:00:00            5545  \n",
       "1       broken clouds 2012-10-02 10:00:00            4516  \n",
       "2     overcast clouds 2012-10-02 11:00:00            4767  \n",
       "3     overcast clouds 2012-10-02 12:00:00            5026  \n",
       "4       broken clouds 2012-10-02 13:00:00            4918  "
      ]
     },
     "execution_count": 33,
     "metadata": {},
     "output_type": "execute_result"
    }
   ],
   "source": [
    "df.head()"
   ]
  },
  {
   "cell_type": "markdown",
   "metadata": {
    "slideshow": {
     "slide_type": "fragment"
    }
   },
   "source": [
    "Getting the max value"
   ]
  },
  {
   "cell_type": "code",
   "execution_count": 34,
   "metadata": {
    "slideshow": {
     "slide_type": "fragment"
    }
   },
   "outputs": [
    {
     "data": {
      "text/plain": [
       "9831.3"
      ]
     },
     "execution_count": 34,
     "metadata": {},
     "output_type": "execute_result"
    }
   ],
   "source": [
    "df['rain_1h'].max()"
   ]
  },
  {
   "cell_type": "markdown",
   "metadata": {
    "slideshow": {
     "slide_type": "fragment"
    }
   },
   "source": [
    "Getting the Unique Values"
   ]
  },
  {
   "cell_type": "code",
   "execution_count": 35,
   "metadata": {
    "slideshow": {
     "slide_type": "fragment"
    }
   },
   "outputs": [
    {
     "data": {
      "text/plain": [
       "array(['scattered clouds', 'broken clouds', 'overcast clouds',\n",
       "       'sky is clear', 'few clouds', 'light rain',\n",
       "       'light intensity drizzle', 'mist', 'haze', 'fog',\n",
       "       'proximity shower rain', 'drizzle', 'moderate rain',\n",
       "       'heavy intensity rain', 'proximity thunderstorm',\n",
       "       'thunderstorm with light rain', 'proximity thunderstorm with rain',\n",
       "       'heavy snow', 'heavy intensity drizzle', 'snow',\n",
       "       'thunderstorm with heavy rain', 'freezing rain', 'shower snow',\n",
       "       'light rain and snow', 'light intensity shower rain', 'SQUALLS',\n",
       "       'thunderstorm with rain', 'proximity thunderstorm with drizzle',\n",
       "       'thunderstorm', 'Sky is Clear', 'very heavy rain',\n",
       "       'thunderstorm with light drizzle', 'light snow',\n",
       "       'thunderstorm with drizzle', 'smoke', 'shower drizzle',\n",
       "       'light shower snow', 'sleet'], dtype=object)"
      ]
     },
     "execution_count": 35,
     "metadata": {},
     "output_type": "execute_result"
    }
   ],
   "source": [
    "df['weather_description'].unique()"
   ]
  },
  {
   "cell_type": "markdown",
   "metadata": {
    "slideshow": {
     "slide_type": "fragment"
    }
   },
   "source": [
    "Multilevel indexing"
   ]
  },
  {
   "cell_type": "code",
   "execution_count": 36,
   "metadata": {
    "slideshow": {
     "slide_type": "fragment"
    }
   },
   "outputs": [
    {
     "data": {
      "text/plain": [
       "7033     4271\n",
       "7034     4271\n",
       "7035     4271\n",
       "7133      635\n",
       "7134      635\n",
       "         ... \n",
       "26789    2086\n",
       "47929    2957\n",
       "47930    2957\n",
       "47931    2957\n",
       "47932    2957\n",
       "Name: traffic_volume, Length: 94, dtype: int64"
      ]
     },
     "execution_count": 36,
     "metadata": {},
     "output_type": "execute_result"
    }
   ],
   "source": [
    "df[df['rain_1h']>10]['traffic_volume']"
   ]
  },
  {
   "cell_type": "markdown",
   "metadata": {
    "slideshow": {
     "slide_type": "fragment"
    }
   },
   "source": [
    "Even plotting"
   ]
  },
  {
   "cell_type": "code",
   "execution_count": 37,
   "metadata": {
    "slideshow": {
     "slide_type": "fragment"
    }
   },
   "outputs": [
    {
     "data": {
      "text/plain": [
       "<AxesSubplot: >"
      ]
     },
     "execution_count": 37,
     "metadata": {},
     "output_type": "execute_result"
    },
    {
     "data": {
      "image/png": "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\n",
      "text/plain": [
       "<Figure size 640x480 with 1 Axes>"
      ]
     },
     "metadata": {
      "filenames": {
       "image/png": "/Users/sc3623/Repos/ENGR131_W2023/_build/jupyter_execute/jupyterbook/week6/lecture6/6_7_file_handling_94_1.png"
      }
     },
     "output_type": "display_data"
    }
   ],
   "source": [
    "df[df['rain_1h']>10]['traffic_volume'].hist()"
   ]
  },
  {
   "cell_type": "code",
   "execution_count": null,
   "metadata": {},
   "outputs": [],
   "source": []
  }
 ],
 "metadata": {
  "celltoolbar": "Slideshow",
  "kernelspec": {
   "display_name": "Python 3 (ipykernel)",
   "language": "python",
   "name": "python3"
  },
  "language_info": {
   "codemirror_mode": {
    "name": "ipython",
    "version": 3
   },
   "file_extension": ".py",
   "mimetype": "text/x-python",
   "name": "python",
   "nbconvert_exporter": "python",
   "pygments_lexer": "ipython3",
   "version": "3.10.8"
  },
  "vscode": {
   "interpreter": {
    "hash": "775f42d2c624786ce087f304b32550a3a398124b7164551d1aea823130207773"
   }
  }
 },
 "nbformat": 4,
 "nbformat_minor": 2
}