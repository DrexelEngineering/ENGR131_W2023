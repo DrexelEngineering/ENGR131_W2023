{
 "cells": [
  {
   "attachments": {},
   "cell_type": "markdown",
   "metadata": {
    "slideshow": {
     "slide_type": "slide"
    }
   },
   "source": [
    "# 📝Functions as Objects"
   ]
  },
  {
   "cell_type": "markdown",
   "metadata": {
    "slideshow": {
     "slide_type": "fragment"
    }
   },
   "source": [
    "Let's build a function to draw a drexel dragon."
   ]
  },
  {
   "cell_type": "code",
   "execution_count": 1,
   "metadata": {
    "slideshow": {
     "slide_type": "fragment"
    }
   },
   "outputs": [],
   "source": [
    "def drexel_dragons():\n",
    "    print(\n",
    "        \"\"\"         \n",
    "\n",
    "           /\\_/\\   _   ()_()  wWw  wW    Ww wWw  W  W        _   ()_()            \\/       .-.   \\\\\\  ///  oo_    \n",
    "          / o o \\   /||_ (O o)  (O)_(O)\\  /(O)(O)_(O)(O)      /||_ (O o)    /)     (OO)    c(O_O)c ((O)(O)) /  _)-< \n",
    "     /\\   \\~(*)~/     /o_) |^_\\  / __)`. \\/ .' / __) ||         /o_) |^_\\  (o)(O) ,'.--.)  ,'.---.`, | \\ ||  \\__ `.  \n",
    "     //\\\\  /     \\   / |(\\ |(_))/ (     \\  /  / (    | \\       / |(\\ |(_))  //\\\\ / /|_|_\\ / /|_|_|\\ \\||\\\\||     `. | \n",
    "     //  \\\\(       )  | | ))|  /(  _)    /  \\ (  _)   |  `.     | | ))|  /  |(__)|| \\_.--. | \\_____/ ||| \\ |     _| | \n",
    "     //    \\/\\~*.*~/   | |// )|\\\\ \\ \\_  .' /\\ `.\\ \\_  (.-.__)    | |// )|\\\\  /,-. |'.   \\) \\'. `---' .`||  ||  ,-'   | \n",
    "     //__/\\_/   \\      \\__/ (/  \\) \\__)(_.'  `._)\\__)  `-'       \\__/ (/  \\)-'   ''  `-.(_.'  `-...-' (_/  \\_)(_..--'  \"\"\"\n",
    "    )\n"
   ]
  },
  {
   "cell_type": "markdown",
   "metadata": {
    "slideshow": {
     "slide_type": "subslide"
    }
   },
   "source": [
    "Let's assign `drexel_dragons` to a variable `Penn`"
   ]
  },
  {
   "cell_type": "code",
   "execution_count": 2,
   "metadata": {
    "slideshow": {
     "slide_type": "fragment"
    }
   },
   "outputs": [],
   "source": [
    "Penn = drexel_dragons\n"
   ]
  },
  {
   "cell_type": "markdown",
   "metadata": {
    "slideshow": {
     "slide_type": "fragment"
    }
   },
   "source": [
    "**Why did this not run?**"
   ]
  },
  {
   "cell_type": "markdown",
   "metadata": {
    "slideshow": {
     "slide_type": "fragment"
    }
   },
   "source": [
    "```{toggle}\n",
    "We just assigned this to a variable that is an object of the function `drexel_dragons`\n",
    "```"
   ]
  },
  {
   "cell_type": "markdown",
   "metadata": {
    "slideshow": {
     "slide_type": "fragment"
    }
   },
   "source": [
    "We can discover what the object is by printing the type"
   ]
  },
  {
   "cell_type": "code",
   "execution_count": 3,
   "metadata": {
    "slideshow": {
     "slide_type": "fragment"
    }
   },
   "outputs": [
    {
     "name": "stdout",
     "output_type": "stream",
     "text": [
      "<class 'function'>\n"
     ]
    }
   ],
   "source": [
    "print(type(Penn))\n"
   ]
  },
  {
   "cell_type": "markdown",
   "metadata": {
    "slideshow": {
     "slide_type": "fragment"
    }
   },
   "source": [
    "Or running it by calling the function"
   ]
  },
  {
   "cell_type": "code",
   "execution_count": 4,
   "metadata": {
    "slideshow": {
     "slide_type": "fragment"
    }
   },
   "outputs": [
    {
     "name": "stdout",
     "output_type": "stream",
     "text": [
      "         \n",
      "\n",
      "           /\\_/\\   _   ()_()  wWw  wW    Ww wWw  W  W        _   ()_()            \\/       .-.   \\\\  ///  oo_    \n",
      "          / o o \\   /||_ (O o)  (O)_(O)\\  /(O)(O)_(O)(O)      /||_ (O o)    /)     (OO)    c(O_O)c ((O)(O)) /  _)-< \n",
      "     /\\   \\~(*)~/     /o_) |^_\\  / __)`. \\/ .' / __) ||         /o_) |^_\\  (o)(O) ,'.--.)  ,'.---.`, | \\ ||  \\__ `.  \n",
      "     //\\  /     \\   / |(\\ |(_))/ (     \\  /  / (    | \\       / |(\\ |(_))  //\\ / /|_|_\\ / /|_|_|\\ \\||\\||     `. | \n",
      "     //  \\(       )  | | ))|  /(  _)    /  \\ (  _)   |  `.     | | ))|  /  |(__)|| \\_.--. | \\_____/ ||| \\ |     _| | \n",
      "     //    \\/\\~*.*~/   | |// )|\\ \\ \\_  .' /\\ `.\\ \\_  (.-.__)    | |// )|\\  /,-. |'.   \\) '. `---' .`||  ||  ,-'   | \n",
      "     //__/\\_/   \\      \\__/ (/  \\) \\__)(_.'  `._)\\__)  `-'       \\__/ (/  \\)-'   ''  `-.(_.'  `-...-' (_/  \\_)(_..--'  \n"
     ]
    }
   ],
   "source": [
    "Penn()\n"
   ]
  },
  {
   "cell_type": "markdown",
   "metadata": {
    "slideshow": {
     "slide_type": "subslide"
    }
   },
   "source": [
    "## Reassigning Functions\n",
    "\n",
    "We can assign functions to a different variable"
   ]
  },
  {
   "cell_type": "code",
   "execution_count": 5,
   "metadata": {
    "slideshow": {
     "slide_type": "fragment"
    }
   },
   "outputs": [],
   "source": [
    "drexel = drexel_dragons\n"
   ]
  },
  {
   "cell_type": "code",
   "execution_count": 6,
   "metadata": {
    "slideshow": {
     "slide_type": "fragment"
    }
   },
   "outputs": [
    {
     "data": {
      "text/plain": [
       "True"
      ]
     },
     "execution_count": 6,
     "metadata": {},
     "output_type": "execute_result"
    }
   ],
   "source": [
    "drexel is Penn\n"
   ]
  },
  {
   "cell_type": "code",
   "execution_count": 7,
   "metadata": {
    "slideshow": {
     "slide_type": "fragment"
    }
   },
   "outputs": [
    {
     "data": {
      "text/plain": [
       "True"
      ]
     },
     "execution_count": 7,
     "metadata": {},
     "output_type": "execute_result"
    }
   ],
   "source": [
    "drexel == Penn\n"
   ]
  },
  {
   "cell_type": "markdown",
   "metadata": {
    "slideshow": {
     "slide_type": "subslide"
    }
   },
   "source": [
    "## Functions in Data Structures\n",
    "\n",
    "Data Structures are objects that store other objects: List, Tuples, Dictionaries, Sets"
   ]
  },
  {
   "cell_type": "markdown",
   "metadata": {
    "slideshow": {
     "slide_type": "fragment"
    }
   },
   "source": [
    "Since functions are objects they can be stored in data structures"
   ]
  },
  {
   "cell_type": "code",
   "execution_count": 8,
   "metadata": {
    "slideshow": {
     "slide_type": "fragment"
    }
   },
   "outputs": [
    {
     "data": {
      "text/plain": [
       "[<function __main__.drexel_dragons()>, <function __main__.drexel_dragons()>]"
      ]
     },
     "execution_count": 8,
     "metadata": {},
     "output_type": "execute_result"
    }
   ],
   "source": [
    "[Penn, drexel]\n"
   ]
  },
  {
   "cell_type": "markdown",
   "metadata": {
    "slideshow": {
     "slide_type": "slide"
    }
   },
   "source": [
    "## Functions calling Functions\n",
    "\n",
    "Functions can be called by other functions. A good example of this is the function `map`"
   ]
  },
  {
   "cell_type": "markdown",
   "metadata": {
    "slideshow": {
     "slide_type": "fragment"
    }
   },
   "source": [
    "`map()` function returns a map object(which is an iterator) of the results after applying the given function to each item of a given iterable (list, tuple etc.)"
   ]
  },
  {
   "cell_type": "code",
   "execution_count": 9,
   "metadata": {
    "slideshow": {
     "slide_type": "fragment"
    }
   },
   "outputs": [],
   "source": [
    "import numpy as np\n",
    "import matplotlib.pyplot as plt\n",
    "\n",
    "\n",
    "def sig(x):\n",
    "    return 1 / (1 + np.exp(-x))\n"
   ]
  },
  {
   "cell_type": "code",
   "execution_count": 10,
   "metadata": {
    "slideshow": {
     "slide_type": "fragment"
    }
   },
   "outputs": [
    {
     "data": {
      "text/plain": [
<<<<<<< Updated upstream
       "[<matplotlib.lines.Line2D at 0x7fb99cf3e0e0>]"
=======
       "[<matplotlib.lines.Line2D at 0x1153115a0>]"
>>>>>>> Stashed changes
      ]
     },
     "execution_count": 10,
     "metadata": {},
     "output_type": "execute_result"
    },
    {
     "data": {
<<<<<<< Updated upstream
      "image/png": "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\n",
=======
      "image/png": "iVBORw0KGgoAAAANSUhEUgAAAiMAAAGdCAYAAADAAnMpAAAAOXRFWHRTb2Z0d2FyZQBNYXRwbG90bGliIHZlcnNpb24zLjYuMywgaHR0cHM6Ly9tYXRwbG90bGliLm9yZy/P9b71AAAACXBIWXMAAA9hAAAPYQGoP6dpAAAoZ0lEQVR4nO3dfXTU5Z338c88kEnIM2AChCTNSmupuS0lsSmge4Jb40brCmvXcLqF+lDcrJQtptiS5T5tpW5zVukuW2oinIIuYpFbu7W1m7rmHCqisHskq92tsG5RJDQkxmDIhBBnSDL3HzQjITOTmUlmrvlN3q9z8sdc8/vNXJmDmY/Xw/ey+Xw+nwAAAAyxm+4AAACY2ggjAADAKMIIAAAwijACAACMIowAAACjCCMAAMAowggAADCKMAIAAIxymu5AOIaHh3X69GllZmbKZrOZ7g4AAAiDz+dTX1+f5s6dK7s9+PiHJcLI6dOnVVhYaLobAAAgCqdOndK8efOCPm+JMJKZmSnp4i+TlZVluDcAACAcbrdbhYWF/u/xYCwRRkamZrKysggjAABYzHhLLFjACgAAjCKMAAAAowgjAADAKMIIAAAwijACAACMIowAAACjCCMAAMCoiMPIyy+/rFtvvVVz586VzWbTc889N+49Bw4cUFlZmVJTU/VHf/RHeuyxx6LpKwAASEIRFz3r7+/Xpz/9ad111126/fbbx73+xIkTuvnmm7VmzRrt2bNHr776qu677z5dccUVYd0PAAAmV/vZAfX0e4M+n5ueooKctLj1J+IwUl1drerq6rCvf+yxx1RUVKStW7dKkhYsWKAjR45oy5YthBEAACZB+9kBvdXplntgMODzF4aGNTPDpbxMl7r6PtRfPdmqC0O+oK/nctq1f0Nl3AJJzMvBHz58WFVVVaPabrrpJu3cuVMXLlzQtGnTxtzj8Xjk8Xj8j91ud6y7CQCAcYFGLLr6PHIPXFDPea/kk2Tz6dyHQ/7nh4Z92rb/dwqRLSLmGRxWT783ecJIZ2en8vPzR7Xl5+drcHBQ3d3dmjNnzph7Ghoa9OCDD8a6awAAxF2wUYye8x793b8e0+CwoY4ZFJeD8i4/IMfn8wVsH1FfX6+6ujr/45FT/wAAsIJgazK6+jy6d/drUzJwhBLzMDJ79mx1dnaOauvq6pLT6dTMmTMD3uNyueRyuWLdNQAAInJpyDjW4VZn74ejns9wXfxa/bvmYxocnsR5kyQX8zCyePFiPf/886PaXnzxRZWXlwdcLwIAgCmXj2iMrNeQpJ5+r77/q2MhF34iOhGHkXPnzun48eP+xydOnNAbb7yhGTNmqKioSPX19Wpvb9fu3bslSbW1tfrRj36kuro6rVmzRocPH9bOnTu1d+/eyfstAACIwsX1G306eaZfp3sGtOvQuxpiRCPuIg4jR44c0bJly/yPR9Z2fOUrX9ETTzyhjo4OtbW1+Z8vKSlRc3Oz7r//fj366KOaO3eufvjDH7KtFwAQV4FGPe7dfYTplARg842sJk1gbrdb2dnZ6u3tVVZWlunuAAASWODtsePX1sBHJqvOSLjf33HZTQMAQDy0nuzRyh2HCR0RmuawafuqcuVlXtw8kvAVWAEASETtZwcIIpKcdmnTLZ9S7vQUf9ulFVgDiXf4uBxhBABgKcFqeBzvOpc0QeTiSEWZ8jJTx63AmuFyKjc9RVlp05SX6TIeLKJBGAEAWEb72QHdsOUleSxeNezi6MUC5U4fO1KRlTZNV83OtFygmAjCCAAg4YQa/bBSEHnki9dowZyxCzetOHoRS4QRAEBCsdLoh8Mm3XNdiTJTLxbxHJkykaTCGdNVVpxrsnuWQRgBACSUnn5vwgURh036v1/4lIpnTldeZqq/nRGOyUEYAQBAksNu091LPqastI+OKslwOVU8a7qump1F6IghwggAYEpx2qUdq68ds82VUQ5zCCMAgJgKthh1RDxDwDSHTU/fu5i1HAmGMAIAiJlwFqNOVunxS22tWaj5eRlj2hn9SEyEEQBAzISzGNUzOKyefu+khQSX065rS2YQOiyEMAIAmJBQ0zDHu87F7H0Z/UgehBEAQNRiURMkNz1FLqd93KkdRj+SB2EEABC1WNQEKchJ0/4NlQmz6BWxRxgBACScgpw0wsYUYjfdAQAAMLURRgAAgFGEEQCAUS6n3X+4HKYm1owAAEaJRcXUYNtwo309JBfCCADAL1YVU+fnZai0IHsyuogkRBgBAPhHQ453nYuoYmq4NUGYhkEohBEAmMLazw7orU63/urJVl0Y8kV8PzVBMBkIIwAwRbWe7NHKHYejCiGXoiYIJordNAAwBbWfHZiUIAJMBsIIAExBPf1egggSBmEEAAAYxZoRAEhygeqGHO86Z6g3wFiEEQBIYuHUDYkUW3Ux2QgjAJDEevq9kxZERqqoslUXk40wAgAYl8tp17UlMwghiAnCCAAgKKdd2rH6Wl01O5MggpghjAAAAprmsOnpexerrDjXdFeQ5AgjAICAp+qyNgTxQhgBAHCqLoyi6BkAADCKkREAsKBAhcwuNTLFkpueIpfTHnJ7L3VDYBphBAAsJpxCZi6nXfs3VKogJ037N1SGFVwAUwgjAGAx4RQy8wwOq6ffq4KcNP8PkKhYMwIAAIwijAAAAKMIIwAAwCjCCAAAMIowAgAAjCKMAAAAowgjAGAxI4XMQqGQGayEOiMAYDEUMkOyIYwAgAVRyAzJhGkaAABgFCMjAGBYuIfeAcmKMAIABkV66B2QjJimAQCDIjn0DkhWhBEAAGAUYQQAABhFGAEAAEYRRgAAgFGEEQAAYFRUYaSxsVElJSVKTU1VWVmZDh48GPL6p556Sp/+9Kc1ffp0zZkzR3fddZfOnDkTVYcBAEByiTiM7Nu3T+vXr9emTZv0+uuv6/rrr1d1dbXa2toCXv/KK69o9erVuueee/Tmm2/qmWee0WuvvaavfvWrE+48AFgdh94Bks3n8/kiuaGiokKLFi1SU1OTv23BggVavny5Ghoaxly/ZcsWNTU16e233/a3bdu2TQ8//LBOnToV1nu63W5lZ2ert7dXWVlZkXQXABIeFViRrML9/o6oAqvX61Vra6s2btw4qr2qqkqHDh0KeM+SJUu0adMmNTc3q7q6Wl1dXXr22Wd1yy23BH0fj8cjj8cz6pcBgGTFoXeY6iKapunu7tbQ0JDy8/NHtefn56uzszPgPUuWLNFTTz2lmpoapaSkaPbs2crJydG2bduCvk9DQ4Oys7P9P4WFhZF0EwAAWEhUC1htNtuoxz6fb0zbiKNHj+pv/uZv9O1vf1utra164YUXdOLECdXW1gZ9/fr6evX29vp/wp3OAQAA1hPRNM2sWbPkcDjGjIJ0dXWNGS0Z0dDQoKVLl+qBBx6QJF1zzTVKT0/X9ddfr4ceekhz5swZc4/L5ZLL5YqkawAAwKIiGhlJSUlRWVmZWlpaRrW3tLRoyZIlAe85f/687PbRb+NwOCRdHFEBAABTW0QjI5JUV1enVatWqby8XIsXL9aOHTvU1tbmn3apr69Xe3u7du/eLUm69dZbtWbNGjU1Nemmm25SR0eH1q9fr89+9rOaO3fu5P42AGAYO2OAyEUcRmpqanTmzBlt3rxZHR0dKi0tVXNzs4qLiyVJHR0do2qO3Hnnnerr69OPfvQjfeMb31BOTo5uuOEG/f3f//3k/RYAkADazw7ohi0vyTM4HPQal9Ou/RsqCSTAJSKuM2ICdUYAWMFv23v1hW2vjHvdL9ddp9KC7Dj0CDAr3O9vzqYBAABGEUYAAIBRhBEAAGAUYQQAABgV8W4aAMBFl2/jPd51zmBvAOsijABAFMLZxgsgPEzTAEAUevq9UQURl9Ou3PSUGPQIsC5GRgAghrbWLNT8vAz/YyqwAmMRRgAghubnZVDgDBgH0zQAAMAowggAADCKMAIAAIwijAAAAKMIIwAQhdz0FLmcof+Eso0XCA+7aQAgiMsrrF7uJ2s+FzKQsI0XCA9hBAACaD87oGWP/FreIV/Qa1IcNv36gWUEDmCCmKYBgADe6nSHDCKS5B3y6a1Od5x6BCQvwggABOAeGJzU6wAERxgBAABGEUYAAIBRhBEAAGAUYQQAABhFGAEAAEYRRgAggKy0aZN6HYDgCCMAEMBVszOV4gj9JzLFYddVszPj1CMgeVGBFQACKMhJ068fqAxZDp5y78DkIIwAQBAFOWmEDSAOmKYBAABGEUYAAIBRhBEAAGAUYQQAABhFGAEAAEYRRgAAgFGEEQAAYBRhBAAAGEUYAQAARhFGAACAUYQRAABgFGEEAAAYRRgBAABGcWovgKTVfnZAPf3eoM/npqdwKi+QAAgjAJJS+9kB3bDlJXkGh4Ne43LatX9DJYEEMIxpGgBJqaffGzKISJJncDjkyAmA+CCMAAAAowgjAADAKMIIAAAwijACAACMIowAAACj2NoLIGlcWlfkeNc5w70BEC7CCICk0HqyRyt3HNaFIV/Y97icduWmp8SwVwDCQRgBYHntZwfCDiJbaxZqfl6GJCqwAomCMALA8nr6vWGPiMzPy1BpQXaMewQgEixgBQAARhFGAACAUYQRAABgFGEEAAAYRRgBAABGRRVGGhsbVVJSotTUVJWVlengwYMhr/d4PNq0aZOKi4vlcrl05ZVXateuXVF1GACiNc1ho64IkIAi3tq7b98+rV+/Xo2NjVq6dKm2b9+u6upqHT16VEVFRQHvueOOO/Tee+9p586dmj9/vrq6ujQ4ODjhzgOAdLFeiMtpl2dwOOg10xw2PX3vYuqKAAnI5vP5wi9XKKmiokKLFi1SU1OTv23BggVavny5Ghoaxlz/wgsvaOXKlXrnnXc0Y8aMqDrpdruVnZ2t3t5eZWVlRfUaAJLbpaXgA6HAGRB/4X5/RzQy4vV61draqo0bN45qr6qq0qFDhwLe84tf/ELl5eV6+OGH9eSTTyo9PV1/9md/pu9973tKSwv8h8Hj8cjj8Yz6ZQAglIKcNMIGYFERhZHu7m4NDQ0pPz9/VHt+fr46OzsD3vPOO+/olVdeUWpqqn72s5+pu7tb9913nz744IOg60YaGhr04IMPRtI1AFMEIyBA8omqHLzNZhv12OfzjWkbMTw8LJvNpqeeekrZ2RdLMP/DP/yDvvjFL+rRRx8NODpSX1+vuro6/2O3263CwsJougogibSfHdANW14KuTbE5bRr/4ZKAglgIRHtppk1a5YcDseYUZCurq4xoyUj5syZo4KCAn8QkS6uMfH5fPr9738f8B6Xy6WsrKxRPwDQ0+8NGUQkyTM4HHLkBEDiiSiMpKSkqKysTC0tLaPaW1patGTJkoD3LF26VKdPn9a5c+f8bf/7v/8ru92uefPmRdFlAACQTCKuM1JXV6cf//jH2rVrl44dO6b7779fbW1tqq2tlXRximX16tX+67/0pS9p5syZuuuuu3T06FG9/PLLeuCBB3T33XcHXcAKAJdqPzug37b36njXufEvBmA5Ea8Zqamp0ZkzZ7R582Z1dHSotLRUzc3NKi4uliR1dHSora3Nf31GRoZaWlq0bt06lZeXa+bMmbrjjjv00EMPTd5vASBphbNOBIC1RVxnxATqjABT12/be/WFba9EdM8v112n0oLs8S8EEFPhfn9zNg0AADCKMAIAAIwijABIKi6nncPwAIuJqugZACSarTULNT8vgwqsgAURRgAkhfl5GSxaBSyKaRoAAGAUYQRAQstNT5HLGfpPFetEAGtjmgZAQgl0Km/Tl8vkHrggScpKcyovM3XU86wTAayNMAIgYXAqLzA1MU0DIGFwKi8wNRFGACSE9rMDHIQHTFFM0wAwjsPwgKmNkREAxoUzPQMgeRFGAACAUYQRAABgFGEEAAAYRRgBYClUWwWSD7tpAFjG1pqFurZkBgXPgCTDyAgAy5ifl0EQAZIQIyMA4u7y82e6+j7UNIdNF4Z8Qe9hegZIXoQRAHHVfnZAyx75tbwhgofTLu1Yfa3yMl3+Ng7DA5IXYQRAXL3V6Q4ZRCTpYv0zn0oLsuPSJwBmsWYEQFy5BwYn9ToA1kcYAQAARhFGAACAUYQRAABgFGEEAAAYxW4aADF3aV2RUx+cN9wbAImGMAIgplpP9mjljsMhC5oFkpU2LUY9ApBoCCMAYqb97IBqth/6Q92Q8KU47LpqdmZsOgUg4RBGAMTMW53usIPI1pqFmp+XIYlqq8BUQxgBEDORFC6bn5dBxVVgimI3DQAAMIowAgAAjCKMAAAAowgjAADAKMIIAOOcdpty01NMdwOAIYQRADETbuGyhj//P2zlBaYwwgiAmLlqdqZSHKH/zKQ47Foyf1acegQgEVFnBEDMFOSk6dcPVPrPpQmEAmcACCMAYqogJ42wASAkpmkAAIBRjIwAmLD2swNMxQCIGmEEwIS0nx3QDVtekifEiXgup137N1QSSAAExDQNgAnp6feGDCKS5BkcDjlyAmBqI4wAAACjCCMAAMAowggAADCKBawAojKyg+Z41znTXQFgcYQRABELZwcNAISLaRoAEQtnBw0AhIswAiDmXE67ctNTTHcDQIJimgZAzGytWaj5eRlUYAUQEmEEQMzMz8tQaUG26W4ASHBM0wAAAKMIIwAAwCjCCAAAMCqqMNLY2KiSkhKlpqaqrKxMBw8eDOu+V199VU6nUwsXLozmbQEkiNz0FLmcof98sIMGQLgiXsC6b98+rV+/Xo2NjVq6dKm2b9+u6upqHT16VEVFRUHv6+3t1erVq/Unf/Ineu+99ybUaQBmFeSkaf+GypAn8bKDBkC4bD6fzxfJDRUVFVq0aJGampr8bQsWLNDy5cvV0NAQ9L6VK1fq4x//uBwOh5577jm98cYbYb+n2+1Wdna2ent7lZWVFUl3AUzQSNn3YAgdAIIJ9/s7opERr9er1tZWbdy4cVR7VVWVDh06FPS+xx9/XG+//bb27Nmjhx56KJK3BGBQOGXfXU679m+oJJAAiFpEYaS7u1tDQ0PKz88f1Z6fn6/Ozs6A9/zud7/Txo0bdfDgQTmd4b2dx+ORx+PxP3a73ZF0E8AkCafsu2dwWD39XsIIgKhFtYDVZrONeuzz+ca0SdLQ0JC+9KUv6cEHH9QnPvGJsF+/oaFB2dnZ/p/CwsJougkAACwgojAya9YsORyOMaMgXV1dY0ZLJKmvr09HjhzR1772NTmdTjmdTm3evFm/+c1v5HQ6tX///oDvU19fr97eXv/PqVOnIukmAACwkIimaVJSUlRWVqaWlhatWLHC397S0qLbbrttzPVZWVn67//+71FtjY2N2r9/v5599lmVlJQEfB+XyyWXyxVJ1wBMopFFq8e7zpnuCoApIOKtvXV1dVq1apXKy8u1ePFi7dixQ21tbaqtrZV0cVSjvb1du3fvlt1uV2lp6aj78/LylJqaOqYdQGIIZ9EqAEymiMNITU2Nzpw5o82bN6ujo0OlpaVqbm5WcXGxJKmjo0NtbW2T3lEA8RHOolUAmEwR1xkxgTojQPz8tr1XX9j2SkT3/HLddZzOC2CMcL+/OZsGwIRQ9h3AREU8TQMgOUW6aHVrzULNz8ugAiuACSOMAIhq0er8vAymZgBMCqZpALBoFYBRhBEAAGAUYQRAxFi0CmAysWYEQNhYtAogFggjAMLGolUAscA0DQAAMIowAgAAjGKaBpiCRgqcjejq82iaw6YLQ8FPh2DRKoBYIYwAU0w4Bc6mOWzavqpMeZmp/jYWrQKIFcIIMMWEU+DswpBPeZmpLFYFEBesGQEAAEYRRgAAgFGEEQAAYBRhBAAAGEUYAQAARhFGAACAUWztBZLY5cXNJKmr70MKnAFIKIQRIEmFX9ysXHmZrlHtFDgDEE+EESBJhV/czEVxMwBGsWYEAAAYRRgBAABGEUYAAIBRhBEAAGAUYQQAABhFGAEAAEYRRoAklZueIpcz9H/iFDcDkAioMwIkgUCVViWp6ctlcg9cUFaaU3mZqWOep7gZgERAGAEsLpxKqy6nXfs3VBI8ACQkpmkAiwun0qpncDjgyAkAJALCCAAAMIowAgAAjCKMAAAAowgjAADAKMIIAAAwijACAACMos4IYCGBipt19Xk0zWHThSFf0PuotAogkRFGAItoPdmjlTsOhwwd0xw2bV9VNqbaKpVWASQywghgAe1nB8YNIpJ0YcinvMxUlRZkx6lnADBxrBkBLKCn3ztuEAEAqyKMAAAAowgjAADAKMIIAAAwijACAACMIowAAACjCCNAEpnmsFHcDIDlEEYAC8hNT5HLGfo/12kOm56+dzHFzQBYDkXPgAQSqNz7iKYvL5JkU16mK+DzVFkFYFWEESBBtJ8d0A1bXpJncDjoNS6nXfs3VBI6ACQVpmmABNHT7w0ZRCTJMzgcdOQEAKyKMAIAAIximgYw6NI1Ise7zhnuDQCYQRgBDAlnjQgATAVM0wCGhLNGBACmAsIIAAAwijACAACMiiqMNDY2qqSkRKmpqSorK9PBgweDXvsv//IvuvHGG3XFFVcoKytLixcv1r/9279F3WFgKnM57ZR7B5B0Il7Aum/fPq1fv16NjY1aunSptm/frurqah09elRFRUVjrn/55Zd144036vvf/75ycnL0+OOP69Zbb9V//Md/6DOf+cyk/BJAMttas1Dz8zIkUWUVQHKy+Xw+XyQ3VFRUaNGiRWpqavK3LViwQMuXL1dDQ0NYr3H11VerpqZG3/72t8O63u12Kzs7W729vcrKyoqku0DC+m17r76w7ZVxr/vluutUWpAdhx4BwOQK9/s7omkar9er1tZWVVVVjWqvqqrSoUOHwnqN4eFh9fX1acaMGUGv8Xg8crvdo34AAEByiiiMdHd3a2hoSPn5+aPa8/Pz1dnZGdZr/OAHP1B/f7/uuOOOoNc0NDQoOzvb/1NYWBhJNwFLCOckXtaIAJgKoip6ZrPZRj32+Xxj2gLZu3evvvvd7+rnP/+58vLygl5XX1+vuro6/2O3200gQdIpyEnT/g2VIc+aYY0IgKkgojAya9YsORyOMaMgXV1dY0ZLLrdv3z7dc889euaZZ/T5z38+5LUul0suV+Bj0oFkUpCTRtgAMOVFFEZSUlJUVlamlpYWrVixwt/e0tKi2267Leh9e/fu1d133629e/fqlltuib63gEVceuZMIIx4AMBHIp6mqaur06pVq1ReXq7Fixdrx44damtrU21traSLUyzt7e3avXu3pItBZPXq1fqnf/onfe5zn/OPqqSlpSk7mx0CSD7hnDnjctq1f0MlgQQAFEUYqamp0ZkzZ7R582Z1dHSotLRUzc3NKi4uliR1dHSora3Nf/327ds1ODiotWvXau3atf72r3zlK3riiScm/hsACaT1ZI8OHe8e98wZz+Cwevq9hBEAUBR1RkygzgisoPVkj25vCm+Lu0T9EADJLyZ1RgAEd+qD86a7AACWFNXWXgAfGVmsShgBgOgQRoAJCGexKgAgNKZpgCi1nx3Qayc+IIgAwAQxMgJEgRERAJg8jIwAUejp904oiHDmDAB8hJERIM6+ceMn9Odl86gxAgB/wMgIEGdL5s8iiADAJRgZAeLgGzd+QoUzpqtwxnSVFeea7g4AJBTCCBAHyz6ZR7VVAAiCaRogxlisCgChMTICxNDWmoW6tmQGa0QAIATCCHCZkfLuweSmpyg3PUUupz3k9l6X004QAYAwEEaAS4RTzMzltGv/hkrt31A5bmghiADA+AgjwB+EW97dMzisnn6vSguyCRsAMAkII4Ao7w4AJrGbBtDEy7sDAKJHGAEAAEYRRgAAgFGEEQAAYBRhBAAAGMVuGkwJ4xUy6+r7MOzXorw7AEwuwgiSXjjbdqc5bGG9FuXdAWDyMU2DpBfOtt0LQ75xAwnl3QEgNhgZQdK5fErmeNe5sO7bvqpceZmuoM9T3h0AYoMwgqQykUqqeZkulRZkx6BXAIBQmKZBUqGSKgBYDyMjsLRop2QAAImDMALL4nA7AEgOhBFYzshoyPGucwQRAEgChBFYwkgA6er7UH/1ZKsuDPkm9fUpZAYA5hBGkPBiMR2ztWah5udl+B+zbRcAzCGMIOHFYofM/LwMtvECQIIgjCChtJ8d0KHj76uz1+Nve88d/rkx4WBKBgASC2EECaP97IAqH96vC5O8JpUpGQBIbIQRJIyefu+kBxGJKRkASHSEEcTd5YXKRsSiYBlTMgCQ+AgjiKt4FSobmZphSgYAEh9hBDF36UhIPAqVuZx2XVsygxACABZBGEFMxWskZJrDpu2rypWX6WI0BAAshjCCmIrVKbrfuPETWvbJPP9jAggAWBdhBJZUOGM6O2QAIEkQRhCxYLthRsRjlKJwxvSYvj4AIH4IIxjXpeEjnIPqXE679m+onFAg+XJFkfKzUse0Z6Q6dc28HJUV50b92gCAxEIYwRjtZwf0Vmef3AMX1HPeq7/716OKZNmHZ3BYPf3eCYWRlZ8tYhoGAKYIwghGaT87oGWPvCTvUGx3v4RCoTIAmFoII1PEyFTLsY7eUYfQjchIdSp3eoouDA0bCSKXnh/DzhgAmFoII1NAvGp9BJKbniKX0x7yvSlSBgBTG2EkyQTa6RKPqqfBFOSkaf+GSuO7bwAAiYswYhEji0pPdvero/e83u/z6sNLAkbaNLtSnQ79v9bfa3A4+E4XEwpy0ggbAICgCCMWkAiLSgEAiBXCSIy1nuzRqQ/OB32+cMb0cWtm9PR7LRVE2A0DAIgEYWSCLk6fuHWy+7zOeQYlSX0fenXeO6zuPo9eOPreuK/x079eYukiXpceUiexBgQAEJkpF0ZClTLv6vtQks3/pXo5z+CwXE77Jdd7dO/u1yIqCBbIqQ/OJ1QYcdpt4647cdqlHavLlZeZSvgAAEzIlAojJre4WsmmmxeoeFa63AMXAj6flebUVbOzCCAAgEkxpcJIrI6zTzbXFHL2CwAgfqZUGMFFgQ6hG6nAGs6CWgAAJlNUYaSxsVGPPPKIOjo6dPXVV2vr1q26/vrrg15/4MAB1dXV6c0339TcuXP1zW9+U7W1tVF3GtFzOe3662XzmWIBACSMiMPIvn37tH79ejU2Nmrp0qXavn27qqurdfToURUVFY25/sSJE7r55pu1Zs0a7dmzR6+++qruu+8+XXHFFbr99tsn5ZdIdrnpKUpx2CPa3uu02/6wwHT0YlwWmwIAEo3N5/NFVK6zoqJCixYtUlNTk79twYIFWr58uRoaGsZc/61vfUu/+MUvdOzYMX9bbW2tfvOb3+jw4cNhvafb7VZ2drZ6e3uVlZUVSXdH+W17r76w7ZWo74+VrTULtfwzBSGvCacC66wMl+Zkp6l4Vrqump1J6AAAGBXu93dEIyNer1etra3auHHjqPaqqiodOnQo4D2HDx9WVVXVqLabbrpJO3fu1IULFzRt2rQx93g8Hnk8H50s63a7I+mm5RTOmD7uNZRUBwAkq4jCSHd3t4aGhpSfnz+qPT8/X52dnQHv6ezsDHj94OCguru7NWfOnDH3NDQ06MEHH4yka5bitEubblmg3OkuFowCAKa8qBaw2my2UY99Pt+YtvGuD9Q+or6+XnV1df7HbrdbhYWF0XR1lHCOs58Ih02657qPSZLOey++x/QUh+bkpKp4ZrryMlP9/WCUAwCAiyIKI7NmzZLD4RgzCtLV1TVm9GPE7NmzA17vdDo1c+bMgPe4XC65XIGroE7EeMfZR1qB9XKEDAAAIhdRGElJSVFZWZlaWlq0YsUKf3tLS4tuu+22gPcsXrxYzz///Ki2F198UeXl5QHXi8Ra6LUX2XHtCwAAkIL/b34QdXV1+vGPf6xdu3bp2LFjuv/++9XW1uavG1JfX6/Vq1f7r6+trdXJkydVV1enY8eOadeuXdq5c6c2bNgweb8FAACwrIjXjNTU1OjMmTPavHmzOjo6VFpaqubmZhUXF0uSOjo61NbW5r++pKREzc3Nuv/++/Xoo49q7ty5+uEPf0iNEQAAICmKOiMmTFadEQAAED/hfn9HPE0DAAAwmQgjAADAKMIIAAAwijACAACMIowAAACjCCMAAMCoqM6mibeR3cfJfnovAADJZOR7e7wqIpYII319fZI0KYflAQCA+Orr61N2dvAjVyxR9Gx4eFinT59WZmZmyNOBk9XIqcWnTp2i6FuM8VnHF593/PBZxw+f9Ud8Pp/6+vo0d+5c2e3BV4ZYYmTEbrdr3rx5prthXFZW1pT/hx0vfNbxxecdP3zW8cNnfVGoEZERLGAFAABGEUYAAIBRhBELcLlc+s53viOXy2W6K0mPzzq++Lzjh886fvisI2eJBawAACB5MTICAACMIowAAACjCCMAAMAowggAADCKMGJRHo9HCxculM1m0xtvvGG6O0np3Xff1T333KOSkhKlpaXpyiuv1He+8x15vV7TXUsKjY2NKikpUWpqqsrKynTw4EHTXUo6DQ0Nuvbaa5WZmam8vDwtX75cb731luluTQkNDQ2y2Wxav3696a5YAmHEor75zW9q7ty5pruR1P7nf/5Hw8PD2r59u95880394z/+ox577DH97d/+remuWd6+ffu0fv16bdq0Sa+//rquv/56VVdXq62tzXTXksqBAwe0du1a/fu//7taWlo0ODioqqoq9ff3m+5aUnvttde0Y8cOXXPNNaa7Yhls7bWgX/3qV6qrq9NPf/pTXX311Xr99de1cOFC092aEh555BE1NTXpnXfeMd0VS6uoqNCiRYvU1NTkb1uwYIGWL1+uhoYGgz1Lbu+//77y8vJ04MAB/fEf/7Hp7iSlc+fOadGiRWpsbNRDDz2khQsXauvWraa7lfAYGbGY9957T2vWrNGTTz6p6dOnm+7OlNPb26sZM2aY7oaleb1etba2qqqqalR7VVWVDh06ZKhXU0Nvb68k8W84htauXatbbrlFn//85013xVIscVAeLvL5fLrzzjtVW1ur8vJyvfvuu6a7NKW8/fbb2rZtm37wgx+Y7oqldXd3a2hoSPn5+aPa8/Pz1dnZaahXyc/n86murk7XXXedSktLTXcnKT399NP6z//8T7322mumu2I5jIwkgO9+97uy2Wwhf44cOaJt27bJ7Xarvr7edJctLdzP+1KnT5/Wn/7pn+ov/uIv9NWvftVQz5OLzWYb9djn841pw+T52te+pv/6r//S3r17TXclKZ06dUpf//rXtWfPHqWmpprujuWwZiQBdHd3q7u7O+Q1H/vYx7Ry5Uo9//zzo/5gDw0NyeFw6C//8i/1z//8z7HualII9/Me+YNy+vRpLVu2TBUVFXriiSdkt5PhJ8Lr9Wr69Ol65plntGLFCn/717/+db3xxhs6cOCAwd4lp3Xr1um5557Tyy+/rJKSEtPdSUrPPfecVqxYIYfD4W8bGhqSzWaT3W6Xx+MZ9RxGI4xYSFtbm9xut//x6dOnddNNN+nZZ59VRUWF5s2bZ7B3yam9vV3Lli1TWVmZ9uzZwx+TSVJRUaGysjI1Njb62z71qU/ptttuYwHrJPL5fFq3bp1+9rOf6aWXXtLHP/5x011KWn19fTp58uSotrvuukuf/OQn9a1vfYupsXGwZsRCioqKRj3OyMiQJF155ZUEkRg4ffq0KisrVVRUpC1btuj999/3Pzd79myDPbO+uro6rVq1SuXl5Vq8eLF27NihtrY21dbWmu5aUlm7dq1+8pOf6Oc//7kyMzP9a3Kys7OVlpZmuHfJJTMzc0zgSE9P18yZMwkiYSCMAEG8+OKLOn78uI4fPz4m7DGgODE1NTU6c+aMNm/erI6ODpWWlqq5uVnFxcWmu5ZURrZOV1ZWjmp//PHHdeedd8a/Q0AQTNMAAACjWIkHAACMIowAAACjCCMAAMAowggAADCKMAIAAIwijAAAAKMIIwAAwCjCCAAAMIowAgAAjCKMAAAAowgjAADAKMIIAAAw6v8DwWejRASFvYYAAAAASUVORK5CYII=\n",
>>>>>>> Stashed changes
      "text/plain": [
       "<Figure size 640x480 with 1 Axes>"
      ]
     },
     "metadata": {
      "filenames": {
       "image/png": "/Users/sc3623/Repos/ENGR131_W2023/_build/jupyter_execute/jupyterbook/week4/lecture4/3_Functions_as_objects_21_1.png"
      }
     },
     "output_type": "display_data"
    }
   ],
   "source": [
    "x = np.random.uniform(-5, 5, 100)\n",
    "plt.plot(x, np.array(list(map(sig, x))), \"s\")\n"
   ]
  },
  {
   "cell_type": "markdown",
   "metadata": {
    "slideshow": {
     "slide_type": "slide"
    }
   },
   "source": [
    "## Function Scope\n",
    "\n",
    "A variable is only available from inside the region which is was created"
   ]
  },
  {
   "cell_type": "markdown",
   "metadata": {
    "slideshow": {
     "slide_type": "subslide"
    }
   },
   "source": [
    "### Local Scope\n",
    "\n",
    "A variable created inside a function belongs to the *local scope* of that function, and can only be used inside that function"
   ]
  },
  {
   "cell_type": "markdown",
   "metadata": {
    "slideshow": {
     "slide_type": "fragment"
    }
   },
   "source": [
    "A variable created inside a function is available inside that function:\n",
    "\n"
   ]
  },
  {
   "cell_type": "code",
   "execution_count": 11,
   "metadata": {
    "slideshow": {
     "slide_type": "fragment"
    }
   },
   "outputs": [
    {
     "name": "stdout",
     "output_type": "stream",
     "text": [
      "300\n"
     ]
    }
   ],
   "source": [
    "def myfunc():\n",
    "    x = 300\n",
    "    print(x)\n",
    "\n",
    "\n",
    "myfunc()\n"
   ]
  },
  {
   "cell_type": "markdown",
   "metadata": {
    "slideshow": {
     "slide_type": "subslide"
    }
   },
   "source": [
    "### Global Scope\n",
    "\n",
    "A variable created in the main body of the Python code is a global variable and belongs to the global scope.\n"
   ]
  },
  {
   "cell_type": "markdown",
   "metadata": {
    "slideshow": {
     "slide_type": "fragment"
    }
   },
   "source": [
    "\n",
    "Global variables are available from within any scope, global and local."
   ]
  },
  {
   "cell_type": "markdown",
   "metadata": {
    "slideshow": {
     "slide_type": "fragment"
    }
   },
   "source": [
    "A variable created outside of a function is global and can be used by anyone:\n"
   ]
  },
  {
   "cell_type": "code",
   "execution_count": 12,
   "metadata": {
    "slideshow": {
     "slide_type": "fragment"
    }
   },
   "outputs": [
    {
     "name": "stdout",
     "output_type": "stream",
     "text": [
      "300\n",
      "300\n"
     ]
    }
   ],
   "source": [
    "x = 300\n",
    "\n",
    "\n",
    "def myfunc():\n",
    "    print(x)\n",
    "\n",
    "\n",
    "myfunc()\n",
    "\n",
    "print(x)\n"
   ]
  },
  {
   "cell_type": "markdown",
   "metadata": {
    "slideshow": {
     "slide_type": "subslide"
    }
   },
   "source": [
    "### Common Mistakes\n",
    "\n",
    "You cannot access a locally defined variable outside a function, as it does not exist"
   ]
  },
  {
   "cell_type": "code",
   "execution_count": null,
   "metadata": {
    "slideshow": {
     "slide_type": "fragment"
    },
    "tags": [
     "skip-execution"
    ]
   },
   "outputs": [],
   "source": [
    "x = 300\n",
    "\n",
    "\n",
    "def my_function():\n",
    "    print(x)\n",
    "    y = 200\n",
    "    print(y)\n",
    "\n",
    "\n",
    "y\n"
   ]
  }
 ],
 "metadata": {
  "celltoolbar": "Tags",
  "kernelspec": {
   "display_name": "ENGR_131",
   "language": "python",
   "name": "python3"
  },
  "language_info": {
   "codemirror_mode": {
    "name": "ipython",
    "version": 3
   },
   "file_extension": ".py",
   "mimetype": "text/x-python",
   "name": "python",
   "nbconvert_exporter": "python",
   "pygments_lexer": "ipython3",
   "version": "3.10.8"
  },
  "vscode": {
   "interpreter": {
    "hash": "775f42d2c624786ce087f304b32550a3a398124b7164551d1aea823130207773"
   }
  }
 },
 "nbformat": 4,
 "nbformat_minor": 2
}