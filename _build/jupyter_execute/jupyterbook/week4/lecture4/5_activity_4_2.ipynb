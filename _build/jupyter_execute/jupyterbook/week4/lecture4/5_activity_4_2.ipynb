{
 "cells": [
  {
   "attachments": {},
   "cell_type": "markdown",
   "metadata": {},
   "source": [
    "# 💻 Activity 4.2: Solving an Old School Punishment With a New Trick\n",
    "\n",
    "In high school you are the class clown. Your teacher to punish you tells you to write \"I will not text jay in spanish class.\" 100 times. You teacher thinks they are smart and removes all possibilities of copy and paste from your computer. But you are smarter than that! Write a script using dynamic programming concepts that can address your current and future mischievous plans. \n",
    "\n",
    "1. \"I will not hide 250 rubber ducks in math class.\"  (250 times)\n",
    "2. \"I will not cheat off Sarah and Tom in ENGR131 class.\" (101 times)"
   ]
  },
  {
   "attachments": {},
   "cell_type": "markdown",
   "metadata": {},
   "source": [
    "Your function goes here"
   ]
  },
  {
   "cell_type": "code",
   "execution_count": null,
   "metadata": {
    "tags": [
     "skip-execution"
    ]
   },
   "outputs": [],
   "source": [
    "...\n"
   ]
  },
  {
   "cell_type": "code",
   "execution_count": 1,
   "metadata": {
    "tags": [
     "hide-cell"
    ]
   },
   "outputs": [],
   "source": [
    "def punishment(multiple, *args):\n",
    "    action, noun, class_ = args\n",
    "    print(f\"I will not {action} {noun} in {class_} class. \\n\" * 100) "
   ]
  },
  {
   "attachments": {},
   "cell_type": "markdown",
   "metadata": {},
   "source": [
    "\"I will not text jay in spanish class.\" 100 times"
   ]
  },
  {
   "cell_type": "code",
   "execution_count": null,
   "metadata": {
    "tags": [
     "skip-execution"
    ]
   },
   "outputs": [],
   "source": [
    "...\n"
   ]
  },
  {
   "cell_type": "code",
   "execution_count": 2,
   "metadata": {
    "tags": [
     "hide-cell"
    ]
   },
   "outputs": [
    {
     "name": "stdout",
     "output_type": "stream",
     "text": [
      "I will not text jay in spanish class. \n",
      "I will not text jay in spanish class. \n",
      "I will not text jay in spanish class. \n",
      "I will not text jay in spanish class. \n",
      "I will not text jay in spanish class. \n",
      "I will not text jay in spanish class. \n",
      "I will not text jay in spanish class. \n",
      "I will not text jay in spanish class. \n",
      "I will not text jay in spanish class. \n",
      "I will not text jay in spanish class. \n",
      "I will not text jay in spanish class. \n",
      "I will not text jay in spanish class. \n",
      "I will not text jay in spanish class. \n",
      "I will not text jay in spanish class. \n",
      "I will not text jay in spanish class. \n",
      "I will not text jay in spanish class. \n",
      "I will not text jay in spanish class. \n",
      "I will not text jay in spanish class. \n",
      "I will not text jay in spanish class. \n",
      "I will not text jay in spanish class. \n",
      "I will not text jay in spanish class. \n",
      "I will not text jay in spanish class. \n",
      "I will not text jay in spanish class. \n",
      "I will not text jay in spanish class. \n",
      "I will not text jay in spanish class. \n",
      "I will not text jay in spanish class. \n",
      "I will not text jay in spanish class. \n",
      "I will not text jay in spanish class. \n",
      "I will not text jay in spanish class. \n",
      "I will not text jay in spanish class. \n",
      "I will not text jay in spanish class. \n",
      "I will not text jay in spanish class. \n",
      "I will not text jay in spanish class. \n",
      "I will not text jay in spanish class. \n",
      "I will not text jay in spanish class. \n",
      "I will not text jay in spanish class. \n",
      "I will not text jay in spanish class. \n",
      "I will not text jay in spanish class. \n",
      "I will not text jay in spanish class. \n",
      "I will not text jay in spanish class. \n",
      "I will not text jay in spanish class. \n",
      "I will not text jay in spanish class. \n",
      "I will not text jay in spanish class. \n",
      "I will not text jay in spanish class. \n",
      "I will not text jay in spanish class. \n",
      "I will not text jay in spanish class. \n",
      "I will not text jay in spanish class. \n",
      "I will not text jay in spanish class. \n",
      "I will not text jay in spanish class. \n",
      "I will not text jay in spanish class. \n",
      "I will not text jay in spanish class. \n",
      "I will not text jay in spanish class. \n",
      "I will not text jay in spanish class. \n",
      "I will not text jay in spanish class. \n",
      "I will not text jay in spanish class. \n",
      "I will not text jay in spanish class. \n",
      "I will not text jay in spanish class. \n",
      "I will not text jay in spanish class. \n",
      "I will not text jay in spanish class. \n",
      "I will not text jay in spanish class. \n",
      "I will not text jay in spanish class. \n",
      "I will not text jay in spanish class. \n",
      "I will not text jay in spanish class. \n",
      "I will not text jay in spanish class. \n",
      "I will not text jay in spanish class. \n",
      "I will not text jay in spanish class. \n",
      "I will not text jay in spanish class. \n",
      "I will not text jay in spanish class. \n",
      "I will not text jay in spanish class. \n",
      "I will not text jay in spanish class. \n",
      "I will not text jay in spanish class. \n",
      "I will not text jay in spanish class. \n",
      "I will not text jay in spanish class. \n",
      "I will not text jay in spanish class. \n",
      "I will not text jay in spanish class. \n",
      "I will not text jay in spanish class. \n",
      "I will not text jay in spanish class. \n",
      "I will not text jay in spanish class. \n",
      "I will not text jay in spanish class. \n",
      "I will not text jay in spanish class. \n",
      "I will not text jay in spanish class. \n",
      "I will not text jay in spanish class. \n",
      "I will not text jay in spanish class. \n",
      "I will not text jay in spanish class. \n",
      "I will not text jay in spanish class. \n",
      "I will not text jay in spanish class. \n",
      "I will not text jay in spanish class. \n",
      "I will not text jay in spanish class. \n",
      "I will not text jay in spanish class. \n",
      "I will not text jay in spanish class. \n",
      "I will not text jay in spanish class. \n",
      "I will not text jay in spanish class. \n",
      "I will not text jay in spanish class. \n",
      "I will not text jay in spanish class. \n",
      "I will not text jay in spanish class. \n",
      "I will not text jay in spanish class. \n",
      "I will not text jay in spanish class. \n",
      "I will not text jay in spanish class. \n",
      "I will not text jay in spanish class. \n",
      "I will not text jay in spanish class. \n",
      "\n"
     ]
    }
   ],
   "source": [
    "punishment(100, 'text','jay',\"spanish\")"
   ]
  },
  {
   "attachments": {},
   "cell_type": "markdown",
   "metadata": {},
   "source": [
    "\"I will not hide 250 rubber ducks in math class.\"  (250 times)"
   ]
  },
  {
   "cell_type": "code",
   "execution_count": null,
   "metadata": {
    "tags": [
     "skip-execution"
    ]
   },
   "outputs": [],
   "source": [
    "...\n"
   ]
  },
  {
   "cell_type": "code",
   "execution_count": 3,
   "metadata": {
    "tags": [
     "hide-cell"
    ]
   },
   "outputs": [
    {
     "name": "stdout",
     "output_type": "stream",
     "text": [
      "I will not hide 250 rubber ducks in Math class. \n",
      "I will not hide 250 rubber ducks in Math class. \n",
      "I will not hide 250 rubber ducks in Math class. \n",
      "I will not hide 250 rubber ducks in Math class. \n",
      "I will not hide 250 rubber ducks in Math class. \n",
      "I will not hide 250 rubber ducks in Math class. \n",
      "I will not hide 250 rubber ducks in Math class. \n",
      "I will not hide 250 rubber ducks in Math class. \n",
      "I will not hide 250 rubber ducks in Math class. \n",
      "I will not hide 250 rubber ducks in Math class. \n",
      "I will not hide 250 rubber ducks in Math class. \n",
      "I will not hide 250 rubber ducks in Math class. \n",
      "I will not hide 250 rubber ducks in Math class. \n",
      "I will not hide 250 rubber ducks in Math class. \n",
      "I will not hide 250 rubber ducks in Math class. \n",
      "I will not hide 250 rubber ducks in Math class. \n",
      "I will not hide 250 rubber ducks in Math class. \n",
      "I will not hide 250 rubber ducks in Math class. \n",
      "I will not hide 250 rubber ducks in Math class. \n",
      "I will not hide 250 rubber ducks in Math class. \n",
      "I will not hide 250 rubber ducks in Math class. \n",
      "I will not hide 250 rubber ducks in Math class. \n",
      "I will not hide 250 rubber ducks in Math class. \n",
      "I will not hide 250 rubber ducks in Math class. \n",
      "I will not hide 250 rubber ducks in Math class. \n",
      "I will not hide 250 rubber ducks in Math class. \n",
      "I will not hide 250 rubber ducks in Math class. \n",
      "I will not hide 250 rubber ducks in Math class. \n",
      "I will not hide 250 rubber ducks in Math class. \n",
      "I will not hide 250 rubber ducks in Math class. \n",
      "I will not hide 250 rubber ducks in Math class. \n",
      "I will not hide 250 rubber ducks in Math class. \n",
      "I will not hide 250 rubber ducks in Math class. \n",
      "I will not hide 250 rubber ducks in Math class. \n",
      "I will not hide 250 rubber ducks in Math class. \n",
      "I will not hide 250 rubber ducks in Math class. \n",
      "I will not hide 250 rubber ducks in Math class. \n",
      "I will not hide 250 rubber ducks in Math class. \n",
      "I will not hide 250 rubber ducks in Math class. \n",
      "I will not hide 250 rubber ducks in Math class. \n",
      "I will not hide 250 rubber ducks in Math class. \n",
      "I will not hide 250 rubber ducks in Math class. \n",
      "I will not hide 250 rubber ducks in Math class. \n",
      "I will not hide 250 rubber ducks in Math class. \n",
      "I will not hide 250 rubber ducks in Math class. \n",
      "I will not hide 250 rubber ducks in Math class. \n",
      "I will not hide 250 rubber ducks in Math class. \n",
      "I will not hide 250 rubber ducks in Math class. \n",
      "I will not hide 250 rubber ducks in Math class. \n",
      "I will not hide 250 rubber ducks in Math class. \n",
      "I will not hide 250 rubber ducks in Math class. \n",
      "I will not hide 250 rubber ducks in Math class. \n",
      "I will not hide 250 rubber ducks in Math class. \n",
      "I will not hide 250 rubber ducks in Math class. \n",
      "I will not hide 250 rubber ducks in Math class. \n",
      "I will not hide 250 rubber ducks in Math class. \n",
      "I will not hide 250 rubber ducks in Math class. \n",
      "I will not hide 250 rubber ducks in Math class. \n",
      "I will not hide 250 rubber ducks in Math class. \n",
      "I will not hide 250 rubber ducks in Math class. \n",
      "I will not hide 250 rubber ducks in Math class. \n",
      "I will not hide 250 rubber ducks in Math class. \n",
      "I will not hide 250 rubber ducks in Math class. \n",
      "I will not hide 250 rubber ducks in Math class. \n",
      "I will not hide 250 rubber ducks in Math class. \n",
      "I will not hide 250 rubber ducks in Math class. \n",
      "I will not hide 250 rubber ducks in Math class. \n",
      "I will not hide 250 rubber ducks in Math class. \n",
      "I will not hide 250 rubber ducks in Math class. \n",
      "I will not hide 250 rubber ducks in Math class. \n",
      "I will not hide 250 rubber ducks in Math class. \n",
      "I will not hide 250 rubber ducks in Math class. \n",
      "I will not hide 250 rubber ducks in Math class. \n",
      "I will not hide 250 rubber ducks in Math class. \n",
      "I will not hide 250 rubber ducks in Math class. \n",
      "I will not hide 250 rubber ducks in Math class. \n",
      "I will not hide 250 rubber ducks in Math class. \n",
      "I will not hide 250 rubber ducks in Math class. \n",
      "I will not hide 250 rubber ducks in Math class. \n",
      "I will not hide 250 rubber ducks in Math class. \n",
      "I will not hide 250 rubber ducks in Math class. \n",
      "I will not hide 250 rubber ducks in Math class. \n",
      "I will not hide 250 rubber ducks in Math class. \n",
      "I will not hide 250 rubber ducks in Math class. \n",
      "I will not hide 250 rubber ducks in Math class. \n",
      "I will not hide 250 rubber ducks in Math class. \n",
      "I will not hide 250 rubber ducks in Math class. \n",
      "I will not hide 250 rubber ducks in Math class. \n",
      "I will not hide 250 rubber ducks in Math class. \n",
      "I will not hide 250 rubber ducks in Math class. \n",
      "I will not hide 250 rubber ducks in Math class. \n",
      "I will not hide 250 rubber ducks in Math class. \n",
      "I will not hide 250 rubber ducks in Math class. \n",
      "I will not hide 250 rubber ducks in Math class. \n",
      "I will not hide 250 rubber ducks in Math class. \n",
      "I will not hide 250 rubber ducks in Math class. \n",
      "I will not hide 250 rubber ducks in Math class. \n",
      "I will not hide 250 rubber ducks in Math class. \n",
      "I will not hide 250 rubber ducks in Math class. \n",
      "I will not hide 250 rubber ducks in Math class. \n",
      "\n"
     ]
    }
   ],
   "source": [
    "punishment(250, 'hide','250 rubber ducks',\"Math\")"
   ]
  },
  {
   "attachments": {},
   "cell_type": "markdown",
   "metadata": {},
   "source": [
    "\"I will not cheat off Sarah and Tom in ENGR131 class.\" (101 times)"
   ]
  },
  {
   "cell_type": "code",
   "execution_count": null,
   "metadata": {
    "tags": [
     "skip-execution"
    ]
   },
   "outputs": [],
   "source": [
    "...\n"
   ]
  },
  {
   "cell_type": "code",
   "execution_count": 4,
   "metadata": {
    "tags": [
     "hide-cell"
    ]
   },
   "outputs": [
    {
     "name": "stdout",
     "output_type": "stream",
     "text": [
      "I will not cheat off Sarah and Tom in ENGR131 class. \n",
      "I will not cheat off Sarah and Tom in ENGR131 class. \n",
      "I will not cheat off Sarah and Tom in ENGR131 class. \n",
      "I will not cheat off Sarah and Tom in ENGR131 class. \n",
      "I will not cheat off Sarah and Tom in ENGR131 class. \n",
      "I will not cheat off Sarah and Tom in ENGR131 class. \n",
      "I will not cheat off Sarah and Tom in ENGR131 class. \n",
      "I will not cheat off Sarah and Tom in ENGR131 class. \n",
      "I will not cheat off Sarah and Tom in ENGR131 class. \n",
      "I will not cheat off Sarah and Tom in ENGR131 class. \n",
      "I will not cheat off Sarah and Tom in ENGR131 class. \n",
      "I will not cheat off Sarah and Tom in ENGR131 class. \n",
      "I will not cheat off Sarah and Tom in ENGR131 class. \n",
      "I will not cheat off Sarah and Tom in ENGR131 class. \n",
      "I will not cheat off Sarah and Tom in ENGR131 class. \n",
      "I will not cheat off Sarah and Tom in ENGR131 class. \n",
      "I will not cheat off Sarah and Tom in ENGR131 class. \n",
      "I will not cheat off Sarah and Tom in ENGR131 class. \n",
      "I will not cheat off Sarah and Tom in ENGR131 class. \n",
      "I will not cheat off Sarah and Tom in ENGR131 class. \n",
      "I will not cheat off Sarah and Tom in ENGR131 class. \n",
      "I will not cheat off Sarah and Tom in ENGR131 class. \n",
      "I will not cheat off Sarah and Tom in ENGR131 class. \n",
      "I will not cheat off Sarah and Tom in ENGR131 class. \n",
      "I will not cheat off Sarah and Tom in ENGR131 class. \n",
      "I will not cheat off Sarah and Tom in ENGR131 class. \n",
      "I will not cheat off Sarah and Tom in ENGR131 class. \n",
      "I will not cheat off Sarah and Tom in ENGR131 class. \n",
      "I will not cheat off Sarah and Tom in ENGR131 class. \n",
      "I will not cheat off Sarah and Tom in ENGR131 class. \n",
      "I will not cheat off Sarah and Tom in ENGR131 class. \n",
      "I will not cheat off Sarah and Tom in ENGR131 class. \n",
      "I will not cheat off Sarah and Tom in ENGR131 class. \n",
      "I will not cheat off Sarah and Tom in ENGR131 class. \n",
      "I will not cheat off Sarah and Tom in ENGR131 class. \n",
      "I will not cheat off Sarah and Tom in ENGR131 class. \n",
      "I will not cheat off Sarah and Tom in ENGR131 class. \n",
      "I will not cheat off Sarah and Tom in ENGR131 class. \n",
      "I will not cheat off Sarah and Tom in ENGR131 class. \n",
      "I will not cheat off Sarah and Tom in ENGR131 class. \n",
      "I will not cheat off Sarah and Tom in ENGR131 class. \n",
      "I will not cheat off Sarah and Tom in ENGR131 class. \n",
      "I will not cheat off Sarah and Tom in ENGR131 class. \n",
      "I will not cheat off Sarah and Tom in ENGR131 class. \n",
      "I will not cheat off Sarah and Tom in ENGR131 class. \n",
      "I will not cheat off Sarah and Tom in ENGR131 class. \n",
      "I will not cheat off Sarah and Tom in ENGR131 class. \n",
      "I will not cheat off Sarah and Tom in ENGR131 class. \n",
      "I will not cheat off Sarah and Tom in ENGR131 class. \n",
      "I will not cheat off Sarah and Tom in ENGR131 class. \n",
      "I will not cheat off Sarah and Tom in ENGR131 class. \n",
      "I will not cheat off Sarah and Tom in ENGR131 class. \n",
      "I will not cheat off Sarah and Tom in ENGR131 class. \n",
      "I will not cheat off Sarah and Tom in ENGR131 class. \n",
      "I will not cheat off Sarah and Tom in ENGR131 class. \n",
      "I will not cheat off Sarah and Tom in ENGR131 class. \n",
      "I will not cheat off Sarah and Tom in ENGR131 class. \n",
      "I will not cheat off Sarah and Tom in ENGR131 class. \n",
      "I will not cheat off Sarah and Tom in ENGR131 class. \n",
      "I will not cheat off Sarah and Tom in ENGR131 class. \n",
      "I will not cheat off Sarah and Tom in ENGR131 class. \n",
      "I will not cheat off Sarah and Tom in ENGR131 class. \n",
      "I will not cheat off Sarah and Tom in ENGR131 class. \n",
      "I will not cheat off Sarah and Tom in ENGR131 class. \n",
      "I will not cheat off Sarah and Tom in ENGR131 class. \n",
      "I will not cheat off Sarah and Tom in ENGR131 class. \n",
      "I will not cheat off Sarah and Tom in ENGR131 class. \n",
      "I will not cheat off Sarah and Tom in ENGR131 class. \n",
      "I will not cheat off Sarah and Tom in ENGR131 class. \n",
      "I will not cheat off Sarah and Tom in ENGR131 class. \n",
      "I will not cheat off Sarah and Tom in ENGR131 class. \n",
      "I will not cheat off Sarah and Tom in ENGR131 class. \n",
      "I will not cheat off Sarah and Tom in ENGR131 class. \n",
      "I will not cheat off Sarah and Tom in ENGR131 class. \n",
      "I will not cheat off Sarah and Tom in ENGR131 class. \n",
      "I will not cheat off Sarah and Tom in ENGR131 class. \n",
      "I will not cheat off Sarah and Tom in ENGR131 class. \n",
      "I will not cheat off Sarah and Tom in ENGR131 class. \n",
      "I will not cheat off Sarah and Tom in ENGR131 class. \n",
      "I will not cheat off Sarah and Tom in ENGR131 class. \n",
      "I will not cheat off Sarah and Tom in ENGR131 class. \n",
      "I will not cheat off Sarah and Tom in ENGR131 class. \n",
      "I will not cheat off Sarah and Tom in ENGR131 class. \n",
      "I will not cheat off Sarah and Tom in ENGR131 class. \n",
      "I will not cheat off Sarah and Tom in ENGR131 class. \n",
      "I will not cheat off Sarah and Tom in ENGR131 class. \n",
      "I will not cheat off Sarah and Tom in ENGR131 class. \n",
      "I will not cheat off Sarah and Tom in ENGR131 class. \n",
      "I will not cheat off Sarah and Tom in ENGR131 class. \n",
      "I will not cheat off Sarah and Tom in ENGR131 class. \n",
      "I will not cheat off Sarah and Tom in ENGR131 class. \n",
      "I will not cheat off Sarah and Tom in ENGR131 class. \n",
      "I will not cheat off Sarah and Tom in ENGR131 class. \n",
      "I will not cheat off Sarah and Tom in ENGR131 class. \n",
      "I will not cheat off Sarah and Tom in ENGR131 class. \n",
      "I will not cheat off Sarah and Tom in ENGR131 class. \n",
      "I will not cheat off Sarah and Tom in ENGR131 class. \n",
      "I will not cheat off Sarah and Tom in ENGR131 class. \n",
      "I will not cheat off Sarah and Tom in ENGR131 class. \n",
      "I will not cheat off Sarah and Tom in ENGR131 class. \n",
      "\n"
     ]
    }
   ],
   "source": [
    "punishment(101, 'cheat off','Sarah and Tom',\"ENGR131\")"
   ]
  }
 ],
 "metadata": {
  "kernelspec": {
   "display_name": "torch",
   "language": "python",
   "name": "python3"
  },
  "language_info": {
   "codemirror_mode": {
    "name": "ipython",
    "version": 3
   },
   "file_extension": ".py",
   "mimetype": "text/x-python",
   "name": "python",
   "nbconvert_exporter": "python",
   "pygments_lexer": "ipython3",
   "version": "3.10.0"
  },
  "vscode": {
   "interpreter": {
    "hash": "6c85558113b53c129e108b4bd8e5af9b1125141b2f5c4ff4283ce45d32702647"
   }
  }
 },
 "nbformat": 4,
 "nbformat_minor": 2
}