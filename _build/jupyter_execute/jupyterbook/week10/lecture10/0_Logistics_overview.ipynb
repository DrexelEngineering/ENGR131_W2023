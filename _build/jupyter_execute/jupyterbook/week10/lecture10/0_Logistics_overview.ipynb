{
 "cells": [
  {
   "cell_type": "markdown",
   "metadata": {
    "slideshow": {
     "slide_type": "slide"
    }
   },
   "source": [
    "# 📝 Logistics: Final Exam, Final Lab\n"
   ]
  },
  {
   "cell_type": "markdown",
   "metadata": {
    "slideshow": {
     "slide_type": "subslide"
    }
   },
   "source": [
    "## Final Exam Information\n",
    "\n",
    "### Final Exam \n",
    "\n",
    "**TIME CHANGE**: 10:30 am -12:30 pm March 20, 2023\n",
    "\n",
    "**Location**: Main Auditorium, PISB 106, and a computer lab\n",
    "\n",
    "In the near future, we will send instructions regarding who should attend which location."
   ]
  },
  {
   "cell_type": "markdown",
   "metadata": {
    "slideshow": {
     "slide_type": "subslide"
    }
   },
   "source": [
    "### Exam Structure\n",
    "\n",
    "**Make certain to read the instructions in [Week 9 lecture](https://courses.coe.drexel.edu/ENGR/ENGR131W23/jupyterbook/week9/lecture9/0_Logistics_overview.html#final-exam) about the Final Exam**"
   ]
  },
  {
   "cell_type": "markdown",
   "metadata": {
    "slideshow": {
     "slide_type": "fragment"
    }
   },
   "source": [
    "## Zoom-recording in Lab\n",
    "\n",
    "To have one more opportunity to practice recording in Zoom, one task in lab this week will be a 3-4 minute recording. You will need to read and understand commented code that is part of the lab, which is an important skill for using code others have written. Then, you will describe this portion of the lab in 3-4 minutes on video. \n",
    "\n",
    "Please attend your lab section. It will not be held on Zoom though a room will be opened for you in lab. If you need to record the video after lab, you can use your [Drexel Zoom account](https://drexel.zoom.us) to do so. "
   ]
  },
  {
   "cell_type": "markdown",
   "metadata": {
    "slideshow": {
     "slide_type": "fragment"
    }
   },
   "source": [
    "## No Homework\n",
    "\n",
    "To allow you to prepare for the final, no homework will be assigned this week."
   ]
  }
 ],
 "metadata": {
  "celltoolbar": "Slideshow",
  "kernelspec": {
   "display_name": "Python 3 (ipykernel)",
   "language": "python",
   "name": "python3"
  },
  "language_info": {
   "codemirror_mode": {
    "name": "ipython",
    "version": 3
   },
   "file_extension": ".py",
   "mimetype": "text/x-python",
   "name": "python",
   "nbconvert_exporter": "python",
   "pygments_lexer": "ipython3",
   "version": "3.10.8"
  },
  "varInspector": {
   "cols": {
    "lenName": 16,
    "lenType": 16,
    "lenVar": 40
   },
   "kernels_config": {
    "python": {
     "delete_cmd_postfix": "",
     "delete_cmd_prefix": "del ",
     "library": "var_list.py",
     "varRefreshCmd": "print(var_dic_list())"
    },
    "r": {
     "delete_cmd_postfix": ") ",
     "delete_cmd_prefix": "rm(",
     "library": "var_list.r",
     "varRefreshCmd": "cat(var_dic_list()) "
    }
   },
   "types_to_exclude": [
    "module",
    "function",
    "builtin_function_or_method",
    "instance",
    "_Feature"
   ],
   "window_display": false
  }
 },
 "nbformat": 4,
 "nbformat_minor": 2
}