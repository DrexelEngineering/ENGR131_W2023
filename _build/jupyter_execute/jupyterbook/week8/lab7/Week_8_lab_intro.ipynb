{
 "cells": [
  {
   "attachments": {},
   "cell_type": "markdown",
   "id": "e7a8af20-e875-40ad-9219-a7f7196d9567",
   "metadata": {},
   "source": [
    "# 📝 Week 8 - Lab Intro\n",
    "\n",
    "In this lab introduction we will briefly review how Arrays and broadcasting for this lab"
   ]
  },
  {
   "cell_type": "code",
   "execution_count": null,
   "id": "15bb2f71-9ed8-4daa-b358-104be27e8002",
   "metadata": {
    "tags": [
     "skip-execution"
    ]
   },
   "outputs": [],
   "source": [
    "import numpy as np\n",
    "import matplotlib.pyplot as plt"
   ]
  },
  {
   "cell_type": "markdown",
   "id": "891b1ccb-463d-4299-8fd6-3f132a334eaa",
   "metadata": {},
   "source": [
    "## Creating Arrays"
   ]
  },
  {
   "cell_type": "markdown",
   "id": "9b304e66-e3b8-4822-9c14-984461da994c",
   "metadata": {},
   "source": [
    "### Creating an array of zeros,\n",
    "We often want an empty array to begin iterative calculations. We can use `np.zeros()` to create an array of zeros. If you forget what the inputs are, hover over the function, and press `shift + tab` to view the docstring."
   ]
  },
  {
   "cell_type": "code",
   "execution_count": null,
   "id": "2612b693-0fe2-4f2a-976c-b98ab6a17677",
   "metadata": {
    "tags": [
     "skip-execution"
    ]
   },
   "outputs": [],
   "source": [
    "print(np.zeros(10))"
   ]
  },
  {
   "cell_type": "code",
   "execution_count": null,
   "id": "a061f885-22e0-42c1-b665-90346e1a59ba",
   "metadata": {
    "tags": [
     "skip-execution"
    ]
   },
   "outputs": [],
   "source": [
    "print(np.zeros((2,3)))"
   ]
  },
  {
   "cell_type": "markdown",
   "id": "9c2ab004-c0cb-490d-b760-6282b86ecff1",
   "metadata": {},
   "source": [
    "### Creating an array with equal spacing\n",
    "To make an array with equal spacing, use `np.linspace()`. This method can only create 1D arrays."
   ]
  },
  {
   "cell_type": "code",
   "execution_count": null,
   "id": "dd4d49ed-f378-4516-9f68-605553384261",
   "metadata": {
    "tags": [
     "skip-execution"
    ]
   },
   "outputs": [],
   "source": [
    "print(np.linspace(0,1))"
   ]
  },
  {
   "cell_type": "markdown",
   "id": "5fcb52c8-6260-4039-b0b4-299da8472b1f",
   "metadata": {
    "tags": []
   },
   "source": [
    "The default number of points is 50. If we want to change the number of points, we can use input `num=...`"
   ]
  },
  {
   "cell_type": "code",
   "execution_count": null,
   "id": "55ab7fc8-8dd5-47b6-9de5-794dd0e98711",
   "metadata": {
    "tags": [
     "skip-execution"
    ]
   },
   "outputs": [],
   "source": [
    "print(np.linspace(0,1,num=10))"
   ]
  },
  {
   "cell_type": "markdown",
   "id": "06398db4-4704-4ad8-b723-76057e5d2184",
   "metadata": {
    "tags": []
   },
   "source": [
    "If we want to exclude the endpoint, we can use input `endpoint=False`."
   ]
  },
  {
   "cell_type": "code",
   "execution_count": null,
   "id": "e0827dab-f539-48f2-928d-b0eba0c9fcc2",
   "metadata": {
    "tags": [
     "skip-execution"
    ]
   },
   "outputs": [],
   "source": [
    "print(np.linspace(0,1,num=10,endpoint=False))"
   ]
  },
  {
   "cell_type": "markdown",
   "id": "1bd92fb8-119b-4c9d-99b6-48b96ada8ba1",
   "metadata": {},
   "source": [
    "## Create array from list"
   ]
  },
  {
   "cell_type": "code",
   "execution_count": null,
   "id": "41f296ba-4612-4d55-b3fd-be96948c99cc",
   "metadata": {
    "tags": [
     "skip-execution"
    ]
   },
   "outputs": [],
   "source": [
    "num_list = [0,3,4,5,7]\n",
    "arr = np.array(num_list)\n",
    "\n",
    "print(arr, type(num_list), type(arr))"
   ]
  },
  {
   "cell_type": "markdown",
   "id": "6bc9e8bd-68c5-4abd-bc52-a900f8bf79d2",
   "metadata": {},
   "source": [
    "## Broadcasting\n",
    "Numpy arrays can infer how to distribute a calculation across axes. This is called *broadcasting*. For example, let's try some basic operations"
   ]
  },
  {
   "cell_type": "code",
   "execution_count": null,
   "id": "d51e09a6-5fb0-448e-915f-0ecfe0ee6f68",
   "metadata": {
    "tags": [
     "skip-execution"
    ]
   },
   "outputs": [],
   "source": [
    "test_array = np.zeros(5)\n",
    "print(test_array)"
   ]
  },
  {
   "cell_type": "code",
   "execution_count": null,
   "id": "6d7893a0-f17c-46b6-b4ee-97f7930589d6",
   "metadata": {
    "tags": [
     "skip-execution"
    ]
   },
   "outputs": [],
   "source": [
    "test_array = test_array+1\n",
    "print(test_array)"
   ]
  },
  {
   "cell_type": "code",
   "execution_count": null,
   "id": "cccd28fe-e7c0-43ae-a86f-3880c8510c5d",
   "metadata": {
    "tags": [
     "skip-execution"
    ]
   },
   "outputs": [],
   "source": [
    "test_array = test_array * 6\n",
    "print(test_array)"
   ]
  },
  {
   "cell_type": "markdown",
   "id": "7abd1fbf-7215-4cd9-959f-d5d0b0ebe665",
   "metadata": {},
   "source": [
    "### What happens when we perform operations on arrays of different shapes?"
   ]
  },
  {
   "cell_type": "code",
   "execution_count": null,
   "id": "a6ede8cc-2291-4480-bd24-66caa53c1781",
   "metadata": {
    "tags": [
     "skip-execution"
    ]
   },
   "outputs": [],
   "source": [
    "test_array = np.ones(5)\n",
    "print(test_array)"
   ]
  },
  {
   "cell_type": "code",
   "execution_count": null,
   "id": "b3117791-79db-4003-8142-b14841306b25",
   "metadata": {
    "tags": [
     "skip-execution"
    ]
   },
   "outputs": [],
   "source": [
    "test_linspace_array = np.linspace(0,1,num=10,endpoint=False)\n",
    "print(test_linspace_array)"
   ]
  },
  {
   "cell_type": "code",
   "execution_count": null,
   "id": "41f2932d-f469-4769-bbd9-2f42dff94405",
   "metadata": {
    "tags": [
     "skip-execution"
    ]
   },
   "outputs": [],
   "source": [
    "test_array + test_linspace_array"
   ]
  },
  {
   "cell_type": "markdown",
   "id": "ef02da9f-2c33-4bef-ae27-4cbe9f1408ef",
   "metadata": {},
   "source": [
    "We see that need to perform operations on arrays with similiar shapes"
   ]
  },
  {
   "cell_type": "markdown",
   "id": "89ef039d-1f45-4206-b224-15e5f4aba4b7",
   "metadata": {},
   "source": [
    "### np functions and broadcasting\n",
    "\n",
    "Many numpy function will automatically broadcast depending on the shape of your input"
   ]
  },
  {
   "cell_type": "code",
   "execution_count": null,
   "id": "93d4719f-b701-4245-b0ad-67158eb3d7b2",
   "metadata": {
    "tags": [
     "skip-execution"
    ]
   },
   "outputs": [],
   "source": [
    "np.sin(np.pi/2)"
   ]
  },
  {
   "cell_type": "code",
   "execution_count": null,
   "id": "258e54aa-2b58-4bb8-8e53-ddad8ae2deb7",
   "metadata": {
    "tags": [
     "skip-execution"
    ]
   },
   "outputs": [],
   "source": [
    "test_linspace_array = np.linspace(0,1,num=10,endpoint=False)\n",
    "print(test_linspace_array.shape)\n",
    "\n",
    "print(np.sin(np.pi * test_linspace_array))"
   ]
  },
  {
   "cell_type": "markdown",
   "id": "a4fd1d8d-717a-4845-959b-627908b52c98",
   "metadata": {},
   "source": [
    "## Plotting arrays\n",
    "\n",
    "To plot, we can use the `plt.plot(x_array,y_array)`\n",
    "\n",
    "We can also add a title and axis labels using `plt.title()`, `plt.xlabel()` and `plt.ylable()`"
   ]
  },
  {
   "cell_type": "code",
   "execution_count": null,
   "id": "058e6838-a886-4662-8fd9-dad5eebe1ae5",
   "metadata": {
    "tags": [
     "skip-execution"
    ]
   },
   "outputs": [],
   "source": [
    "t = np.linspace(0,2*np.pi,num=20,endpoint=False)\n",
    "y = np.sin(t)\n",
    "\n",
    "plt.plot(t,y)\n",
    "plt.title('Example Sine curve')\n",
    "plt.xlabel('time (s)')\n",
    "plt.ylabel('amplitude (a.u.)')"
   ]
  },
  {
   "cell_type": "code",
   "execution_count": null,
   "id": "0f273129-1494-43dd-a4c6-f0d2e26defed",
   "metadata": {},
   "outputs": [],
   "source": [
    "\n"
   ]
  }
 ],
 "metadata": {
  "kernelspec": {
   "display_name": "Python 3",
   "language": "python",
   "name": "python3"
  },
  "language_info": {
   "codemirror_mode": {
    "name": "ipython",
    "version": 3
   },
   "file_extension": ".py",
   "mimetype": "text/x-python",
   "name": "python",
   "nbconvert_exporter": "python",
   "pygments_lexer": "ipython3",
<<<<<<< Updated upstream
   "version": "3.10.0"
=======
   "version": "3.10.8"
>>>>>>> Stashed changes
  },
  "vscode": {
   "interpreter": {
    "hash": "31f2aee4e71d21fbe5cf8b01ff0e069b9275f58929596ceb00d14d90e3e16cd6"
   }
  }
 },
 "nbformat": 4,
 "nbformat_minor": 5
}