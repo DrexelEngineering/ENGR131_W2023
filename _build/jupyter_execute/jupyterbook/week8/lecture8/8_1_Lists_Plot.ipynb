{
 "cells": [
  {
   "attachments": {},
   "cell_type": "markdown",
   "metadata": {
    "slideshow": {
     "slide_type": "slide"
    }
   },
   "source": [
    "# Lists\n"
   ]
  },
  {
   "attachments": {},
   "cell_type": "markdown",
   "metadata": {
    "slideshow": {
     "slide_type": "subslide"
    }
   },
   "source": [
    "## Constructing a list\n",
    "\n",
    "Let's use an example from the lab you did in ENGR 111 to build a car with a mousetrap. \n",
    "\n",
    "Consider collecting the data from different lengths of fishing wire to find the greatest distance you could get the car to travel."
   ]
  },
  {
   "cell_type": "code",
   "execution_count": 1,
   "metadata": {
    "slideshow": {
     "slide_type": "fragment"
    }
   },
   "outputs": [],
   "source": [
    "# length of fishing wire in inches\n",
    "fishingWireLength = [0.5, 2.5, 1.0, 2.2, 1.7, 1.4]\n",
    "\n",
    "# distance traveled in feet\n",
    "distanceTraveled = [0.3, 1.1, 0.8, 1.2, 1.3, 1.5]\n"
   ]
  },
  {
   "attachments": {},
   "cell_type": "markdown",
   "metadata": {},
   "source": [
    "Now, you have two lists. We'll look at how you can use python to plot the data you collected in an activity. \n"
   ]
  },
  {
   "attachments": {},
   "cell_type": "markdown",
   "metadata": {
    "slideshow": {
     "slide_type": "subslide"
    }
   },
   "source": [
    "We can use operations on lists and list methods to find the maximum distance traveled and the corresponding fishing wire length."
   ]
  },
  {
   "cell_type": "code",
   "execution_count": 2,
   "metadata": {},
   "outputs": [],
   "source": [
    "# find shortest distance traveled\n",
    "shortestDistance = max(distanceTraveled)\n",
    "\n",
    "# find the location in the list\n",
    "indexShortestDistance = distanceTraveled.index(shortestDistance)\n",
    "\n",
    "# determine the corresponding fishing wire length\n",
    "worstFishingWireLength = fishingWireLength[indexShortestDistance]\n"
   ]
  },
  {
   "attachments": {},
   "cell_type": "markdown",
   "metadata": {
    "slideshow": {
     "slide_type": "subslide"
    }
   },
   "source": [
    "## List comprehensions\n",
    "\n",
    "Perhaps you got access to a new set of fishing wires that are 3 inches longer. \n",
    "\n",
    "You want to design a similar experiment to find the distances the car would travel using these fishing wire instead of the shorter ones.\n",
    "\n",
    "Constructing a list using list comprehension could help design lengths to try."
   ]
  },
  {
   "cell_type": "code",
   "execution_count": 3,
   "metadata": {
    "slideshow": {
     "slide_type": "fragment"
    }
   },
   "outputs": [],
   "source": [
    "# make a new list with every element of the fishing wire length list increased by three inches\n",
    "longerFishingWireLength = [(i + 3) for i in fishingWireLength]\n"
   ]
  },
  {
   "attachments": {},
   "cell_type": "markdown",
   "metadata": {
    "slideshow": {
     "slide_type": "slide"
    }
   },
   "source": [
    "## Basic plotting\n",
    "\n",
    "Lists make it very easy to plot one variable against another.\n",
    "\n",
    "Make sure you have imported the `matplotlib` package then apply the [`plot` method](https://matplotlib.org/stable/api/_as_gen/matplotlib.pyplot.plot.html#matplotlib.pyplot.plot)."
   ]
  },
  {
   "cell_type": "code",
   "execution_count": 4,
   "metadata": {
    "slideshow": {
     "slide_type": "subslide"
    }
   },
   "outputs": [
    {
     "data": {
      "text/plain": [
       "Text(0, 0.5, 'b')"
      ]
     },
     "execution_count": 4,
     "metadata": {},
     "output_type": "execute_result"
    },
    {
     "data": {
<<<<<<< Updated upstream
      "image/png": "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\n",
=======
      "image/png": "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\n",
>>>>>>> Stashed changes
      "text/plain": [
       "<Figure size 640x480 with 1 Axes>"
      ]
     },
     "metadata": {
      "filenames": {
<<<<<<< Updated upstream
       "image/png": "/mnt/c/Users/jca92/Documents/codes/2023_ENGR_131/ENGR131_W2023/_build/jupyter_execute/jupyterbook/week8/lecture8/8_1_Lists_Plot_9_1.png"
=======
       "image/png": "/Users/sc3623/Repos/ENGR131_W2023/_build/jupyter_execute/jupyterbook/week8/lecture8/8_1_Lists_Plot_9_1.png"
>>>>>>> Stashed changes
      }
     },
     "output_type": "display_data"
    }
   ],
   "source": [
    "import matplotlib.pyplot as plt\n",
    "\n",
    "# make lists\n",
    "a = [4, 3, 2, 1]\n",
    "b = [1, 4, 2, 3]\n",
    "\n",
    "# make a scatter plot of b against a with circle markers\n",
    "plt.plot(a, b, \"o\")\n",
    "\n",
    "# label x- and y-axes\n",
    "plt.xlabel(\"a\")\n",
    "plt.ylabel(\"b\")\n"
   ]
  },
  {
   "cell_type": "code",
   "execution_count": null,
   "metadata": {},
   "outputs": [],
   "source": []
  }
 ],
 "metadata": {
  "celltoolbar": "Slideshow",
  "kernelspec": {
   "display_name": "base",
   "language": "python",
   "name": "python3"
  },
  "language_info": {
   "codemirror_mode": {
    "name": "ipython",
    "version": 3
   },
   "file_extension": ".py",
   "mimetype": "text/x-python",
   "name": "python",
   "nbconvert_exporter": "python",
   "pygments_lexer": "ipython3",
<<<<<<< Updated upstream
   "version": "3.10.0"
=======
   "version": "3.10.8"
>>>>>>> Stashed changes
  },
  "vscode": {
   "interpreter": {
    "hash": "d7d046052154998ca7dd3d9af52f7220fee50748c9a05b256540159ca8eb430c"
   }
  }
 },
 "nbformat": 4,
 "nbformat_minor": 2
}