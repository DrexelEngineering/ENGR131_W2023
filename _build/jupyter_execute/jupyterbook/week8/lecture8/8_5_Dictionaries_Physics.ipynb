{
 "cells": [
  {
   "attachments": {},
   "cell_type": "markdown",
   "metadata": {
    "slideshow": {
     "slide_type": "slide"
    }
   },
   "source": [
    "# Using Dictionaries for Physics\n"
   ]
  },
  {
   "attachments": {},
   "cell_type": "markdown",
   "metadata": {
    "slideshow": {
     "slide_type": "subslide"
    }
   },
   "source": [
    "## Arrange information\n",
    "\n",
    "To compare different scenarios, one can arrange essential information in a dictionary where it is easily accessible for calculations.\n",
    "\n",
    "Let's consider an example from a construction site where four different objects need to be lifted to the appropriate floor.\n"
   ]
  },
  {
   "cell_type": "code",
   "execution_count": 1,
   "metadata": {
    "slideshow": {
     "slide_type": "fragment"
    }
   },
   "outputs": [],
   "source": [
    "# create dictionary for scenarios in which work is completed\n",
    "\n",
    "beam1 = {\"floor\": 18, \"weight\": 5000}\n",
    "beam2 = {\"floor\": 20, \"weight\": 4000}\n",
    "window1 = {\"floor\": 10, \"weight\": 200}\n",
    "window2 = {\"floor\": 7, \"weight\": 200}\n",
    "\n",
    "construction = [beam1, beam2, window1, window2]\n"
   ]
  },
  {
   "attachments": {},
   "cell_type": "markdown",
   "metadata": {
    "slideshow": {
     "slide_type": "subslide"
    }
   },
   "source": [
    "## Calculate work\n",
    "\n",
    "We know that the work required to lift an object is given by \n",
    "\n",
    "$W = Fd = mgd$\n",
    "\n",
    "where $W$ is work, $m$ is mass, $g$ is gravity, and $d$ is distance from the ground.\n",
    "\n",
    "Each floor of a building is approximately 10 feet high."
   ]
  },
  {
   "cell_type": "code",
   "execution_count": 2,
   "metadata": {
    "slideshow": {
     "slide_type": "fragment"
    }
   },
   "outputs": [
    {
     "name": "stdout",
     "output_type": "stream",
     "text": [
      "[{'floor': 18, 'weight': 5000, 'work': 900000}, {'floor': 20, 'weight': 4000, 'work': 800000}, {'floor': 10, 'weight': 200, 'work': 20000}, {'floor': 7, 'weight': 200, 'work': 14000}]\n"
     ]
    }
   ],
   "source": [
    "# iterate through the list to add the work required for each\n",
    "for i in range(len(construction)):\n",
    "    work = construction[i][\"weight\"] * construction[i][\"floor\"] * 10\n",
    "    construction[i].update({\"work\": work})\n",
    "\n",
    "print(construction)\n"
   ]
  },
  {
   "attachments": {},
   "cell_type": "markdown",
   "metadata": {},
   "source": [
    "Determine the most and least work-intensive objects to lift."
   ]
  },
  {
   "cell_type": "code",
   "execution_count": 3,
   "metadata": {},
   "outputs": [],
   "source": [
    "# iterate over list of items to form list of work\n",
    "workRequired = []\n",
    "for items in construction:\n",
    "    workRequired.append(items.get(\"work\"))\n",
    "\n",
    "mostWork = max(workRequired)\n",
    "leastWork = min(workRequired)\n"
   ]
  },
  {
   "cell_type": "code",
   "execution_count": null,
   "metadata": {},
   "outputs": [],
   "source": []
  }
 ],
 "metadata": {
  "celltoolbar": "Slideshow",
  "kernelspec": {
   "display_name": "base",
   "language": "python",
   "name": "python3"
  },
  "language_info": {
   "codemirror_mode": {
    "name": "ipython",
    "version": 3
   },
   "file_extension": ".py",
   "mimetype": "text/x-python",
   "name": "python",
   "nbconvert_exporter": "python",
   "pygments_lexer": "ipython3",
<<<<<<< Updated upstream
   "version": "3.10.0"
=======
   "version": "3.10.8"
>>>>>>> Stashed changes
  },
  "vscode": {
   "interpreter": {
    "hash": "d7d046052154998ca7dd3d9af52f7220fee50748c9a05b256540159ca8eb430c"
   }
  }
 },
 "nbformat": 4,
 "nbformat_minor": 2
}