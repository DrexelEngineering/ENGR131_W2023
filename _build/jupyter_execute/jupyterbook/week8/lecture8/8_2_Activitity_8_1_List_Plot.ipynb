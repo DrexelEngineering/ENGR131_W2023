{
 "cells": [
  {
   "attachments": {},
   "cell_type": "markdown",
   "metadata": {
    "slideshow": {
     "slide_type": "slide"
    }
   },
   "source": [
    "# Activity 8.1: Plot mousetrap car findings\n"
   ]
  },
  {
   "attachments": {},
   "cell_type": "markdown",
   "metadata": {
    "slideshow": {
     "slide_type": "subslide"
    }
   },
   "source": [
    "## Constructing a list\n",
    "\n",
    "If you have easy access to your mousetrap car data, please make a list with the values of one design parameter that you changed iteratively. \n",
    "\n",
    "Make a second list of the distance the car traveled when you used each of those values. Make sure that the order is consistent in both of the lists.\n",
    "\n",
    "Note the nature of the data and the units in comments before you make the lists.\n",
    "\n",
    "If you don't have access to those data, please use the fishing wire length and distance traveled from the previous  notes."
   ]
  },
  {
   "cell_type": "code",
   "execution_count": null,
   "metadata": {
    "slideshow": {
     "slide_type": "fragment"
    },
    "tags": [
     "skip-execution"
    ]
   },
   "outputs": [],
   "source": [
    "# design parameter:\n",
    "# units:\n",
    "...\n",
    "\n",
    "# distance traveled\n",
    "# units:\n",
    "...\n"
   ]
  },
  {
   "attachments": {},
   "cell_type": "markdown",
   "metadata": {},
   "source": [
    "Now, you have two lists. \n"
   ]
  },
  {
   "attachments": {},
   "cell_type": "markdown",
   "metadata": {
    "slideshow": {
     "slide_type": "subslide"
    }
   },
   "source": [
    "Find out which design parameter value resulted in the *maximum* distance traveled."
   ]
  },
  {
   "cell_type": "code",
   "execution_count": null,
   "metadata": {
    "tags": [
     "skip-execution"
    ]
   },
   "outputs": [],
   "source": [
    "# find greatest distance traveled\n",
    "...\n",
    "\n",
    "# find the location in the list of the greatest dist\n",
    "...\n",
    "\n",
    "# determine the corresponding design parameter value\n",
    "...\n"
   ]
  },
  {
   "attachments": {},
   "cell_type": "markdown",
   "metadata": {
    "slideshow": {
     "slide_type": "slide"
    }
   },
   "source": [
    "## How does the design parameter change the distance traveled?\n",
    "\n",
    "Lists make it very easy to plot one variable against another, which is a start to exploring the relationship between two parameters.\n",
    "\n",
    "Make sure you have imported the `matplotlib` package then apply the [`plot` method](https://matplotlib.org/stable/api/_as_gen/matplotlib.pyplot.plot.html#matplotlib.pyplot.plot).\n",
    "\n",
    "The first parameter in the `plot` function goes on the x-axis."
   ]
  },
  {
   "cell_type": "code",
   "execution_count": null,
   "metadata": {
    "slideshow": {
     "slide_type": "subslide"
    },
    "tags": [
     "skip-execution"
    ]
   },
   "outputs": [],
   "source": [
    "import matplotlib.pyplot as plt\n",
    "\n",
    "# make a scatter plot with the design parameter on the x-axis\n",
    "plt.plot(...)\n",
    "\n",
    "# label the axes with the appropriate name and units\n",
    "plt.xlabel(...)\n",
    "plt.ylabel(...)\n",
    "\n",
    "#\n"
   ]
  },
  {
   "cell_type": "code",
   "execution_count": null,
   "metadata": {},
   "outputs": [],
   "source": []
  }
 ],
 "metadata": {
  "celltoolbar": "Slideshow",
  "kernelspec": {
   "display_name": "base",
   "language": "python",
   "name": "python3"
  },
  "language_info": {
   "codemirror_mode": {
    "name": "ipython",
    "version": 3
   },
   "file_extension": ".py",
   "mimetype": "text/x-python",
   "name": "python",
   "nbconvert_exporter": "python",
   "pygments_lexer": "ipython3",
   "version": "3.10.0"
  },
  "vscode": {
   "interpreter": {
    "hash": "d7d046052154998ca7dd3d9af52f7220fee50748c9a05b256540159ca8eb430c"
   }
  }
 },
 "nbformat": 4,
 "nbformat_minor": 2
}