{
 "cells": [
  {
   "cell_type": "markdown",
   "metadata": {},
   "source": [
    "# Instructions for setting up your codespaces account"
   ]
  },
  {
   "attachments": {},
   "cell_type": "markdown",
   "metadata": {},
   "source": [
    "1. Go to www.github.com\n",
    "\n",
    "![](./figs/1.png)"
   ]
  },
  {
   "attachments": {},
   "cell_type": "markdown",
   "metadata": {},
   "source": [
    "2. Create a GitHub Account\n",
    "\n",
    "If you do not have a GitHub account, you will need to make one. Follow the on screen instructions to create an account. We would recommend using your @drexel.edu email address.\n",
    "\n",
    "![](./figs/2.png)"
   ]
  },
  {
   "attachments": {},
   "cell_type": "markdown",
   "metadata": {},
   "source": [
    "3. Change Setting\n",
    "\n",
    "Click on the down arrow in the top right-hand corner of the screen and select settings.\n",
    "\n",
    "![](./figs/4.png)"
   ]
  },
  {
   "attachments": {},
   "cell_type": "markdown",
   "metadata": {},
   "source": [
    "4. Click on Codespaces\n",
    "\n",
    "![](./figs/5.png)\n",
    "\n",
    "5. Scroll down to the editor setting and change the selection to JupyterLab\n",
    "\n",
    "![](./figs/6.png)"
   ]
  },
  {
   "cell_type": "markdown",
   "metadata": {},
   "source": [
    "6. Click on Codespaces at the top\n",
    "\n",
    "![](./figs/7.png)"
   ]
  },
  {
   "attachments": {},
   "cell_type": "markdown",
   "metadata": {},
   "source": [
    "7. Click on Jupyter Notebook `use this template`\n",
    "\n",
    "![](./figs/8.png)"
   ]
  },
  {
   "attachments": {},
   "cell_type": "markdown",
   "metadata": {},
   "source": [
    "8. After a minute or two you will be presented with a familiar JupyterLab interface\n",
    "\n",
    "![](./figs/9.png)"
   ]
  },
  {
   "attachments": {},
   "cell_type": "markdown",
   "metadata": {},
   "source": [
    "From here you can upload your notebook `ipynb` file and complete the lab and exam assignments."
   ]
  },
  {
   "attachments": {},
   "cell_type": "markdown",
   "metadata": {},
   "source": [
    "9. Once you complete your assignment make sure you save your notebook. Download your notebook and `output.log` file. \n",
    "\n",
    "![](./figs/10.png)\n",
    "\n",
    "You will need to submit both your jupyternotebook `ipynb` and your log file to blackboard learn to get credit. "
   ]
  },
  {
   "attachments": {},
   "cell_type": "markdown",
   "metadata": {},
   "source": [
    "When done, it is a good idea to terminate (do not delete) your codespace session. This way you do not use your free resource allotment. "
   ]
  }
 ],
 "metadata": {
  "language_info": {
   "name": "python"
  },
  "orig_nbformat": 4
 },
 "nbformat": 4,
 "nbformat_minor": 2
}
