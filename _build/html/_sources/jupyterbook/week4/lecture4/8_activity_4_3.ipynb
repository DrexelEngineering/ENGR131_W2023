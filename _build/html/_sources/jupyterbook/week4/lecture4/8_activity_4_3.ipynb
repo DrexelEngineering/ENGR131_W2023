{
 "cells": [
  {
   "attachments": {},
   "cell_type": "markdown",
   "metadata": {},
   "source": [
    "# 💻 Activity 4.3: Analyzing Text\n",
    "\n",
    "A common tasks for a computer program is to analyze text for structural characteristics. This can be used to determine readability. We have provided you with a text document from a news article. Build a set of functions, and use the `map` function to count \n",
    "1. The number of words \n",
    "2. The average word length\n",
    "3. The average number of words per sentence\n",
    "4. As a bonus plot a histogram of the word length. Use the matplotlib function `hist` "
   ]
  },
  {
   "cell_type": "code",
   "execution_count": 1,
   "metadata": {},
   "outputs": [],
   "source": [
    "import requests\n",
    "\n",
    "response = requests.get('https://raw.githubusercontent.com/DrexelEngineering/ENGR131_W2023/main/jupyterbook/week4/lecture4/assets/article.txt')\n",
    "article = response.text"
   ]
  },
  {
   "attachments": {},
   "cell_type": "markdown",
   "metadata": {},
   "source": [
    "Print the article to read it"
   ]
  },
  {
   "cell_type": "code",
   "execution_count": 2,
   "metadata": {
    "tags": [
     "skip-execution"
    ]
   },
   "outputs": [
    {
     "data": {
      "text/plain": [
       "Ellipsis"
      ]
     },
     "execution_count": 2,
     "metadata": {},
     "output_type": "execute_result"
    }
   ],
   "source": [
    "..."
   ]
  },
  {
   "cell_type": "code",
<<<<<<< Updated upstream
   "execution_count": 3,
=======
   "execution_count": null,
>>>>>>> Stashed changes
   "metadata": {
    "tags": [
     "hide-cell"
    ]
   },
<<<<<<< Updated upstream
   "outputs": [
    {
     "name": "stdout",
     "output_type": "stream",
     "text": [
      "PHILADELPHIA - Drexel held Delaware without a field goal in overtime as the Dragons held on to defeat their long-time rival, 77-74, on Homecoming in front of a raucous crowd at the Daskalakis Athletic Center on Saturday. The Dragons (12-8) stayed unbeaten at home in Colonial Athletic Association play and moved to 6-2 in conference. Freshman Justin Moore scored a career-high 21 points, while Luke House added 19 points. Delaware fell to 11-10 (3-5).\n",
      "\n",
      "The Blue Hens scored the first point of the overtime period just 17 seconds in, but that would be the last point they would score. Drexel took the lead for good with 3:15 to play when Amari Williams scored on a short jumper and was fouled, making it 75-74. Williams would miss the free throw, but Drexel came up with stops on the defensive end the rest of the way. In the final minute, Delaware had possession and with the ball in the hands of Jameer Nelson, Jr. He made a move in the paint, but his driving attempt was blocked by Williams. House rebounded the ball and was immediately fouled. House calmly sank both free throws, giving Drexel a three-point cushion. On the Hens final possession, Christian Ray drove towards the basket, but missed. LJ Owens came up with the rebound and fed Nelson. His long off balance 3-point attempt from the right corner came up short and Drexel escaped with the win.\n",
      " \n",
      "Both teams had their chances to win in regulation. The Dragons held a seven-point lead with just under five minutes to play, but the Hens scored eight straight points to take the lead at 68-67 with 2:13 to play on a Cavan Reilly 3-pointer. The lead went back and forth as Nelson made consecutive fade away's and Moore countered with four free throws. Jyare Davis went to the free throw line with just 25 ticks left on the clock and made one of two to tie it at 73-73. The Dragons had what looked like the last possession. Moore made a nice move to get to the basket, but stepped on the baseline with 2.9 seconds left and the teams would go to the extra frame.\n",
      " \n",
      "Moore had perhaps the best game of his young career. The freshman from Philadelphia was 8-for-8 from the line and was able to find his way to the basket throughout the game. House showed a different part of his game. He was 7-for-11 from the floor and did not miss on six attempts from inside the arc. He repeatedly found his way past defenders to score in the lane.\n",
      " \n",
      "Williams had another outstanding all around game. He had five rejections, including two late when the game was in the balance. Williams scored 17 points, was 7-for-8 from the floor and grabbed six rebounds. Drexel shot 52 percent from the floor and made 19 of its 23 free throw attempts.\n",
      " \n",
      "Davis and Nelson, Jr. combined for 49 of the Blue Hens 74 points. Davis scored from inside and out, finishing with 28 points. Nelson Jr. added 21 points. Each player added seven rebounds.\n",
      " \n",
      "The Dragons will head to North Carolina for a pair of games next week. They face North Carolina A&T for the first time ever on Thursday night. Drexel will then visit Elon before the nationally-ranked College of Charleston comes to the DAC on February 2.   \n",
      "\n"
     ]
    }
   ],
=======
   "outputs": [],
>>>>>>> Stashed changes
   "source": [
    "print(article)"
   ]
  },
  {
   "attachments": {},
   "cell_type": "markdown",
   "metadata": {},
   "source": [
    "Write a function that counts the number of strings split by a substring.\n",
    "\n",
    "Note: for map to work you need to set a default string to split by"
   ]
  },
  {
   "cell_type": "code",
   "execution_count": 4,
   "metadata": {
    "tags": [
     "skip-execution"
    ]
   },
   "outputs": [
    {
     "data": {
      "text/plain": [
       "Ellipsis"
      ]
     },
     "execution_count": 4,
     "metadata": {},
     "output_type": "execute_result"
    }
   ],
   "source": [
    "..."
   ]
  },
  {
   "cell_type": "code",
<<<<<<< Updated upstream
   "execution_count": 5,
=======
   "execution_count": null,
>>>>>>> Stashed changes
   "metadata": {
    "tags": [
     "hide-cell"
    ]
   },
   "outputs": [],
   "source": [
    "def counter(article, split=\" \"):\n",
    "    return len(article.split(split))\n"
   ]
  },
  {
   "attachments": {},
   "cell_type": "markdown",
   "metadata": {},
   "source": [
    "Write a function that counts the length of a string"
   ]
  },
  {
   "cell_type": "code",
   "execution_count": 6,
   "metadata": {
    "tags": [
     "skip-execution"
    ]
   },
   "outputs": [
    {
     "data": {
      "text/plain": [
       "Ellipsis"
      ]
     },
     "execution_count": 6,
     "metadata": {},
     "output_type": "execute_result"
    }
   ],
   "source": [
    "..."
   ]
  },
  {
   "cell_type": "code",
<<<<<<< Updated upstream
   "execution_count": 7,
=======
   "execution_count": null,
>>>>>>> Stashed changes
   "metadata": {
    "tags": [
     "hide-cell"
    ]
   },
   "outputs": [],
   "source": [
    "def string_len(word):\n",
    "    return len(word)"
   ]
  },
  {
   "attachments": {},
   "cell_type": "markdown",
   "metadata": {},
   "source": [
    "Write your function that does all of the computation and then prints the results"
   ]
  },
  {
   "cell_type": "code",
   "execution_count": 8,
   "metadata": {
    "tags": [
     "skip-execution"
    ]
   },
   "outputs": [
    {
     "data": {
      "text/plain": [
       "Ellipsis"
      ]
     },
     "execution_count": 8,
     "metadata": {},
     "output_type": "execute_result"
    }
   ],
   "source": [
    "..."
   ]
  },
  {
   "cell_type": "code",
<<<<<<< Updated upstream
   "execution_count": 9,
=======
   "execution_count": null,
>>>>>>> Stashed changes
   "metadata": {
    "tags": [
     "hide-cell"
    ]
   },
<<<<<<< Updated upstream
   "outputs": [
    {
     "name": "stdout",
     "output_type": "stream",
     "text": [
      "Word count = 563\n",
      "Average Word Length = 4.58\n",
      "Average Sentence Length = 17.06\n"
     ]
    }
   ],
   "source": [
    "import numpy as np\n",
=======
   "outputs": [],
   "source": [
>>>>>>> Stashed changes
    "word_counts = counter(article, \" \")\n",
    "sentence_counts = counter(article, \". \")\n",
    "word_lengths = np.array(list(map(string_len, article.split(\" \"))))\n",
    "average_word_length = word_lengths.sum() / word_counts\n",
    "\n",
    "sentence_list = article.split(\". \")\n",
    "word_in_sentence = np.array(list(map(counter, sentence_list)))\n",
    "average_sentence_length = word_in_sentence.sum() / len(sentence_list)\n",
    "\n",
    "print(f\"Word count = {word_counts}\")\n",
    "print(f\"Average Word Length = {average_word_length:0.2f}\")\n",
    "print(f\"Average Sentence Length = {average_sentence_length:0.2f}\")"
   ]
  },
  {
   "attachments": {},
   "cell_type": "markdown",
   "metadata": {},
   "source": [
    "Code to make a histogram of the word length"
   ]
  },
  {
   "cell_type": "code",
   "execution_count": 10,
   "metadata": {
    "tags": [
     "skip-execution"
    ]
   },
   "outputs": [
    {
     "data": {
      "text/plain": [
       "Ellipsis"
      ]
     },
     "execution_count": 10,
     "metadata": {},
     "output_type": "execute_result"
    }
   ],
   "source": [
    "..."
   ]
  },
  {
   "cell_type": "code",
<<<<<<< Updated upstream
   "execution_count": 11,
=======
   "execution_count": null,
>>>>>>> Stashed changes
   "metadata": {
    "tags": [
     "hide-cell"
    ]
   },
<<<<<<< Updated upstream
   "outputs": [
    {
     "data": {
      "text/plain": [
       "(array([ 14., 205., 183.,  48.,  75.,  20.,  14.,   3.,   0.,   1.]),\n",
       " array([ 0. ,  1.7,  3.4,  5.1,  6.8,  8.5, 10.2, 11.9, 13.6, 15.3, 17. ]),\n",
       " <BarContainer object of 10 artists>)"
      ]
     },
     "execution_count": 11,
     "metadata": {},
     "output_type": "execute_result"
    },
    {
     "data": {
      "image/png": "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",
      "text/plain": [
       "<Figure size 640x480 with 1 Axes>"
      ]
     },
     "metadata": {},
     "output_type": "display_data"
    }
   ],
=======
   "outputs": [],
>>>>>>> Stashed changes
   "source": [
    "import matplotlib.pyplot as plt\n",
    "\n",
    "plt.hist(word_lengths, 10)"
   ]
<<<<<<< Updated upstream
  },
  {
   "cell_type": "code",
   "execution_count": null,
   "metadata": {},
   "outputs": [],
   "source": []
=======
>>>>>>> Stashed changes
  }
 ],
 "metadata": {
  "kernelspec": {
   "display_name": "base",
   "language": "python",
   "name": "python3"
  },
  "language_info": {
   "codemirror_mode": {
    "name": "ipython",
    "version": 3
   },
   "file_extension": ".py",
   "mimetype": "text/x-python",
   "name": "python",
   "nbconvert_exporter": "python",
   "pygments_lexer": "ipython3",
   "version": "3.10.0"
  },
  "orig_nbformat": 4,
  "vscode": {
   "interpreter": {
    "hash": "d7d046052154998ca7dd3d9af52f7220fee50748c9a05b256540159ca8eb430c"
   }
  }
 },
 "nbformat": 4,
 "nbformat_minor": 2
}
