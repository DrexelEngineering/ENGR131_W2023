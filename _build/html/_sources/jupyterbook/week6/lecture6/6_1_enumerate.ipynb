{
 "cells": [
  {
   "attachments": {},
   "cell_type": "markdown",
   "metadata": {
    "slideshow": {
     "slide_type": "slide"
    }
   },
   "source": [
    "# Introduction of Enumerate"
   ]
  },
  {
   "attachments": {},
   "cell_type": "markdown",
   "metadata": {
    "slideshow": {
     "slide_type": "fragment"
    }
   },
   "source": [
    "A skill necessary for programming is reading documentation to learn how to use functions. \n",
    "\n",
    "For example, consider `enumerate`."
   ]
  },
  {
   "attachments": {},
   "cell_type": "markdown",
   "metadata": {
    "slideshow": {
     "slide_type": "subslide"
    }
   },
   "source": [
    "## Built-in Function\n",
    "\n",
    "`enumerate(iterable, start=0)`\n",
    "\n",
    "Return an enumerate object. `iterable` must be a sequence, an iterator, or some other object which supports iteration. The `__next__()` method of the iterator returned by `enumerate()` returns a tuple containing a count (from start which defaults to 0) and the values obtained from iterating over `iterable`.\n",
    "\n",
    "```python\n",
    "\n",
    ">>> seasons = ['Spring', 'Summer', 'Fall', 'Winter']\n",
    ">>> list(enumerate(seasons))\n",
    "[(0, 'Spring'), (1, 'Summer'), (2, 'Fall'), (3, 'Winter')]\n",
    ">>> list(enumerate(seasons, start=1))\n",
    "[(1, 'Spring'), (2, 'Summer'), (3, 'Fall'), (4, 'Winter')]\n",
    "```\n"
   ]
  },
  {
   "attachments": {},
   "cell_type": "markdown",
   "metadata": {
    "slideshow": {
     "slide_type": "subslide"
    }
   },
   "source": [
    "## Practice with `enumerate`\n",
    "\n",
    "The Eagles wide receivers have Batman nicknames. Let's use `enumerate` to match the wide receiver with the correct nickname."
   ]
  },
  {
   "cell_type": "code",
   "execution_count": null,
   "metadata": {
    "slideshow": {
     "slide_type": "subslide"
    }
   },
   "outputs": [],
   "source": [
    "wideReceivers = ['A. J. Brown', 'DeVonta Smith', 'Quez Watkins']\n",
    "nicknames = ['Swole Batman', 'Skinny Batman', 'Fast Batman']\n",
    "\n",
    "print(list(enumerate(wideReceivers)))"
   ]
  },
  {
   "cell_type": "code",
   "execution_count": null,
   "metadata": {
    "slideshow": {
     "slide_type": "fragment"
    }
   },
   "outputs": [],
   "source": [
    "for count, realName in enumerate(wideReceivers):\n",
    "    print(f'{realName} is also known as {nicknames[count]}.')"
   ]
  }
 ],
 "metadata": {
  "celltoolbar": "Slideshow",
  "kernelspec": {
   "display_name": "engr131",
   "language": "python",
   "name": "python3"
  },
  "language_info": {
   "codemirror_mode": {
    "name": "ipython",
    "version": 3
   },
   "file_extension": ".py",
   "mimetype": "text/x-python",
   "name": "python",
   "nbconvert_exporter": "python",
   "pygments_lexer": "ipython3",
   "version": "3.9.15"
  },
  "vscode": {
   "interpreter": {
    "hash": "acca0ed2a37d0d32f5e53ea586a1af006ea9dcf1bd6ae99e09aae95db7f643f4"
   }
  }
 },
 "nbformat": 4,
 "nbformat_minor": 2
}
