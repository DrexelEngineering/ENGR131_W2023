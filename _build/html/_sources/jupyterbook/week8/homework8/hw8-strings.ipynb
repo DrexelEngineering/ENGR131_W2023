{
 "cells": [
  {
   "cell_type": "code",
   "execution_count": null,
   "metadata": {
    "deletable": false,
    "editable": false,
    "tags": [
     "skip-execution"
    ]
   },
   "outputs": [],
   "source": [
    "# Initialize Otter\n",
    "import otter\n",
    "grader = otter.Notebook(\"hw8-strings.ipynb\")"
   ]
  },
  {
   "attachments": {},
   "cell_type": "markdown",
   "metadata": {
    "deletable": false,
    "editable": false
   },
   "source": [
    "# 🏡📝 Homework 8\n",
    "\n",
    "This assignment includes three problems on the topic of strings.\n",
    "\n"
   ]
  },
  {
   "cell_type": "markdown",
   "metadata": {
    "deletable": false,
    "editable": false
   },
   "source": [
    "**Question 1: Remove non alpha characters** \n",
    "\n",
    "In this lab you will write a function which takes in a string and removes all of the non-alphabetic characters from it.\n",
    "\n",
    "Write python code to do the following:\n",
    "\n",
    "* Define a function called `remove_non_alpha` that takes an input string `s`\n",
    "* Loop through each character in the string, adding it to an output string if it is an alphabetic character.\n",
    "* Return the final string.\n",
    "\n",
    "\n",
    "Your code replaces the prompt:  `...`\n"
   ]
  },
  {
   "cell_type": "code",
   "execution_count": null,
   "metadata": {
    "tags": [
     "skip-execution"
    ]
   },
   "outputs": [],
   "source": [
    "..."
   ]
  },
  {
   "cell_type": "code",
   "execution_count": null,
   "metadata": {
    "deletable": false,
    "editable": false,
    "tags": [
     "skip-execution"
    ]
   },
   "outputs": [],
   "source": [
    "grader.check(\"q1-nonalpha\")"
   ]
  },
  {
   "cell_type": "markdown",
   "metadata": {
    "deletable": false,
    "editable": false
   },
   "source": [
    "**Question 2: Palindrome Detector** \n",
    "\n",
    "A palindrome is a word or a phrase that is the same when read both forward and backward. Examples are: \"bob,\" \"sees,\" or \"never odd or even\" (ignoring spaces). Write a program whose input is a word or phrase, and that outputs true if the input is a palindrome, otherwise false. In determining if a string is a palindrome, you should treat upper vs. lower case versions of characters as the same letter, and you may ignore all spaces. \n",
    "\n",
    "Write python code to do the following:\n",
    "\n",
    "* Define a function called is_palindrome that takes in one input parameter `x`.\n",
    "* Convert the string `x` to be all lower case.\n",
    "* Remove all spaces from string `x`. (Hint: use the string.`replace` method)\n",
    "* Loop through the characters of `x` to determine if it is palindromic\n",
    "\n",
    "Your code replaces the prompt:  `...`"
   ]
  },
  {
   "cell_type": "code",
   "execution_count": null,
   "metadata": {
    "tags": [
     "skip-execution"
    ]
   },
   "outputs": [],
   "source": [
    "...\n"
   ]
  },
  {
   "cell_type": "code",
   "execution_count": null,
   "metadata": {
    "deletable": false,
    "editable": false,
    "tags": [
     "skip-execution"
    ]
   },
   "outputs": [],
   "source": [
    "grader.check(\"q2-palindrome\")"
   ]
  },
  {
   "cell_type": "markdown",
   "metadata": {
    "deletable": false,
    "editable": false
   },
   "source": [
    "**Question 3: Count characters** \n",
    "\n",
    "Your task is to write a function that takes in a character and a string and retruns the count of how many times that character appears in the string.\n",
    "\n",
    "Write python code to do the following:\n",
    "\n",
    "* Define a function called ``count_characters`` which takes two arguments, a character `c`, and a string `s`\n",
    "* Your function should loop through the string and character by character, counting every time the character `c` is encountered\n",
    "* Return the total count, or `0` if the character `c` is not part of string `s`\n",
    "\n",
    "\n",
    "Your code replaces the prompt:  `...`\n"
   ]
  },
  {
   "cell_type": "code",
   "execution_count": null,
   "metadata": {
    "tags": [
     "skip-execution"
    ]
   },
   "outputs": [],
   "source": [
    "..."
   ]
  },
  {
   "cell_type": "code",
   "execution_count": null,
   "metadata": {
    "deletable": false,
    "editable": false,
    "tags": [
     "skip-execution"
    ]
   },
   "outputs": [],
   "source": [
    "grader.check(\"q3-countchars\")"
   ]
  }
 ],
 "metadata": {
  "kernelspec": {
   "display_name": "Python 3",
   "language": "python",
   "name": "python3"
  },
  "language_info": {
   "codemirror_mode": {
    "name": "ipython",
    "version": 3
   },
   "file_extension": ".py",
   "mimetype": "text/x-python",
   "name": "python",
   "nbconvert_exporter": "python",
   "pygments_lexer": "ipython3",
   "version": "3.9.6"
  },
  "otter": {
   "OK_FORMAT": true,
   "tests": {
    "q1-nonalpha": {
     "name": "q1-nonalpha",
     "points": 8,
     "suites": [
      {
       "cases": [
        {
         "code": ">>> \n>>> assert remove_non_alpha(\"Test1\") == \"Test\"\n",
         "hidden": false,
         "locked": false,
         "points": 1,
         "success_message": "remove_non_alpha(\"Test1\") is correct."
        },
        {
         "code": ">>> \n>>> assert remove_non_alpha(\"2Te2st2\") == \"Test\"\n",
         "hidden": false,
         "locked": false,
         "points": 1,
         "success_message": "remove_non_alpha(\"2Te2st2\") is correct."
        },
        {
         "code": ">>> \n>>> assert remove_non_alpha(\"abc123---xyz\") == \"abcxyz\"\n",
         "hidden": false,
         "locked": false,
         "points": 1,
         "success_message": "remove_non_alpha(\"abc123---xyz\") is correct."
        },
        {
         "code": ">>> \n>>> assert remove_non_alpha(\"42!\") == \"\"\n",
         "hidden": false,
         "locked": false,
         "points": 1,
         "success_message": "remove_non_alpha(\"42!\") is correct."
        },
        {
         "code": ">>> \n>>> assert remove_non_alpha(\"same\") == \"same\"\n",
         "hidden": false,
         "locked": false,
         "points": 1,
         "success_message": "remove_non_alpha(\"same\") is correct."
        }
       ],
       "scored": true,
       "setup": "",
       "teardown": "",
       "type": "doctest"
      }
     ]
    },
    "q2-palindrome": {
     "name": "q2-palindrome",
     "points": null,
     "suites": [
      {
       "cases": [
        {
         "code": ">>> \n>>> assert is_palindrome(\"0\")\n",
         "hidden": false,
         "locked": false,
         "points": 1,
         "success_message": "is_palindrome(\"0\") is correct."
        },
        {
         "code": ">>> \n>>> assert is_palindrome(\"bob\")\n",
         "hidden": false,
         "locked": false,
         "points": 1,
         "success_message": "is_palindrome(\"bob\") is correct."
        },
        {
         "code": ">>> \n>>> assert is_palindrome(\"RACE car\")\n",
         "hidden": false,
         "locked": false,
         "points": 1,
         "success_message": "is_palindrome(\"RACE car\") is correct."
        },
        {
         "code": ">>> \n>>> assert not is_palindrome(\"race! car!\")\n>>> \n>>> \n",
         "hidden": false,
         "locked": false,
         "points": 1,
         "success_message": "is_palindrome(\"race! car!\") is correct."
        },
        {
         "code": ">>> \n>>> assert not is_palindrome(\"ABC-DEF\")\n>>> \n>>> \n",
         "hidden": false,
         "locked": false,
         "points": 1,
         "success_message": "is_palindrome(\"ABC-DEF\") is correct."
        }
       ],
       "scored": true,
       "setup": "",
       "teardown": "",
       "type": "doctest"
      }
     ]
    },
    "q3-countchars": {
     "name": "q3-countchars",
     "points": 5,
     "suites": [
      {
       "cases": [
        {
         "code": ">>> \n>>> assert count_characters(\"h\",\"hello\") == 1\n",
         "hidden": false,
         "locked": false,
         "points": 1,
         "success_message": "count_characters(\"h\",\"hello\") is correct."
        },
        {
         "code": ">>> \n>>> assert count_characters(\"l\",\"hello\") == 2\n",
         "hidden": false,
         "locked": false,
         "points": 1,
         "success_message": "count_characters(\"l\",\"hello\") is correct."
        },
        {
         "code": ">>> \n>>> assert count_characters(\"a\",\"testing\") == 0\n",
         "hidden": false,
         "locked": false,
         "points": 1,
         "success_message": "count_characters(\"a\",\"testing\") is correct."
        },
        {
         "code": ">>> \n>>> assert count_characters(\"b\",\"aaabbbcccbbbaaa\") == 6\n",
         "hidden": false,
         "locked": false,
         "points": 1,
         "success_message": "count_characters(\"b\",\"aaabbbcccbbbaaa\") is correct."
        },
        {
         "code": ">>> \n>>> assert count_characters(\"b\",\"a b c\") == 1\n",
         "hidden": false,
         "locked": false,
         "points": 1,
         "success_message": "count_characters(\"b\",\"a b c\") is correct."
        }
       ],
       "scored": true,
       "setup": "",
       "teardown": "",
       "type": "doctest"
      }
     ]
    }
   }
  },
  "varInspector": {
   "cols": {
    "lenName": 16,
    "lenType": 16,
    "lenVar": 40
   },
   "kernels_config": {
    "python": {
     "delete_cmd_postfix": "",
     "delete_cmd_prefix": "del ",
     "library": "var_list.py",
     "varRefreshCmd": "print(var_dic_list())"
    },
    "r": {
     "delete_cmd_postfix": ") ",
     "delete_cmd_prefix": "rm(",
     "library": "var_list.r",
     "varRefreshCmd": "cat(var_dic_list()) "
    }
   },
   "types_to_exclude": [
    "module",
    "function",
    "builtin_function_or_method",
    "instance",
    "_Feature"
   ],
   "window_display": false
  },
  "vscode": {
   "interpreter": {
    "hash": "31f2aee4e71d21fbe5cf8b01ff0e069b9275f58929596ceb00d14d90e3e16cd6"
   }
  }
 },
 "nbformat": 4,
 "nbformat_minor": 4
}
