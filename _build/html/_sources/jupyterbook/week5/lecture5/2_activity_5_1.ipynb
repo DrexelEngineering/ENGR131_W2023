{
 "cells": [
  {
   "attachments": {},
   "cell_type": "markdown",
   "metadata": {
    "slideshow": {
     "slide_type": "slide"
    }
   },
   "source": [
    "# Activity 5.1: Nuclear Plant Temperature Alert\n",
    "\n",
    "We have just covered the relationship of a process value to a desired set point and discussed the importance of redundancy, especially in systems that have the potential to harm people.\n"
   ]
  },
  {
   "attachments": {},
   "cell_type": "markdown",
   "metadata": {},
   "source": [
    "Consider a nuclear reactor. A meltdown would be sufficiently catastrophic that the temperature of the cooling water around the nuclear fuel rods is monitored by four sensors. \n",
    "\n",
    "An alarm should go off if \n",
    "1. any of the two sensors report a temperature greater than 100 degrees Celsius, or \n",
    "2. any two of the sensor readings disagree by strictly 8 degrees. \n",
    "\n",
    "Write a function `coolingWaterAlarm(t1,t2,t3,t4)` where `t1`, `t2`, `t3`, and `t4` are the temperature readings for sensor 1, sensor 2, sensor 3, and sensor 4, respectively. \n",
    "\n",
    "The function should print \n",
    "\n",
    "1. `Alarm! Temperatures differ.` if the first condition above is met,\n",
    "2. `Alarm! Temperatures exceed 100 deg Celsius.` if the second condition above is met, or\n",
    "3.  `Normal operation` if neither condition is met."
   ]
  },
  {
   "cell_type": "code",
   "execution_count": null,
   "metadata": {
    "tags": [
     "skip-execution"
    ]
   },
   "outputs": [],
   "source": [
    "#write your function below\n",
    "..."
   ]
  },
  {
   "cell_type": "code",
   "execution_count": null,
   "metadata": {
    "slideshow": {
     "slide_type": "fragment"
    },
    "tags": [
     "skip-execution"
    ]
   },
   "outputs": [],
   "source": [
    "# use this call to test your function\n",
    "coolingWaterAlarm(93,95,96,101)"
   ]
  },
  {
   "cell_type": "code",
   "execution_count": null,
   "metadata": {
    "slideshow": {
     "slide_type": "fragment"
    },
    "tags": [
     "skip-execution"
    ]
   },
   "outputs": [],
   "source": [
    "# use this call to test your function\n",
    "coolingWaterAlarm(95,103,96,101)"
   ]
  },
  {
   "cell_type": "code",
   "execution_count": null,
   "metadata": {
    "slideshow": {
     "slide_type": "fragment"
    },
    "tags": [
     "skip-execution"
    ]
   },
   "outputs": [],
   "source": [
    "# use this call to test your function\n",
    "coolingWaterAlarm(90,95,96,101)"
   ]
  }
 ],
 "metadata": {
  "kernelspec": {
   "display_name": "Python 3",
   "language": "python",
   "name": "python3"
  },
  "language_info": {
   "codemirror_mode": {
    "name": "ipython",
    "version": 3
   },
   "file_extension": ".py",
   "mimetype": "text/x-python",
   "name": "python",
   "nbconvert_exporter": "python",
   "pygments_lexer": "ipython3",
   "version": "3.9.6 (default, Oct 18 2022, 12:41:40) \n[Clang 14.0.0 (clang-1400.0.29.202)]"
  },
  "orig_nbformat": 4,
  "vscode": {
   "interpreter": {
    "hash": "31f2aee4e71d21fbe5cf8b01ff0e069b9275f58929596ceb00d14d90e3e16cd6"
   }
  }
 },
 "nbformat": 4,
 "nbformat_minor": 2
}
