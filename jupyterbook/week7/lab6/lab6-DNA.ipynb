{
 "cells": [
  {
   "cell_type": "code",
   "execution_count": null,
   "metadata": {
    "deletable": false,
    "editable": false,
    "tags": [
     "skip-execution"
    ]
   },
   "outputs": [],
   "source": [
    "# Initialize Otter\n",
    "import otter\n",
    "grader = otter.Notebook(\"lab6-DNA.ipynb\")"
   ]
  },
  {
   "attachments": {},
   "cell_type": "markdown",
   "metadata": {    
    "deletable": false,
    "editable": false
},
   "source": [
    "# Lab 6: DNA Analysis\n",
    "\n",
    "This lab involves using dictionaries and strings to create a perform message encryption and decryption.\n",
    "\n"
   ]
  },
  {
   "cell_type": "code",
   "execution_count": null,
   "metadata": {
    "tags": [
     "skip-execution"
    ]
   },
   "outputs": [],
   "source": [
    "# Imports"
   ]
  },
  {
   "cell_type": "markdown",
   "metadata": {    
    "deletable": false,
    "editable": false
},
   "source": [
    "**Introduction** \n",
    "\n",
    "In simple terms, your genetic code is a long string of characters drawn from a four-character alphabet `ACGT`, where each letter signifies a particular nucleic acid. Your skills using Python to manipulate strings can be used to perform analyses of genetic code. In this lab, you will write three functions that process a sample string of nucleic acid symbols in three particular ways."
   ]
  },
  {
   "cell_type": "markdown",
   "metadata": {    
    "deletable": false,
    "editable": false
},
   "source": [
    "**Task 1: Base Counts** \n",
    "\n",
    "It can be important to count the number of times each nucleic acid occurs in a string of DNA. You will write a function which takes in a string of DNA and counts the number of times each base (`A`,`C`,`G`, or `T`) occurs. The function returns a dictionary where each key is a letter and its value is the number of times it occurs in the sequence. \n",
    "\n",
    "Write python code to do the following:\n",
    "\n",
    "* Complete a function called `base_counts` which takes in a DNA string `s` of unknown length. \n",
    "* First, initialize a dictionary with keys `\"A\"`,`\"C\"`,`\"G\"`, and `\"T\"`, each having a value of `0`.\n",
    "* Loop through the characters in string `s` and count each base by updating its value in the dictionary.\n",
    "* Finally, return the resulting dictionary of base counts.\n",
    "* Note: you may assume the string contains only the characters (`A`,`C`,`G`, and `T`).\n",
    "* Note: If any base does not occur in the string, that base should still be included in the dictionary, with a value of 0. \n",
    "\n",
    "Your code replaces the prompt:  `...`"
   ]
  },
  {
   "cell_type": "code",
   "execution_count": null,
   "metadata": {
    "tags": [
     "skip-execution"
    ]
   },
   "outputs": [],
   "source": [
    "def base_counts(s):\n",
    "    ...\n",
    "\n",
    "# use this to check your results\n",
    "base_counts(\"AATTC\")"
   ]
  },
  {
   "cell_type": "code",
   "execution_count": null,
   "metadata": {
    "deletable": false,
    "editable": false,
    "tags": [
     "skip-execution"
    ]
   },
   "outputs": [],
   "source": [
    "grader.check(\"task1-base-counts\")"
   ]
  },
  {
   "cell_type": "markdown",
   "metadata": {    
    "deletable": false,
    "editable": false
},
   "source": [
    "**Task 2: Pair Counts** \n",
    "\n",
    "In this next task you will count how many times pairs of bases occur in a string. Since there are 4 unique letters in the genetic code, there are 16 possible unique two-letter pairs. You will count pairs using a dictionary where the keys are two-character pairs (`\"AA\"`, `\"AC\"`, `\"AG\"`, etc.) and the values are the number of times each pair is observed. Note that every letter (except the very first and very last) is in two pairs: one where it is the first letter and the other where it is the second letter.\n",
    "\n",
    "Write python code to do the following:\n",
    "\n",
    "* Complete a function called `pair_counts` which again takes in a DNA string `s` of unknown length. \n",
    "* First, initialize a dictionary with keys (`\"AA\"`, `\"AC\"`, `\"AG\"`, etc.), each having a value of `0`.\n",
    "* Loop through each pair in string `s` and count each by updating its value in the dictionary.\n",
    "* Finally, return the resulting dictionary of pair counts.\n",
    "* Note: you may assume the string contains only the characters (`A`,`C`,`G`, and `T`).\n",
    "* Note: As before, if any pair does not occur in the string, that pair should still be included in the dictionary, with a value of 0.\n",
    "\n",
    "Hint: To loop through pairs in a string, consider looping over the index values the first base in each pair. If `i` is the index of the first base, then `s[i:i+2]` slices the pair.\n",
    "\n",
    "Your code replaces the prompt:  `...`\n"
   ]
  },
  {
   "cell_type": "code",
   "execution_count": null,
   "metadata": {
    "tags": [
     "skip-execution"
    ]
   },
   "outputs": [],
   "source": [
    "def pair_counts(s):\n",
    "    ...\n",
    "\n",
    "# use this to check your results\n",
    "pair_counts(\"AATTC\")"
   ]
  },
  {
   "cell_type": "code",
   "execution_count": null,
   "metadata": {
    "deletable": false,
    "editable": false,
    "tags": [
     "skip-execution"
    ]
   },
   "outputs": [],
   "source": [
    "grader.check(\"task2-pair-counts\")"
   ]
  },
  {
   "cell_type": "markdown",
   "metadata": {    
    "deletable": false,
    "editable": false
},
   "source": [
    "**Task 3: Number of Stops**  \n",
    "\n",
    "Triplets of DNA bases are called codons. Certain codons signal a stopping message and are called \"stop codons.\" The following three-letter sequences are stop codons: `\"TAG\"`, `\"TGA\"`, `\"TAA\"`. Your final task is to count the number of times a stop codon occurs in a DNA string. \n",
    "\n",
    "Write python code to do the following:\n",
    "\n",
    "* Complete a function called `num_stops` which takes in a DNA string `s` of unknown length. \n",
    "* Initialize the count by setting a variable to zero. (You don't need a dictionary since you are only making one count.)\n",
    "* Loop through each triplet in string `s` and increment the count whenever a stop codon is encountered.\n",
    "* Finally, return the integer number of stops.\n",
    "* Note: you may assume the string contains only the characters (`A`,`C`,`G`, and `T`).\n",
    "\n",
    "Hint: You can loop through triplets in a string just like pairs, by looping over the index values the first base in each triplet. If `i` is the index of the first base, then `s[i:i+3]` slices the triplet.\n",
    "\n",
    "Your code replaces the prompt:  `...`\n"
   ]
  },
  {
   "cell_type": "code",
   "execution_count": null,
   "metadata": {
    "tags": [
     "skip-execution"
    ]
   },
   "outputs": [],
   "source": [
    "def num_stops(s):\n",
    "    ...\n",
    "\n",
    "# use this to check your results\n",
    "ex_string = \"ATTTGAAATATGAATGTTAAGATGA\"\n",
    "print(f\"{num_stops(ex_string)} stops detected in {ex_string}.\")"
   ]
  },
  {
   "cell_type": "code",
   "execution_count": null,
   "metadata": {
    "deletable": false,
    "editable": false,
    "tags": [
     "skip-execution"
    ]
   },
   "outputs": [],
   "source": [
    "grader.check(\"task3-num-stops\")"
   ]
  }
 ],
 "metadata": {
  "kernelspec": {
   "display_name": "Python 3",
   "language": "python",
   "name": "python3"
  },
  "language_info": {
   "codemirror_mode": {
    "name": "ipython",
    "version": 3
   },
   "file_extension": ".py",
   "mimetype": "text/x-python",
   "name": "python",
   "nbconvert_exporter": "python",
   "pygments_lexer": "ipython3",
   "version": "3.9.6"
  },
  "otter": {
   "OK_FORMAT": true,
   "tests": {
    "task1-base-counts": {
     "name": "task1-base-counts",
     "points": null,
     "suites": [
      {
       "cases": [
        {
         "code": ">>> \n>>> d = base_counts(\"\")\n>>> \n>>> assert len(d.keys()) == 4 and d[\"A\"] == 0 and d[\"C\"] == 0 and d[\"G\"] == 0 and d[\"T\"] == 0\n",
         "hidden": false,
         "locked": false,
         "points": 1,
         "success_message": "base_counts(\"\") is correct."
        },
        {
         "code": ">>> \n>>> d = base_counts(\"ACA\")\n>>> \n>>> assert len(d.keys()) == 4 and d[\"A\"] == 2 and d[\"C\"] == 1 and d[\"G\"] == 0 and d[\"T\"] == 0\n",
         "hidden": false,
         "locked": false,
         "points": 1,
         "success_message": "base_counts(\"ACA\") is correct."
        },
        {
         "code": ">>> \n>>> d = base_counts(\"CGGGTGGGT\")\n>>> \n>>> assert len(d.keys()) == 4 and d[\"A\"] == 0 and d[\"C\"] == 1 and d[\"G\"] == 6 and d[\"T\"] == 2\n",
         "hidden": false,
         "locked": false,
         "points": 1,
         "success_message": "base_counts(\"CGGGTGGGT\") is correct."
        },
        {
         "code": ">>> \n>>> d = base_counts(\"ACGTCGCGCGTAAAAGATGTGTGCCCTAGCGCGCTATCGCGCGATAGA\")\n>>> \n>>> assert len(d.keys()) == 4 and d[\"A\"] == 11 and d[\"C\"] == 13 and d[\"G\"] == 15 and d[\"T\"] == 9\n",
         "hidden": false,
         "locked": false,
         "points": 1,
         "success_message": "base_counts(\"CGGGTGGGT\") is correct."
        }
       ],
       "scored": true,
       "setup": "",
       "teardown": "",
       "type": "doctest"
      }
     ]
    },
    "task2-pair-counts": {
     "name": "task2-pair-counts",
     "points": null,
     "suites": [
      {
       "cases": [
        {
         "code": ">>> \n>>> answer = {  'AA': 0,\n...             'AC': 0,\n...             'AG': 0,\n...             'AT': 0,\n...             'CA': 0,\n...             'CC': 0,\n...             'CG': 0,\n...             'CT': 0,\n...             'GA': 0,\n...             'GC': 0,\n...             'GG': 0,\n...             'GT': 0,\n...             'TA': 0,\n...             'TC': 0,\n...             'TG': 0,\n...             'TT': 0 }\n>>> \n>>> assert pair_counts(\"C\") == answer\n",
         "hidden": false,
         "locked": false,
         "points": 1,
         "success_message": "pair_counts(\"C\") is correct."
        },
        {
         "code": ">>> \n>>> answer = {  'AA': 0,\n...             'AC': 2,\n...             'AG': 0,\n...             'AT': 0,\n...             'CA': 1,\n...             'CC': 0,\n...             'CG': 0,\n...             'CT': 0,\n...             'GA': 0,\n...             'GC': 0,\n...             'GG': 0,\n...             'GT': 0,\n...             'TA': 0,\n...             'TC': 0,\n...             'TG': 0,\n...             'TT': 0 }\n>>> \n>>> assert pair_counts(\"ACAC\") == answer\n",
         "hidden": false,
         "locked": false,
         "points": 1,
         "success_message": "pair_counts(\"ACAC\") is correct."
        },
        {
         "code": ">>> \n>>> answer = {  'AA': 1,\n...             'AC': 3,\n...             'AG': 5,\n...             'AT': 1,\n...             'CA': 2,\n...             'CC': 0,\n...             'CG': 5,\n...             'CT': 3,\n...             'GA': 5,\n...             'GC': 5,\n...             'GG': 2,\n...             'GT': 0,\n...             'TA': 1,\n...             'TC': 3,\n...             'TG': 0,\n...             'TT': 1}\n>>> \n>>> assert pair_counts(\"AAGAGAGAGAGGCGCGCTACTCTCACGCGGCATTCGAC\") == answer\n",
         "hidden": false,
         "locked": false,
         "points": 1,
         "success_message": "pair_counts(\"AAGAGAGAGAGGCGCGCTACTCTCACGCGGCATTCGAC\") is correct."
        },
        {
         "code": ">>> \n>>> answer = {  'AA': 4,\n...             'AC': 0,\n...             'AG': 0,\n...             'AT': 3,\n...             'CA': 0,\n...             'CC': 0,\n...             'CG': 0,\n...             'CT': 0,\n...             'GA': 0,\n...             'GC': 0,\n...             'GG': 0,\n...             'GT': 0,\n...             'TA': 4,\n...             'TC': 0,\n...             'TG': 0,\n...             'TT': 4}\n>>> \n>>> assert pair_counts(\"TTAATTAATTAATTAA\") == answer\n",
         "hidden": false,
         "locked": false,
         "points": 1,
         "success_message": "pair_counts(\"TTAATTAATTAATTAA\") is correct."
        },
        {
         "code": ">>> \n>>> answer = {  'AA': 0,\n...             'AC': 0,\n...             'AG': 0,\n...             'AT': 0,\n...             'CA': 0,\n...             'CC': 0,\n...             'CG': 1,\n...             'CT': 0,\n...             'GA': 0,\n...             'GC': 0,\n...             'GG': 0,\n...             'GT': 1,\n...             'TA': 1,\n...             'TC': 0,\n...             'TG': 0,\n...             'TT': 0 }\n>>> \n>>> assert pair_counts(\"CGTA\") == answer\n",
         "hidden": false,
         "locked": false,
         "points": 1,
         "success_message": "pair_counts(\"CGTA\") is correct."
        }
       ],
       "scored": true,
       "setup": "",
       "teardown": "",
       "type": "doctest"
      }
     ]
    },
    "task3-num-stops": {
     "name": "task3-num-stops",
     "points": null,
     "suites": [
      {
       "cases": [
        {
         "code": ">>> \n>>> assert num_stops(\"AT\") == 0\n",
         "hidden": false,
         "locked": false,
         "points": 1,
         "success_message": "num_stops(\"AT\") is correct."
        },
        {
         "code": ">>> \n>>> assert num_stops(\"ATAA\") == 1\n",
         "hidden": false,
         "locked": false,
         "points": 1,
         "success_message": "num_stops(\"ATAA\") is correct."
        },
        {
         "code": ">>> \n>>> assert num_stops(\"ATAAGAGATTTGATATATGCCCTAGCTATATTCGAATCTCTTCGATTACG\") == 3\n",
         "hidden": false,
         "locked": false,
         "points": 1,
         "success_message": "num_stops(\"ATAAGAGATTTGATATATGCCCTAGCTATATTCGAATCTCTTCGATTACG\") is correct."
        },
        {
         "code": ">>> \n>>> assert num_stops(\"ATAATAATAATAATGATTTGGATTGAATGGGATGATGATTATCTAGAC\") == 9\n",
         "hidden": false,
         "locked": false,
         "points": 1,
         "success_message": "num_stops(\"ATAATAATAATAATGATTTGGATTGAATGGGATGATGATTATCTAGAC\") is correct."
        }
       ],
       "scored": true,
       "setup": "",
       "teardown": "",
       "type": "doctest"
      }
     ]
    }
   }
  },
  "varInspector": {
   "cols": {
    "lenName": 16,
    "lenType": 16,
    "lenVar": 40
   },
   "kernels_config": {
    "python": {
     "delete_cmd_postfix": "",
     "delete_cmd_prefix": "del ",
     "library": "var_list.py",
     "varRefreshCmd": "print(var_dic_list())"
    },
    "r": {
     "delete_cmd_postfix": ") ",
     "delete_cmd_prefix": "rm(",
     "library": "var_list.r",
     "varRefreshCmd": "cat(var_dic_list()) "
    }
   },
   "types_to_exclude": [
    "module",
    "function",
    "builtin_function_or_method",
    "instance",
    "_Feature"
   ],
   "window_display": false
  },
  "vscode": {
   "interpreter": {
    "hash": "31f2aee4e71d21fbe5cf8b01ff0e069b9275f58929596ceb00d14d90e3e16cd6"
   }
  }
 },
 "nbformat": 4,
 "nbformat_minor": 4
}
