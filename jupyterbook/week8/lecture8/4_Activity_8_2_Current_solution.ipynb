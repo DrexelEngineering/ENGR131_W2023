{
 "cells": [
  {
   "attachments": {},
   "cell_type": "markdown",
   "metadata": {
    "slideshow": {
     "slide_type": "slide"
    }
   },
   "source": [
    "# Accessing Items in a List\n"
   ]
  },
  {
   "attachments": {},
   "cell_type": "markdown",
   "metadata": {},
   "source": [
    "## Consider a Circuit with Resistors in Parallel\n",
    "\n",
    "Let's use a circuit with 9 volts of energy and three different resistors in parallel. \n",
    "\n",
    "![image](https://www.allaboutcircuits.com/uploads/thumbnails/Figure_1._Parallel_circuit_with_a_battery_and_three_resistors_.jpg)\n",
    "\n",
    "Let's use nested lists to store information about the circuit."
   ]
  },
  {
   "cell_type": "code",
   "execution_count": 1,
   "metadata": {
    "slideshow": {
     "slide_type": "subslide"
    },
    "tags": [
     "skip-execution"
    ]
   },
   "outputs": [],
   "source": [
    "# create each list individually before nesting\n",
    "r1 = 10e3\n",
    "r2 = 2e3\n",
    "r3 = 1e3\n",
    "\n",
    "# make a nested list of the resistors in the circuit\n",
    "circuitParallel = [r1, r2, r3]\n"
   ]
  },
  {
   "attachments": {},
   "cell_type": "markdown",
   "metadata": {
    "slideshow": {
     "slide_type": "fragment"
    }
   },
   "source": [
    "Ohm's Law is still applicable but to each of the parallel loops.\n",
    "\n",
    "Ohm's Law shows that the voltage (E) is equal to current (I) multiplied by resistance (R).\n",
    "\n",
    "$E = IR$\n",
    "\n",
    "Apply Ohm's Law to determine the current through each resistor."
   ]
  },
  {
   "cell_type": "code",
   "execution_count": 2,
   "metadata": {
    "slideshow": {
     "slide_type": "fragment"
    },
    "tags": [
     "skip-execution"
    ]
   },
   "outputs": [],
   "source": [
    "# voltage through the circuit\n",
    "E = 9\n",
    "\n",
    "# current through first resistor\n",
    "i1 = E / r1\n",
    "\n",
    "# current through the second resistor\n",
    "i2 = E / r2\n",
    "\n",
    "# current through the third resistor\n",
    "i3 = E / r3\n"
   ]
  },
  {
   "attachments": {},
   "cell_type": "markdown",
   "metadata": {},
   "source": [
    "For a parallel circuit, the total current is the sum of the current across all of the resistors. \n",
    "\n",
    "In the  next cell, sum the current across the resistors *using a `for` loop to access the items in `circuitParallel`*.\n"
   ]
  },
  {
   "cell_type": "code",
   "execution_count": 3,
   "metadata": {
    "tags": [
     "skip-execution"
    ]
   },
   "outputs": [
    {
     "name": "stdout",
     "output_type": "stream",
     "text": [
      "0.0144\n"
     ]
    }
   ],
   "source": [
    "# sum the current across the resistors\n",
    "totalCurrent = 0\n",
    "for resistor in circuitParallel:\n",
    "    totalCurrent += E / resistor\n",
    "\n",
    "print(totalCurrent)\n"
   ]
  },
  {
   "attachments": {},
   "cell_type": "markdown",
   "metadata": {},
   "source": [
    "Now, you can confidently use nested lists and can access each item in a list using a `for` loop."
   ]
  },
  {
   "cell_type": "markdown",
   "metadata": {},
   "source": []
  }
 ],
 "metadata": {
  "celltoolbar": "Slideshow",
  "kernelspec": {
   "display_name": "ENGR_131",
   "language": "python",
   "name": "python3"
  },
  "language_info": {
   "codemirror_mode": {
    "name": "ipython",
    "version": 3
   },
   "file_extension": ".py",
   "mimetype": "text/x-python",
   "name": "python",
   "nbconvert_exporter": "python",
   "pygments_lexer": "ipython3",
   "version": "3.10.0"
  },
  "vscode": {
   "interpreter": {
    "hash": "775f42d2c624786ce087f304b32550a3a398124b7164551d1aea823130207773"
   }
  }
 },
 "nbformat": 4,
 "nbformat_minor": 2
}
