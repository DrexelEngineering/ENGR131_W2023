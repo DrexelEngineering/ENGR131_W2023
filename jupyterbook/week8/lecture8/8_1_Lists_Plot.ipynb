{
 "cells": [
  {
   "attachments": {},
   "cell_type": "markdown",
   "metadata": {
    "slideshow": {
     "slide_type": "slide"
    }
   },
   "source": [
    "# Lists\n"
   ]
  },
  {
   "attachments": {},
   "cell_type": "markdown",
   "metadata": {
    "slideshow": {
     "slide_type": "subslide"
    }
   },
   "source": [
    "## Constructing a list\n",
    "\n",
    "Let's use an example from the lab you did in ENGR 111 to build a car with a mousetrap. \n",
    "\n",
    "Consider collecting the data from different lengths of fishing wire to find the greatest distance you could get the car to travel."
   ]
  },
  {
   "cell_type": "code",
   "execution_count": 7,
   "metadata": {
    "slideshow": {
     "slide_type": "fragment"
    }
   },
   "outputs": [],
   "source": [
    "# length of fishing wire in inches\n",
    "fishingWireLength = [0.5, 2.5, 1.0, 2.2, 1.7, 1.4]\n",
    "\n",
    "# distance traveled in feet\n",
    "distanceTraveled = [0.3, 1.1, 0.8, 1.2, 1.3, 1.5]\n"
   ]
  },
  {
   "attachments": {},
   "cell_type": "markdown",
   "metadata": {},
   "source": [
    "Now, you have two lists. We'll look at how you can use python to plot the data you collected in an activity. \n"
   ]
  },
  {
   "attachments": {},
   "cell_type": "markdown",
   "metadata": {
    "slideshow": {
     "slide_type": "subslide"
    }
   },
   "source": [
    "We can use operations on lists and list methods to find the maximum distance traveled and the corresponding fishing wire length."
   ]
  },
  {
   "cell_type": "code",
   "execution_count": 8,
   "metadata": {},
   "outputs": [],
   "source": [
    "# find shortest distance traveled\n",
    "shortestDistance = max(distanceTraveled)\n",
    "\n",
    "# find the location in the list\n",
    "indexShortestDistance = distanceTraveled.index(shortestDistance)\n",
    "\n",
    "# determine the corresponding fishing wire length\n",
    "worstFishingWireLength = fishingWireLength[indexShortestDistance]\n"
   ]
  },
  {
   "attachments": {},
   "cell_type": "markdown",
   "metadata": {
    "slideshow": {
     "slide_type": "subslide"
    }
   },
   "source": [
    "## List comprehensions\n",
    "\n",
    "Perhaps you got access to a new set of fishing wires that are 3 inches longer. \n",
    "\n",
    "You want to design a similar experiment to find the distances the car would travel using these fishing wire instead of the shorter ones.\n",
    "\n",
    "Constructing a list using list comprehension could help design lengths to try."
   ]
  },
  {
   "cell_type": "code",
   "execution_count": 10,
   "metadata": {
    "slideshow": {
     "slide_type": "fragment"
    }
   },
   "outputs": [],
   "source": [
    "# make a new list with every element of the fishing wire length list increased by three inches\n",
    "longerFishingWireLength = [(i + 3) for i in fishingWireLength]\n"
   ]
  },
  {
   "attachments": {},
   "cell_type": "markdown",
   "metadata": {
    "slideshow": {
     "slide_type": "slide"
    }
   },
   "source": [
    "## Basic plotting\n",
    "\n",
    "Lists make it very easy to plot one variable against another.\n",
    "\n",
    "Make sure you have imported the `matplotlib` package then apply the [`plot` method](https://matplotlib.org/stable/api/_as_gen/matplotlib.pyplot.plot.html#matplotlib.pyplot.plot)."
   ]
  },
  {
   "cell_type": "code",
   "execution_count": 1,
   "metadata": {
    "slideshow": {
     "slide_type": "subslide"
    }
   },
   "outputs": [
    {
     "data": {
      "text/plain": [
       "Text(0, 0.5, 'b')"
      ]
     },
     "execution_count": 1,
     "metadata": {},
     "output_type": "execute_result"
    },
    {
     "data": {
      "image/png": "[encoded data removed]",
      "text/plain": [
       "<Figure size 640x480 with 1 Axes>"
      ]
     },
     "metadata": {},
     "output_type": "display_data"
    }
   ],
   "source": [
    "import matplotlib.pyplot as plt\n",
    "\n",
    "# make lists\n",
    "a = [4, 3, 2, 1]\n",
    "b = [1, 4, 2, 3]\n",
    "\n",
    "# make a scatter plot of b against a with circle markers\n",
    "plt.plot(a, b, \"o\")\n",
    "\n",
    "# label x- and y-axes\n",
    "plt.xlabel(\"a\")\n",
    "plt.ylabel(\"b\")\n"
   ]
  },
  {
   "cell_type": "code",
   "execution_count": null,
   "metadata": {},
   "outputs": [],
   "source": []
  }
 ],
 "metadata": {
  "celltoolbar": "Slideshow",
  "kernelspec": {
   "display_name": "base",
   "language": "python",
   "name": "python3"
  },
  "language_info": {
   "codemirror_mode": {
    "name": "ipython",
    "version": 3
   },
   "file_extension": ".py",
   "mimetype": "text/x-python",
   "name": "python",
   "nbconvert_exporter": "python",
   "pygments_lexer": "ipython3",
   "version": "3.10.8"
  },
  "vscode": {
   "interpreter": {
    "hash": "d7d046052154998ca7dd3d9af52f7220fee50748c9a05b256540159ca8eb430c"
   }
  }
 },
 "nbformat": 4,
 "nbformat_minor": 2
}
