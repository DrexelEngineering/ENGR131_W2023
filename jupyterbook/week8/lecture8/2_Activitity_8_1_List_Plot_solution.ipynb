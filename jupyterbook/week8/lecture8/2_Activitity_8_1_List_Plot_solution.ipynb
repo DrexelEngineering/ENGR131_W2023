{
 "cells": [
  {
   "attachments": {},
   "cell_type": "markdown",
   "metadata": {
    "slideshow": {
     "slide_type": "slide"
    }
   },
   "source": [
    "# Activity 8.1: Plot mousetrap car findings\n"
   ]
  },
  {
   "attachments": {},
   "cell_type": "markdown",
   "metadata": {
    "slideshow": {
     "slide_type": "subslide"
    }
   },
   "source": [
    "## Constructing a list\n",
    "\n",
    "If you have easy access to your mousetrap car data, please make a list with the values of one design parameter that you changed iteratively. \n",
    "\n",
    "Make a second list of the distance the car traveled when you used each of those values. Make sure that the order is consistent in both of the lists.\n",
    "\n",
    "Note the nature of the data and the units in comments before you make the lists.\n",
    "\n",
    "If you don't have access to those data, please use the fishing wire length and distance traveled from the previous  notes."
   ]
  },
  {
   "cell_type": "code",
   "execution_count": 2,
   "metadata": {
    "slideshow": {
     "slide_type": "fragment"
    },
    "tags": [
     "skip-execution"
    ]
   },
   "outputs": [],
   "source": [
    "# design parameter: fishing band length\n",
    "# units: inches\n",
    "fishingWireLength = [0.5, 2.5, 1.0, 2.2, 1.7, 1.4]\n",
    "\n",
    "# distance traveled\n",
    "# units: feet\n",
    "distanceTraveled = [0.3, 1.1, 0.8, 1.2, 1.3, 1.5]\n"
   ]
  },
  {
   "attachments": {},
   "cell_type": "markdown",
   "metadata": {},
   "source": [
    "Now, you have two lists. \n"
   ]
  },
  {
   "attachments": {},
   "cell_type": "markdown",
   "metadata": {
    "slideshow": {
     "slide_type": "subslide"
    }
   },
   "source": [
    "Find out which design parameter value resulted in the *maximum* distance traveled."
   ]
  },
  {
   "cell_type": "code",
   "execution_count": 3,
   "metadata": {
    "tags": [
     "skip-execution"
    ]
   },
   "outputs": [],
   "source": [
    "# find greatest distance traveled\n",
    "longestDistance = max(distanceTraveled)\n",
    "\n",
    "# find the location in the list of the greatest dist\n",
    "indexLongestDistance = distanceTraveled.index(longestDistance)\n",
    "\n",
    "# determine the corresponding design parameter value\n",
    "bestFishingWireLength = fishingWireLength[indexLongestDistance]\n"
   ]
  },
  {
   "attachments": {},
   "cell_type": "markdown",
   "metadata": {
    "slideshow": {
     "slide_type": "slide"
    }
   },
   "source": [
    "## How does the design parameter change the distance traveled?\n",
    "\n",
    "Lists make it very easy to plot one variable against another, which is a start to exploring the relationship between two parameters.\n",
    "\n",
    "Make sure you have imported the `matplotlib` package then apply the [`plot` method](https://matplotlib.org/stable/api/_as_gen/matplotlib.pyplot.plot.html#matplotlib.pyplot.plot).\n",
    "\n",
    "The first parameter in the `plot` function goes on the x-axis."
   ]
  },
  {
   "cell_type": "code",
   "execution_count": null,
   "metadata": {
    "slideshow": {
     "slide_type": "subslide"
    },
    "tags": [
     "skip-execution"
    ]
   },
   "outputs": [
    {
     "ename": "",
     "evalue": "",
     "output_type": "error",
     "traceback": [
      "\u001b[1;31mRunning cells with 'base' requires the ipykernel package.\n",
      "\u001b[1;31mRun the following command to install 'ipykernel' into the Python environment. \n",
      "\u001b[1;31mCommand: 'conda install -n base ipykernel --update-deps --force-reinstall'"
     ]
    }
   ],
   "source": [
    "import matplotlib.pyplot as plt\n",
    "\n",
    "# make a scatter plot with the design parameter on the x-axis\n",
    "plt.plot(fishingWireLength, distanceTraveled, \"o\")\n",
    "\n",
    "# label the axes with the appropriate name and units\n",
    "plt.xlabel(\"fishing wire length (in)\")\n",
    "plt.ylabel(\"distance traveled (ft)\")\n",
    "\n",
    "#\n"
   ]
  },
  {
   "cell_type": "code",
   "execution_count": null,
   "metadata": {},
   "outputs": [],
   "source": []
  }
 ],
 "metadata": {
  "celltoolbar": "Slideshow",
  "kernelspec": {
   "display_name": "base",
   "language": "python",
   "name": "python3"
  },
  "language_info": {
   "codemirror_mode": {
    "name": "ipython",
    "version": 3
   },
   "file_extension": ".py",
   "mimetype": "text/x-python",
   "name": "python",
   "nbconvert_exporter": "python",
   "pygments_lexer": "ipython3",
   "version": "3.10.8"
  },
  "vscode": {
   "interpreter": {
    "hash": "d7d046052154998ca7dd3d9af52f7220fee50748c9a05b256540159ca8eb430c"
   }
  }
 },
 "nbformat": 4,
 "nbformat_minor": 2
}
