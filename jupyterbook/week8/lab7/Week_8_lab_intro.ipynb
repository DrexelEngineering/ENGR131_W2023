{
 "cells": [
  {
   "attachments": {},
   "cell_type": "markdown",
   "id": "e7a8af20-e875-40ad-9219-a7f7196d9567",
   "metadata": {},
   "source": [
    "# 📝 Week 8 - Lab Intro\n",
    "\n",
    "In this lab introduction we will briefly review how Arrays and broadcasting for this lab"
   ]
  },
  {
   "cell_type": "code",
   "execution_count": 2,
   "id": "15bb2f71-9ed8-4daa-b358-104be27e8002",
   "metadata": {},
   "outputs": [],
   "source": [
    "import numpy as np\n",
    "import matplotlib.pyplot as plt"
   ]
  },
  {
   "cell_type": "markdown",
   "id": "891b1ccb-463d-4299-8fd6-3f132a334eaa",
   "metadata": {},
   "source": [
    "## Creating Arrays"
   ]
  },
  {
   "cell_type": "markdown",
   "id": "9b304e66-e3b8-4822-9c14-984461da994c",
   "metadata": {},
   "source": [
    "### Creating an array of zeros,\n",
    "We often want an empty array to begin iterative calculations. We can use `np.zeros()` to create an array of zeros. If you forget what the inputs are, hover over the function, and press `shift + tab` to view the docstring."
   ]
  },
  {
   "cell_type": "code",
   "execution_count": 3,
   "id": "2612b693-0fe2-4f2a-976c-b98ab6a17677",
   "metadata": {},
   "outputs": [
    {
     "name": "stdout",
     "output_type": "stream",
     "text": [
      "[0. 0. 0. 0. 0. 0. 0. 0. 0. 0.]\n"
     ]
    }
   ],
   "source": [
    "print(np.zeros(10))"
   ]
  },
  {
   "cell_type": "code",
   "execution_count": 4,
   "id": "a061f885-22e0-42c1-b665-90346e1a59ba",
   "metadata": {},
   "outputs": [
    {
     "name": "stdout",
     "output_type": "stream",
     "text": [
      "[[0. 0. 0.]\n",
      " [0. 0. 0.]]\n"
     ]
    }
   ],
   "source": [
    "print(np.zeros((2,3)))"
   ]
  },
  {
   "cell_type": "markdown",
   "id": "9c2ab004-c0cb-490d-b760-6282b86ecff1",
   "metadata": {},
   "source": [
    "### Creating an array with equal spacing\n",
    "To make an array with equal spacing, use `np.linspace()`. This method can only create 1D arrays."
   ]
  },
  {
   "cell_type": "code",
   "execution_count": 5,
   "id": "dd4d49ed-f378-4516-9f68-605553384261",
   "metadata": {},
   "outputs": [
    {
     "name": "stdout",
     "output_type": "stream",
     "text": [
      "[0.         0.02040816 0.04081633 0.06122449 0.08163265 0.10204082\n",
      " 0.12244898 0.14285714 0.16326531 0.18367347 0.20408163 0.2244898\n",
      " 0.24489796 0.26530612 0.28571429 0.30612245 0.32653061 0.34693878\n",
      " 0.36734694 0.3877551  0.40816327 0.42857143 0.44897959 0.46938776\n",
      " 0.48979592 0.51020408 0.53061224 0.55102041 0.57142857 0.59183673\n",
      " 0.6122449  0.63265306 0.65306122 0.67346939 0.69387755 0.71428571\n",
      " 0.73469388 0.75510204 0.7755102  0.79591837 0.81632653 0.83673469\n",
      " 0.85714286 0.87755102 0.89795918 0.91836735 0.93877551 0.95918367\n",
      " 0.97959184 1.        ]\n"
     ]
    }
   ],
   "source": [
    "print(np.linspace(0,1))"
   ]
  },
  {
   "cell_type": "markdown",
   "id": "5fcb52c8-6260-4039-b0b4-299da8472b1f",
   "metadata": {
    "tags": []
   },
   "source": [
    "The default number of points is 50. If we want to change the number of points, we can use input `num=...`"
   ]
  },
  {
   "cell_type": "code",
   "execution_count": 6,
   "id": "55ab7fc8-8dd5-47b6-9de5-794dd0e98711",
   "metadata": {},
   "outputs": [
    {
     "name": "stdout",
     "output_type": "stream",
     "text": [
      "[0.         0.11111111 0.22222222 0.33333333 0.44444444 0.55555556\n",
      " 0.66666667 0.77777778 0.88888889 1.        ]\n"
     ]
    }
   ],
   "source": [
    "print(np.linspace(0,1,num=10))"
   ]
  },
  {
   "cell_type": "markdown",
   "id": "06398db4-4704-4ad8-b723-76057e5d2184",
   "metadata": {
    "tags": []
   },
   "source": [
    "If we want to exclude the endpoint, we can use input `endpoint=False`."
   ]
  },
  {
   "cell_type": "code",
   "execution_count": 7,
   "id": "e0827dab-f539-48f2-928d-b0eba0c9fcc2",
   "metadata": {},
   "outputs": [
    {
     "name": "stdout",
     "output_type": "stream",
     "text": [
      "[0.  0.1 0.2 0.3 0.4 0.5 0.6 0.7 0.8 0.9]\n"
     ]
    }
   ],
   "source": [
    "print(np.linspace(0,1,num=10,endpoint=False))"
   ]
  },
  {
   "cell_type": "markdown",
   "id": "1bd92fb8-119b-4c9d-99b6-48b96ada8ba1",
   "metadata": {},
   "source": [
    "## Create array from list"
   ]
  },
  {
   "cell_type": "code",
   "execution_count": 8,
   "id": "41f296ba-4612-4d55-b3fd-be96948c99cc",
   "metadata": {},
   "outputs": [
    {
     "name": "stdout",
     "output_type": "stream",
     "text": [
      "[0 3 4 5 7] <class 'list'> <class 'numpy.ndarray'>\n"
     ]
    }
   ],
   "source": [
    "num_list = [0,3,4,5,7]\n",
    "arr = np.array(num_list)\n",
    "\n",
    "print(arr, type(num_list), type(arr))"
   ]
  },
  {
   "cell_type": "markdown",
   "id": "6bc9e8bd-68c5-4abd-bc52-a900f8bf79d2",
   "metadata": {},
   "source": [
    "## Broadcasting\n",
    "Numpy arrays can infer how to distribute a calculation across axes. This is called *broadcasting*. For example, let's try some basic operations"
   ]
  },
  {
   "cell_type": "code",
   "execution_count": 9,
   "id": "d51e09a6-5fb0-448e-915f-0ecfe0ee6f68",
   "metadata": {},
   "outputs": [
    {
     "name": "stdout",
     "output_type": "stream",
     "text": [
      "[0. 0. 0. 0. 0.]\n"
     ]
    }
   ],
   "source": [
    "test_array = np.zeros(5)\n",
    "print(test_array)"
   ]
  },
  {
   "cell_type": "code",
   "execution_count": 10,
   "id": "6d7893a0-f17c-46b6-b4ee-97f7930589d6",
   "metadata": {},
   "outputs": [
    {
     "name": "stdout",
     "output_type": "stream",
     "text": [
      "[1. 1. 1. 1. 1.]\n"
     ]
    }
   ],
   "source": [
    "test_array = test_array+1\n",
    "print(test_array)"
   ]
  },
  {
   "cell_type": "code",
   "execution_count": 11,
   "id": "cccd28fe-e7c0-43ae-a86f-3880c8510c5d",
   "metadata": {},
   "outputs": [
    {
     "name": "stdout",
     "output_type": "stream",
     "text": [
      "[6. 6. 6. 6. 6.]\n"
     ]
    }
   ],
   "source": [
    "test_array = test_array * 6\n",
    "print(test_array)"
   ]
  },
  {
   "cell_type": "markdown",
   "id": "7abd1fbf-7215-4cd9-959f-d5d0b0ebe665",
   "metadata": {},
   "source": [
    "### What happens when we perform operations on arrays of different shapes?"
   ]
  },
  {
   "cell_type": "code",
   "execution_count": 12,
   "id": "a6ede8cc-2291-4480-bd24-66caa53c1781",
   "metadata": {},
   "outputs": [
    {
     "name": "stdout",
     "output_type": "stream",
     "text": [
      "[1. 1. 1. 1. 1.]\n"
     ]
    }
   ],
   "source": [
    "test_array = np.ones(5)\n",
    "print(test_array)"
   ]
  },
  {
   "cell_type": "code",
   "execution_count": 13,
   "id": "b3117791-79db-4003-8142-b14841306b25",
   "metadata": {},
   "outputs": [
    {
     "name": "stdout",
     "output_type": "stream",
     "text": [
      "[0.  0.1 0.2 0.3 0.4 0.5 0.6 0.7 0.8 0.9]\n"
     ]
    }
   ],
   "source": [
    "test_linspace_array = np.linspace(0,1,num=10,endpoint=False)\n",
    "print(test_linspace_array)"
   ]
  },
  {
   "cell_type": "code",
   "execution_count": 14,
   "id": "41f2932d-f469-4769-bbd9-2f42dff94405",
   "metadata": {},
   "outputs": [
    {
     "ename": "ValueError",
     "evalue": "operands could not be broadcast together with shapes (5,) (10,) ",
     "output_type": "error",
     "traceback": [
      "\u001b[0;31m---------------------------------------------------------------------------\u001b[0m",
      "\u001b[0;31mValueError\u001b[0m                                Traceback (most recent call last)",
      "Cell \u001b[0;32mIn[14], line 1\u001b[0m\n\u001b[0;32m----> 1\u001b[0m \u001b[43mtest_array\u001b[49m\u001b[43m \u001b[49m\u001b[38;5;241;43m+\u001b[39;49m\u001b[43m \u001b[49m\u001b[43mtest_linspace_array\u001b[49m\n",
      "\u001b[0;31mValueError\u001b[0m: operands could not be broadcast together with shapes (5,) (10,) "
     ]
    }
   ],
   "source": [
    "test_array + test_linspace_array"
   ]
  },
  {
   "cell_type": "markdown",
   "id": "ef02da9f-2c33-4bef-ae27-4cbe9f1408ef",
   "metadata": {},
   "source": [
    "We see that need to perform operations on arrays with similiar shapes"
   ]
  },
  {
   "cell_type": "markdown",
   "id": "89ef039d-1f45-4206-b224-15e5f4aba4b7",
   "metadata": {},
   "source": [
    "### np functions and broadcasting\n",
    "\n",
    "Many numpy function will automatically broadcast depending on the shape of your input"
   ]
  },
  {
   "cell_type": "code",
   "execution_count": 15,
   "id": "93d4719f-b701-4245-b0ad-67158eb3d7b2",
   "metadata": {},
   "outputs": [
    {
     "data": {
      "text/plain": [
       "1.0"
      ]
     },
     "execution_count": 15,
     "metadata": {},
     "output_type": "execute_result"
    }
   ],
   "source": [
    "np.sin(np.pi/2)"
   ]
  },
  {
   "cell_type": "code",
   "execution_count": 16,
   "id": "258e54aa-2b58-4bb8-8e53-ddad8ae2deb7",
   "metadata": {},
   "outputs": [
    {
     "name": "stdout",
     "output_type": "stream",
     "text": [
      "(10,)\n",
      "[0.         0.30901699 0.58778525 0.80901699 0.95105652 1.\n",
      " 0.95105652 0.80901699 0.58778525 0.30901699]\n"
     ]
    }
   ],
   "source": [
    "test_linspace_array = np.linspace(0,1,num=10,endpoint=False)\n",
    "print(test_linspace_array.shape)\n",
    "\n",
    "print(np.sin(np.pi * test_linspace_array))"
   ]
  },
  {
   "cell_type": "markdown",
   "id": "a4fd1d8d-717a-4845-959b-627908b52c98",
   "metadata": {},
   "source": [
    "## Plotting arrays\n",
    "\n",
    "To plot, we can use the `plt.plot(x_array,y_array)`\n",
    "\n",
    "We can also add a title and axis labels using `plt.title()`, `plt.xlabel()` and `plt.ylable()`"
   ]
  },
  {
   "cell_type": "code",
   "execution_count": 23,
   "id": "058e6838-a886-4662-8fd9-dad5eebe1ae5",
   "metadata": {},
   "outputs": [
    {
     "data": {
      "text/plain": [
       "Text(0, 0.5, 'amplitude (a.u.)')"
      ]
     },
     "execution_count": 23,
     "metadata": {},
     "output_type": "execute_result"
    },
    {
     "data": {
      "image/png": "[encoded data removed]",
      "text/plain": [
       "<Figure size 640x480 with 1 Axes>"
      ]
     },
     "metadata": {},
     "output_type": "display_data"
    }
   ],
   "source": [
    "t = np.linspace(0,2*np.pi,num=20,endpoint=False)\n",
    "y = np.sin(t)\n",
    "\n",
    "plt.plot(t,y)\n",
    "plt.title('Example Sine curve')\n",
    "plt.xlabel('time (s)')\n",
    "plt.ylabel('amplitude (a.u.)')"
   ]
  },
  {
   "cell_type": "code",
   "execution_count": null,
   "id": "0f273129-1494-43dd-a4c6-f0d2e26defed",
   "metadata": {},
   "outputs": [],
   "source": [
    "\n"
   ]
  }
 ],
 "metadata": {
  "kernelspec": {
   "display_name": "Python 3",
   "language": "python",
   "name": "python3"
  },
  "language_info": {
   "codemirror_mode": {
    "name": "ipython",
    "version": 3
   },
   "file_extension": ".py",
   "mimetype": "text/x-python",
   "name": "python",
   "nbconvert_exporter": "python",
   "pygments_lexer": "ipython3",
   "version": "3.9.6 (default, Oct 18 2022, 12:41:40) \n[Clang 14.0.0 (clang-1400.0.29.202)]"
  },
  "vscode": {
   "interpreter": {
    "hash": "31f2aee4e71d21fbe5cf8b01ff0e069b9275f58929596ceb00d14d90e3e16cd6"
   }
  }
 },
 "nbformat": 4,
 "nbformat_minor": 5
}
