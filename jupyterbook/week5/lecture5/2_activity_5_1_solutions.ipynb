{
 "cells": [
  {
   "attachments": {},
   "cell_type": "markdown",
   "metadata": {
    "slideshow": {
     "slide_type": "slide"
    }
   },
   "source": [
    "# Activity 5.1: Nuclear Plant Temperature Alert\n",
    "\n",
    "We have just covered the relationship of a process value to a desired set point and discussed the importance of redundancy, especially in systems that have the potential to harm people.\n"
   ]
  },
  {
   "attachments": {},
   "cell_type": "markdown",
   "metadata": {},
   "source": [
    "Consider a nuclear reactor. A meltdown would be sufficiently catastrophic that the temperature of the cooling water around the nuclear fuel rods is monitored by four sensors. \n",
    "\n",
    "An alarm should go off if \n",
    "1. any of the two sensors report a temperature greater than 100 degrees Celsius, or \n",
    "2. any two of the sensor readings disagree by strictly 8 degrees. \n",
    "\n",
    "Write a function `coolingWaterAlarm(t1,t2,t3,t4)` where `t1`, `t2`, `t3`, and `t4` are the temperature readings for sensor 1, sensor 2, sensor 3, and sensor 4, respectively. \n",
    "\n",
    "The function should print \n",
    "\n",
    "1. `Alarm! Temperatures differ.` if the first condition above is met,\n",
    "2. `Alarm! Temperatures exceed 100 deg Celsius.` if the second condition above is met, or\n",
    "3.  `Normal operation` if neither condition is met."
   ]
  },
  {
   "cell_type": "code",
   "execution_count": 1,
   "metadata": {},
   "outputs": [],
   "source": [
    "import numpy as np\n",
    "\n",
    "\n",
    "def coolingWaterAlarm(t1, t2, t3, t4):\n",
    "    tlist = [t1, t2, t3, t4]\n",
    "    # if (\n",
    "    #     abs(t2 - t1) > 8\n",
    "    #     or abs(t3 - t1) > 8\n",
    "    #     or abs(t4 - t1) > 8\n",
    "    #     or abs(t3 - t2) > 8\n",
    "    #     or abs(t4 - t2) > 8\n",
    "    #     or abs(t4 - t3) > 8\n",
    "    # ):\n",
    "    # option 2\n",
    "    if max(tlist) - min(tlist) > 8:\n",
    "        output = \"Alarm! Temperatures differ.\"\n",
    "    elif sorted(tlist, reverse=True)[1] > 100:\n",
    "        output = \"Alarm! Temperatures exceed 100 deg Celsius.\"\n",
    "    else:\n",
    "        output = \"Normal operation\"\n",
    "    print(f\"{output}\")\n"
   ]
  },
  {
   "cell_type": "code",
   "execution_count": 2,
   "metadata": {
    "slideshow": {
     "slide_type": "fragment"
    }
   },
   "outputs": [
    {
     "name": "stdout",
     "output_type": "stream",
     "text": [
      "Normal operation\n"
     ]
    }
   ],
   "source": [
    "coolingWaterAlarm(93, 95, 96, 101)\n"
   ]
  },
  {
   "cell_type": "code",
   "execution_count": 3,
   "metadata": {
    "slideshow": {
     "slide_type": "fragment"
    }
   },
   "outputs": [
    {
     "name": "stdout",
     "output_type": "stream",
     "text": [
      "Alarm! Temperatures exceed 100 deg Celsius.\n"
     ]
    }
   ],
   "source": [
    "coolingWaterAlarm(95, 103, 96, 101)\n"
   ]
  },
  {
   "cell_type": "code",
   "execution_count": 4,
   "metadata": {
    "slideshow": {
     "slide_type": "fragment"
    }
   },
   "outputs": [
    {
     "name": "stdout",
     "output_type": "stream",
     "text": [
      "Alarm! Temperatures differ.\n"
     ]
    }
   ],
   "source": [
    "coolingWaterAlarm(90, 95, 96, 101)\n"
   ]
  },
  {
   "cell_type": "code",
   "execution_count": null,
   "metadata": {},
   "outputs": [],
   "source": []
  }
 ],
 "metadata": {
  "kernelspec": {
   "display_name": "ENGR_131",
   "language": "python",
   "name": "python3"
  },
  "language_info": {
   "codemirror_mode": {
    "name": "ipython",
    "version": 3
   },
   "file_extension": ".py",
   "mimetype": "text/x-python",
   "name": "python",
   "nbconvert_exporter": "python",
   "pygments_lexer": "ipython3",
   "version": "3.10.0 (default, Mar  3 2022, 09:58:08) [GCC 7.5.0]"
  },
  "orig_nbformat": 4,
  "vscode": {
   "interpreter": {
    "hash": "775f42d2c624786ce087f304b32550a3a398124b7164551d1aea823130207773"
   }
  }
 },
 "nbformat": 4,
 "nbformat_minor": 2
}
