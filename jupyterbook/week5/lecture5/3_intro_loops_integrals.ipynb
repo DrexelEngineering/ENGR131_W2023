{
 "cells": [
  {
   "attachments": {},
   "cell_type": "markdown",
   "metadata": {
    "slideshow": {
     "slide_type": "slide"
    }
   },
   "source": [
    "# 📝 Introduction to Loops with Integrals"
   ]
  },
  {
   "cell_type": "markdown",
   "metadata": {
    "slideshow": {
     "slide_type": "subslide"
    }
   },
   "source": [
    "## Utility of loops\n",
    "\n",
    "Branching causes specific blocks of code to be executed only under certain conditions. The conditions are articulated as logical expressions. "
   ]
  },
  {
   "cell_type": "markdown",
   "metadata": {
    "slideshow": {
     "slide_type": "subslide"
    }
   },
   "source": [
    "## How do you write loops?\n",
    "\n",
    "The simplest version of loop is a \"for loop\". "
   ]
  },
  {
   "cell_type": "markdown",
   "metadata": {
    "slideshow": {
     "slide_type": "fragment"
    }
   },
   "source": [
    "```python\n",
    "for looping_variable in sequence:\n",
    "    code_block\n",
    "```\n"
   ]
  },
  {
   "cell_type": "markdown",
   "metadata": {
    "slideshow": {
     "slide_type": "subslide"
    }
   },
   "source": [
    "More complex structures are possible with \"while statements\". "
   ]
  },
  {
   "cell_type": "markdown",
   "metadata": {
    "slideshow": {
     "slide_type": "fragment"
    }
   },
   "source": [
    "```python\n",
    "while logical_expression:\n",
    "    # code_block is repeated until logical expression is false\n",
    "    code_block\n",
    "```\n"
   ]
  },
  {
   "cell_type": "markdown",
   "metadata": {
    "slideshow": {
     "slide_type": "subslide"
    }
   },
   "source": [
    "Just like if-statements, for-loops can be nested. \n",
    "\n",
    "**EXAMPLE:** Let `x` be a two-dimensional array, `[[10, 20],[30 40]]`. Use a nested for-loop to sum all the elements in `x`. "
   ]
  },
  {
   "cell_type": "code",
   "execution_count": 3,
   "metadata": {
    "slideshow": {
     "slide_type": "fragment"
    }
   },
   "outputs": [
    {
     "name": "stdout",
     "output_type": "stream",
     "text": [
      "[[10 20]\n",
      " [30 40]]\n",
      "100\n"
     ]
    }
   ],
   "source": [
    "import numpy as np\n",
    "\n",
    "x = np.array([[10, 20], [30, 40]])\n",
    "print(x)\n",
    "\n",
    "n, m = x.shape\n",
    "s = 0\n",
    "for i in range(n):\n",
    "    for j in range(m):\n",
    "        s += x[i, j]\n",
    "\n",
    "print(s)"
   ]
  },
  {
   "cell_type": "markdown",
   "metadata": {
    "slideshow": {
     "slide_type": "slide"
    }
   },
   "source": [
    "## Using loops in integration\n",
    "\n",
    "Many engineering applications require integration, which can be understood as calculating the area under a curve. For example, consider the following:"
   ]
  },
  {
   "cell_type": "markdown",
   "metadata": {
    "slideshow": {
     "slide_type": "fragment"
    }
   },
   "source": [
    "* estimating the force of water against a bridge or dam\n",
    "\n",
    "* determining the amount of time a reactor should operate for a given chemical to be produced\n",
    "\n",
    "* processing audio or electrical signals into meaningful input \n",
    "\n",
    "* determining the force required to move an object a given distance"
   ]
  },
  {
   "cell_type": "markdown",
   "metadata": {
    "slideshow": {
     "slide_type": "fragment"
    }
   },
   "source": [
    "For example, to deposit materials on graphene, one could observe the progress of experiments over time to find the amount of mass deposited to optimize the conditions for deposition."
   ]
  },
  {
   "cell_type": "markdown",
   "metadata": {
    "slideshow": {
     "slide_type": "fragment"
    }
   },
   "source": [
    "![](https://i0.wp.com/www.atomiclimits.com/wp-content/uploads/2017/06/Chapter_1_Figure_5.png?w=1476&ssl=1)"
   ]
  },
  {
   "cell_type": "markdown",
   "metadata": {
    "slideshow": {
     "slide_type": "slide"
    }
   },
   "source": [
    "The Riemann integral is the simplest method of approximating the area under a curve. One simply "
   ]
  },
  {
   "cell_type": "markdown",
   "metadata": {
    "slideshow": {
     "slide_type": "fragment"
    }
   },
   "source": [
    "* divides the area under the curve into rectangles of equal width $h$ and height $f(x_i)$,\n",
    "\n",
    "* calculates the area for each rectangle using $A_i = hf(x_i)$, and \n",
    "\n",
    "* sums the areas of each rectangle between some smaller value of $x$ called $a$ and a larger value of $x$ called $b$."
   ]
  },
  {
   "cell_type": "markdown",
   "metadata": {
    "slideshow": {
     "slide_type": "fragment"
    }
   },
   "source": [
    "Mathematically, this process is expressed as \n",
    "\n",
    "$$\\int_{x_i}^{x_{i+1}} f(x) dx= hf(x_i) + O(h^2).$$\n",
    "\n",
    "![](https://i.ytimg.com/vi/NgLd16Dksrs/maxresdefault.jpg)"
   ]
  },
  {
   "cell_type": "code",
   "execution_count": null,
   "metadata": {},
   "outputs": [],
   "source": []
  }
 ],
 "metadata": {
  "celltoolbar": "Slideshow",
  "kernelspec": {
   "display_name": "Python 3 (ipykernel)",
   "language": "python",
   "name": "python3"
  },
  "language_info": {
   "codemirror_mode": {
    "name": "ipython",
    "version": 3
   },
   "file_extension": ".py",
   "mimetype": "text/x-python",
   "name": "python",
   "nbconvert_exporter": "python",
   "pygments_lexer": "ipython3",
   "version": "3.10.0"
  },
  "vscode": {
   "interpreter": {
    "hash": "acca0ed2a37d0d32f5e53ea586a1af006ea9dcf1bd6ae99e09aae95db7f643f4"
   }
  }
 },
 "nbformat": 4,
 "nbformat_minor": 2
}
