{
 "cells": [
  {
   "cell_type": "markdown",
   "id": "dc81386c",
   "metadata": {
    "slideshow": {
     "slide_type": "slide"
    }
   },
   "source": [
    "# 📝 Curve Fitting\n",
    "\n",
    "In engineering applications it is very common that you will be presented with data. To interpret data it is common to fit data to an model (a mathematical expression) that allows you to extract and interpret parameters. \n",
    "\n"
   ]
  },
  {
   "cell_type": "markdown",
   "id": "ae2201be",
   "metadata": {
    "slideshow": {
     "slide_type": "fragment"
    }
   },
   "source": [
    "Computationally, the fitting process happens by minimizing some objective function. There are many optimization methods. This is a rich field of science and engineering."
   ]
  },
  {
   "cell_type": "markdown",
   "id": "08479e00",
   "metadata": {
    "slideshow": {
     "slide_type": "fragment"
    }
   },
   "source": [
    "SciPy is a package for scientific computing in python that has many built in tools for optimization and fitting."
   ]
  },
  {
   "cell_type": "markdown",
   "id": "f5e81865",
   "metadata": {
    "slideshow": {
     "slide_type": "subslide"
    }
   },
   "source": [
    "## Curve Fitting Example\n",
    "\n",
    "Suppose we have some data on a sine function"
   ]
  },
  {
   "cell_type": "code",
   "execution_count": null,
   "id": "ccdc3402",
   "metadata": {
    "slideshow": {
     "slide_type": "fragment"
    }
   },
   "outputs": [],
   "source": [
    "import numpy as np\n",
    "\n",
    "x_data = np.linspace(-5, 5, num=50)\n",
    "y_data = 2.9 * np.sin(1.5 * x_data) + np.random.normal(size=50)"
   ]
  },
  {
   "cell_type": "markdown",
   "id": "2421faff",
   "metadata": {
    "slideshow": {
     "slide_type": "fragment"
    }
   },
   "source": [
    "When dealing with data it is always helpful to visualize the data as a graph"
   ]
  },
  {
   "cell_type": "code",
   "execution_count": null,
   "id": "06464232",
   "metadata": {
    "slideshow": {
     "slide_type": "fragment"
    }
   },
   "outputs": [],
   "source": [
    "import matplotlib.pyplot as plt\n",
    "\n",
    "plt.plot(x_data, y_data, '-s')"
   ]
  },
  {
   "cell_type": "markdown",
   "id": "d29f8e47",
   "metadata": {
    "slideshow": {
     "slide_type": "fragment"
    }
   },
   "source": [
    "If we know that the data lies on a sine wave, but not the amplitudes or the period, we can find those by least squares curve fitting. First we have to define the test function to fit, here a sine with unknown amplitude and period:"
   ]
  },
  {
   "cell_type": "code",
   "execution_count": null,
   "id": "d252647c",
   "metadata": {
    "slideshow": {
     "slide_type": "fragment"
    }
   },
   "outputs": [],
   "source": [
    "def test_func(x, a, b):\n",
    "    return a * np.sin(b * x)"
   ]
  },
  {
   "cell_type": "markdown",
   "id": "775a3505",
   "metadata": {
    "slideshow": {
     "slide_type": "fragment"
    }
   },
   "source": [
    "We then use scipy.optimize.curve_fit() to find a and b:"
   ]
  },
  {
   "cell_type": "code",
   "execution_count": null,
   "id": "80a4dc7d",
   "metadata": {
    "slideshow": {
     "slide_type": "fragment"
    }
   },
   "outputs": [],
   "source": [
    "from scipy import optimize\n",
    "\n",
    "params, params_covariance = optimize.curve_fit(test_func, x_data, y_data, p0=[2, 2])\n",
    "print(params)"
   ]
  },
  {
   "cell_type": "markdown",
   "id": "6d021f1f",
   "metadata": {
    "slideshow": {
     "slide_type": "subslide"
    }
   },
   "source": [
    "## Visualizing our Results"
   ]
  },
  {
   "cell_type": "code",
   "execution_count": null,
   "id": "621d6c05",
   "metadata": {
    "slideshow": {
     "slide_type": "fragment"
    }
   },
   "outputs": [],
   "source": [
    "plt.plot(x_data, y_data, 'bo', label='Noisy data')\n",
    "plt.plot(x_data, test_func(x_data, *params), 'red', label = 'Fitted function')\n",
    "plt.xlabel('X')\n",
    "plt.xlabel('Y')"
   ]
  },
  {
   "cell_type": "markdown",
   "id": "8c7a2dea",
   "metadata": {
    "slideshow": {
     "slide_type": "slide"
    }
   },
   "source": [
    "## Example on a Exponential Function"
   ]
  },
  {
   "cell_type": "code",
   "execution_count": null,
   "id": "b975bb65",
   "metadata": {
    "scrolled": false,
    "slideshow": {
     "slide_type": "fragment"
    }
   },
   "outputs": [],
   "source": [
    "import numpy as np\n",
    "from scipy.optimize import curve_fit\n",
    "import matplotlib.pyplot as plt\n",
    "\n",
    "# Define the exponential function to fit\n",
    "def exp_func(x, a, b, c):\n",
    "    return a * np.exp(-b * x) + c\n",
    "\n",
    "# Generate noisy data\n",
    "xdata = np.linspace(0, 4, 50)\n",
    "ydata = exp_func(xdata, 2.5, 1.3, 0.5) + 0.2 * np.random.normal(size=len(xdata))\n",
    "\n",
    "# Fit the data\n",
    "popt, pcov = curve_fit(exp_func, xdata, ydata)\n",
    "\n",
    "# Plot the data and fitted function\n",
    "plt.plot(xdata, ydata, 'bo', label='Noisy data')\n",
    "plt.plot(xdata, exp_func(xdata, *popt), 'r-', label='Fitted function')\n",
    "plt.legend()\n",
    "plt.show()\n"
   ]
  }
 ],
 "metadata": {
  "celltoolbar": "Slideshow",
  "kernelspec": {
   "display_name": "Python 3 (ipykernel)",
   "language": "python",
   "name": "python3"
  },
  "language_info": {
   "codemirror_mode": {
    "name": "ipython",
    "version": 3
   },
   "file_extension": ".py",
   "mimetype": "text/x-python",
   "name": "python",
   "nbconvert_exporter": "python",
   "pygments_lexer": "ipython3",
   "version": "3.10.8"
  },
  "varInspector": {
   "cols": {
    "lenName": 16,
    "lenType": 16,
    "lenVar": 40
   },
   "kernels_config": {
    "python": {
     "delete_cmd_postfix": "",
     "delete_cmd_prefix": "del ",
     "library": "var_list.py",
     "varRefreshCmd": "print(var_dic_list())"
    },
    "r": {
     "delete_cmd_postfix": ") ",
     "delete_cmd_prefix": "rm(",
     "library": "var_list.r",
     "varRefreshCmd": "cat(var_dic_list()) "
    }
   },
   "types_to_exclude": [
    "module",
    "function",
    "builtin_function_or_method",
    "instance",
    "_Feature"
   ],
   "window_display": false
  }
 },
 "nbformat": 4,
 "nbformat_minor": 5
}
