{
 "cells": [
  {
   "attachments": {},
   "cell_type": "markdown",
   "metadata": {},
   "source": [
    "# 📝Week 10 - Lab Intro\n",
    "\n",
    "In this lab introduction we will review and discuss some functions for plotting using the matplotlib package. We will also briefly introduce the idea of fitting a function to some observed data."
   ]
  },
  {
   "attachments": {},
   "cell_type": "markdown",
   "metadata": {
    "slideshow": {
     "slide_type": "subslide"
    }
   },
   "source": [
    "## Plotting"
   ]
  },
  {
   "attachments": {},
   "cell_type": "markdown",
   "metadata": {},
   "source": [
    "### `matplotlib.pyplot`\n",
    "\n",
    "The most common tool for plotting in Python is `pyplot`, from the `matplotlib` package. By convention, it is usually imported and assigned the nickname `plt`. "
   ]
  },
  {
   "cell_type": "code",
   "execution_count": null,
   "metadata": {},
   "outputs": [],
   "source": [
    "import matplotlib.pyplot as plt"
   ]
  },
  {
   "attachments": {},
   "cell_type": "markdown",
   "metadata": {},
   "source": [
    "### The plot function"
   ]
  },
  {
   "attachments": {},
   "cell_type": "markdown",
   "metadata": {},
   "source": [
    "If you provide `plot` with a single list (or numpy array) of values these will be taken as y values.\n",
    "\n",
    "For x-values, `plot` will automatically use the indices of the list."
   ]
  },
  {
   "cell_type": "code",
   "execution_count": null,
   "metadata": {},
   "outputs": [],
   "source": [
    "vals = [0, 1, 4, 9, 16, 25, 36]\n",
    "\n",
    "plt.plot(vals)\n",
    "plt.show() # plt.show() lets us see the plot"
   ]
  },
  {
   "attachments": {},
   "cell_type": "markdown",
   "metadata": {},
   "source": [
    "We can provide our own x and y values by plotting two lists to the `plot` function."
   ]
  },
  {
   "cell_type": "code",
   "execution_count": null,
   "metadata": {},
   "outputs": [],
   "source": [
    "x_vals = [-3, -2, -1, 0, 1, 2, 3]\n",
    "y_vals = [0, 1, 4, 9, 16, 25, 36]\n",
    "\n",
    "plt.plot(x_vals, y_vals)\n",
    "plt.show()"
   ]
  },
  {
   "attachments": {},
   "cell_type": "markdown",
   "metadata": {},
   "source": [
    "The `plot` function by default connects adjacent points with a line segment. We can plot continuous functions of x, as long as we have enough points to make the plot look smooth."
   ]
  },
  {
   "attachments": {},
   "cell_type": "markdown",
   "metadata": {},
   "source": [
    "#### Example: plotting a smooth parabola"
   ]
  },
  {
   "cell_type": "code",
   "execution_count": null,
   "metadata": {},
   "outputs": [],
   "source": [
    "import numpy as np\n",
    "\n",
    "# start, stop, step\n",
    "x_vals = np.arange(0,1,0.0001) \n",
    "y_vals = x_vals ** 2\n",
    "\n",
    "plt.plot(x_vals, y_vals)\n",
    "plt.show()"
   ]
  },
  {
   "attachments": {},
   "cell_type": "markdown",
   "metadata": {},
   "source": [
    "The `plot` function is not ideal in all scenarios.\n",
    "\n",
    "Consider this example where we want to plot students' hours of study against their GPA."
   ]
  },
  {
   "cell_type": "code",
   "execution_count": null,
   "metadata": {},
   "outputs": [],
   "source": [
    "hrs_study = [9,   10,  0,   0,   8,   6,   5,   4,   2,   4,   1]\n",
    "gpa =       [4.0, 4.0, 3.9, 2.6, 3.7, 3.4, 3.7, 3.5, 3.3, 3.3, 3.0]\n",
    "\n",
    "plt.plot(hrs_study, gpa)\n",
    "plt.show()"
   ]
  },
  {
   "cell_type": "markdown",
   "metadata": {},
   "source": [
    "In this case, it makes much more sense to use a scatter plot."
   ]
  },
  {
   "attachments": {},
   "cell_type": "markdown",
   "metadata": {},
   "source": [
    "### The scatter function\n",
    "\n",
    "Scatter plots are good for determining what relationship (if any) exists between the variables of your data. You should choose a scatter plot when it's possible the same x value is paired with more than one y value."
   ]
  },
  {
   "cell_type": "code",
   "execution_count": null,
   "metadata": {},
   "outputs": [],
   "source": [
    "hrs_study = [9,   10,  0,   0,   8,   6,   5,   4,   2,   4,   1]\n",
    "gpa =       [4.0, 4.0, 3.9, 2.6, 3.7, 3.4, 3.7, 3.5, 3.3, 3.3, 3.0]\n",
    "\n",
    "plt.scatter(hrs_study, gpa)\n",
    "plt.show()"
   ]
  },
  {
   "attachments": {},
   "cell_type": "markdown",
   "metadata": {},
   "source": [
    "From this scatter plot we can more easily see that some correlation may exist between our variables."
   ]
  },
  {
   "attachments": {},
   "cell_type": "markdown",
   "metadata": {},
   "source": [
    "### Combining scatter + plot functions for line of best fit.\n",
    "\n",
    "The two types of plots we've seen can be combined into a single plot. \n",
    "\n",
    "The code below uses a numpy function called `polyfit` with a degree of `1` to estimate the parameters for a line that best fits the data. We plot the line using the `plot` function overtop of of the data which is plotted with `scatter`."
   ]
  },
  {
   "cell_type": "code",
   "execution_count": null,
   "metadata": {},
   "outputs": [],
   "source": [
    "hrs_study = [9,   10,  0,   0,   8,   6,   5,   4,   2,   4,   1]\n",
    "gpa =       [4.0, 4.0, 3.9, 2.6, 3.7, 3.4, 3.7, 3.5, 3.3, 3.3, 3.0]\n",
    "\n",
    "plt.scatter(hrs_study, gpa)\n",
    "\n",
    "# this estimates parameters for a line (y = mx + b)\n",
    "m, b = np.polyfit(hrs_study, gpa, 1)\n",
    "\n",
    "# compute estimated y values by plugging x values into the line equation\n",
    "x = np.array(hrs_study)\n",
    "y = m * x + b \n",
    "\n",
    "# plot x and y with the color red\n",
    "plt.plot(x, y, color=\"r\")\n",
    "\n",
    "plt.show()\n"
   ]
  },
  {
   "attachments": {},
   "cell_type": "markdown",
   "metadata": {},
   "source": [
    "**Today's lab will expound on this idea by implementing a class that will allow you fit data to any type of functions, not just lines or other polynomials.**"
   ]
  },
  {
   "attachments": {},
   "cell_type": "markdown",
   "metadata": {},
   "source": [
    "### Adding labels and titles \n",
    "\n",
    "It's important to add labels and titles to all plots in order to make it clear what information is being presented."
   ]
  },
  {
   "cell_type": "code",
   "execution_count": null,
   "metadata": {},
   "outputs": [],
   "source": [
    "hrs_study = [9,   10,  0,   0,   8,   6,   5,   4,   2,   4,   1]\n",
    "gpa =       [4.0, 4.0, 3.9, 2.6, 3.7, 3.4, 3.7, 3.5, 3.3, 3.3, 3.0]\n",
    "\n",
    "plt.scatter(hrs_study, gpa)\n",
    "\n",
    "m, b = np.polyfit(hrs_study, gpa, 1)\n",
    "\n",
    "x = np.array(hrs_study)\n",
    "y = m * x + b \n",
    "\n",
    "plt.plot(x, y, color=\"r\")\n",
    "\n",
    "plt.xlabel('Hours of Study')\n",
    "plt.ylabel('GPA')\n",
    "plt.title('Relationship Between Study Time and Grades')\n",
    "\n",
    "plt.show()"
   ]
  },
  {
   "attachments": {},
   "cell_type": "markdown",
   "metadata": {},
   "source": [
    "### The `matplotlib` documentation\n",
    "\n",
    "There are many other types of plots that you will find useful including histograms, stem plots, bar charts, pie charts, and box plots, as well as 3D versions of many of these.\n",
    "\n",
    "The [matplotlib documentation](https://matplotlib.org/stable/index.html) is an extremely useful resource that includes examples for getting started with any of these types of plots."
   ]
  }
 ],
 "metadata": {
  "celltoolbar": "Slideshow",
  "kernelspec": {
   "display_name": "engr131",
   "language": "python",
   "name": "python3"
  },
  "language_info": {
   "codemirror_mode": {
    "name": "ipython",
    "version": 3
   },
   "file_extension": ".py",
   "mimetype": "text/x-python",
   "name": "python",
   "nbconvert_exporter": "python",
   "pygments_lexer": "ipython3",
   "version": "3.10.4"
  },
  "varInspector": {
   "cols": {
    "lenName": 16,
    "lenType": 16,
    "lenVar": 40
   },
   "kernels_config": {
    "python": {
     "delete_cmd_postfix": "",
     "delete_cmd_prefix": "del ",
     "library": "var_list.py",
     "varRefreshCmd": "print(var_dic_list())"
    },
    "r": {
     "delete_cmd_postfix": ") ",
     "delete_cmd_prefix": "rm(",
     "library": "var_list.r",
     "varRefreshCmd": "cat(var_dic_list()) "
    }
   },
   "types_to_exclude": [
    "module",
    "function",
    "builtin_function_or_method",
    "instance",
    "_Feature"
   ],
   "window_display": false
  },
  "vscode": {
   "interpreter": {
    "hash": "513b23069d29a61750765eb13a612a21c520ffec067bf4e4e6fd69787237414d"
   }
  }
 },
 "nbformat": 4,
 "nbformat_minor": 2
}
