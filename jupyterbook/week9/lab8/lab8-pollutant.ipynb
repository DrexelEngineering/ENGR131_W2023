{
 "cells": [
  {
   "cell_type": "raw",
   "metadata": {},
   "source": [
    "# ASSIGNMENT CONFIG\n",
    "requirements: requirements.txt\n",
    "solutions_pdf: true\n",
    "export_cell: false\n",
    "generate: \n",
    "    pdf: true\n",
    "    filtering: true\n",
    "    pagebreaks: true\n",
    "    zips: false"
   ]
  },
  {
   "attachments": {},
   "cell_type": "markdown",
   "metadata": {},
   "source": [
    "# 🧪🖥 Lab 7: Pollutant Triangulation\n",
    "\n",
    "This lab uses classes to solve a problem involving pollutant triangulation.\n",
    "\n"
   ]
  },
  {
   "cell_type": "code",
   "execution_count": 7,
   "metadata": {},
   "outputs": [
    {
     "name": "stdout",
     "output_type": "stream",
     "text": [
      "Requirement already satisfied: drexel-jupyter-logger in /opt/homebrew/Caskroom/miniforge/base/envs/otter/lib/python3.10/site-packages (0.0.1)\n",
      "Requirement already satisfied: cryptography in /opt/homebrew/Caskroom/miniforge/base/envs/otter/lib/python3.10/site-packages (from drexel-jupyter-logger) (39.0.2)\n",
      "Requirement already satisfied: cffi>=1.12 in /opt/homebrew/Caskroom/miniforge/base/envs/otter/lib/python3.10/site-packages (from cryptography->drexel-jupyter-logger) (1.15.1)\n",
      "Requirement already satisfied: pycparser in /opt/homebrew/Caskroom/miniforge/base/envs/otter/lib/python3.10/site-packages (from cffi>=1.12->cryptography->drexel-jupyter-logger) (2.21)\n"
     ]
    }
   ],
   "source": [
    "! pip install drexel-jupyter-logger"
   ]
  },
  {
   "cell_type": "code",
   "execution_count": 8,
   "metadata": {},
   "outputs": [],
   "source": [
    "import drexel_jupyter_logger\n",
    "import matplotlib.pyplot as plt\n",
    "import numpy as np\n",
    "# import IPython.display as ipd"
   ]
  },
  {
   "attachments": {},
   "cell_type": "markdown",
   "metadata": {},
   "source": [
    "## Use triangulation to locate pollutant source\n",
    "\n",
    "Triangulation, such as used in GPS positioning uses three points and two distances to calculate the location of an unknown point.\n",
    "\n",
    "Now, let's suppose that the unknown point is actually a point source for some pollutant X, and at time 0 it\n",
    "releases a burst of Chemical X. Assume no wind, and that X diffuses freely from its release point. \n",
    "\n",
    "Suppose that we have measurement devices at the three points 1, 2, and 3 that track the concentration of X as a function of time, and that the concentration of X is detected to peak at times $t_1$, $t_2$, and $t_3$, at each point, respectively. Can we determine the location of the evil point source?"
   ]
  },
  {
   "cell_type": "raw",
   "metadata": {},
   "source": [
    "# BEGIN QUESTION\n",
    "name: task1-Point-class"
   ]
  },
  {
   "cell_type": "markdown",
   "metadata": {},
   "source": [
    "## Task 1: Make a class for point in pollutant system\n",
    "\n",
    "In this system, we have collected data at points $(x_1,y_1)$, $(x_2,y_2)$, and $(x_3,y_3)$, at times $t_1$, $t_2$, and $t_3$ respectively. We would like to encapsulate this data, and find a way to extract distance using the diffusivity of $X$ $(D_X)$.\n",
    "\n",
    "Let's make the assumption that the time intervals $(t_i)$ scale with the square of the distance $(d_i)$ divided by the diffusivity of $X$ $(D_X)$:\n",
    "\n",
    "$$ t_i ~ \\frac{d_i^2}{D_X} $$\n",
    "\n",
    "We can express the diffusivity using the following diffusion constant:\n",
    "\n",
    "$$ K = \\sqrt{D_X} $$\n",
    "\n",
    "That satisfies the conditions\n",
    "$$ d_1 = K\\sqrt{t_1} $$\n",
    "$$ d_2 = K\\sqrt{t_2} $$\n",
    "$$ d_3 = K\\sqrt{t_3} $$\n",
    "\n",
    "Write python code to do the following:\n",
    "\n",
    "* Define a class called `Point`\n",
    "* Define the class constructor to accept as argument the floats `x,y,t`, in that order. Make sure your parameters are in the right order! Store each value in a data member, so that they can be used in other methods. \n",
    "* Define a method called `diffusion_distance` which accepts as input the constant `K`, and returns the distance calculated using the Point member `self.t`.\n",
    "\n",
    "Your code replaces the prompt:  `...`"
   ]
  },
  {
   "cell_type": "raw",
   "metadata": {},
   "source": [
    "# BEGIN SOLUTION"
   ]
  },
  {
   "cell_type": "code",
   "execution_count": 9,
   "metadata": {},
   "outputs": [
    {
     "name": "stdout",
     "output_type": "stream",
     "text": [
      "Members of P1: (0,1,1)\n",
      "Calculate diffusion distance of P1: 2.5\n"
     ]
    },
    {
     "data": {
      "image/png": "[encoded data removed]",
      "text/plain": [
       "<Figure size 640x480 with 1 Axes>"
      ]
     },
     "metadata": {},
     "output_type": "display_data"
    }
   ],
   "source": [
    "# BEGIN SOLUTION\n",
    "class Point:\n",
    "    def __init__(self,x,y,t):\n",
    "        self.x = x\n",
    "        self.y = y\n",
    "        self.t = t\n",
    "\n",
    "    def diffusion_distance(self,K):\n",
    "        return K*self.t**0.5\n",
    "# END SOLUTION\n",
    "\n",
    "# Create point objects P1, P2, P3\n",
    "Pt1 = Point(0,1,1)\n",
    "Pt2 = Point(1,0,2)\n",
    "Pt3 = Point(2,3,2)\n",
    "\n",
    "print(f'Members of P1: ({Pt1.x},{Pt1.y},{Pt1.t})')\n",
    "\n",
    "# Solve diffusion distance\n",
    "dist1 = Pt1.diffusion_distance(2.5)\n",
    "print('Calculate diffusion distance of P1:', dist1)\n",
    "\n",
    "# Plot P1,P2,P3\n",
    "plt.clf()\n",
    "plt.plot(Pt1.x,Pt1.y,'ro')\n",
    "plt.plot(Pt2.x,Pt2.y,'b*')\n",
    "plt.plot(Pt3.x,Pt3.y,'k+')\n",
    "plt.grid()"
   ]
  },
  {
   "cell_type": "raw",
   "metadata": {},
   "source": [
    "# END SOLUTION"
   ]
  },
  {
   "cell_type": "raw",
   "metadata": {},
   "source": [
    "# BEGIN TESTS"
   ]
  },
  {
   "cell_type": "code",
   "execution_count": 10,
   "metadata": {},
   "outputs": [],
   "source": [
    "\"\"\" # BEGIN TEST CONFIG\n",
    "points: 1\n",
    "success_message: Point.x is correct.\n",
    "\"\"\" # END TEST CONFIG\n",
    "\n",
    "import numpy as np\n",
    "import drexel_jupyter_logger\n",
    "\n",
    "P = Point(1,2,3)\n",
    "drexel_jupyter_logger.variable_logger(P)\n",
    "assert np.all(np.isclose(P.x, 1) )"
   ]
  },
  {
   "cell_type": "code",
   "execution_count": 11,
   "metadata": {},
   "outputs": [],
   "source": [
    "\"\"\" # BEGIN TEST CONFIG\n",
    "points: 1\n",
    "success_message: Point.y is correct.\n",
    "\"\"\" # END TEST CONFIG\n",
    "\n",
    "import numpy as np\n",
    "\n",
    "P = Point(1,2,3)\n",
    "\n",
    "import drexel_jupyter_logger\n",
    "drexel_jupyter_logger.variable_logger(P)\n",
    "\n",
    "assert np.all(np.isclose(P.y, 2) )"
   ]
  },
  {
   "cell_type": "code",
   "execution_count": 12,
   "metadata": {},
   "outputs": [],
   "source": [
    "\"\"\" # BEGIN TEST CONFIG\n",
    "points: 1\n",
    "success_message: Point.t is correct.\n",
    "\"\"\" # END TEST CONFIG\n",
    "\n",
    "\n",
    "import numpy as np\n",
    "\n",
    "P = Point(1,2,3)\n",
    "\n",
    "import drexel_jupyter_logger\n",
    "drexel_jupyter_logger.variable_logger(P.t)\n",
    "\n",
    "assert np.all(np.isclose(P.t, 3) )"
   ]
  },
  {
   "cell_type": "code",
   "execution_count": 13,
   "metadata": {},
   "outputs": [],
   "source": [
    "\"\"\" # BEGIN TEST CONFIG\n",
    "points: 2\n",
    "success_message: P.diffusion_distance(0) is correct.\n",
    "\"\"\" # END TEST CONFIG\n",
    "\n",
    "import numpy as np\n",
    "\n",
    "P = Point(1,2,3)\n",
    "answer = P.diffusion_distance(0)\n",
    "\n",
    "import drexel_jupyter_logger\n",
    "drexel_jupyter_logger.variable_logger(answer)\n",
    "\n",
    "assert np.all(np.isclose(answer, 0))"
   ]
  },
  {
   "cell_type": "code",
   "execution_count": 14,
   "metadata": {},
   "outputs": [],
   "source": [
    "\"\"\" # BEGIN TEST CONFIG\n",
    "points: 2\n",
    "success_message: P.diffusion_distance(4) is correct.\n",
    "\"\"\" # END TEST CONFIG\n",
    "\n",
    "import numpy as np\n",
    "\n",
    "P = Point(1,2,3)\n",
    "answer = P.diffusion_distance(4)\n",
    "\n",
    "import drexel_jupyter_logger\n",
    "drexel_jupyter_logger.variable_logger(answer)\n",
    "\n",
    "assert np.all(np.isclose(answer, 6.928203230275509))"
   ]
  },
  {
   "cell_type": "raw",
   "metadata": {},
   "source": [
    "# END TESTS"
   ]
  },
  {
   "cell_type": "raw",
   "metadata": {},
   "source": [
    "# END QUESTION"
   ]
  },
  {
   "cell_type": "raw",
   "metadata": {},
   "source": [
    "# BEGIN QUESTION\n",
    "name: task2-System-class"
   ]
  },
  {
   "cell_type": "markdown",
   "metadata": {},
   "source": [
    "## Task 2: Make a class to triangulate between 3 points\n",
    "\n",
    "In the previous task, we determined how to calculate the distance between a point and a pollutant source, given diffusion constant $K$ and time $t$. How can we use this information to find the location of a pollutant source?\n",
    "\n",
    "**Intro to Triangulation** \n",
    "\n",
    "Triangulation is the process of locating an unknown point given two know points, and two known distances.\n",
    "\n",
    "Consider two points $(x_1,y_1)$ and $(x_2,y_2$).\n",
    "\n",
    "Let $(x,y)$ be an unknown point whose respective distances to the two points, $d_1$ and $d_2$, are known. The Pythagorean theorem allows us to express $x$ and $y$ (the coordinates of the unknown point) in terms of $(x_1,y_1)$, $(x_2,y_2)$, $d_1$, and $d_2$:\n",
    "$$ d_1^{2} = (x - x_1)^{2} + (y - y_1)^{2}$$\n",
    "$$ d_2^{2} = (x - x_2)^{2} + (y - y_2)^{2}$$\n",
    "\n",
    "\n",
    "Inverting these two formulae to make them explicit in $x$ and $y$ is really a lot of fun, but it takes a while. Here is the final result:\n",
    "$$ x_{\\pm} = \\frac{1}{2(1 + b^2)} \\left[ 2 [x_1 - b(a - y_1)] \\pm [4(b(a - y_1) - x_1)^2 - 4(1 + b^2)(x_1^{2} - d_1^{2} + (y_1 - a)^{2})]^{\\frac{1}{2}} \\right] $$\n",
    "$$ y_{\\pm} = a + bx_{\\pm} $$\n",
    "\n",
    "where\n",
    "$$ a = \\frac{d_1^{2} - d_2^{2} - [(x_1^{2} + y_1^{2}) - (x_2^{2} + y_2^{2})]}{2(y_2 - y_1)} $$\n",
    "\n",
    "and \n",
    "$$ b = - \\frac{x_2 - x_1}{y_2 - y_1} $$\n",
    "\n",
    "Note that the two possible values for $x$, $x_+$ and $x_-$, arise from the positive and negative sense of the square root, and the value of $y$ derives from its particular $x$. So because of the power of 2 in the Pythagorean theorem, we find that there are **two possible points**, $(x_+, y_+)$ and $(x_-, y_-)$, that are each $d_1$ from $(x_1, y_1)$ and $d_2$ from $(x_2, y_2)$. These are shown by the star and cross in the figure below.\n",
    "\n",
    "\"Triangulation\" refers to the fact that we need a **third** known point to decide which of $(x_+, y_+)$ and $(x_-, y_-)$ is our sought-after point. We would like the final unknown point to be the one that is closer to $(x_3, y_3)$, shown as the star in the figure below:\n",
    "\n",
    "<div>\n",
    "<img src=\"Triangulation4.png\" width=\"400\"/>\n",
    "<div>\n",
    "    \n",
    "Write a python code to do the following:\n",
    "* Create a class `Point_System`\n",
    "* Define the class constructor to accept as argument the Point objects `P1`,`P2`, and `P3`, in that order. Store each value in a data member, so that they can be used in other methods. \n",
    "* Define a method called `pythagoras` which accepts as input and `x1,x2,y1,y2`, which are the coordinates of the points `self.P1` and `self.P2`. This method should return the euclidean distance between the two points.\n",
    "* Define a method called `a_b` which accepts as input the distances between a point and `self.P1` and `self.P2`, as `d1` and `d2` respectively. This method should return the tuple `a,b`, calculated with the equation above.\n",
    "* Define a method called `x_y` which accepts as input the distances between a point and `self.P1` and `self.P2`, as `d1` and `d2` respectively. This method should return the tuple `m,ym,xp,yp`, which are the \"minus\" coordinates `(xm,ym)` and \"plus\" coordinates `(xp,yp)` of a point, calculated with the equation above. \n",
    "* Define a method called `triangulate` which accepts as input the distances between a point and `self.P1` and `self.P2`, as `d1` and `d2` respectively. This method should return the tuple `xf,yf`, the coordinate closest to the third point, `self.P3`.\n",
    "    1. Calculate the potential coordinates of a point the distance `d1` from point `self.P1`, and distance `d2` from `self.P2` using the method we defined, `x_y`.  Assign this to the variables `xm,ym,xp,yp`.\n",
    "    2. Assign a variable `d3m` to be the distance between the estimated \"minus\" coordinate `xm,ym` and the point `self.P3`\n",
    "    3. Assign a variable `d3p` to be the distance between the estimated \"plus\" coordinate `xp,yp` and the point `self.P3`\n",
    "    4. Check whether `d3m` or `d3p` is smaller. Set the corresponding $(x,y)$ coordinates to variables `xf,yf`\n",
    "    5. Return the final triangulated coordinates, `xf,yf`.\n",
    "\n",
    "Your code replaces the prompt:  `...`"
   ]
  },
  {
   "cell_type": "raw",
   "metadata": {},
   "source": [
    "# BEGIN SOLUTION"
   ]
  },
  {
   "cell_type": "code",
   "execution_count": 15,
   "metadata": {},
   "outputs": [
    {
     "data": {
      "image/png": "[encoded data removed]",
      "text/plain": [
       "<Figure size 640x480 with 1 Axes>"
      ]
     },
     "metadata": {},
     "output_type": "display_data"
    }
   ],
   "source": [
    "# BEGIN SOLUTION\n",
    "class Point_System:\n",
    "    def __init__(self,P1,P2,P3):\n",
    "        self.P1=P1\n",
    "        self.P2=P2\n",
    "        self.P3=P3\n",
    "        \n",
    "    def pythagoras(self,x1,y1,x2,y2):\n",
    "        return ((x1-x2)**2+(y1-y2)**2)**0.5\n",
    "\n",
    "    def a_b(self,d1,d2):\n",
    "        a_num = d1**2-d2**2 - ((self.P1.x**2+self.P1.y**2)-(self.P2.x**2+self.P2.y**2))\n",
    "        a_den = 2*(self.P2.y-self.P1.y)\n",
    "        a = a_num / a_den\n",
    "        b = -(self.P2.x-self.P1.x)/(self.P2.y-self.P1.y)\n",
    "        return a, b\n",
    "    \n",
    "    def x_y(self,d1,d2):\n",
    "        a, b = self.a_b(d1,d2)\n",
    "        rad=4*(b*(a-self.P1.y)-self.P1.x)**2 - 4*(1+b**2)*(self.P1.x**2-d1**2+(self.P1.y-a)**2)\n",
    "        pre=2*(self.P1.x-b*(a-self.P1.y))\n",
    "        den=2*(1+b**2)\n",
    "        xp=(pre+(rad)**0.5)/den\n",
    "        xm=(pre-(rad)**0.5)/den\n",
    "        yp=a+xp*b\n",
    "        ym=a+xm*b\n",
    "        return xm,ym,xp,yp\n",
    "    \n",
    "    def triangulate(self,d1,d2):\n",
    "        xm,ym,xp,yp = self.x_y(d1, d2) # solve for possible solutions (x-,y-) and (x+,y+)\n",
    "        \n",
    "        d3m=self.pythagoras(self.P3.x,self.P3.y,xm,ym) # calculate the distance between (x-,y-) and point 3\n",
    "\n",
    "        d3p=self.pythagoras(self.P3.x,self.P3.y,xp,yp) # calculate the distance between (x+,y+) and point 3\n",
    "\n",
    "        if d3m < d3p: # if (x-,y-) is closer to point 3\n",
    "            xf, yf= xm, ym # final solution (xf,yf) is (x-,y-)\n",
    "            \n",
    "        else: # otherwise (x+,y+) is closer to point 3\n",
    "            xf, yf= xp, yp # final solution (xf,yf) is (x+,y+)\n",
    "\n",
    "        return xf, yf # return the triangulated point    \n",
    "# END SOLUTION\n",
    "    \n",
    "# create Point object P1, P2, P3\n",
    "Pt1 = Point(0,1,1)\n",
    "Pt2 = Point(1,0,2)\n",
    "Pt3 = Point(2,3,2)\n",
    "\n",
    "# Create Point_System object System, using P1, P2, P3 as inputs\n",
    "System = Point_System(Pt1,Pt2,Pt3)\n",
    "\n",
    "# Plot points Point_System objects P1, P2, P3\n",
    "plt.clf()\n",
    "plt.plot(System.P1.x,System.P1.y,'ro')\n",
    "plt.plot(System.P2.x,System.P2.y,'b*')\n",
    "plt.plot(System.P3.x,System.P3.y,'k+')\n",
    "plt.grid()"
   ]
  },
  {
   "cell_type": "raw",
   "metadata": {},
   "source": [
    "# END SOLUTION"
   ]
  },
  {
   "cell_type": "raw",
   "metadata": {},
   "source": [
    "# BEGIN TESTS"
   ]
  },
  {
   "cell_type": "code",
   "execution_count": 16,
   "metadata": {},
   "outputs": [],
   "source": [
    "\"\"\" # BEGIN TEST CONFIG\n",
    "points: 1\n",
    "success_message: Point_System.P1.x is correct.\n",
    "\"\"\" # END TEST CONFIG\n",
    "\n",
    "import numpy as np\n",
    "\n",
    "P_Sys = Point_System(Point(0,1,1),Point(1,0,2),Point(2,3,2))\n",
    "\n",
    "import drexel_jupyter_logger\n",
    "drexel_jupyter_logger.variable_logger(P_Sys)\n",
    "\n",
    "assert np.all(np.isclose((P_Sys.P1.x,P_Sys.P1.y,P_Sys.P1.t), (0,1,1)) )"
   ]
  },
  {
   "cell_type": "code",
   "execution_count": 17,
   "metadata": {},
   "outputs": [],
   "source": [
    "\"\"\" # BEGIN TEST CONFIG\n",
    "points: 1\n",
    "success_message: Point_System.P1.y is correct.\n",
    "\"\"\" # END TEST CONFIG\n",
    "\n",
    "import numpy as np\n",
    "\n",
    "P_Sys = Point_System(Point(0,1,1),Point(1,0,2),Point(2,3,2))\n",
    "\n",
    "import drexel_jupyter_logger\n",
    "drexel_jupyter_logger.variable_logger(P_Sys)\n",
    "\n",
    "assert np.all(np.isclose((P_Sys.P2.x,P_Sys.P2.y,P_Sys.P2.t), (1,0,2)) )"
   ]
  },
  {
   "cell_type": "code",
   "execution_count": 18,
   "metadata": {},
   "outputs": [],
   "source": [
    "\"\"\" # BEGIN TEST CONFIG\n",
    "points: 1\n",
    "success_message: Point_System.P1.t is correct.\n",
    "\"\"\" # END TEST CONFIG\n",
    "\n",
    "\n",
    "import numpy as np\n",
    "\n",
    "P_Sys = Point_System(Point(0,1,1),Point(1,0,2),Point(2,3,2))\n",
    "\n",
    "import drexel_jupyter_logger\n",
    "drexel_jupyter_logger.variable_logger(P_Sys)\n",
    "\n",
    "assert np.all(np.isclose((P_Sys.P3.x,P_Sys.P3.y,P_Sys.P3.t), (2,3,2)) )"
   ]
  },
  {
   "cell_type": "code",
   "execution_count": 19,
   "metadata": {},
   "outputs": [],
   "source": [
    "\"\"\" # BEGIN TEST CONFIG\n",
    "points: 1\n",
    "success_message: Point_System.pythagoras(0,0,0,0) is correct.\n",
    "\"\"\" # END TEST CONFIG\n",
    "\n",
    "import numpy as np\n",
    "\n",
    "P_Sys = Point_System(Point(0,1,1),Point(1,0,2),Point(2,3,2))\n",
    "answer = P_Sys.pythagoras(0,0,0,0)\n",
    "\n",
    "import drexel_jupyter_logger\n",
    "drexel_jupyter_logger.variable_logger(answer)\n",
    "\n",
    "assert np.all(np.isclose(answer, 0))"
   ]
  },
  {
   "cell_type": "code",
   "execution_count": 20,
   "metadata": {},
   "outputs": [],
   "source": [
    "\"\"\" # BEGIN TEST CONFIG\n",
    "points: 1\n",
    "success_message: Point_System.pythagoras(-2,3,4,1) is correct.\n",
    "\"\"\" # END TEST CONFIG\n",
    "\n",
    "import numpy as np\n",
    "\n",
    "P_Sys = Point_System(Point(0,1,1),Point(1,0,2),Point(2,3,2))\n",
    "answer = P_Sys.pythagoras(-2,3,4,1)\n",
    "\n",
    "import drexel_jupyter_logger\n",
    "drexel_jupyter_logger.variable_logger(answer)\n",
    "\n",
    "assert np.all(np.isclose(answer, 6.324555320336759))"
   ]
  },
  {
   "cell_type": "code",
   "execution_count": 21,
   "metadata": {},
   "outputs": [],
   "source": [
    "\"\"\" # BEGIN TEST CONFIG\n",
    "points: 1\n",
    "success_message: Point_System.a_b(1,2) is correct.\n",
    "\"\"\" # END TEST CONFIG\n",
    "\n",
    "import numpy as np\n",
    "\n",
    "P_Sys = Point_System(Point(0,1,1),Point(1,0,2),Point(2,3,2))\n",
    "answer = P_Sys.a_b(1,2)\n",
    "\n",
    "import drexel_jupyter_logger\n",
    "drexel_jupyter_logger.variable_logger(answer)\n",
    "\n",
    "assert np.all(np.isclose(answer, (1.5, 1.0)))"
   ]
  },
  {
   "cell_type": "code",
   "execution_count": 22,
   "metadata": {},
   "outputs": [],
   "source": [
    "\"\"\" # BEGIN TEST CONFIG\n",
    "points: 1\n",
    "success_message: Point_System.a_b(3,.6) is correct.\n",
    "\"\"\" # END TEST CONFIG\n",
    "\n",
    "import numpy as np\n",
    "\n",
    "P_Sys = Point_System(Point(0,1,1),Point(1,0,2),Point(2,3,2))\n",
    "answer = P_Sys.a_b(3,.6)\n",
    "\n",
    "import drexel_jupyter_logger\n",
    "drexel_jupyter_logger.variable_logger(answer)\n",
    "\n",
    "assert np.all(np.isclose(answer, (-4.32, 1.0)))"
   ]
  },
  {
   "cell_type": "code",
   "execution_count": 23,
   "metadata": {},
   "outputs": [],
   "source": [
    "\"\"\" # BEGIN TEST CONFIG\n",
    "points: 1\n",
    "success_message: Point_System.x_y(1,2) is correct.\n",
    "\"\"\" # END TEST CONFIG\n",
    "\n",
    "import numpy as np\n",
    "\n",
    "P_Sys = Point_System(Point(0,1,1),Point(1,0,2),Point(2,3,2))\n",
    "answer = P_Sys.x_y(1,2)\n",
    "\n",
    "import drexel_jupyter_logger\n",
    "drexel_jupyter_logger.variable_logger(answer)\n",
    "\n",
    "assert np.all(np.isclose(answer, (-0.9114378277661477, 0.5885621722338523, 0.4114378277661477, 1.9114378277661477)))"
   ]
  },
  {
   "cell_type": "code",
   "execution_count": 24,
   "metadata": {},
   "outputs": [],
   "source": [
    "\"\"\" # BEGIN TEST CONFIG\n",
    "points: 1\n",
    "success_message: Point_System.x_y(3,2.5) is correct.\n",
    "\"\"\" # END TEST CONFIG\n",
    "\n",
    "import numpy as np\n",
    "\n",
    "P_Sys = Point_System(Point(0,1,1),Point(1,0,2),Point(2,3,2))\n",
    "answer = P_Sys.x_y(3,2.5)\n",
    "\n",
    "import drexel_jupyter_logger\n",
    "drexel_jupyter_logger.variable_logger(answer)\n",
    "\n",
    "assert np.all(np.isclose(answer, (-0.5702951388031541, -1.945295138803154, 2.945295138803154, 1.570295138803154) ))"
   ]
  },
  {
   "cell_type": "code",
   "execution_count": 25,
   "metadata": {},
   "outputs": [],
   "source": [
    "\"\"\" # BEGIN TEST CONFIG\n",
    "points: 1\n",
    "success_message: Point_System.triangulate(1,2) is correct.\n",
    "\"\"\" # END TEST CONFIG\n",
    "\n",
    "import numpy as np\n",
    "\n",
    "P_Sys = Point_System(Point(0,1,1),Point(1,0,2),Point(2,3,2))\n",
    "answer = P_Sys.triangulate(1,2)\n",
    "\n",
    "import drexel_jupyter_logger\n",
    "drexel_jupyter_logger.variable_logger(answer)\n",
    "\n",
    "assert np.all(np.isclose(answer, (0.4114378277661477, 1.9114378277661477) ))"
   ]
  },
  {
   "cell_type": "code",
   "execution_count": 26,
   "metadata": {},
   "outputs": [],
   "source": [
    "\"\"\" # BEGIN TEST CONFIG\n",
    "points: 1\n",
    "success_message: Point_System.triangulate(3,.6) is correct.\n",
    "\"\"\" # END TEST CONFIG\n",
    "\n",
    "import numpy as np\n",
    "\n",
    "P_Sys = Point_System(Point(0,1,1),Point(1,0,2),Point(2,3,2))\n",
    "answer = P_Sys.triangulate(3,2.5)\n",
    "\n",
    "import drexel_jupyter_logger\n",
    "drexel_jupyter_logger.variable_logger(answer)\n",
    "\n",
    "assert np.all(np.isclose(answer, (2.945295138803154, 1.570295138803154) ))"
   ]
  },
  {
   "cell_type": "raw",
   "metadata": {},
   "source": [
    "# END TESTS"
   ]
  },
  {
   "cell_type": "raw",
   "metadata": {},
   "source": [
    "# END QUESTION"
   ]
  },
  {
   "cell_type": "raw",
   "metadata": {},
   "source": [
    "# BEGIN QUESTION\n",
    "name: task3-predict"
   ]
  },
  {
   "cell_type": "markdown",
   "metadata": {},
   "source": [
    "## Task 3: Predict location of pollutant and diffusivity\n",
    "\n",
    "Our system consists of three points,$P_1=(-4,7), P_2=(-5,-6), P_3=(9,1)$, and a pollution source with unknown coordinates and diffusion coefficient $K$. After the release of the chemical, the pollution peaked at the three points were detected at times $300,400,500$ respectively. We want to estimate $K$ and the coordinates of the pollutant.\n",
    "\n",
    "We can achieve this using an iterative process that slowly modifies K by multiplying it by a change factor $\\epsilon$, and recalculates the predicted coordinates. The process will repeat until K is modified by less than a factor of $10^{-6}$ (In other words, when $|K-K\\epsilon|<K*10^{-6}$). Write a code to do the following:\n",
    "\n",
    "* Create `Point` objects `P1`, `P2` and `P3`, initialized with the coordinates and times given above\n",
    "* Create a `Point_System` object initialized with point objects `P1`, `P2` and `P3`.\n",
    "* We are satisfied with our guess when K changes by less than a factor of $10^{-6}$ per iteration. Assign this value to variable `criteria`. This variable will not change!\n",
    "* Assign 1.0 as our initial guess of `K`\n",
    "* Assign 0 as our initial change factor, `epsilon`\n",
    "* Write a loop that runs until K is modified by less than a factor of $10^{-6}$. Inside, the loop performs the following steps:\n",
    "  1. Compute the distances of `d1`, `d2`, and `d3` with the given values of K.\n",
    "  2. Use triangulation to find the points `xf,yf`, which are the correct distance from P1 and P2, and closest to P3.\n",
    "  3. Compute the distance `d3_`, which is the distance between `(xf,yf)` and `P3`.\n",
    "  4. Calculate our change factor `epsilon` using the following equation: $\\epsilon=\\sqrt{d_{3 true}/d_{3 guess}}$.\n",
    "  5. print the values of `d3_`, `d3`, `epsilon`, and `K`.\n",
    "  6. Change $K$ to $K\\epsilon$.\n",
    "\n",
    "Your code replaces the prompt:  `...`\n"
   ]
  },
  {
   "cell_type": "raw",
   "metadata": {},
   "source": [
    "# BEGIN SOLUTION"
   ]
  },
  {
   "cell_type": "code",
   "execution_count": 27,
   "metadata": {},
   "outputs": [
    {
     "name": "stdout",
     "output_type": "stream",
     "text": [
      "4.348028416873108 22.360679774997898 0.4409645588531818 1.0\n",
      "\n",
      "8.45855868846569 9.860267292639213 0.9261980013307073 0.4409645588531818\n",
      "\n",
      "9.530314809983397 9.132559859028984 1.021544664007495 0.40842049306749406\n",
      "\n",
      "9.222424526150503 9.329317792720099 0.9942546054484721 0.4172197753644087\n",
      "\n",
      "9.304689334490563 9.275717181104334 1.00156050280975 0.41482268314024034\n",
      "\n",
      "9.28236189979332 9.290191963827894 0.9995784955458209 0.41547001510282877\n",
      "\n",
      "9.28839383195481 9.286276106534963 1.0001140179698007 0.4152948926408851\n",
      "\n",
      "9.286762262877394 9.287334908883638 0.999969170120422 0.4153422437214126\n",
      "\n",
      "9.287203436904191 9.287048581466797 1.0000083371369555 0.415329438770055\n",
      "\n",
      "9.287084133335915 9.287126008862733 0.9999977455041537 0.4153329014284677\n",
      "\n",
      "9.287116394970834 9.287105071075722 1.0000006096567 0.4153319650621666\n",
      "\n",
      "Diffusivity of X is about 0.173\n",
      "Evil point source is (-0.286,0.839)\n"
     ]
    }
   ],
   "source": [
    "# Define Variables\n",
    "# BEGIN SOLUTION\n",
    "P1 = Point(-4,7,300)\n",
    "P2 = Point(-5,-6,400)\n",
    "P3 = Point(9,1,500)\n",
    "\n",
    "Sys = Point_System(P1,P2,P3)\n",
    "\n",
    "criteria = 1e-6\n",
    "K = 1.0\n",
    "epsilon = criteria\n",
    "# END SOLUTION\n",
    "\n",
    "# create loop that modifies K\n",
    "# BEGIN SOLUTION\n",
    "while abs(1-epsilon)>criteria:\n",
    "    d1 = P1.diffusion_distance(K)\n",
    "    d2 = P2.diffusion_distance(K)\n",
    "    d3 = P3.diffusion_distance(K)\n",
    "\n",
    "    xf,yf = Sys.triangulate(d1,d2)\n",
    "    d3_ = Sys.pythagoras(P3.x,P3.y,xf,yf)\n",
    "\n",
    "    epsilon = (d3_/d3)**0.5\n",
    "    \n",
    "    print(f'{d3_} {d3} {epsilon} {K}\\n')\n",
    "\n",
    "    K = K*epsilon\n",
    "# END SOLUTION\n",
    "\n",
    "# Print the estimated diffusivity\n",
    "print(f'Diffusivity of X is about {K**2:.3f}')\n",
    "# Print the estimated location of the point source\n",
    "print(f'Evil point source is ({xf:.3f},{yf:.3f})')"
   ]
  },
  {
   "cell_type": "raw",
   "metadata": {},
   "source": [
    "# END SOLUTION"
   ]
  },
  {
   "cell_type": "raw",
   "metadata": {},
   "source": [
    "# BEGIN TESTS"
   ]
  },
  {
   "cell_type": "code",
   "execution_count": 28,
   "metadata": {},
   "outputs": [],
   "source": [
    "\"\"\" # BEGIN TEST CONFIG\n",
    "points: 1\n",
    "success_message: Point_System.P1.x is correct.\n",
    "\"\"\" # END TEST CONFIG\n",
    "\n",
    "import numpy as np\n",
    "\n",
    "import drexel_jupyter_logger\n",
    "drexel_jupyter_logger.variable_logger(P1.x)\n",
    "drexel_jupyter_logger.variable_logger(P1.y)\n",
    "drexel_jupyter_logger.variable_logger(P1.t)\n",
    "\n",
    "assert np.all(np.isclose((P1.x,P1.y,P1.t),(-4,7,300))) and\\\n",
    "        np.all(np.isclose((P2.x,P2.y,P2.t),(-5,-6,400))) and\\\n",
    "        np.all(np.isclose((P3.x,P3.y,P3.t),(9,1,500)))"
   ]
  },
  {
   "cell_type": "code",
   "execution_count": 29,
   "metadata": {},
   "outputs": [
    {
     "ename": "NameError",
     "evalue": "name 'sys' is not defined",
     "output_type": "error",
     "traceback": [
      "\u001b[0;31m---------------------------------------------------------------------------\u001b[0m",
      "\u001b[0;31mNameError\u001b[0m                                 Traceback (most recent call last)",
      "\u001b[1;32m/Users/joshuaagar/Documents/Codes/ENGR_131_dev/Labs/lab8-pollutant/lab8-pollutant.ipynb Cell 45\u001b[0m in \u001b[0;36m<cell line: 8>\u001b[0;34m()\u001b[0m\n\u001b[1;32m      <a href='vscode-notebook-cell:/Users/joshuaagar/Documents/Codes/ENGR_131_dev/Labs/lab8-pollutant/lab8-pollutant.ipynb#X61sZmlsZQ%3D%3D?line=5'>6</a>\u001b[0m \u001b[39mimport\u001b[39;00m \u001b[39mnumpy\u001b[39;00m \u001b[39mas\u001b[39;00m \u001b[39mnp\u001b[39;00m\n\u001b[1;32m      <a href='vscode-notebook-cell:/Users/joshuaagar/Documents/Codes/ENGR_131_dev/Labs/lab8-pollutant/lab8-pollutant.ipynb#X61sZmlsZQ%3D%3D?line=6'>7</a>\u001b[0m \u001b[39mimport\u001b[39;00m \u001b[39mdrexel_jupyter_logger\u001b[39;00m\n\u001b[0;32m----> <a href='vscode-notebook-cell:/Users/joshuaagar/Documents/Codes/ENGR_131_dev/Labs/lab8-pollutant/lab8-pollutant.ipynb#X61sZmlsZQ%3D%3D?line=7'>8</a>\u001b[0m drexel_jupyter_logger\u001b[39m.\u001b[39mvariable_logger(sys)\n\u001b[1;32m     <a href='vscode-notebook-cell:/Users/joshuaagar/Documents/Codes/ENGR_131_dev/Labs/lab8-pollutant/lab8-pollutant.ipynb#X61sZmlsZQ%3D%3D?line=9'>10</a>\u001b[0m \u001b[39massert\u001b[39;00m np\u001b[39m.\u001b[39mall(np\u001b[39m.\u001b[39misclose((Sys\u001b[39m.\u001b[39mP1\u001b[39m.\u001b[39mx,Sys\u001b[39m.\u001b[39mP1\u001b[39m.\u001b[39my,Sys\u001b[39m.\u001b[39mP1\u001b[39m.\u001b[39mt),(\u001b[39m-\u001b[39m\u001b[39m4\u001b[39m,\u001b[39m7\u001b[39m,\u001b[39m300\u001b[39m))) \u001b[39mand\u001b[39;00m\\\n\u001b[1;32m     <a href='vscode-notebook-cell:/Users/joshuaagar/Documents/Codes/ENGR_131_dev/Labs/lab8-pollutant/lab8-pollutant.ipynb#X61sZmlsZQ%3D%3D?line=10'>11</a>\u001b[0m         np\u001b[39m.\u001b[39mall(np\u001b[39m.\u001b[39misclose((Sys\u001b[39m.\u001b[39mP2\u001b[39m.\u001b[39mx,Sys\u001b[39m.\u001b[39mP2\u001b[39m.\u001b[39my,Sys\u001b[39m.\u001b[39mP2\u001b[39m.\u001b[39mt),(\u001b[39m-\u001b[39m\u001b[39m5\u001b[39m,\u001b[39m-\u001b[39m\u001b[39m6\u001b[39m,\u001b[39m400\u001b[39m))) \u001b[39mand\u001b[39;00m\\\n\u001b[1;32m     <a href='vscode-notebook-cell:/Users/joshuaagar/Documents/Codes/ENGR_131_dev/Labs/lab8-pollutant/lab8-pollutant.ipynb#X61sZmlsZQ%3D%3D?line=11'>12</a>\u001b[0m         np\u001b[39m.\u001b[39mall(np\u001b[39m.\u001b[39misclose((Sys\u001b[39m.\u001b[39mP3\u001b[39m.\u001b[39mx,Sys\u001b[39m.\u001b[39mP3\u001b[39m.\u001b[39my,Sys\u001b[39m.\u001b[39mP3\u001b[39m.\u001b[39mt),(\u001b[39m9\u001b[39m,\u001b[39m1\u001b[39m,\u001b[39m500\u001b[39m)))\n",
      "\u001b[0;31mNameError\u001b[0m: name 'sys' is not defined"
     ]
    }
   ],
   "source": [
    "\"\"\" # BEGIN TEST CONFIG\n",
    "points: 1\n",
    "success_message: Point_System.P1.y is correct.\n",
    "\"\"\" # END TEST CONFIG\n",
    "\n",
    "import numpy as np\n",
    "import drexel_jupyter_logger\n",
    "drexel_jupyter_logger.variable_logger(Sys)\n",
    "\n",
    "assert np.all(np.isclose((Sys.P1.x,Sys.P1.y,Sys.P1.t),(-4,7,300))) and\\\n",
    "        np.all(np.isclose((Sys.P2.x,Sys.P2.y,Sys.P2.t),(-5,-6,400))) and\\\n",
    "        np.all(np.isclose((Sys.P3.x,Sys.P3.y,Sys.P3.t),(9,1,500)))"
   ]
  },
  {
   "cell_type": "code",
   "execution_count": 30,
   "metadata": {},
   "outputs": [],
   "source": [
    "\"\"\" # BEGIN TEST CONFIG\n",
    "points: 8\n",
    "success_message: loop construction is correct.\n",
    "\"\"\" # END TEST CONFIG\n",
    "\n",
    "\n",
    "import numpy as np\n",
    "import drexel_jupyter_logger\n",
    "drexel_jupyter_logger.variable_logger(d3_)\n",
    "\n",
    "\n",
    "assert np.all(np.isclose((d3_,d3,epsilon,K),(9.287116394970834,9.287105071075722,1.0000006096567,0.4153319650621666)) )"
   ]
  },
  {
   "cell_type": "raw",
   "metadata": {},
   "source": [
    "# END TESTS"
   ]
  },
  {
   "cell_type": "raw",
   "metadata": {},
   "source": [
    "# END QUESTION"
   ]
  },
  {
   "cell_type": "raw",
   "metadata": {},
   "source": [
    "# BEGIN QUESTION\n",
    "name: task4-plot"
   ]
  },
  {
   "cell_type": "markdown",
   "metadata": {},
   "source": [
    "Take a look at the points and the pollutant source"
   ]
  },
  {
   "cell_type": "code",
   "execution_count": 31,
   "metadata": {},
   "outputs": [
    {
     "data": {
      "image/png": "[encoded data removed]",
      "text/plain": [
       "<Figure size 640x480 with 1 Axes>"
      ]
     },
     "metadata": {},
     "output_type": "display_data"
    }
   ],
   "source": [
    "import matplotlib.pyplot as plt\n",
    "\n",
    "plt.clf()\n",
    "plt.xlim([min([P1.x,P2.x,P3.x,xf])-1,max([P1.x,P2.x,P3.x,xf])+1])\n",
    "plt.ylim([min([P1.y,P2.y,P3.y,yf])-1,max([P1.y,P2.y,P3.y,yf])+1])\n",
    "plt.plot(P1.x,P1.y,'bo')\n",
    "plt.plot(P2.x,P2.y,'go')\n",
    "plt.plot(P3.x,P3.y,'co')\n",
    "plt.plot(xf,yf,'ro')\n",
    "\n",
    "plt.plot([P1.x,xf],[P1.y,yf],'k-')\n",
    "plt.plot([P2.x,xf],[P2.y,yf],'k-')\n",
    "plt.plot([P3.x,xf],[P3.y,yf],'k-')\n",
    "\n",
    "plt.annotate('P1',xy=(P1.x,P1.y))\n",
    "plt.annotate('P2',xy=(P2.x,P2.y))\n",
    "plt.annotate('P3',xy=(P3.x,P3.y))\n",
    "plt.annotate('evil point source',xy=(xf,yf))\n",
    "plt.show()\n"
   ]
  }
 ],
 "metadata": {
  "kernelspec": {
   "display_name": "Python 3 (ipykernel)",
   "language": "python",
   "name": "python3"
  },
  "language_info": {
   "codemirror_mode": {
    "name": "ipython",
    "version": 3
   },
   "file_extension": ".py",
   "mimetype": "text/x-python",
   "name": "python",
   "nbconvert_exporter": "python",
   "pygments_lexer": "ipython3",
   "version": "3.10.6"
  },
  "varInspector": {
   "cols": {
    "lenName": 16,
    "lenType": 16,
    "lenVar": 40
   },
   "kernels_config": {
    "python": {
     "delete_cmd_postfix": "",
     "delete_cmd_prefix": "del ",
     "library": "var_list.py",
     "varRefreshCmd": "print(var_dic_list())"
    },
    "r": {
     "delete_cmd_postfix": ") ",
     "delete_cmd_prefix": "rm(",
     "library": "var_list.r",
     "varRefreshCmd": "cat(var_dic_list()) "
    }
   },
   "types_to_exclude": [
    "module",
    "function",
    "builtin_function_or_method",
    "instance",
    "_Feature"
   ],
   "window_display": false
  },
  "vscode": {
   "interpreter": {
    "hash": "d5b418e505f4528d10acf0213fd49b7bcb757f0a07f8b53d30dfcb3b049c93cc"
   }
  }
 },
 "nbformat": 4,
 "nbformat_minor": 4
}
