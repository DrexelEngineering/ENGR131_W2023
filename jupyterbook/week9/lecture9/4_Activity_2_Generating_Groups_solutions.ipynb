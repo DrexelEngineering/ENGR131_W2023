{
 "cells": [
  {
   "cell_type": "markdown",
   "metadata": {},
   "source": [
    "# 💻 Activity 9.2: Building a Group Assignment Tool\n",
    "\n",
    "In this class we build a group assignment tool to assign students randomly to groups. Now it is your job to try to blend all the concepts you learned in this class to create this program. We will start with the classes we discussed in lecture.\n",
    "\n",
    "Again, add code where there are `...`"
   ]
  },
  {
   "cell_type": "code",
   "execution_count": 6,
   "metadata": {},
   "outputs": [],
   "source": [
    "# import the scientific computing library numpy and give it the nickname np\n",
    "import numpy as np\n",
    "import random\n",
    "import csv\n"
   ]
  },
  {
   "cell_type": "code",
   "execution_count": 7,
   "metadata": {},
   "outputs": [],
   "source": [
    "# create a python class called Student\n",
    "class Student:\n",
    "\n",
    "    # create a constructor for the Student class that has arguments: leader, partners, and name\n",
    "    def __init__(self, name, number, leader=0, partners=None):\n",
    "        # stores the name in a data member called self.name\n",
    "        self.name = name\n",
    "        self.leader = leader\n",
    "        self.partners = partners\n",
    "        self.number = number\n",
    "\n",
    "    # create a method called _leader\n",
    "    def _leader(self):\n",
    "        # increment the value of self.leader by 1\n",
    "        self.leader += 1"
   ]
  },
  {
   "cell_type": "code",
   "execution_count": 8,
   "metadata": {},
   "outputs": [],
   "source": [
    "class Groups:\n",
    "    def __init__(self, group_number, group_size, group_members, group_leader):\n",
    "        self.group_number = group_number\n",
    "        self.group_size = group_size\n",
    "        self.group_member = group_members\n",
    "        self.group_leader = group_leader\n"
   ]
  },
  {
   "cell_type": "code",
   "execution_count": 9,
   "metadata": {},
   "outputs": [],
   "source": [
    "path = \"./baby-names-by-state.csv\"\n",
    "\n",
    "# open the file at the specified path for reading and give it the name f\n",
    "with open(path, \"r\") as f:\n",
    "    # create a csv reader object to read the comma-separated file\n",
    "    reader = csv.reader(f, delimiter=\",\")\n",
    "    headers = next(reader)\n",
    "    data = np.array(list(reader))\n",
    "\n",
    "# grabs all of the unique names from the file\n",
    "names_ = np.unique(data[:, 2])"
   ]
  },
  {
   "cell_type": "code",
   "execution_count": 11,
   "metadata": {},
   "outputs": [],
   "source": [
    "# Determine the number of students that you have\n",
    "num_students = len(names_)\n",
    "\n",
    "# Assign a parameter for the group size\n",
    "# for this case make it 3\n",
    "group_size = 3\n",
    "\n",
    "# Use the random.choice method to select some number of students\n",
    "names = random.choices(names_, k=num_students)\n",
    "\n",
    "# Define an empty list for student\n",
    "students = []\n",
    "\n",
    "# Populate the list of students with a student object\n",
    "# The student object should take the student name and number\n",
    "for i, name in enumerate(names_):\n",
    "    students.append(Student(name, i))\n",
    "\n",
    "# determine the number of full groups that could exist given the number of students\n",
    "num_groups = len(students) // group_size\n",
    "\n",
    "# Make a list that will be used to store the size of each group\n",
    "groups_sizes = []\n",
    "\n",
    "# Write a branching statement that builds a list containing the size of each group\n",
    "# We need to think about the different cases\n",
    "# If the number of students is evenly divisible by the size of the groups then the list is just the size of groups replicated by the number of groups\n",
    "# If the number of students is not evenly divisible by the size of the groups distribute the remainders\n",
    "if len(students) % num_groups == 0:\n",
    "\n",
    "    group_sizes = [group_size] * num_groups\n",
    "\n",
    "else:\n",
    "    group_sizes = [group_size] * (num_groups - (len(students) % num_groups)) + [\n",
    "        group_size + 1\n",
    "    ] * (len(students) % num_groups)\n",
    "\n",
    "# write a function that selects a leader from a list of available options\n",
    "def select_leader(leader_options):\n",
    "    return np.random.choice(leader_options)\n",
    "\n",
    "\n",
    "# make an empty list to store students already added to a group\n",
    "grouped_students = []\n",
    "\n",
    "# make an empty list that stores the groups of students\n",
    "group_list = []\n",
    "\n",
    "\n",
    "# Now you want to populate each group\n",
    "# 1. You want to iterate through all of the group sizes\n",
    "# 2. You want to select a leader from the list of students\n",
    "# 3. You want to check if the selected leader is already in a group. If they are, you want to try again.\n",
    "# 4. You want to use the object method to add a count to the leader object\n",
    "# 5. You want to add the leader to the list of grouped students\n",
    "# This will assign all of the group leaders.\n",
    "for i, g in enumerate(group_sizes):\n",
    "\n",
    "    leader_ = select_leader(students)\n",
    "\n",
    "    while leader_ in grouped_students:\n",
    "        leader_ = select_leader(students)\n",
    "\n",
    "    group_list.append(Groups(i + 1, g, [leader_], [leader_]))\n",
    "\n",
    "    leader_._leader()\n",
    "\n",
    "    grouped_students.append(leader_)\n",
    "\n",
    "# Now we want to populate the groups\n",
    "# We again want to iterate through the group_list\n",
    "# We then want to add that many number of students to the group member list of the group.group_member object\n",
    "# a very useful hint is that if you subtract two set datastructures you get all of the objects that are only in the first list\n",
    "# before you end the cycle of the loop you want to make sure you add the student you added to the group to the list of grouped students.\n",
    "# This way you ensure that you do not add them again.\n",
    "for i, group in enumerate(group_list):\n",
    "    for j in range(group.group_size - 1):\n",
    "        remaining_students = set(students) - set(grouped_students)\n",
    "\n",
    "        student_num_ = np.random.choice(list(remaining_students))\n",
    "\n",
    "        group.group_member.append(student_num_)\n",
    "\n",
    "        grouped_students.append(student_num_)"
   ]
  },
  {
   "cell_type": "code",
   "execution_count": 19,
   "metadata": {},
   "outputs": [
    {
     "name": "stdout",
     "output_type": "stream",
     "text": [
      "The group leader is Stephani\n",
      "The group members 1 is: Elizabet\n",
      "The group members 2 is: Jack\n"
     ]
    }
   ],
   "source": [
    "# This is a script that prints the students in group 10\n",
    "# You can use this to check your results\n",
    "\n",
    "print(f\"The group leader is {group_list[10].group_leader[0].name}\")\n",
    "\n",
    "for i, student in enumerate(group_list[10].group_member):\n",
    "    if i != 0:\n",
    "        print(f\"The group members {i} is: {student.name}\")"
   ]
  },
  {
   "cell_type": "code",
   "execution_count": null,
   "metadata": {},
   "outputs": [],
   "source": []
  }
 ],
 "metadata": {
  "kernelspec": {
   "display_name": "Python 3",
   "language": "python",
   "name": "python3"
  },
  "language_info": {
   "codemirror_mode": {
    "name": "ipython",
    "version": 3
   },
   "file_extension": ".py",
   "mimetype": "text/x-python",
   "name": "python",
   "nbconvert_exporter": "python",
   "pygments_lexer": "ipython3",
   "version": "3.9.6 (default, Oct 18 2022, 12:41:40) \n[Clang 14.0.0 (clang-1400.0.29.202)]"
  },
  "vscode": {
   "interpreter": {
    "hash": "31f2aee4e71d21fbe5cf8b01ff0e069b9275f58929596ceb00d14d90e3e16cd6"
   }
  }
 },
 "nbformat": 4,
 "nbformat_minor": 2
}
