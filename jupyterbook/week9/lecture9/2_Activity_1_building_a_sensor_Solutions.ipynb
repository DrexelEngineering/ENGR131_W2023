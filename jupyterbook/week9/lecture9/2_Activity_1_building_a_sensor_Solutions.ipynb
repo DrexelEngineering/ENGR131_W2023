{
 "cells": [
  {
   "attachments": {},
   "cell_type": "markdown",
   "metadata": {},
   "source": [
    "# 💻 Activity 9.1: Building a Sensor Class\n",
    "\n",
    "In manufacturing, you might be required to build software for a sensor. We will build a sensor with a name, a current value, a warning threshold, and alarm threshold. The sensor should return a string when the warning or alarm threshold is reached.\n",
    "\n",
    "We will provide you with guidance on how to build this class. As you progress with coding, it is expected that you are able to write functional code with objectives but without specific instructions. Please add code where the `...` are located\n"
   ]
  },
  {
   "cell_type": "code",
   "execution_count": null,
   "metadata": {},
   "outputs": [],
   "source": [
    "# Define the sensor class\n",
    "class Sensor:\n",
    "\n",
    "    # write a warning announcement `Warning: sensor reading is high!`\n",
    "    warning_announcement = \"Warning: sensor reading is high!\"\n",
    "\n",
    "    # build the init function this should instantiate the variables name, value warning_threshold, alarm threshold,\n",
    "    # alarm announcement\n",
    "    def __init__(\n",
    "        self, name, value, warning_threshold, alarm_threshold, alarm_announcement\n",
    "    ):\n",
    "        self.name = name\n",
    "        self.value = value\n",
    "        self.warning_threshold = warning_threshold\n",
    "        self.alarm_threshold = alarm_threshold\n",
    "        self.alarm_announcement = alarm_announcement\n",
    "\n",
    "    # build a method check value that will check if the value should cause a warning or an alarm.\n",
    "    # for the alarm announcement the alarm should print the current value with the alarm announcements\n",
    "    # if the alarm does not go off you should check if the sensor is above the warning threshold\n",
    "    # if this is true, you should print the warning message\n",
    "    # if there is no alarm you should print the value\n",
    "    def check_value(self):\n",
    "        if self.value >= self.alarm_threshold:\n",
    "            alarm_msg = f\"{self.alarm_announcement} Current value: {self.value}\"\n",
    "            print(alarm_msg)\n",
    "        elif self.value >= self.warning_threshold:\n",
    "            print(self.warning_announcement)\n",
    "        return self.value"
   ]
  },
  {
   "cell_type": "code",
   "execution_count": null,
   "metadata": {},
   "outputs": [],
   "source": [
    "import time\n",
    "\n",
    "# Instantiate a temperature sensor\n",
    "# the current temperature should be 20, the warning temperature should be 30, and the max temperature should be 40\n",
    "# the alarm text should read ALARM: Temperature is too high!\n",
    "temp_sensor = Sensor(\"Temperature\", 20, 30, 40, \"ALARM: Temperature is too high!\")\n",
    "\n",
    "# Make a loop that slowly increases the temperature from 20-50\n",
    "# For each iteration print the current temperature value\n",
    "# Call the function that checks if the sensor has a warning\n",
    "for temp in range(20, 50):\n",
    "\n",
    "    temp_sensor.value = temp\n",
    "    print(f\"Current temperature: {temp_sensor.value}\")\n",
    "    temp_sensor.check_value()\n",
    "\n",
    "    # This delays the loop so it does not go too fast\n",
    "    time.sleep(1)"
   ]
  },
  {
   "cell_type": "code",
   "execution_count": null,
   "metadata": {},
   "outputs": [],
   "source": []
  }
 ],
 "metadata": {
  "kernelspec": {
   "display_name": "otter",
   "language": "python",
   "name": "python3"
  },
  "language_info": {
   "codemirror_mode": {
    "name": "ipython",
    "version": 3
   },
   "file_extension": ".py",
   "mimetype": "text/x-python",
   "name": "python",
   "nbconvert_exporter": "python",
   "pygments_lexer": "ipython3",
   "version": "3.9.15"
  },
  "orig_nbformat": 4
 },
 "nbformat": 4,
 "nbformat_minor": 2
}
