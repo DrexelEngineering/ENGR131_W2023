{
 "cells": [
  {
   "attachments": {},
   "cell_type": "markdown",
   "metadata": {},
   "source": [
    "# 🧪🖥 Lab 1: Commenting Code \n",
    "\n",
    "As an engineer, it is important to not only be able to write code, but also to read and understand code written by others. One way to improve your understanding of someone else's code is by adding comments to the code.\n",
    "\n",
    "Comments are lines of code that are not executed by the computer, but are included to explain what is happening in the code. They can be extremely helpful for anyone reading the code, including yourself, to understand (or remember) the logic and purpose behind each line of code. In Python, any line starting with `#` is a comment. For example, the following line of code has a comment above it explaining what the code does:\n",
    "\n",
    "```python\n",
    "# store the value 3 in a variable called x\n",
    "x = 3\n",
    "```\n",
    "\n",
    "In this lab assignment, you are given some code to read through, and your task will be to add comments to the code to explain what is happening. Don't worry if the code appears complicated and beyond your current understanding. This is intentional, challenge activities are the best way to learn. \n",
    "\n",
    "To help you should make use of the Python documentation (https://docs.python.org/3/) as you explore and learn the Python syntax. Most documentation for Python code is hosted online.\n",
    "\n",
    "The code assigns weekly project groups from a spreadsheet of student names. The code has been split into sections with headers summarizing the code in each cell. You should comment every single line since every single line matters to the computer. Some comments have been provided to you to get you started.\n",
    "\n",
    "By the end of this assignment, you should have a better understanding of how to read and understand code, as well as how to effectively use comments to explain your code. Good luck!"
   ]
  },
  {
   "attachments": {},
   "cell_type": "markdown",
   "metadata": {},
   "source": [
    "## Import Libraries"
   ]
  },
  {
   "cell_type": "code",
   "execution_count": null,
   "metadata": {},
   "outputs": [],
   "source": [
    "# import the scientific computing library numpy and give it the nickname np\n",
    "import numpy as np\n",
    "import random\n",
    "import csv\n"
   ]
  },
  {
   "attachments": {},
   "cell_type": "markdown",
   "metadata": {},
   "source": [
    "## Define Student class"
   ]
  },
  {
   "cell_type": "code",
   "execution_count": null,
   "metadata": {},
   "outputs": [],
   "source": [
    "# create a python class called Student\n",
    "class Student:\n",
    "\n",
    "    # create a constructor for the Student class that has arguments: leader, partners, and name\n",
    "    def __init__(self, leader, partners, name):\n",
    "        # store the name in a data member called self.name\n",
    "        self.name = name\n",
    "        self.leader = leader\n",
    "        self.partners = partners\n",
    "\n",
    "    # create a method called _leader\n",
    "    def _leader(self):\n",
    "        # increment the value of self.leader by 1\n",
    "        self.leader += 1\n"
   ]
  },
  {
   "attachments": {},
   "cell_type": "markdown",
   "metadata": {},
   "source": [
    "## Define Group class"
   ]
  },
  {
   "cell_type": "code",
   "execution_count": null,
   "metadata": {},
   "outputs": [],
   "source": [
    "class Groups:\n",
    "    def __init__(self, group_number, group_size, group_members, group_leader):\n",
    "        self.group_number = group_number\n",
    "        self.group_size = group_size\n",
    "        self.group_member = group_members\n",
    "        self.group_leader = group_leader\n"
   ]
  },
  {
   "attachments": {},
   "cell_type": "markdown",
   "metadata": {},
   "source": [
    "## Week class"
   ]
  },
  {
   "cell_type": "code",
   "execution_count": null,
   "metadata": {},
   "outputs": [],
   "source": [
    "class Week:\n",
    "    def __init__(self, week_number, groups):\n",
    "        self.week_number = week_number\n",
    "        self.groups = groups\n"
   ]
  },
  {
   "attachments": {},
   "cell_type": "markdown",
   "metadata": {},
   "source": [
    "## Load and parse the spreadsheet of filenames"
   ]
  },
  {
   "cell_type": "code",
   "execution_count": null,
   "metadata": {},
   "outputs": [],
   "source": [
    "path = './baby-names-by-state.csv'\n",
    "# open the file at the specified path for reading and give it the name f\n",
    "with open(path, 'r') as f:\n",
    "    # create a csv reader object to read the comma-separated file\n",
    "    reader = csv.reader(f, delimiter=',')\n",
    "    headers = next(reader)\n",
    "    data = np.array(list(reader))\n",
    "\n",
    "names_ = np.unique(data[:, 2])\n"
   ]
  },
  {
   "attachments": {},
   "cell_type": "markdown",
   "metadata": {},
   "source": [
    "## Assign the groups"
   ]
  },
  {
   "cell_type": "code",
   "execution_count": null,
   "metadata": {},
   "outputs": [],
   "source": [
    "num_students = 177\n",
    "\n",
    "num_of_weeks = 5\n",
    "\n",
    "group_size = 3\n",
    "\n",
    "# Sets the names for the students\n",
    "# Names were taken from the list of most common names\n",
    "names = random.choices(names_, k=num_students)\n",
    "\n",
    "student_list = []\n",
    "\n",
    "for name in names:\n",
    "    student_list.append(Student(0, [], name))\n",
    "\n",
    "num_groups = len(student_list)//group_size\n",
    "\n",
    "groups_sizes = []\n",
    "\n",
    "# If the number of students can be evenly split into groups\n",
    "if len(student_list) % num_groups == 0:\n",
    "\n",
    "    group_sizes = [group_size] * num_groups\n",
    "\n",
    "else:\n",
    "    group_sizes = [group_size] * (num_groups - (len(student_list) % num_groups)) + [\n",
    "        group_size + 1] * (len(student_list) % num_groups)\n",
    "\n",
    "week_list = []\n",
    "\n",
    "for week in range(num_of_weeks):\n",
    "\n",
    "    leader_number = [student.leader for student in student_list]\n",
    "\n",
    "    leader_value = sorted(leader_number)[:len(group_sizes)]\n",
    "\n",
    "    def select_leader(leader_options):\n",
    "        return np.random.choice(leader_options)\n",
    "\n",
    "    grouped_students = []\n",
    "    group_list = []\n",
    "\n",
    "    for i, _leader_value in enumerate(leader_value):\n",
    "\n",
    "        leader_number = [student.leader for student in student_list]\n",
    "\n",
    "        leader_options = np.argwhere(\n",
    "            np.array(leader_number) == _leader_value).squeeze()\n",
    "\n",
    "        leader_ = select_leader(leader_options)\n",
    "\n",
    "        while leader_ in grouped_students:\n",
    "            leader_ = select_leader(leader_options)\n",
    "\n",
    "        group_list.append(Groups(i+1,\n",
    "                                 group_sizes[i],\n",
    "                                 [student_list[leader_]],\n",
    "                                 [student_list[leader_]]))\n",
    "\n",
    "        student_list[leader_]._leader()\n",
    "\n",
    "        grouped_students.append(leader_)\n",
    "\n",
    "    for i, group in enumerate(group_list):\n",
    "        for j in range(group.group_size-1):\n",
    "            remaining_students = set(\n",
    "                np.arange(len(student_list)))-set(grouped_students)\n",
    "\n",
    "            student_num_ = np.random.choice(list(remaining_students))\n",
    "\n",
    "            group.group_member.append(student_list[student_num_])\n",
    "\n",
    "            grouped_students.append(student_num_)\n",
    "\n",
    "    week_list.append(Week(week + 1, group_list))\n"
   ]
  },
  {
   "attachments": {},
   "cell_type": "markdown",
   "metadata": {},
   "source": [
    "## Print out the groups"
   ]
  },
  {
   "cell_type": "code",
   "execution_count": null,
   "metadata": {
    "tags": [
     "skip-execution"
    ]
   },
   "outputs": [],
   "source": [
    "for week in week_list:\n",
    "    print(f'Week {week.week_number}\\n')\n",
    "\n",
    "    for group in week.groups:\n",
    "        print(\n",
    "            f'Group {group.group_number} - lead by {group.group_leader[0].name}')\n",
    "        print([i.name for i in group.group_member])\n",
    "\n",
    "    print('\\n')\n"
   ]
  }
 ],
 "metadata": {
  "kernelspec": {
   "display_name": "engr131",
   "language": "python",
   "name": "python3"
  },
  "language_info": {
   "codemirror_mode": {
    "name": "ipython",
    "version": 3
   },
   "file_extension": ".py",
   "mimetype": "text/x-python",
   "name": "python",
   "nbconvert_exporter": "python",
   "pygments_lexer": "ipython3",
   "version": "3.10.8 (main, Nov 24 2022, 14:13:03) [GCC 11.2.0]"
  },
  "orig_nbformat": 4,
  "vscode": {
   "interpreter": {
    "hash": "db982e328663a2db3b6f47ccd278f30154ccd8de8e195897b14b89b93466dc3c"
   }
  }
 },
 "nbformat": 4,
 "nbformat_minor": 2
}
