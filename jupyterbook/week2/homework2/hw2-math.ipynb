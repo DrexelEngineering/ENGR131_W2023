{
 "cells": [
  {
   "cell_type": "raw",
   "metadata": {},
   "source": [
    "# ASSIGNMENT CONFIG\n",
    "solutions_pdf: true\n",
    "export_cell: false\n",
    "generate: \n",
    "    pdf: false\n",
    "    filtering: true\n",
    "    pagebreaks: true\n",
    "    zips: false\n",
    "tests:\n",
    "    files: false"
   ]
  },
  {
   "attachments": {},
   "cell_type": "markdown",
   "metadata": {},
   "source": [
    "# Homework 2\n",
    "\n",
    "This assignment will explore using python's capabilities for mathematical calculations.\n",
    "\n"
   ]
  },
  {
   "cell_type": "raw",
   "metadata": {},
   "source": [
    "# BEGIN QUESTION\n",
    "name: q1-interest\n",
    "points: 2"
   ]
  },
  {
   "attachments": {},
   "cell_type": "markdown",
   "metadata": {},
   "source": [
    "**Question 1: Interest rate calculation** \n",
    "\n",
    "Let $r$ be a bank's interest rate in percent per year. An inital amount of money $P$, also called a principal, will mature to an amount of \n",
    "\n",
    "$$ P\\left(1 + \\frac{r}{100}\\right)^{n} $$\n",
    "\n",
    "after $n$ years have passed.\n",
    "\n",
    "Write python code to do the following:\n",
    "\n",
    "* Define variables: `P = 1000`, `r = 0.95`, and `n = 5`\n",
    "* Calculate the interest rate based on the equation above\n",
    "* Store the final value in a variable called `v`\n",
    "\n",
    "\n",
    "Note: Your code should be indented under what's called the function definition: `def question_1():`. This helps the autograder run all the code you write by calling a single name. (Functions will be taught in future weeks.). \n",
    "\n",
    "Note: Python cares about **Tabs** make sure the spacing is correct. If you get an `Indention Error` it likely means your spacing is not correct. \n",
    "\n",
    "Your solution should look like this: \n",
    "\n",
    "```python\n",
    "def question ():\n",
    "    line1 = line1_code # line 1 of code\n",
    "    line2 = line2_code # line 2 of code\n",
    "\n",
    "    return x, y, z # variables to return seperated by commas\n",
    "```\n",
    "\n",
    "Your code replaces the prompt:  `...`"
   ]
  },
  {
   "cell_type": "raw",
   "metadata": {},
   "source": [
    "# BEGIN SOLUTION"
   ]
  },
  {
   "cell_type": "code",
   "execution_count": 6,
   "metadata": {},
   "outputs": [],
   "source": [
    "# define a function called question_1 to be used for grading\n",
    "def question_1():\n",
    "\n",
    "    # BEGIN SOLUTION\n",
    "\n",
    "    P = 1000\n",
    "    r = 0.95\n",
    "    n = 5\n",
    "\n",
    "    v = 1000 * ((1 + (0.95)/100) ** 5)\n",
    "\n",
    "    # END SOLUTION\n",
    "\n",
    "    # The following line outputs these values from the function so that they can be accessed by the grader\n",
    "    return P, r, n, v\n"
   ]
  },
  {
   "cell_type": "raw",
   "metadata": {},
   "source": [
    "# END SOLUTION"
   ]
  },
  {
   "cell_type": "raw",
   "metadata": {},
   "source": [
    "# BEGIN TESTS"
   ]
  },
  {
   "cell_type": "code",
   "execution_count": 7,
   "metadata": {},
   "outputs": [],
   "source": [
    "\"\"\" # BEGIN TEST CONFIG\n",
    "points: 1\n",
    "hidden: false\n",
    "success_message: Variables correctly defined.\n",
    "failure_message: Variables incorrectly defined.\n",
    "\"\"\" # END TEST CONFIG\n",
    "\n",
    "P, r, n, v = question_1()\n",
    "\n",
    "assert P == 1000 and r == 0.95 and n == 5"
   ]
  },
  {
   "cell_type": "code",
   "execution_count": 8,
   "metadata": {},
   "outputs": [],
   "source": [
    "\"\"\" # BEGIN TEST CONFIG\n",
    "points: 1\n",
    "hidden: false\n",
    "success_message: Final answer is correct.\n",
    "failure_message: Final answer is incorrect.\n",
    "\"\"\" # END TEST CONFIG\n",
    "import numpy as np\n",
    "\n",
    "P, r, n, v = question_1()\n",
    "\n",
    "assert np.isclose(sum([P,r,n,v]),2054.3611145526907)"
   ]
  },
  {
   "cell_type": "raw",
   "metadata": {},
   "source": [
    "# END TESTS"
   ]
  },
  {
   "cell_type": "raw",
   "metadata": {},
   "source": [
    "# END QUESTION"
   ]
  },
  {
   "cell_type": "raw",
   "metadata": {},
   "source": [
    "# BEGIN QUESTION\n",
    "name: q2-music\n",
    "points: 2"
   ]
  },
  {
   "attachments": {},
   "cell_type": "markdown",
   "metadata": {},
   "source": [
    "**Question 2: Musical note frequencies** \n",
    "\n",
    "On a piano, each key has a fundamental frequency $f$. Each higher key (black or white) has a fundamental frequency of \n",
    "\n",
    "$$ f * 2^{(\\frac{n}{12})} $$ \n",
    "\n",
    "where $n$ is the distance away from the starting key. The key $A_4$, near the center of the piano keyboard, has a fundamental frequency of 440 Hz. Your task is to calculate the fundamental frequency of $D_5$, which is 5 keys higher. \n",
    "\n",
    "Write python code to do the following:\n",
    "\n",
    "* Define variables: `f = 440` and `n = 5`\n",
    "* Calculate the interest rate based on the equation above\n",
    "* Store the frequency of $D_5$ in a variable called `d`\n",
    "\n",
    "Again, your code should be indented under the function definition: `def question_2():`.\n",
    "\n",
    "Your code replaces the prompt: `...`"
   ]
  },
  {
   "cell_type": "raw",
   "metadata": {},
   "source": [
    "# BEGIN SOLUTION"
   ]
  },
  {
   "cell_type": "code",
   "execution_count": 9,
   "metadata": {},
   "outputs": [],
   "source": [
    "# define a function called question_2 to be used for grading\n",
    "def question_2():\n",
    "\n",
    "    # BEGIN SOLUTION\n",
    "\n",
    "    f = 440\n",
    "    n = 5\n",
    "\n",
    "    d = f * (2 ** (n / 12))\n",
    "\n",
    "    # END SOLUTION\n",
    "\n",
    "    # output these values from the function so that they can be accessed by the grader\n",
    "    return f, n, d"
   ]
  },
  {
   "cell_type": "raw",
   "metadata": {},
   "source": [
    "# END SOLUTION"
   ]
  },
  {
   "cell_type": "raw",
   "metadata": {},
   "source": [
    "# BEGIN TESTS"
   ]
  },
  {
   "cell_type": "code",
   "execution_count": 10,
   "metadata": {},
   "outputs": [],
   "source": [
    "\"\"\" # BEGIN TEST CONFIG\n",
    "points: 1\n",
    "hidden: false\n",
    "success_message: Variables correctly defined.\n",
    "failure_message: Variables incorrectly defined.\n",
    "\"\"\" # END TEST CONFIG\n",
    "f, n, d = question_2()\n",
    "\n",
    "assert f == 440 and n == 5"
   ]
  },
  {
   "cell_type": "code",
   "execution_count": 11,
   "metadata": {},
   "outputs": [],
   "source": [
    "\"\"\" # BEGIN TEST CONFIG\n",
    "points: 1\n",
    "hidden: false\n",
    "success_message: Final answer is correct.\n",
    "failure_message: Final answer is incorrect.\n",
    "\"\"\" # END TEST CONFIG\n",
    "import numpy as np\n",
    "f, n, d = question_2()\n",
    "\n",
    "assert np.isclose(sum([f,n,d]),1032.329535834815)"
   ]
  },
  {
   "cell_type": "raw",
   "metadata": {},
   "source": [
    "# END TESTS"
   ]
  },
  {
   "cell_type": "raw",
   "metadata": {},
   "source": [
    "# END QUESTION"
   ]
  },
  {
   "cell_type": "raw",
   "metadata": {},
   "source": [
    "# BEGIN QUESTION\n",
    "name: q3-calculator\n",
    "points: 11"
   ]
  },
  {
   "attachments": {},
   "cell_type": "markdown",
   "metadata": {},
   "source": [
    "**Question 3: Using Python as a calculator** \n",
    "\n",
    "We have seen how Python can be used to evaluate mathematical expressions. This problem provides practice incorporating various mathematical functions and constants.  \n",
    "\n",
    "\n",
    "Write python code to do the following:\n",
    "\n",
    "* Define variables: `a = 3`, `b = -6`, `c = 4`, and `x = 2`\n",
    "* For each of the quantities $E_0$ through $E_7$, construct a one-line Python expression that computes the value and assigns it to a variable. (You should perform your computations using the variable names $a$, $b$, and $c$ instead of their numerical values). In Python, we will use variable names `E0` through `E7` to store the values $E_0$ through $E_7$. Definitions of the variables `E0` through `E7` have been started for you in the template.\n",
    "\n",
    "$\\text{i.  } E_0 = \\sqrt{a^2+b^2+c^2}$\n",
    "\n",
    "$\\text{ii.  } E_1 = \\ln(3x-a)$\n",
    "\n",
    "$\\text{iii.  } E_2 = \\log_{10} \\left(3 \\left|x\\right|+\\frac{c}{5} \\right)$\n",
    "\n",
    "$\\text{iv.  } E_3 = \\left( ax+\\frac{ab}{c} \\right)^{1/3}$\n",
    "\n",
    "$\\text{v.  } E_4 = \\frac{x^2+1}{(ax-1)\\left|b-e^x\\right|}$\n",
    "\n",
    "$\\text{vi.  }  E_5 = \\left( cos \\left( \\frac{\\sqrt{a}}{3}\\pi \\right) \\right)^2+\\cos \\left( \\frac{\\sqrt{a}}{3}\\pi \\right)^2$\n",
    "\n",
    "$\\text{vii.  }  E_6 = \\arccos(\\cos(x))$\n",
    "    \n",
    "$\\text{viii.  }  E_7 = \\frac{a+2c}{\\sin \\left( \\frac{b+2c}{\\sqrt{a^2+b^2+c^2}} \\right) }$\n",
    "\n",
    "\n",
    "You should use the `NumPy` library for the required mathematical functions. You can discover the necessary functions using the [Numpy Documentation](https://numpy.org/doc/stable/reference/)\n",
    "\n",
    "We have used the standard `NumPy` convention `import numpy as np`, thus, for example the `cos` function is used by typing `np.cos(<value>)`\n",
    "\n",
    "Again, your code should be indented under the function definition: `def question_3():`.\n",
    "\n",
    "Your code replaces the prompt:  `...`"
   ]
  },
  {
   "cell_type": "raw",
   "metadata": {},
   "source": [
    "# BEGIN SOLUTION"
   ]
  },
  {
   "cell_type": "code",
   "execution_count": 2,
   "metadata": {},
   "outputs": [],
   "source": [
    "# import the np library to be used\n",
    "import numpy as np\n",
    "\n",
    "# define a function called question_3 to be used for grading\n",
    "def question_3():\n",
    "\n",
    "    a = 3 # SOLUTION\n",
    "    b = -6 # SOLUTION\n",
    "    c = 4 # SOLUTION\n",
    "    x = 2 # SOLUTION\n",
    "\n",
    "    E0 = np.sqrt(a*a+b*b+c*c)  # SOLUTION\n",
    "    E1 = np.log(3*x-a) # SOLUTION\n",
    "    E2 = np.log10(3*np.abs(b)+c/5) # SOLUTION\n",
    "    E3 = (a*x+a*b/c)**(1./3) # SOLUTION\n",
    "    E4 = (x**2+1)/((a*x-1)*np.abs(b-np.exp(x))) # SOLUTION\n",
    "    E5 = np.cos(np.sqrt(a)/3*np.pi)**2 + np.cos((np.sqrt(a)/3*np.pi)**2) # SOLUTION\n",
    "    E6 = np.arccos(np.cos(x)) # SOLUTION\n",
    "    E7 = (a+2*c)/(np.sin((b+2*c)/np.sqrt(a**2+b**2+c**2))) # SOLUTION\n",
    "\n",
    "    # output these values from the function so that they can be accessed by the grader\n",
    "    return a, b, c, x, E0, E1, E2, E3, E4, E5, E6, E7"
   ]
  },
  {
   "cell_type": "raw",
   "metadata": {},
   "source": [
    "# END SOLUTION"
   ]
  },
  {
   "cell_type": "raw",
   "metadata": {},
   "source": [
    "# BEGIN TESTS"
   ]
  },
  {
   "cell_type": "code",
   "execution_count": 3,
   "metadata": {},
   "outputs": [],
   "source": [
    "\"\"\" # BEGIN TEST CONFIG\n",
    "points: 1\n",
    "hidden: false\n",
    "success_message: Variables correctly defined.\n",
    "failure_message: Variables incorrectly defined.\n",
    "\"\"\" # END TEST CONFIG\n",
    "a, b, c, x, E0, E1, E2, E3, E4, E5, E6, E7 = question_3()\n",
    "\n",
    "assert a == 3 and b == -6.0 and c == 4 and x == 2"
   ]
  },
  {
   "cell_type": "code",
   "execution_count": 5,
   "metadata": {},
   "outputs": [],
   "source": [
    "\"\"\" # BEGIN TEST CONFIG\n",
    "points: 1\n",
    "hidden: false\n",
    "success_message: E0 answer correct.\n",
    "failure_message: E0 answer incorrect.\n",
    "\"\"\" # END TEST CONFIG\n",
    "import numpy as np\n",
    "\n",
    "a, b, c, x, E0, E1, E2, E3, E4, E5, E6, E7 = question_3()\n",
    "\n",
    "assert np.isclose(sum([a, b, c, x, E0]), 10.810249675906654)"
   ]
  },
  {
   "cell_type": "code",
   "execution_count": 6,
   "metadata": {},
   "outputs": [],
   "source": [
    "\"\"\" # BEGIN TEST CONFIG\n",
    "points: 1\n",
    "hidden: false\n",
    "success_message: E1 answer correct.\n",
    "failure_message: E1 answer incorrect.\n",
    "\"\"\" # END TEST CONFIG\n",
    "\n",
    "import numpy as np\n",
    "\n",
    "a, b, c, x, E0, E1, E2, E3, E4, E5, E6, E7 = question_3()\n",
    "\n",
    "assert np.isclose(sum([a, b, c, x, E1]), 4.09861228866811)"
   ]
  },
  {
   "cell_type": "code",
   "execution_count": 7,
   "metadata": {},
   "outputs": [],
   "source": [
    "\"\"\" # BEGIN TEST CONFIG\n",
    "points: 1\n",
    "hidden: false\n",
    "success_message: E2 answer correct.\n",
    "failure_message: E2 answer incorrect.\n",
    "\"\"\" # END TEST CONFIG\n",
    "\n",
    "import numpy as np\n",
    "\n",
    "a, b, c, x, E0, E1, E2, E3, E4, E5, E6, E7 = question_3()\n",
    "\n",
    "assert np.isclose(sum([a, b, c, x, E2]), 4.27415784926368)"
   ]
  },
  {
   "cell_type": "code",
   "execution_count": 8,
   "metadata": {},
   "outputs": [],
   "source": [
    "\"\"\" # BEGIN TEST CONFIG\n",
    "points: 1\n",
    "hidden: false\n",
    "success_message: E3 answer correct.\n",
    "failure_message: E3 answer incorrect.\n",
    "\"\"\" # END TEST CONFIG\n",
    "\n",
    "import numpy as np\n",
    "\n",
    "a, b, c, x, E0, E1, E2, E3, E4, E5, E6, E7 = question_3()\n",
    "\n",
    "assert np.isclose(sum([a, b, c, x, E3]), 4.144714242553332)"
   ]
  },
  {
   "cell_type": "code",
   "execution_count": 9,
   "metadata": {},
   "outputs": [],
   "source": [
    "\"\"\" # BEGIN TEST CONFIG\n",
    "points: 1\n",
    "hidden: false\n",
    "success_message: E4 answer correct.\n",
    "failure_message: E4 answer incorrect.\n",
    "\"\"\" # END TEST CONFIG\n",
    "\n",
    "import numpy as np\n",
    "\n",
    "a, b, c, x, E0, E1, E2, E3, E4, E5, E6, E7 = question_3()\n",
    "\n",
    "assert np.isclose(sum([a, b, c, x, E4]), 3.074687863924916)"
   ]
  },
  {
   "cell_type": "code",
   "execution_count": 12,
   "metadata": {},
   "outputs": [],
   "source": [
    "\"\"\" # BEGIN TEST CONFIG\n",
    "points: 1\n",
    "hidden: false\n",
    "success_message: E5 answer correct.\n",
    "failure_message: E5 answer incorrect.\n",
    "\"\"\" # END TEST CONFIG\n",
    "\n",
    "import numpy as np\n",
    "\n",
    "a, b, c, x, E0, E1, E2, E3, E4, E5, E6, E7 = question_3()\n",
    "\n",
    "assert np.isclose(sum([a, b, c, x, E5]), 2.0688699529757812)"
   ]
  },
  {
   "cell_type": "code",
   "execution_count": 13,
   "metadata": {},
   "outputs": [],
   "source": [
    "\"\"\" # BEGIN TEST CONFIG\n",
    "points: 1\n",
    "hidden: false\n",
    "success_message: E6 answer correct.\n",
    "failure_message: E6 answer incorrect.\n",
    "\"\"\" # END TEST CONFIG\n",
    "\n",
    "import numpy as np\n",
    "\n",
    "a, b, c, x, E0, E1, E2, E3, E4, E5, E6, E7 = question_3()\n",
    "\n",
    "assert np.isclose(sum([a, b, c, x, E6]), 5.0)"
   ]
  },
  {
   "cell_type": "code",
   "execution_count": 14,
   "metadata": {},
   "outputs": [],
   "source": [
    "\"\"\" # BEGIN TEST CONFIG\n",
    "points: 1\n",
    "hidden: false\n",
    "success_message: E7 answer correct.\n",
    "failure_message: E7 answer incorrect.\n",
    "\"\"\" # END TEST CONFIG\n",
    "\n",
    "import numpy as np\n",
    "\n",
    "a, b, c, x, E0, E1, E2, E3, E4, E5, E6, E7 = question_3()\n",
    "\n",
    "assert np.isclose(sum([a, b, c, x, E7]), 46.42945834082076)"
   ]
  },
  {
   "cell_type": "raw",
   "metadata": {},
   "source": [
    "# END TESTS"
   ]
  },
  {
   "cell_type": "raw",
   "metadata": {},
   "source": [
    "# END QUESTION"
   ]
  }
 ],
 "metadata": {
  "kernelspec": {
   "display_name": "Python 3.8.2 64-bit",
   "language": "python",
   "name": "python3"
  },
  "language_info": {
   "codemirror_mode": {
    "name": "ipython",
    "version": 3
   },
   "file_extension": ".py",
   "mimetype": "text/x-python",
   "name": "python",
   "nbconvert_exporter": "python",
   "pygments_lexer": "ipython3",
   "version": "3.9.6 (default, Sep 26 2022, 11:37:49) \n[Clang 14.0.0 (clang-1400.0.29.202)]"
  },
  "varInspector": {
   "cols": {
    "lenName": 16,
    "lenType": 16,
    "lenVar": 40
   },
   "kernels_config": {
    "python": {
     "delete_cmd_postfix": "",
     "delete_cmd_prefix": "del ",
     "library": "var_list.py",
     "varRefreshCmd": "print(var_dic_list())"
    },
    "r": {
     "delete_cmd_postfix": ") ",
     "delete_cmd_prefix": "rm(",
     "library": "var_list.r",
     "varRefreshCmd": "cat(var_dic_list()) "
    }
   },
   "types_to_exclude": [
    "module",
    "function",
    "builtin_function_or_method",
    "instance",
    "_Feature"
   ],
   "window_display": false
  },
  "vscode": {
   "interpreter": {
    "hash": "31f2aee4e71d21fbe5cf8b01ff0e069b9275f58929596ceb00d14d90e3e16cd6"
   }
  }
 },
 "nbformat": 4,
 "nbformat_minor": 4
}
