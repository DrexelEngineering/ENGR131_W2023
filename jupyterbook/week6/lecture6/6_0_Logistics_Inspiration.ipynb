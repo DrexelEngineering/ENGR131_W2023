{
 "cells": [
  {
   "attachments": {},
   "cell_type": "markdown",
   "metadata": {
    "slideshow": {
     "slide_type": "slide"
    }
   },
   "source": [
    "# 📝 Logistics Recap\n"
   ]
  },
  {
   "attachments": {},
   "cell_type": "markdown",
   "metadata": {
    "slideshow": {
     "slide_type": "fragment"
    }
   },
   "source": [
    "**Midterm**: 8 am on Wednesday, February 22\n",
    "* Location: Mitchell Auditorium in Bossone Research Center (for 12 pm on Monday lecture)\n"
   ]
  },
  {
   "attachments": {},
   "cell_type": "markdown",
   "metadata": {},
   "source": [
    "* No class on Monday, Feb 20\n",
    "\n",
    "* Office Hours on Monday, Feb 20: 12 pm on Monday in Nesbitt Hall\n",
    "\n",
    "* No office hours on Wed-Fri, February 23-25"
   ]
  },
  {
   "attachments": {},
   "cell_type": "markdown",
   "metadata": {},
   "source": [
    "* graded rapidly so that you have feedback for conversations with advisors"
   ]
  },
  {
   "attachments": {},
   "cell_type": "markdown",
   "metadata": {
    "slideshow": {
     "slide_type": "fragment"
    }
   },
   "source": [
    "**Midterm**: 8 am on Wednesday, February 22\n",
    "* Location: Main Auditorium in Main Building (for 2 pm on Monday lecture)\n"
   ]
  },
  {
   "attachments": {},
   "cell_type": "markdown",
   "metadata": {},
   "source": [
    "* No class on Monday, Feb 20\n",
    "\n",
    "* Office Hours on Monday, Feb 20: 2 pm on Monday in Nesbitt Hall\n",
    "\n",
    "* No office hours on Wed-Fri, February 23-25\n"
   ]
  },
  {
   "attachments": {},
   "cell_type": "markdown",
   "metadata": {},
   "source": [
    "* graded rapidly so that you have feedback for conversations with advisors"
   ]
  },
  {
   "attachments": {},
   "cell_type": "markdown",
   "metadata": {
    "slideshow": {
     "slide_type": "slide"
    }
   },
   "source": [
    "## Homework and Lab Submissions\n",
    "\n",
    "### Saving files in JupyterHub\n",
    "\n",
    "First, note that you must *save the changes that you make in .ipynb files for the file to reflect the code you have added*. When you have an unsaved change, a small, filled circle will appear beside the name of the file (as shown within the red hexagon in the image below). You must open the File menu and click Save Notebook to save the changes as shown in the dropdown menu.\n",
    "\n",
    "![](images/unsavedState.jpg)"
   ]
  },
  {
   "attachments": {},
   "cell_type": "markdown",
   "metadata": {
    "slideshow": {
     "slide_type": "subslide"
    }
   },
   "source": [
    "When you have saved all of the changes, the filled circle will become an \"x\" (as shown in the red hexagon in the image below). Then, you can choose to download the file.\n",
    "\n",
    "![](images/savedState.jpg)"
   ]
  },
  {
   "attachments": {},
   "cell_type": "markdown",
   "metadata": {
    "slideshow": {
     "slide_type": "slide"
    }
   },
   "source": [
    "### Earning Missed Credit\n",
    " \n",
    "\n",
    "If you have missed credit on **Homeworks 2, 3, or 4**; or **Labs 2 or 3**, you can earn this credit back in the following manner (on as many of these assignments as you would like). \n",
    "\n",
    "1. Open your .ipynb file with the correctly completed code.\n",
    "\n",
    "2. Ensure that all of the grader checks pass.\n",
    "\n",
    "3. Comment every line of code (not only the lines that you add) with concise comments.\n",
    "\n",
    "4. Save the file.\n",
    "\n",
    "5. Download the file.\n",
    "\n",
    "6. By *noon on Friday, February 17*, submit the file to the appropriate assignment (remember, only Homeworks 2, 3, or 4; or Labs 2 or 3) can be regraded.\n",
    "\n",
    "If your new grade is higher than your old grade and the code is fully commented, you will earn the revised score on the assignment (as well as being more prepared for the midterm!). "
   ]
  },
  {
   "cell_type": "markdown",
   "metadata": {
    "slideshow": {
     "slide_type": "slide"
    }
   },
   "source": [
    "# How would you...\n"
   ]
  },
  {
   "attachments": {},
   "cell_type": "markdown",
   "metadata": {
    "slideshow": {
     "slide_type": "fragment"
    }
   },
   "source": [
    "... create beats and mix multiple songs as a DJ?"
   ]
  },
  {
   "attachments": {},
   "cell_type": "markdown",
   "metadata": {
    "slideshow": {
     "slide_type": "fragment"
    }
   },
   "source": [
    "... efficiently make fast calculations on real time stock data?"
   ]
  },
  {
   "attachments": {},
   "cell_type": "markdown",
   "metadata": {
    "slideshow": {
     "slide_type": "fragment"
    }
   },
   "source": [
    "... read extensive data to process with a machine learning algorithm?"
   ]
  }
 ],
 "metadata": {
  "celltoolbar": "Slideshow",
  "kernelspec": {
   "display_name": "Python 3",
   "language": "python",
   "name": "python3"
  },
  "language_info": {
   "codemirror_mode": {
    "name": "ipython",
    "version": 3
   },
   "file_extension": ".py",
   "mimetype": "text/x-python",
   "name": "python",
   "nbconvert_exporter": "python",
   "pygments_lexer": "ipython3",
   "version": "3.9.6"
  },
  "vscode": {
   "interpreter": {
    "hash": "31f2aee4e71d21fbe5cf8b01ff0e069b9275f58929596ceb00d14d90e3e16cd6"
   }
  }
 },
 "nbformat": 4,
 "nbformat_minor": 2
}
