{
 "cells": [
  {
   "attachments": {},
   "cell_type": "markdown",
   "metadata": {
    "slideshow": {
     "slide_type": "slide"
    }
   },
   "source": [
    "# 📝 Working with Strings"
   ]
  },
  {
   "cell_type": "code",
   "execution_count": 47,
   "metadata": {
    "slideshow": {
     "slide_type": "fragment"
    }
   },
   "outputs": [],
   "source": [
    "from friendly import *\n",
    "from friendly.jupyter import friendly_tb\n"
   ]
  },
  {
   "cell_type": "markdown",
   "metadata": {
    "slideshow": {
     "slide_type": "fragment"
    }
   },
   "source": [
    "A lot of times you want to relay information to a user or send new instructions to a program. One common method to perform these tasks in Python is to use strings. "
   ]
  },
  {
   "cell_type": "markdown",
   "metadata": {
    "slideshow": {
     "slide_type": "slide"
    }
   },
   "source": [
    "## Defining Strings "
   ]
  },
  {
   "cell_type": "markdown",
   "metadata": {
    "slideshow": {
     "slide_type": "fragment"
    }
   },
   "source": [
    "Recall that to represent a string you wrap it in quotes:\n",
    "* Single quotes `'` allows you to embed double quotes `\"`\n",
    "* Double quotes `'` allows you to embed single quotes `'`\n",
    "* Triple quotes `\"\"\"` allows you to embed single and double quotes, and the string can span multiple lines "
   ]
  },
  {
   "cell_type": "code",
   "execution_count": 48,
   "metadata": {
    "slideshow": {
     "slide_type": "fragment"
    }
   },
   "outputs": [],
   "source": [
    "single_quote = 'Single quote allow you to embed \"double\" quotes in your string.'\n",
    "double_quote = \"Double quote allow you to embed 'single' quotes in your string.\"\n",
    "triple_quote = \"\"\"Triple quotes allows to embed \"double quotes\" as well as 'single quotes' in your string. \n",
    "And can also span across multiple lines.\"\"\"\n"
   ]
  },
  {
   "cell_type": "markdown",
   "metadata": {
    "slideshow": {
     "slide_type": "fragment"
    }
   },
   "source": [
    "Strings are immutable which means you cannot replace a value in a string. You need to create a new string."
   ]
  },
  {
   "cell_type": "markdown",
   "metadata": {
    "slideshow": {
     "slide_type": "fragment"
    }
   },
   "source": [
    "<div class=\"admonition note alert alert-info\">\n",
    "<p class=\"first admonition-title\" style=\"font-weight: bold;\">Definition</p>\n",
    "Immutable object -  an object whose state cannot be modified after it is created\n",
    "</div>"
   ]
  },
  {
   "cell_type": "code",
   "execution_count": 49,
   "metadata": {
    "slideshow": {
     "slide_type": "fragment"
    },
    "tags": [
     "skip-execution"
    ]
   },
   "outputs": [
    {
     "data": {
      "text/html": [
       "<div id='friendly-message8'><pre style='white-space:pre;overflow-x:auto;line-height:normal'><span style=\"color: #dd0000; text-decoration-color: #dd0000; background-color: #ffffff\">TypeError</span>: 'str' object does not support item assignment              \n",
       "</pre></div>"
      ],
      "text/plain": [
       "\u001b[38;2;221;0;0;48;2;255;255;255mTypeError\u001b[0m: 'str' object does not support item assignment              \n"
      ]
     },
     "metadata": {},
     "output_type": "display_data"
    },
    {
     "data": {
      "text/html": [
       "\n",
       "        <button\n",
       "            id='friendly-tb-btn-show8'\n",
       "            onclick='friendly_toggle_more8()'\n",
       "            style=''>\n",
       "        More ...\n",
       "        </button>\n",
       "        <script type=\"text/Javascript\"> function friendly_toggle_more8(){\n",
       "        var btn = document.getElementById('friendly-tb-btn-show8');\n",
       "        var btn_what = document.getElementById('friendly-tb-btn-show-what8');\n",
       "        var btn_where = document.getElementById('friendly-tb-btn-show-where8');\n",
       "        var btn_why = document.getElementById('friendly-tb-btn-show-why8');\n",
       "        ;\n",
       "        var message = document.getElementById('friendly-message8');\n",
       "        var friendly_tb_content = document.getElementById('friendly-tb-friendly_tb-content8');\n",
       "        var what_content = document.getElementById('friendly-tb-what-content8');\n",
       "        var why_content = document.getElementById('friendly-tb-why-content8');\n",
       "        var where_content = document.getElementById('friendly-tb-where-content8');\n",
       "        ;\n",
       "\n",
       "        if (btn_what.style.display == 'none'){\n",
       "            message.style.display = 'none';\n",
       "            btn_what.style.display = 'block';\n",
       "            btn_why.style.display = 'block';\n",
       "            btn_where.style.display = 'block';\n",
       "            friendly_tb_content.style.display = 'block';\n",
       "            ;\n",
       "            btn.textContent = \"Show message only\";\n",
       "            ;\n",
       "        } else {\n",
       "            btn_what.style.display = 'none';\n",
       "            btn_what.textContent = 'what()';\n",
       "            btn_why.style.display = 'none';\n",
       "            btn_why.textContent = 'why()';\n",
       "            btn_where.style.display = 'none';\n",
       "            btn_where.textContent = 'where()';\n",
       "            what_content.style.display = 'none';\n",
       "            why_content.style.display = 'none';\n",
       "            where_content.style.display = 'none';\n",
       "            ;\n",
       "            friendly_tb_content.style.display = 'none';\n",
       "            message.style.display = 'block';\n",
       "            btn.textContent = \"More ...\";\n",
       "            ;\n",
       "        }\n",
       "        };\n",
       "        </script>\n",
       "        "
      ]
     },
     "metadata": {},
     "output_type": "display_data"
    },
    {
     "data": {
      "text/html": [
       "<div id='friendly-tb-friendly_tb-content8' style='display:none'><pre style='white-space:pre;overflow-x:auto;line-height:normal'><span style=\"color: #dd0000; text-decoration-color: #dd0000; background-color: #ffffff\">Traceback (most recent call last):</span><span style=\"background-color: #ffffff\">                                                                  </span>\n",
       "<span style=\"color: #101010; text-decoration-color: #101010; background-color: #ffffff\">  File </span><span style=\"color: #005500; text-decoration-color: #005500; background-color: #ffffff\">\"[49]?\"</span><span style=\"color: #101010; text-decoration-color: #101010; background-color: #ffffff\">, line 2, in </span><span style=\"color: #0011aa; text-decoration-color: #0011aa; background-color: #ffffff\">&lt;module&gt;</span><span style=\"background-color: #ffffff\">                                                                 </span>\n",
       "<span style=\"color: #101010; text-decoration-color: #101010; background-color: #ffffff\">    </span><span style=\"color: #0011aa; text-decoration-color: #0011aa; background-color: #ffffff\">triple_quote</span><span style=\"color: #783114; text-decoration-color: #783114; background-color: #ffffff\">[</span><span style=\"color: #101010; text-decoration-color: #101010; background-color: #ffffff\">35</span><span style=\"color: #783114; text-decoration-color: #783114; background-color: #ffffff\">]</span><span style=\"color: #101010; text-decoration-color: #101010; background-color: #ffffff\"> </span><span style=\"color: #783114; text-decoration-color: #783114; background-color: #ffffff\">=</span><span style=\"color: #101010; text-decoration-color: #101010; background-color: #ffffff\"> </span><span style=\"color: #8b008b; text-decoration-color: #8b008b; background-color: #ffffff\">\"'\"</span><span style=\"background-color: #ffffff\">                                                                          </span>\n",
       "<span style=\"color: #dd0000; text-decoration-color: #dd0000; background-color: #ffffff\">TypeError</span><span style=\"color: #101010; text-decoration-color: #101010; background-color: #ffffff\">: </span><span style=\"color: #0011aa; text-decoration-color: #0011aa; background-color: #ffffff\">'str' object does not support item assignment</span><span style=\"background-color: #ffffff\">                                            </span>\n",
       "</pre></div>"
      ],
      "text/plain": [
       "\u001b[38;2;221;0;0;48;2;255;255;255mTraceback (most recent call last):\u001b[0m\u001b[48;2;255;255;255m                                                                  \u001b[0m\n",
       "\u001b[38;2;16;16;16;48;2;255;255;255m  File \u001b[0m\u001b[38;2;0;85;0;48;2;255;255;255m\"[49]?\"\u001b[0m\u001b[38;2;16;16;16;48;2;255;255;255m, line \u001b[0m\u001b[38;2;16;16;16;48;2;255;255;255m2\u001b[0m\u001b[38;2;16;16;16;48;2;255;255;255m, in \u001b[0m\u001b[38;2;0;17;170;48;2;255;255;255m<module>\u001b[0m\u001b[48;2;255;255;255m                                                                 \u001b[0m\n",
       "\u001b[38;2;16;16;16;48;2;255;255;255m    \u001b[0m\u001b[38;2;0;17;170;48;2;255;255;255mtriple_quote\u001b[0m\u001b[38;2;120;49;20;48;2;255;255;255m[\u001b[0m\u001b[38;2;16;16;16;48;2;255;255;255m35\u001b[0m\u001b[38;2;120;49;20;48;2;255;255;255m]\u001b[0m\u001b[38;2;16;16;16;48;2;255;255;255m \u001b[0m\u001b[38;2;120;49;20;48;2;255;255;255m=\u001b[0m\u001b[38;2;16;16;16;48;2;255;255;255m \u001b[0m\u001b[38;2;139;0;139;48;2;255;255;255m\"\u001b[0m\u001b[38;2;139;0;139;48;2;255;255;255m'\u001b[0m\u001b[38;2;139;0;139;48;2;255;255;255m\"\u001b[0m\u001b[48;2;255;255;255m                                                                          \u001b[0m\n",
       "\u001b[38;2;221;0;0;48;2;255;255;255mTypeError\u001b[0m\u001b[38;2;16;16;16;48;2;255;255;255m: \u001b[0m\u001b[38;2;0;17;170;48;2;255;255;255m'str' object does not support item assignment\u001b[0m\u001b[48;2;255;255;255m                                            \u001b[0m\n"
      ]
     },
     "metadata": {},
     "output_type": "display_data"
    },
    {
     "data": {
      "text/html": [
       "<script type=\"text/Javascript\"> function toggle_what8(){\n",
       "     var content = document.getElementById('friendly-tb-what-content8');\n",
       "     var btn = document.getElementById('friendly-tb-btn-show-what8');\n",
       "        if (content.style.display === 'none') {\n",
       "            content.style.display = 'block';\n",
       "            btn.textContent = \"Hide what()\";\n",
       "        } else {\n",
       "            content.style.display = 'none';\n",
       "            btn.textContent = \"what()\";\n",
       "       }\n",
       "    }\n",
       "     </script>\n",
       "     <button\n",
       "         id='friendly-tb-btn-show-what8'\n",
       "         onclick='toggle_what8()'\n",
       "         style='display:none '>\n",
       "     what()\n",
       "     </button>\n",
       "    "
      ]
     },
     "metadata": {},
     "output_type": "display_data"
    },
    {
     "data": {
      "text/html": [
       "<div id='friendly-tb-what-content8' style='display:none'><pre style='white-space:pre;overflow-x:auto;line-height:normal'>A <span style=\"color: #dd0000; text-decoration-color: #dd0000; background-color: #ffffff\">TypeError</span> is usually caused by trying to combine two incompatible   \n",
       "types of objects, by calling a function with the wrong type of object,\n",
       "or by trying to do an operation not allowed on a given type of object.\n",
       "</pre></div>"
      ],
      "text/plain": [
       "A \u001b[38;2;221;0;0;48;2;255;255;255mTypeError\u001b[0m is usually caused by trying to combine two incompatible   \n",
       "types of objects, by calling a function with the wrong type of object,\n",
       "or by trying to do an operation not allowed on a given type of object.\n"
      ]
     },
     "metadata": {},
     "output_type": "display_data"
    },
    {
     "data": {
      "text/html": [
       "<script type=\"text/Javascript\"> function toggle_why8(){\n",
       "     var content = document.getElementById('friendly-tb-why-content8');\n",
       "     var btn = document.getElementById('friendly-tb-btn-show-why8');\n",
       "        if (content.style.display === 'none') {\n",
       "            content.style.display = 'block';\n",
       "            btn.textContent = \"Hide why()\";\n",
       "        } else {\n",
       "            content.style.display = 'none';\n",
       "            btn.textContent = \"why()\";\n",
       "       }\n",
       "    }\n",
       "     </script>\n",
       "     <button\n",
       "         id='friendly-tb-btn-show-why8'\n",
       "         onclick='toggle_why8()'\n",
       "         style='display:none '>\n",
       "     why()\n",
       "     </button>\n",
       "    "
      ]
     },
     "metadata": {},
     "output_type": "display_data"
    },
    {
     "data": {
      "text/html": [
       "<div id='friendly-tb-why-content8' style='display:none'><pre style='white-space:pre;overflow-x:auto;line-height:normal'>In Python, some objects are known as immutable: once defined, their   \n",
       "value cannot be changed. You tried change part of such an immutable   \n",
       "object: a string (<span style=\"color: #005500; text-decoration-color: #005500; background-color: #ffffff\">str</span>), most likely by using an indexing operation.   \n",
       "</pre></div>"
      ],
      "text/plain": [
       "In Python, some objects are known as immutable: once defined, their   \n",
       "value cannot be changed. You tried change part of such an immutable   \n",
       "object: a string (\u001b[38;2;0;85;0;48;2;255;255;255mstr\u001b[0m), most likely by using an indexing operation.   \n"
      ]
     },
     "metadata": {},
     "output_type": "display_data"
    },
    {
     "data": {
      "text/html": [
       "<script type=\"text/Javascript\"> function toggle_where8(){\n",
       "     var content = document.getElementById('friendly-tb-where-content8');\n",
       "     var btn = document.getElementById('friendly-tb-btn-show-where8');\n",
       "        if (content.style.display === 'none') {\n",
       "            content.style.display = 'block';\n",
       "            btn.textContent = \"Hide where()\";\n",
       "        } else {\n",
       "            content.style.display = 'none';\n",
       "            btn.textContent = \"where()\";\n",
       "       }\n",
       "    }\n",
       "     </script>\n",
       "     <button\n",
       "         id='friendly-tb-btn-show-where8'\n",
       "         onclick='toggle_where8()'\n",
       "         style='display:none '>\n",
       "     where()\n",
       "     </button>\n",
       "    "
      ]
     },
     "metadata": {},
     "output_type": "display_data"
    },
    {
     "data": {
      "text/html": [
       "<div id='friendly-tb-where-content8' style='display:none'><pre style='white-space:pre;overflow-x:auto;line-height:normal'><span style=\"color: #dd0000; text-decoration-color: #dd0000\">Exception raised on line </span><span style=\"color: #101010; text-decoration-color: #101010; background-color: #ffffff\">2</span><span style=\"color: #dd0000; text-decoration-color: #dd0000\"> of code block </span><span style=\"color: #783114; text-decoration-color: #783114; background-color: #ffffff\">[</span><span style=\"color: #101010; text-decoration-color: #101010; background-color: #ffffff\">49</span><span style=\"color: #783114; text-decoration-color: #783114; background-color: #ffffff\">]</span><span style=\"color: #dd0000; text-decoration-color: #dd0000\">?.</span>                                                     \n",
       "\n",
       "<span style=\"color: #808080; text-decoration-color: #808080; background-color: #ffffff\">       1|</span><span style=\"color: #0011aa; text-decoration-color: #0011aa; background-color: #ffffff\"> triple_quote</span><span style=\"color: #783114; text-decoration-color: #783114; background-color: #ffffff\"> =</span><span style=\"color: #8b008b; text-decoration-color: #8b008b; background-color: #ffffff\"> '''This is triple quoted string using \"single\" quotes.'''</span>\n",
       "<span style=\"color: #783114; text-decoration-color: #783114; background-color: #ffffff\">     &gt; </span><span style=\"color: #101010; text-decoration-color: #101010; background-color: #ffffff\">2|</span><span style=\"color: #783114; text-decoration-color: #783114; background-color: #ffffff\"> </span><span style=\"color: #ffffff; text-decoration-color: #ffffff; background-color: #cc0000\">triple_quote[35]</span><span style=\"color: #783114; text-decoration-color: #783114; background-color: #ffffff\"> =</span><span style=\"color: #8b008b; text-decoration-color: #8b008b; background-color: #ffffff\"> \"'\"</span>\n",
       "\n",
       "<span style=\"color: #101010; text-decoration-color: #101010; background-color: #ffffff\">    </span><span style=\"color: #0011aa; text-decoration-color: #0011aa; background-color: #ffffff\">triple_quote</span><span style=\"color: #783114; text-decoration-color: #783114; background-color: #ffffff\">:</span><span style=\"color: #101010; text-decoration-color: #101010; background-color: #ffffff\">  </span><span style=\"color: #8b008b; text-decoration-color: #8b008b; background-color: #ffffff\">'This is triple quoted string using \"single\" quotes.'</span><span style=\"background-color: #ffffff\">                            </span>\n",
       "<span style=\"color: #101010; text-decoration-color: #101010; background-color: #ffffff\">    </span><span style=\"color: #0011aa; text-decoration-color: #0011aa; background-color: #ffffff\">triple_quote</span><span style=\"color: #783114; text-decoration-color: #783114; background-color: #ffffff\">[</span><span style=\"color: #101010; text-decoration-color: #101010; background-color: #ffffff\">35</span><span style=\"color: #783114; text-decoration-color: #783114; background-color: #ffffff\">]:</span><span style=\"color: #101010; text-decoration-color: #101010; background-color: #ffffff\">  </span><span style=\"color: #8b008b; text-decoration-color: #8b008b; background-color: #ffffff\">'\"'</span><span style=\"background-color: #ffffff\">                                                                          </span>\n",
       "</pre></div>"
      ],
      "text/plain": [
       "\u001b[38;2;221;0;0mException raised on line \u001b[0m\u001b[38;2;16;16;16;48;2;255;255;255m2\u001b[0m\u001b[38;2;221;0;0m of code block \u001b[0m\u001b[38;2;120;49;20;48;2;255;255;255m[\u001b[0m\u001b[38;2;16;16;16;48;2;255;255;255m49\u001b[0m\u001b[38;2;120;49;20;48;2;255;255;255m]\u001b[0m\u001b[38;2;221;0;0m?.\u001b[0m                                                     \n",
       "\n",
       "\u001b[38;2;128;128;128;48;2;255;255;255m       1|\u001b[0m\u001b[38;2;0;17;170;48;2;255;255;255m \u001b[0m\u001b[38;2;0;17;170;48;2;255;255;255mtriple_quote\u001b[0m\u001b[38;2;120;49;20;48;2;255;255;255m =\u001b[0m\u001b[38;2;139;0;139;48;2;255;255;255m '''This is triple quoted string using \"single\" quotes.'''\u001b[0m\n",
       "\u001b[38;2;120;49;20;48;2;255;255;255m     > \u001b[0m\u001b[38;2;16;16;16;48;2;255;255;255m2|\u001b[0m\u001b[38;2;120;49;20;48;2;255;255;255m \u001b[0m\u001b[38;2;255;255;255;48;2;204;0;0mtriple_quote\u001b[0m\u001b[38;2;255;255;255;48;2;204;0;0m[\u001b[0m\u001b[38;2;255;255;255;48;2;204;0;0m35\u001b[0m\u001b[38;2;255;255;255;48;2;204;0;0m]\u001b[0m\u001b[38;2;120;49;20;48;2;255;255;255m =\u001b[0m\u001b[38;2;139;0;139;48;2;255;255;255m \"'\"\u001b[0m\n",
       "\n",
       "\u001b[38;2;16;16;16;48;2;255;255;255m    \u001b[0m\u001b[38;2;0;17;170;48;2;255;255;255mtriple_quote\u001b[0m\u001b[38;2;120;49;20;48;2;255;255;255m:\u001b[0m\u001b[38;2;16;16;16;48;2;255;255;255m  \u001b[0m\u001b[38;2;139;0;139;48;2;255;255;255m'\u001b[0m\u001b[38;2;139;0;139;48;2;255;255;255mThis is triple quoted string using \u001b[0m\u001b[38;2;139;0;139;48;2;255;255;255m\"\u001b[0m\u001b[38;2;139;0;139;48;2;255;255;255msingle\u001b[0m\u001b[38;2;139;0;139;48;2;255;255;255m\"\u001b[0m\u001b[38;2;139;0;139;48;2;255;255;255m quotes.\u001b[0m\u001b[38;2;139;0;139;48;2;255;255;255m'\u001b[0m\u001b[48;2;255;255;255m                            \u001b[0m\n",
       "\u001b[38;2;16;16;16;48;2;255;255;255m    \u001b[0m\u001b[38;2;0;17;170;48;2;255;255;255mtriple_quote\u001b[0m\u001b[38;2;120;49;20;48;2;255;255;255m[\u001b[0m\u001b[38;2;16;16;16;48;2;255;255;255m35\u001b[0m\u001b[38;2;120;49;20;48;2;255;255;255m]\u001b[0m\u001b[38;2;120;49;20;48;2;255;255;255m:\u001b[0m\u001b[38;2;16;16;16;48;2;255;255;255m  \u001b[0m\u001b[38;2;139;0;139;48;2;255;255;255m'\u001b[0m\u001b[38;2;139;0;139;48;2;255;255;255m\"\u001b[0m\u001b[38;2;139;0;139;48;2;255;255;255m'\u001b[0m\u001b[48;2;255;255;255m                                                                          \u001b[0m\n"
      ]
     },
     "metadata": {},
     "output_type": "display_data"
    }
   ],
   "source": [
    "triple_quote = \"\"\"This is triple quoted string using \"single\" quotes.\"\"\"\n",
    "triple_quote[35] = \"'\"\n"
   ]
  },
  {
   "attachments": {},
   "cell_type": "markdown",
   "metadata": {
    "slideshow": {
     "slide_type": "slide"
    }
   },
   "source": [
    "## Formatting within a string\n",
    "\n",
    "You can add tabs to a string using `\\t`"
   ]
  },
  {
   "cell_type": "code",
   "execution_count": 50,
   "metadata": {
    "slideshow": {
     "slide_type": "fragment"
    }
   },
   "outputs": [
    {
     "name": "stdout",
     "output_type": "stream",
     "text": [
      "Drexel \t Engineering\n"
     ]
    }
   ],
   "source": [
    "str = \"Drexel \\t Engineering\"\n",
    "\n",
    "print(str)\n"
   ]
  },
  {
   "cell_type": "markdown",
   "metadata": {
    "slideshow": {
     "slide_type": "fragment"
    }
   },
   "source": [
    "You can add a line break with `\\n`"
   ]
  },
  {
   "cell_type": "code",
   "execution_count": 51,
   "metadata": {
    "slideshow": {
     "slide_type": "fragment"
    }
   },
   "outputs": [
    {
     "name": "stdout",
     "output_type": "stream",
     "text": [
      "Drexel \n",
      "Engineering\n"
     ]
    }
   ],
   "source": [
    "str = \"Drexel \\nEngineering\"\n",
    "\n",
    "print(str)\n"
   ]
  },
  {
   "cell_type": "markdown",
   "metadata": {
    "slideshow": {
     "slide_type": "fragment"
    }
   },
   "source": [
    "<div class=\"admonition note alert alert-info\">\n",
    "<p class=\"first admonition-title\" style=\"font-weight: bold;\">Note</p>Did you notice the '\\t', '\\n' above? These are called escape characters. They start with a \\ (backslash). \n",
    "Internally, they are not interpreted as normal strings, but rather as special characters that represent something else. For example - '\\t' represents a tab. There are many more escape characters.\n",
    " </a>\n",
    "</div>"
   ]
  },
  {
   "cell_type": "markdown",
   "metadata": {
    "slideshow": {
     "slide_type": "slide"
    }
   },
   "source": [
    "## Length of a String"
   ]
  },
  {
   "cell_type": "markdown",
   "metadata": {
    "slideshow": {
     "slide_type": "fragment"
    }
   },
   "source": [
    "You can find the length of a string using the built-in `len()` function:"
   ]
  },
  {
   "cell_type": "code",
   "execution_count": 52,
   "metadata": {
    "slideshow": {
     "slide_type": "fragment"
    }
   },
   "outputs": [
    {
     "data": {
      "text/html": [
       "<pre style='white-space:pre;overflow-x:auto;line-height:normal'><span style=\"color: #101010; text-decoration-color: #101010\">51</span>\n",
       "</pre>"
      ],
      "text/plain": [
       "\u001b[38;2;16;16;16m51\u001b[0m\n"
      ]
     },
     "metadata": {},
     "output_type": "display_data"
    }
   ],
   "source": [
    "len(triple_quote)\n"
   ]
  },
  {
   "cell_type": "markdown",
   "metadata": {
    "slideshow": {
     "slide_type": "slide"
    }
   },
   "source": [
    "## String Slicing"
   ]
  },
  {
   "cell_type": "markdown",
   "metadata": {
    "slideshow": {
     "slide_type": "fragment"
    }
   },
   "source": [
    "* Since strings are a sequence of characters, you can access it through slicing and indexing just like you would with Python lists or tuples. \n",
    "* Strings are indexed with respect to each character in the string and the indexing begins at 0"
   ]
  },
  {
   "cell_type": "markdown",
   "metadata": {
    "slideshow": {
     "slide_type": "fragment"
    }
   },
   "source": [
    "![](images\\String_Index.webp)"
   ]
  },
  {
   "cell_type": "code",
   "execution_count": 53,
   "metadata": {
    "slideshow": {
     "slide_type": "fragment"
    }
   },
   "outputs": [],
   "source": [
    "snack = \"Chocolate Cookie.\"\n"
   ]
  },
  {
   "cell_type": "markdown",
   "metadata": {
    "slideshow": {
     "slide_type": "fragment"
    }
   },
   "source": [
    "* The first index starts at 0"
   ]
  },
  {
   "cell_type": "code",
   "execution_count": 54,
   "metadata": {
    "slideshow": {
     "slide_type": "fragment"
    }
   },
   "outputs": [
    {
     "name": "stdout",
     "output_type": "stream",
     "text": [
      "C\n"
     ]
    }
   ],
   "source": [
    "print(snack[0])\n"
   ]
  },
  {
   "attachments": {},
   "cell_type": "markdown",
   "metadata": {
    "slideshow": {
     "slide_type": "fragment"
    }
   },
   "source": [
    "* The last index is the period at 16"
   ]
  },
  {
   "cell_type": "code",
   "execution_count": 55,
   "metadata": {
    "slideshow": {
     "slide_type": "fragment"
    }
   },
   "outputs": [
    {
     "name": "stdout",
     "output_type": "stream",
     "text": [
      ".\n"
     ]
    }
   ],
   "source": [
    "print(snack[16])\n"
   ]
  },
  {
   "cell_type": "markdown",
   "metadata": {
    "slideshow": {
     "slide_type": "fragment"
    }
   },
   "source": [
    "* You can access the end of a string using [-1] index"
   ]
  },
  {
   "cell_type": "code",
   "execution_count": 56,
   "metadata": {
    "slideshow": {
     "slide_type": "fragment"
    }
   },
   "outputs": [
    {
     "name": "stdout",
     "output_type": "stream",
     "text": [
      ".\n"
     ]
    }
   ],
   "source": [
    "print(snack[-1])\n"
   ]
  },
  {
   "cell_type": "markdown",
   "metadata": {
    "slideshow": {
     "slide_type": "slide"
    }
   },
   "source": [
    "## Extracting a Substring"
   ]
  },
  {
   "cell_type": "markdown",
   "metadata": {
    "slideshow": {
     "slide_type": "fragment"
    }
   },
   "source": [
    "You can extract a substring using range slicing `[Start index (included): Stop index (excluded)]`"
   ]
  },
  {
   "cell_type": "code",
   "execution_count": 57,
   "metadata": {
    "slideshow": {
     "slide_type": "fragment"
    }
   },
   "outputs": [
    {
     "name": "stdout",
     "output_type": "stream",
     "text": [
      "Cookie\n"
     ]
    }
   ],
   "source": [
    "print(snack[10:16])\n"
   ]
  },
  {
   "cell_type": "markdown",
   "metadata": {
    "slideshow": {
     "slide_type": "fragment"
    }
   },
   "source": [
    "You can also use a combination of positive and negative slicing"
   ]
  },
  {
   "cell_type": "code",
   "execution_count": 58,
   "metadata": {
    "slideshow": {
     "slide_type": "fragment"
    }
   },
   "outputs": [
    {
     "name": "stdout",
     "output_type": "stream",
     "text": [
      "Cookie\n"
     ]
    }
   ],
   "source": [
    "print(snack[10:-1])\n"
   ]
  },
  {
   "cell_type": "markdown",
   "metadata": {
    "slideshow": {
     "slide_type": "fragment"
    }
   },
   "source": [
    "If you do not specify a start or end index it will use the entire array"
   ]
  },
  {
   "cell_type": "code",
   "execution_count": 59,
   "metadata": {
    "slideshow": {
     "slide_type": "fragment"
    }
   },
   "outputs": [
    {
     "name": "stdout",
     "output_type": "stream",
     "text": [
      "Chocolate Cookie.\n",
      "Chocolate Cookie\n",
      "Chocolate Cookie.\n"
     ]
    }
   ],
   "source": [
    "# Stop value not provided\n",
    "print(snack[0:])\n",
    "\n",
    "# Start value not provided (Stop value excluded according to syntax)\n",
    "print(snack[:-1])\n",
    "\n",
    "# This is also allowed\n",
    "print(snack[:])\n"
   ]
  },
  {
   "cell_type": "markdown",
   "metadata": {
    "slideshow": {
     "slide_type": "slide"
    }
   },
   "source": [
    "### Using a Stride\n",
    "\n",
    "It is possible to use a 3rd parameter stride to specify how many characters you would like to move forward."
   ]
  },
  {
   "cell_type": "code",
   "execution_count": 60,
   "metadata": {
    "slideshow": {
     "slide_type": "fragment"
    }
   },
   "outputs": [
    {
     "name": "stdout",
     "output_type": "stream",
     "text": [
      "Drexel Engineering\n"
     ]
    }
   ],
   "source": [
    "mixed_string = \"D0r0e0x0e0l0 0E0n0g0i0n0e0e0r0i0n0g\"\n",
    "print(mixed_string[::2])\n"
   ]
  },
  {
   "cell_type": "markdown",
   "metadata": {
    "slideshow": {
     "slide_type": "slide"
    }
   },
   "source": [
    "### Reversing a String"
   ]
  },
  {
   "cell_type": "markdown",
   "metadata": {
    "slideshow": {
     "slide_type": "fragment"
    }
   },
   "source": [
    "Strides can be used to reverse a string"
   ]
  },
  {
   "cell_type": "code",
   "execution_count": 61,
   "metadata": {
    "slideshow": {
     "slide_type": "fragment"
    }
   },
   "outputs": [
    {
     "name": "stdout",
     "output_type": "stream",
     "text": [
      "GFEDCBA\n"
     ]
    }
   ],
   "source": [
    "ordered_string = \"ABCDEFG\"\n",
    "print(ordered_string[::-1])\n"
   ]
  },
  {
   "attachments": {},
   "cell_type": "markdown",
   "metadata": {
    "slideshow": {
     "slide_type": "slide"
    }
   },
   "source": [
    "## Concatenation of String\n",
    "\n",
    "There are many times where you might want to join or concatenate strings. In python this can be done using the simple addition operator. "
   ]
  },
  {
   "cell_type": "code",
   "execution_count": 1,
   "metadata": {
    "slideshow": {
     "slide_type": "fragment"
    },
    "tags": []
   },
   "outputs": [
    {
     "name": "stdout",
     "output_type": "stream",
     "text": [
      "Drexel Engineering\n"
     ]
    }
   ],
   "source": [
    "string1 = \"Drexel\"\n",
    "string2 = \"Engineering\"\n",
    "\n",
    "alma_mater = string1 + \" \" + string2\n",
    "print(alma_mater)\n"
   ]
  },
  {
   "cell_type": "markdown",
   "metadata": {
    "slideshow": {
     "slide_type": "fragment"
    }
   },
   "source": [
    "This will only work if all the datatypes are strings"
   ]
  },
  {
   "cell_type": "code",
   "execution_count": 1,
   "metadata": {
    "slideshow": {
     "slide_type": "fragment"
    },
    "tags": []
   },
   "outputs": [
    {
     "ename": "TypeError",
     "evalue": "can only concatenate str (not \"int\") to str",
     "output_type": "error",
     "traceback": [
      "\u001b[0;31m---------------------------------------------------------------------------\u001b[0m",
      "\u001b[0;31mTypeError\u001b[0m                                 Traceback (most recent call last)",
      "Cell \u001b[0;32mIn[1], line 6\u001b[0m\n\u001b[1;32m      3\u001b[0m string3 \u001b[39m=\u001b[39m \u001b[39m\"\u001b[39m\u001b[39mClass of\u001b[39m\u001b[39m\"\u001b[39m\n\u001b[1;32m      4\u001b[0m year \u001b[39m=\u001b[39m \u001b[39m2027\u001b[39m\n\u001b[0;32m----> 6\u001b[0m alma_mater \u001b[39m=\u001b[39m string1 \u001b[39m+\u001b[39;49m \u001b[39m\"\u001b[39;49m\u001b[39m \u001b[39;49m\u001b[39m\"\u001b[39;49m \u001b[39m+\u001b[39;49m string2 \u001b[39m+\u001b[39;49m \u001b[39m\"\u001b[39;49m\u001b[39m \u001b[39;49m\u001b[39m\"\u001b[39;49m \u001b[39m+\u001b[39;49m string3 \u001b[39m+\u001b[39;49m \u001b[39m\"\u001b[39;49m\u001b[39m \u001b[39;49m\u001b[39m\"\u001b[39;49m \u001b[39m+\u001b[39;49m year\n\u001b[1;32m      7\u001b[0m \u001b[39mprint\u001b[39m(alma_mater)\n",
      "\u001b[0;31mTypeError\u001b[0m: can only concatenate str (not \"int\") to str"
     ]
    }
   ],
   "source": [
    "string1 = \"Drexel\"\n",
    "string2 = \"Engineering\"\n",
    "string3 = \"Class of\"\n",
    "year = 2027\n",
    "\n",
    "alma_mater = string1 + \" \" + string2 + \" \" + string3 + \" \" + year\n",
    "print(alma_mater)\n"
   ]
  },
  {
   "cell_type": "code",
   "execution_count": 2,
   "metadata": {
    "slideshow": {
     "slide_type": "fragment"
    }
   },
   "outputs": [
    {
     "name": "stdout",
     "output_type": "stream",
     "text": [
      "Drexel Engineering Class of 2027\n"
     ]
    }
   ],
   "source": [
    "string1 = \"Drexel\"\n",
    "string2 = \"Engineering\"\n",
    "string3 = \"Class of\"\n",
    "year = 2027\n",
    "\n",
    "alma_mater = string1 + \" \" + string2 + \" \" + string3 + \" \" + str(year)\n",
    "print(alma_mater)\n"
   ]
  },
  {
   "cell_type": "markdown",
   "metadata": {
    "slideshow": {
     "slide_type": "slide"
    }
   },
   "source": [
    "## Repeating Strings\n",
    "\n",
    "The multiply operator allows you to repeat strings"
   ]
  },
  {
   "cell_type": "code",
   "execution_count": 65,
   "metadata": {
    "slideshow": {
     "slide_type": "fragment"
    }
   },
   "outputs": [
    {
     "name": "stdout",
     "output_type": "stream",
     "text": [
      "hip hip hurray! hip hip hurray! hip hip hurray! \n"
     ]
    }
   ],
   "source": [
    "single_word = \"hip \"\n",
    "line1 = single_word * 2 + \"hurray! \"\n",
    "print(line1 * 3)\n"
   ]
  },
  {
   "cell_type": "markdown",
   "metadata": {
    "slideshow": {
     "slide_type": "fragment"
    }
   },
   "source": [
    "## Built-in String Methods"
   ]
  },
  {
   "cell_type": "markdown",
   "metadata": {
    "slideshow": {
     "slide_type": "fragment"
    }
   },
   "source": [
    "Python provides many built-in methods or helper functions to manipulate strings. "
   ]
  },
  {
   "cell_type": "markdown",
   "metadata": {
    "slideshow": {
     "slide_type": "subslide"
    }
   },
   "source": [
    "### Capitalize a String"
   ]
  },
  {
   "cell_type": "code",
   "execution_count": 66,
   "metadata": {
    "slideshow": {
     "slide_type": "fragment"
    }
   },
   "outputs": [
    {
     "name": "stdout",
     "output_type": "stream",
     "text": [
      "Drexel engineering\n"
     ]
    }
   ],
   "source": [
    "str = \"drexel engineering\"\n",
    "\n",
    "print(str.capitalize())\n"
   ]
  },
  {
   "cell_type": "markdown",
   "metadata": {
    "slideshow": {
     "slide_type": "subslide"
    }
   },
   "source": [
    "### Checks if lower case"
   ]
  },
  {
   "cell_type": "code",
   "execution_count": 67,
   "metadata": {
    "slideshow": {
     "slide_type": "fragment"
    }
   },
   "outputs": [
    {
     "name": "stdout",
     "output_type": "stream",
     "text": [
      "True\n"
     ]
    }
   ],
   "source": [
    "str = \"drexel engineering\"\n",
    "\n",
    "print(str.islower())\n"
   ]
  },
  {
   "cell_type": "markdown",
   "metadata": {
    "slideshow": {
     "slide_type": "subslide"
    }
   },
   "source": [
    "### Finds Substring\n",
    "\n",
    "Returns the lowest index in the string where the substring is found."
   ]
  },
  {
   "cell_type": "code",
   "execution_count": 68,
   "metadata": {
    "slideshow": {
     "slide_type": "fragment"
    }
   },
   "outputs": [
    {
     "name": "stdout",
     "output_type": "stream",
     "text": [
      "7\n"
     ]
    }
   ],
   "source": [
    "print(str.find(\"eng\"))\n"
   ]
  },
  {
   "cell_type": "markdown",
   "metadata": {
    "slideshow": {
     "slide_type": "subslide"
    }
   },
   "source": [
    "### Count Occurrence\n",
    "\n",
    "Counts how many times a substring occurs."
   ]
  },
  {
   "cell_type": "code",
   "execution_count": 69,
   "metadata": {
    "slideshow": {
     "slide_type": "fragment"
    }
   },
   "outputs": [
    {
     "name": "stdout",
     "output_type": "stream",
     "text": [
      "initial string: drexel engineering drexel engineering drexel engineering drexel engineering \n"
     ]
    },
    {
     "data": {
      "text/html": [
       "<pre style='white-space:pre;overflow-x:auto;line-height:normal'><span style=\"color: #101010; text-decoration-color: #101010\">4</span>\n",
       "</pre>"
      ],
      "text/plain": [
       "\u001b[38;2;16;16;16m4\u001b[0m\n"
      ]
     },
     "metadata": {},
     "output_type": "display_data"
    }
   ],
   "source": [
    "str = \"drexel engineering \" * 4\n",
    "\n",
    "print(\"initial string: \" + str)\n",
    "\n",
    "str.count(\"eng\")\n"
   ]
  },
  {
   "cell_type": "markdown",
   "metadata": {
    "slideshow": {
     "slide_type": "slide"
    }
   },
   "source": [
    "## Replace Values\n",
    "\n",
    "`str.replace(substring, new)`: replaces all occurrences of the substring in string with new. You can also define a third argument max, which replaces at most max occurrences of substring in the string. "
   ]
  },
  {
   "cell_type": "code",
   "execution_count": 70,
   "metadata": {
    "slideshow": {
     "slide_type": "fragment"
    }
   },
   "outputs": [
    {
     "name": "stdout",
     "output_type": "stream",
     "text": [
      "hip hip hurray! hip hip hurray! hip hip hurray!\n",
      "Hip Hip hurray! Hip Hip hurray! Hip Hip hurray!\n",
      "\n",
      "IDs\n",
      "2449237610384\n",
      "2449237610672\n"
     ]
    }
   ],
   "source": [
    "string1 = \"hip hip hurray! hip hip hurray! hip hip hurray!\"\n",
    "string2 = string1.replace(\"hip\", \"Hip\")\n",
    "print(string1)\n",
    "print(string2)\n",
    "\n",
    "print(\"\\nIDs\")\n",
    "print(id(string1))\n",
    "print(id(string2))\n"
   ]
  },
  {
   "cell_type": "markdown",
   "metadata": {
    "slideshow": {
     "slide_type": "fragment"
    }
   },
   "source": [
    "You can see that the IDs for the string change. This is because they are immutable. "
   ]
  },
  {
   "cell_type": "markdown",
   "metadata": {
    "slideshow": {
     "slide_type": "slide"
    }
   },
   "source": [
    "## Splitting Strings\n",
    "\n",
    "`str.split(sep=\"\")`: splits the string according to the delimiter (space if not provided) and returns a list of substrings."
   ]
  },
  {
   "cell_type": "code",
   "execution_count": 71,
   "metadata": {
    "slideshow": {
     "slide_type": "fragment"
    }
   },
   "outputs": [
    {
     "data": {
      "text/html": [
       "<pre style='white-space:pre;overflow-x:auto;line-height:normal'>\n",
       "<span style=\"font-weight: bold\">[</span>\n",
       "<span style=\"color: #808080; text-decoration-color: #808080\">│   </span><span style=\"color: #8b008b; text-decoration-color: #8b008b\">'Hip'</span>,\n",
       "<span style=\"color: #808080; text-decoration-color: #808080\">│   </span><span style=\"color: #8b008b; text-decoration-color: #8b008b\">'Hip'</span>,\n",
       "<span style=\"color: #808080; text-decoration-color: #808080\">│   </span><span style=\"color: #8b008b; text-decoration-color: #8b008b\">'hurray!'</span>,\n",
       "<span style=\"color: #808080; text-decoration-color: #808080\">│   </span><span style=\"color: #8b008b; text-decoration-color: #8b008b\">'Hip'</span>,\n",
       "<span style=\"color: #808080; text-decoration-color: #808080\">│   </span><span style=\"color: #8b008b; text-decoration-color: #8b008b\">'Hip'</span>,\n",
       "<span style=\"color: #808080; text-decoration-color: #808080\">│   </span><span style=\"color: #8b008b; text-decoration-color: #8b008b\">'hurray!'</span>,\n",
       "<span style=\"color: #808080; text-decoration-color: #808080\">│   </span><span style=\"color: #8b008b; text-decoration-color: #8b008b\">'Hip'</span>,\n",
       "<span style=\"color: #808080; text-decoration-color: #808080\">│   </span><span style=\"color: #8b008b; text-decoration-color: #8b008b\">'Hip'</span>,\n",
       "<span style=\"color: #808080; text-decoration-color: #808080\">│   </span><span style=\"color: #8b008b; text-decoration-color: #8b008b\">'hurray!'</span>\n",
       "<span style=\"font-weight: bold\">]</span>\n",
       "</pre>"
      ],
      "text/plain": [
       "\n",
       "\u001b[1m[\u001b[0m\n",
       "\u001b[38;2;128;128;128m│   \u001b[0m\u001b[38;2;139;0;139m'Hip'\u001b[0m,\n",
       "\u001b[38;2;128;128;128m│   \u001b[0m\u001b[38;2;139;0;139m'Hip'\u001b[0m,\n",
       "\u001b[38;2;128;128;128m│   \u001b[0m\u001b[38;2;139;0;139m'hurray!'\u001b[0m,\n",
       "\u001b[38;2;128;128;128m│   \u001b[0m\u001b[38;2;139;0;139m'Hip'\u001b[0m,\n",
       "\u001b[38;2;128;128;128m│   \u001b[0m\u001b[38;2;139;0;139m'Hip'\u001b[0m,\n",
       "\u001b[38;2;128;128;128m│   \u001b[0m\u001b[38;2;139;0;139m'hurray!'\u001b[0m,\n",
       "\u001b[38;2;128;128;128m│   \u001b[0m\u001b[38;2;139;0;139m'Hip'\u001b[0m,\n",
       "\u001b[38;2;128;128;128m│   \u001b[0m\u001b[38;2;139;0;139m'Hip'\u001b[0m,\n",
       "\u001b[38;2;128;128;128m│   \u001b[0m\u001b[38;2;139;0;139m'hurray!'\u001b[0m\n",
       "\u001b[1m]\u001b[0m\n"
      ]
     },
     "metadata": {},
     "output_type": "display_data"
    }
   ],
   "source": [
    "string2.split(sep=\" \")\n"
   ]
  },
  {
   "attachments": {},
   "cell_type": "markdown",
   "metadata": {
    "slideshow": {
     "slide_type": "slide"
    }
   },
   "source": [
    "## Formatting Strings\n",
    "\n",
    "Sometimes you might want to substitute a variable into a string. \n",
    "\n",
    "### Python Version 3.6 Formatter"
   ]
  },
  {
   "cell_type": "code",
   "execution_count": 72,
   "metadata": {
    "slideshow": {
     "slide_type": "fragment"
    }
   },
   "outputs": [
    {
     "name": "stdout",
     "output_type": "stream",
     "text": [
      "Coletrane Washington scored 24 points for the Drexel Dragons!\n"
     ]
    }
   ],
   "source": [
    "print(\n",
    "    \"{0} scored {1} points for the Drexel Dragons!\".format(\"Coletrane Washington\", 24)\n",
    ")  # Accessing values by position\n"
   ]
  },
  {
   "cell_type": "code",
   "execution_count": 73,
   "metadata": {
    "slideshow": {
     "slide_type": "fragment"
    }
   },
   "outputs": [
    {
     "name": "stdout",
     "output_type": "stream",
     "text": [
      "Coletrane Washington scored 24 points for the Drexel Dragons!\n"
     ]
    }
   ],
   "source": [
    "print(\n",
    "    \"{player_name} scored {points} points for the Drexel Dragons!\".format(\n",
    "        player_name=\"Coletrane Washington\", points=24\n",
    "    )\n",
    ")\n"
   ]
  },
  {
   "cell_type": "markdown",
   "metadata": {
    "slideshow": {
     "slide_type": "subslide"
    }
   },
   "source": [
    "### Python Version >3.6 F-strings\n",
    "\n",
    "f-string is a string literal that is prefixed with `f` or `F`. You can define identifiers to be used in your string within curly braces { }.\n",
    "\n",
    "We recommend using F-strings because their beautiful practicality and simplicity."
   ]
  },
  {
   "cell_type": "code",
   "execution_count": 74,
   "metadata": {
    "slideshow": {
     "slide_type": "fragment"
    }
   },
   "outputs": [
    {
     "name": "stdout",
     "output_type": "stream",
     "text": [
      "Coletrane Washington scored 24 points for the Drexel Dragons!\n"
     ]
    }
   ],
   "source": [
    "player_name = \"Coletrane Washington\"\n",
    "points = 24\n",
    "\n",
    "print(f\"{player_name} scored {points} points for the Drexel Dragons!\")\n"
   ]
  }
 ],
 "metadata": {
  "celltoolbar": "Slideshow",
  "kernelspec": {
   "display_name": "ENGR_131",
   "language": "python",
   "name": "python3"
  },
  "language_info": {
   "codemirror_mode": {
    "name": "ipython",
    "version": 3
   },
   "file_extension": ".py",
   "mimetype": "text/x-python",
   "name": "python",
   "nbconvert_exporter": "python",
   "pygments_lexer": "ipython3",
   "version": "3.10.0"
  },
  "vscode": {
   "interpreter": {
    "hash": "775f42d2c624786ce087f304b32550a3a398124b7164551d1aea823130207773"
   }
  }
 },
 "nbformat": 4,
 "nbformat_minor": 2
}
